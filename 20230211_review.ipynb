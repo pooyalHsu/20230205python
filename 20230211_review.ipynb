{
  "nbformat": 4,
  "nbformat_minor": 0,
  "metadata": {
    "colab": {
      "provenance": [],
      "toc_visible": true,
      "authorship_tag": "ABX9TyOmvmEh10z1862CVLz1ikQh",
      "include_colab_link": true
    },
    "kernelspec": {
      "name": "python3",
      "display_name": "Python 3"
    },
    "language_info": {
      "name": "python"
    }
  },
  "cells": [
    {
      "cell_type": "markdown",
      "metadata": {
        "id": "view-in-github",
        "colab_type": "text"
      },
      "source": [
        "<a href=\"https://colab.research.google.com/github/pooyalHsu/20230205python/blob/main/20230211_review.ipynb\" target=\"_parent\"><img src=\"https://colab.research.google.com/assets/colab-badge.svg\" alt=\"Open In Colab\"/></a>"
      ]
    },
    {
      "cell_type": "markdown",
      "source": [
        "# 20232011筆記\n",
        "\n",
        "## 今天學到的是從colab建立檔案後，用另存存到gifhub上建立副本\n",
        "## 唯客學院中的影片有些是比較舊的影片，但是理論上可以做參考，因為有可是介面上有改變\n",
        "\n"
      ],
      "metadata": {
        "id": "PUR2pd1JMZ3a"
      }
    },
    {
      "cell_type": "markdown",
      "source": [
        "# 基本資料型態\n",
        "\n",
        "* int (整數)\n",
        "* float (浮點數)\n",
        "* bool (布林變數)\n",
        "* str (字串:文字訊息)\n",
        "\n",
        "使用 **type(變數)** 可以檢查變數裡面的資料型態"
      ],
      "metadata": {
        "id": "x09slP8yUH0S"
      }
    },
    {
      "cell_type": "markdown",
      "source": [
        "## int"
      ],
      "metadata": {
        "id": "whOMNtCTU3Ea"
      }
    },
    {
      "cell_type": "code",
      "execution_count": 39,
      "metadata": {
        "id": "w9ZdkV2lMQwx"
      },
      "outputs": [],
      "source": [
        "#把1放到記憶體中的一個位置\n",
        "x = 1"
      ]
    },
    {
      "cell_type": "code",
      "source": [
        "#查看x的型態\n",
        "type(x)"
      ],
      "metadata": {
        "colab": {
          "base_uri": "https://localhost:8080/"
        },
        "id": "F92A3CIKRIKR",
        "outputId": "adc4a8dd-e1ed-4840-e985-f45e6cf34c2a"
      },
      "execution_count": 40,
      "outputs": [
        {
          "output_type": "execute_result",
          "data": {
            "text/plain": [
              "int"
            ]
          },
          "metadata": {},
          "execution_count": 40
        }
      ]
    },
    {
      "cell_type": "code",
      "source": [
        "#如果只有一個除號，出來的答案是浮點數\n",
        "y=4/2"
      ],
      "metadata": {
        "id": "phvanJqgWQM3"
      },
      "execution_count": 41,
      "outputs": []
    },
    {
      "cell_type": "code",
      "source": [
        "type(y)"
      ],
      "metadata": {
        "colab": {
          "base_uri": "https://localhost:8080/"
        },
        "id": "5UaUgHq_WVBn",
        "outputId": "c07dcb5f-1233-4167-e1df-e9eb7ce7bab1"
      },
      "execution_count": 42,
      "outputs": [
        {
          "output_type": "execute_result",
          "data": {
            "text/plain": [
              "float"
            ]
          },
          "metadata": {},
          "execution_count": 42
        }
      ]
    },
    {
      "cell_type": "code",
      "source": [
        "y"
      ],
      "metadata": {
        "colab": {
          "base_uri": "https://localhost:8080/"
        },
        "id": "8BLC0boFWWsO",
        "outputId": "e0a44426-408a-47d1-f00c-1e750c9c1ee7"
      },
      "execution_count": 43,
      "outputs": [
        {
          "output_type": "execute_result",
          "data": {
            "text/plain": [
              "2.0"
            ]
          },
          "metadata": {},
          "execution_count": 43
        }
      ]
    },
    {
      "cell_type": "markdown",
      "source": [
        "## 整數除法"
      ],
      "metadata": {
        "id": "q_GhB35wXGCr"
      }
    },
    {
      "cell_type": "code",
      "source": [
        "#如果要整除的話要用兩個除號\n",
        "z=4//2"
      ],
      "metadata": {
        "id": "FDNkZY-YWZJ8"
      },
      "execution_count": 44,
      "outputs": []
    },
    {
      "cell_type": "code",
      "source": [
        "type(z)"
      ],
      "metadata": {
        "colab": {
          "base_uri": "https://localhost:8080/"
        },
        "id": "M0eSb0dgWeoA",
        "outputId": "b9faa963-910d-4343-c8b1-be89bc8c0ff9"
      },
      "execution_count": 45,
      "outputs": [
        {
          "output_type": "execute_result",
          "data": {
            "text/plain": [
              "int"
            ]
          },
          "metadata": {},
          "execution_count": 45
        }
      ]
    },
    {
      "cell_type": "code",
      "source": [],
      "metadata": {
        "id": "k5vVxCDgWgEY"
      },
      "execution_count": 45,
      "outputs": []
    },
    {
      "cell_type": "markdown",
      "source": [
        "## 次方(**)"
      ],
      "metadata": {
        "id": "oFza_FMtXKPr"
      }
    },
    {
      "cell_type": "code",
      "source": [
        "2**2"
      ],
      "metadata": {
        "colab": {
          "base_uri": "https://localhost:8080/"
        },
        "id": "GnG5MlgeXNqW",
        "outputId": "d4780a63-7695-4207-f77b-07d38f95b9bd"
      },
      "execution_count": 46,
      "outputs": [
        {
          "output_type": "execute_result",
          "data": {
            "text/plain": [
              "4"
            ]
          },
          "metadata": {},
          "execution_count": 46
        }
      ]
    },
    {
      "cell_type": "code",
      "source": [
        "2**4"
      ],
      "metadata": {
        "colab": {
          "base_uri": "https://localhost:8080/"
        },
        "id": "cMkunE9wXPS-",
        "outputId": "7fb78cfe-bcaa-49fc-e858-23ada745b09f"
      },
      "execution_count": 47,
      "outputs": [
        {
          "output_type": "execute_result",
          "data": {
            "text/plain": [
              "16"
            ]
          },
          "metadata": {},
          "execution_count": 47
        }
      ]
    },
    {
      "cell_type": "markdown",
      "source": [
        "## 什麼是bool?(布林變數)"
      ],
      "metadata": {
        "id": "W8e5c2pYXbkz"
      }
    },
    {
      "cell_type": "code",
      "source": [
        "#布林變數就是只有true和false兩種，這個結果可以存到變數裡面去\n",
        "3 > 2"
      ],
      "metadata": {
        "colab": {
          "base_uri": "https://localhost:8080/"
        },
        "id": "rp-qrAi2XQ2t",
        "outputId": "ee65a0d5-52c2-4443-a6d3-504a189ee7af"
      },
      "execution_count": 48,
      "outputs": [
        {
          "output_type": "execute_result",
          "data": {
            "text/plain": [
              "True"
            ]
          },
          "metadata": {},
          "execution_count": 48
        }
      ]
    },
    {
      "cell_type": "code",
      "source": [
        "#True很容易被變成數字，只要有運算的時候就會自己去轉換資料型態，電腦會覺得true沒辦法加所以變成1，因為電腦中的運算只有0跟1\n",
        "True + True"
      ],
      "metadata": {
        "colab": {
          "base_uri": "https://localhost:8080/"
        },
        "id": "Bj_bEoXVXowc",
        "outputId": "bfcee093-ef39-445f-a097-95b306e28dcc"
      },
      "execution_count": 49,
      "outputs": [
        {
          "output_type": "execute_result",
          "data": {
            "text/plain": [
              "2"
            ]
          },
          "metadata": {},
          "execution_count": 49
        }
      ]
    },
    {
      "cell_type": "code",
      "source": [
        "True + False"
      ],
      "metadata": {
        "colab": {
          "base_uri": "https://localhost:8080/"
        },
        "id": "nP8U4JlYX5ym",
        "outputId": "4b303c4e-6832-4647-d8cf-32d64526e156"
      },
      "execution_count": 50,
      "outputs": [
        {
          "output_type": "execute_result",
          "data": {
            "text/plain": [
              "1"
            ]
          },
          "metadata": {},
          "execution_count": 50
        }
      ]
    },
    {
      "cell_type": "code",
      "source": [
        "#比較兩個變數內的值有沒有相等\n",
        "x == z"
      ],
      "metadata": {
        "colab": {
          "base_uri": "https://localhost:8080/"
        },
        "id": "h0cLI2beYR1B",
        "outputId": "dc0c78c5-8d02-4e5c-9e2f-4a22cb3230c3"
      },
      "execution_count": 51,
      "outputs": [
        {
          "output_type": "execute_result",
          "data": {
            "text/plain": [
              "False"
            ]
          },
          "metadata": {},
          "execution_count": 51
        }
      ]
    },
    {
      "cell_type": "markdown",
      "source": [
        "## 關於字串"
      ],
      "metadata": {
        "id": "mVuFLlNNZBpj"
      }
    },
    {
      "cell_type": "code",
      "source": [
        "#字串是文字訊息,要記得是文字訊息一定要加上引號\n",
        "w = 'dog'"
      ],
      "metadata": {
        "id": "kMDZJ4yzYidz"
      },
      "execution_count": 52,
      "outputs": []
    },
    {
      "cell_type": "code",
      "source": [
        "u = \"It's my dog\""
      ],
      "metadata": {
        "id": "CqIfkI45ZkMc"
      },
      "execution_count": 53,
      "outputs": []
    },
    {
      "cell_type": "code",
      "source": [
        "#如果要用單引號寫變數，如下，要加入反斜線(\\)，這叫做跳脫字元(Escape Charactor)，意思就是說，要讓電腦知道在反斜線後面的是我的一個標點符號，不是變數啦\n",
        "v = 'It\\'s my dog'"
      ],
      "metadata": {
        "id": "ykC9bpFpZxiY"
      },
      "execution_count": 54,
      "outputs": []
    },
    {
      "cell_type": "markdown",
      "source": [
        "## 字串的加法(+)跟乘法(*)"
      ],
      "metadata": {
        "id": "a5oShhy_fSfL"
      }
    },
    {
      "cell_type": "code",
      "source": [
        "#字串+起來會連在一起\n",
        "\"abc\" + \"3\""
      ],
      "metadata": {
        "colab": {
          "base_uri": "https://localhost:8080/",
          "height": 35
        },
        "id": "48ex4uJ5aYz_",
        "outputId": "915774af-01c4-428f-ab6d-22da73c4b41d"
      },
      "execution_count": 55,
      "outputs": [
        {
          "output_type": "execute_result",
          "data": {
            "text/plain": [
              "'abc3'"
            ],
            "application/vnd.google.colaboratory.intrinsic+json": {
              "type": "string"
            }
          },
          "metadata": {},
          "execution_count": 55
        }
      ]
    },
    {
      "cell_type": "code",
      "source": [
        "#乘法會連續寫3次\n",
        "\"abc\" * 3"
      ],
      "metadata": {
        "colab": {
          "base_uri": "https://localhost:8080/",
          "height": 35
        },
        "id": "DyU6MSqpfg21",
        "outputId": "95efbef4-aeea-42be-ea65-96e3beb8e8ef"
      },
      "execution_count": 56,
      "outputs": [
        {
          "output_type": "execute_result",
          "data": {
            "text/plain": [
              "'abcabcabc'"
            ],
            "application/vnd.google.colaboratory.intrinsic+json": {
              "type": "string"
            }
          },
          "metadata": {},
          "execution_count": 56
        }
      ]
    },
    {
      "cell_type": "code",
      "source": [
        "# 練習: (使用字串畫出底下的金字塔)\n",
        "\n",
        "    *\n",
        "   ***\n",
        "  *****\n",
        " *******\n",
        "*********"
      ],
      "metadata": {
        "id": "5EAbi4dlfqIG"
      },
      "execution_count": null,
      "outputs": []
    },
    {
      "cell_type": "code",
      "source": [
        "for i in range(5):\n",
        "  print(i)"
      ],
      "metadata": {
        "colab": {
          "base_uri": "https://localhost:8080/"
        },
        "id": "aKrQ0P78gIP6",
        "outputId": "0d91a544-e750-4955-9068-80724ba93836"
      },
      "execution_count": 61,
      "outputs": [
        {
          "output_type": "stream",
          "name": "stdout",
          "text": [
            "0\n",
            "1\n",
            "2\n",
            "3\n",
            "4\n"
          ]
        }
      ]
    },
    {
      "cell_type": "code",
      "source": [
        "for i in range(3):\n",
        "  print(\"程式區塊開始\")\n",
        "  print(i)\n",
        "  print(\"程式區塊結束\")"
      ],
      "metadata": {
        "colab": {
          "base_uri": "https://localhost:8080/"
        },
        "id": "fP2FApwTgPjS",
        "outputId": "cd34d92a-a7a0-43dc-81ce-73b8bd1b3cd2"
      },
      "execution_count": 62,
      "outputs": [
        {
          "output_type": "stream",
          "name": "stdout",
          "text": [
            "程式區塊開始\n",
            "0\n",
            "程式區塊結束\n",
            "程式區塊開始\n",
            "1\n",
            "程式區塊結束\n",
            "程式區塊開始\n",
            "2\n",
            "程式區塊結束\n"
          ]
        }
      ]
    },
    {
      "cell_type": "code",
      "source": [
        "#如果縮排沒有整理好的話，沒有縮牌的那一行，會辨識成另外一個程式區塊\n",
        "for i in range(3):\n",
        "  print(\"程式區塊開始\")\n",
        "  print(i)\n",
        "print(\"程式區塊結束\")"
      ],
      "metadata": {
        "colab": {
          "base_uri": "https://localhost:8080/"
        },
        "id": "DlYCRsmJghFU",
        "outputId": "bf8530e0-c9ef-4ec4-bf09-ff1f21fd2b35"
      },
      "execution_count": 63,
      "outputs": [
        {
          "output_type": "stream",
          "name": "stdout",
          "text": [
            "程式區塊開始\n",
            "0\n",
            "程式區塊開始\n",
            "1\n",
            "程式區塊開始\n",
            "2\n",
            "程式區塊結束\n"
          ]
        }
      ]
    },
    {
      "cell_type": "code",
      "source": [
        "for i in range(5):\n",
        "  print((2*i+1))"
      ],
      "metadata": {
        "colab": {
          "base_uri": "https://localhost:8080/"
        },
        "id": "gIghFItKgkwD",
        "outputId": "2c2d93b5-b1ae-4c70-95d2-2c8c4c9accfc"
      },
      "execution_count": 64,
      "outputs": [
        {
          "output_type": "stream",
          "name": "stdout",
          "text": [
            "1\n",
            "3\n",
            "5\n",
            "7\n",
            "9\n"
          ]
        }
      ]
    },
    {
      "cell_type": "code",
      "source": [
        "for i in range(5):\n",
        "  print((2*i+1)*'*')"
      ],
      "metadata": {
        "colab": {
          "base_uri": "https://localhost:8080/"
        },
        "id": "J3NvtF_Ah30e",
        "outputId": "28e41082-be66-4ea7-f5fb-3e788fab5225"
      },
      "execution_count": 65,
      "outputs": [
        {
          "output_type": "stream",
          "name": "stdout",
          "text": [
            "*\n",
            "***\n",
            "*****\n",
            "*******\n",
            "*********\n"
          ]
        }
      ]
    },
    {
      "cell_type": "code",
      "source": [
        "for i in range(5):\n",
        "  print((5-i)*' '+(2*i+1)*'*')"
      ],
      "metadata": {
        "colab": {
          "base_uri": "https://localhost:8080/"
        },
        "id": "TXzp4r14gWB-",
        "outputId": "7e4d22dd-a1d8-415f-e576-997d322dfe07"
      },
      "execution_count": 66,
      "outputs": [
        {
          "output_type": "stream",
          "name": "stdout",
          "text": [
            "     *\n",
            "    ***\n",
            "   *****\n",
            "  *******\n",
            " *********\n"
          ]
        }
      ]
    },
    {
      "cell_type": "code",
      "source": [
        "#聖誕樹\n",
        "for i in range(6):\n",
        "  print((16-i)*' '+(2*i+1)*'*')\n",
        "for i in range(7):\n",
        "  print((16-i)*' '+(2*i+2)*'*')\n",
        "for i in range(10):\n",
        "  print((14-i)*' '+(2*i+6)*'*')  \n",
        "  "
      ],
      "metadata": {
        "colab": {
          "base_uri": "https://localhost:8080/"
        },
        "id": "VrX7vwbiihGU",
        "outputId": "6191fc7c-a21a-45ff-8c06-7d6b78c0339c"
      },
      "execution_count": 67,
      "outputs": [
        {
          "output_type": "stream",
          "name": "stdout",
          "text": [
            "                *\n",
            "               ***\n",
            "              *****\n",
            "             *******\n",
            "            *********\n",
            "           ***********\n",
            "                **\n",
            "               ****\n",
            "              ******\n",
            "             ********\n",
            "            **********\n",
            "           ************\n",
            "          **************\n",
            "              ******\n",
            "             ********\n",
            "            **********\n",
            "           ************\n",
            "          **************\n",
            "         ****************\n",
            "        ******************\n",
            "       ********************\n",
            "      **********************\n",
            "     ************************\n"
          ]
        }
      ]
    },
    {
      "cell_type": "code",
      "source": [
        "#菱形\n",
        "for i in range(5):\n",
        "    print((5-i)*' '+(2*i+1)*'*')\n",
        "\n",
        "for i in range(4, 0, -1):\n",
        "    print((5-i)*' '+(2*i+1)*'*')\n"
      ],
      "metadata": {
        "colab": {
          "base_uri": "https://localhost:8080/"
        },
        "id": "2RFIz7iFioL6",
        "outputId": "f19e06d4-b264-4fd5-df76-d2c09c4ff355"
      },
      "execution_count": 68,
      "outputs": [
        {
          "output_type": "stream",
          "name": "stdout",
          "text": [
            "     *\n",
            "    ***\n",
            "   *****\n",
            "  *******\n",
            " *********\n",
            " *********\n",
            "  *******\n",
            "   *****\n",
            "    ***\n"
          ]
        }
      ]
    },
    {
      "cell_type": "markdown",
      "source": [
        "## input() 及 print()\n",
        "input(): 用來讀取輸入\n",
        "print(): 用來打印輸出"
      ],
      "metadata": {
        "id": "X-wXUP3HkzV8"
      }
    },
    {
      "cell_type": "code",
      "source": [
        "#input輸入的數字會是字串，如果要轉型要使用另一種函數\n",
        "x = input(\"請輸入一個數字:\")"
      ],
      "metadata": {
        "colab": {
          "base_uri": "https://localhost:8080/"
        },
        "id": "3acHA8TwkiMb",
        "outputId": "e9868ef4-2408-49e3-dfa4-f63d9499a2b0"
      },
      "execution_count": 69,
      "outputs": [
        {
          "name": "stdout",
          "output_type": "stream",
          "text": [
            "請輸入一個數字:100\n"
          ]
        }
      ]
    },
    {
      "cell_type": "code",
      "source": [
        "type(x)"
      ],
      "metadata": {
        "colab": {
          "base_uri": "https://localhost:8080/"
        },
        "id": "uVPcYM69lEFp",
        "outputId": "f17a4815-f595-43a2-9075-6eb79bf3bcb0"
      },
      "execution_count": 70,
      "outputs": [
        {
          "output_type": "execute_result",
          "data": {
            "text/plain": [
              "str"
            ]
          },
          "metadata": {},
          "execution_count": 70
        }
      ]
    },
    {
      "cell_type": "code",
      "source": [
        "print(x)"
      ],
      "metadata": {
        "colab": {
          "base_uri": "https://localhost:8080/"
        },
        "id": "zloClIMGlL49",
        "outputId": "062db728-0573-4a03-d5a5-610242aa7451"
      },
      "execution_count": 71,
      "outputs": [
        {
          "output_type": "stream",
          "name": "stdout",
          "text": [
            "100\n"
          ]
        }
      ]
    },
    {
      "cell_type": "code",
      "source": [
        "#逗號表示空一格,所以空格要取消，後面要加sep(空格的意思)，看讓他要變成什麼，可以是加減乘除\n",
        "x = 1\n",
        "y = 2\n",
        "z = 3\n",
        "print(x,y,z,sep=\"+\")"
      ],
      "metadata": {
        "colab": {
          "base_uri": "https://localhost:8080/"
        },
        "id": "7KTRlPRFlYwB",
        "outputId": "c2e4c2a2-b299-42c1-d32c-94a64604e1f6"
      },
      "execution_count": 72,
      "outputs": [
        {
          "output_type": "stream",
          "name": "stdout",
          "text": [
            "1+2+3\n"
          ]
        }
      ]
    },
    {
      "cell_type": "markdown",
      "source": [
        "# 基礎容器型別\n",
        "\n",
        "* list (串列)\n",
        "* tuple (元組)\n",
        "* dict (字典)\n",
        "* set (集合)"
      ],
      "metadata": {
        "id": "eWt4Gm1unrzr"
      }
    },
    {
      "cell_type": "markdown",
      "source": [
        "## list"
      ],
      "metadata": {
        "id": "bYvwhCcX4uNj"
      }
    },
    {
      "cell_type": "code",
      "source": [
        "x =('a','b','c','d','e')"
      ],
      "metadata": {
        "id": "ELTBu-5rl1tF"
      },
      "execution_count": 73,
      "outputs": []
    },
    {
      "cell_type": "code",
      "source": [
        "type(x)"
      ],
      "metadata": {
        "colab": {
          "base_uri": "https://localhost:8080/"
        },
        "id": "X5y_caYklzbS",
        "outputId": "a4aa0f30-baf6-4bfb-b5fb-bf2d30d8ce8f"
      },
      "execution_count": 132,
      "outputs": [
        {
          "output_type": "execute_result",
          "data": {
            "text/plain": [
              "tuple"
            ]
          },
          "metadata": {},
          "execution_count": 132
        }
      ]
    },
    {
      "cell_type": "code",
      "source": [
        "#快速寫法\n",
        "y = list('abcde')"
      ],
      "metadata": {
        "id": "YJNwVnIV49EI"
      },
      "execution_count": 74,
      "outputs": []
    },
    {
      "cell_type": "code",
      "source": [
        "x[0]"
      ],
      "metadata": {
        "colab": {
          "base_uri": "https://localhost:8080/",
          "height": 35
        },
        "id": "QGZM0syZ5FVB",
        "outputId": "bf420405-334f-4fea-ea0d-43a709184106"
      },
      "execution_count": 75,
      "outputs": [
        {
          "output_type": "execute_result",
          "data": {
            "text/plain": [
              "'a'"
            ],
            "application/vnd.google.colaboratory.intrinsic+json": {
              "type": "string"
            }
          },
          "metadata": {},
          "execution_count": 75
        }
      ]
    },
    {
      "cell_type": "code",
      "source": [
        "#回傳list裡面有幾個items\n",
        "len(x)"
      ],
      "metadata": {
        "colab": {
          "base_uri": "https://localhost:8080/"
        },
        "id": "6Gl022Mg5P9T",
        "outputId": "1629f00d-dc03-4da9-ad72-f6a3af9e7e4d"
      },
      "execution_count": 76,
      "outputs": [
        {
          "output_type": "execute_result",
          "data": {
            "text/plain": [
              "5"
            ]
          },
          "metadata": {},
          "execution_count": 76
        }
      ]
    },
    {
      "cell_type": "markdown",
      "source": [
        "### 練習：從網址中切分出檔案名稱"
      ],
      "metadata": {
        "id": "xEAlM6s5-vFD"
      }
    },
    {
      "cell_type": "code",
      "source": [
        "url = \"https://img.ltn.com.tw/Upload/ent/page/800/2023/02/08/phpGvNT9E.jpg\""
      ],
      "metadata": {
        "id": "Scr7nof65WjC"
      },
      "execution_count": 77,
      "outputs": []
    },
    {
      "cell_type": "code",
      "source": [
        "type(url)"
      ],
      "metadata": {
        "colab": {
          "base_uri": "https://localhost:8080/"
        },
        "id": "wJTYq7oA5-z-",
        "outputId": "21dd3685-8f5b-4c22-b279-04d6ea0c1ecd"
      },
      "execution_count": 79,
      "outputs": [
        {
          "output_type": "execute_result",
          "data": {
            "text/plain": [
              "str"
            ]
          },
          "metadata": {},
          "execution_count": 79
        }
      ]
    },
    {
      "cell_type": "code",
      "source": [
        "#在變數後面加一個點，可以看到可以處理此變數的函數,如果加上問號的話可以看到使用說明\n",
        "url.split?"
      ],
      "metadata": {
        "id": "OVnNbtoQ6BhX"
      },
      "execution_count": 80,
      "outputs": []
    },
    {
      "cell_type": "code",
      "source": [
        "#使用斜線(/)切割字串\n",
        "url.split(\"/\")"
      ],
      "metadata": {
        "colab": {
          "base_uri": "https://localhost:8080/"
        },
        "id": "EsllKp556XT6",
        "outputId": "5249f1a8-3a54-4d3e-a639-02be2ed95216"
      },
      "execution_count": 81,
      "outputs": [
        {
          "output_type": "execute_result",
          "data": {
            "text/plain": [
              "['https:',\n",
              " '',\n",
              " 'img.ltn.com.tw',\n",
              " 'Upload',\n",
              " 'ent',\n",
              " 'page',\n",
              " '800',\n",
              " '2023',\n",
              " '02',\n",
              " '08',\n",
              " 'phpGvNT9E.jpg']"
            ]
          },
          "metadata": {},
          "execution_count": 81
        }
      ]
    },
    {
      "cell_type": "code",
      "source": [
        "#取得list中最後一個item\n",
        "url.split(\"/\")[10]"
      ],
      "metadata": {
        "colab": {
          "base_uri": "https://localhost:8080/",
          "height": 35
        },
        "id": "AIK5YKaW6rPD",
        "outputId": "2aa91d04-bb3f-4dbc-a585-a975e424eb5d"
      },
      "execution_count": 82,
      "outputs": [
        {
          "output_type": "execute_result",
          "data": {
            "text/plain": [
              "'phpGvNT9E.jpg'"
            ],
            "application/vnd.google.colaboratory.intrinsic+json": {
              "type": "string"
            }
          },
          "metadata": {},
          "execution_count": 82
        }
      ]
    },
    {
      "cell_type": "code",
      "source": [
        "#取得list中從後面算過來第一個item\n",
        "url.split(\"/\")[-1]"
      ],
      "metadata": {
        "colab": {
          "base_uri": "https://localhost:8080/",
          "height": 35
        },
        "id": "0NdjRdUQ7DaD",
        "outputId": "c0cac7e0-3e4c-47ab-9dc2-ff7f97cf7de5"
      },
      "execution_count": 83,
      "outputs": [
        {
          "output_type": "execute_result",
          "data": {
            "text/plain": [
              "'phpGvNT9E.jpg'"
            ],
            "application/vnd.google.colaboratory.intrinsic+json": {
              "type": "string"
            }
          },
          "metadata": {},
          "execution_count": 83
        }
      ]
    },
    {
      "cell_type": "markdown",
      "source": [
        "### 如何取得list中前幾個或後幾個items?"
      ],
      "metadata": {
        "id": "sFZJtIbi7x4H"
      }
    },
    {
      "cell_type": "code",
      "source": [
        "x"
      ],
      "metadata": {
        "colab": {
          "base_uri": "https://localhost:8080/"
        },
        "id": "1gOdl1JC66J-",
        "outputId": "a5009ee6-b85e-4801-9ce6-6ed13d4040f5"
      },
      "execution_count": 84,
      "outputs": [
        {
          "output_type": "execute_result",
          "data": {
            "text/plain": [
              "('a', 'b', 'c', 'd', 'e')"
            ]
          },
          "metadata": {},
          "execution_count": 84
        }
      ]
    },
    {
      "cell_type": "code",
      "source": [
        "type(x)"
      ],
      "metadata": {
        "colab": {
          "base_uri": "https://localhost:8080/"
        },
        "id": "d0DuzEU2kr4K",
        "outputId": "26960aee-ec6b-4389-8f24-a2a019cd1ce6"
      },
      "execution_count": 85,
      "outputs": [
        {
          "output_type": "execute_result",
          "data": {
            "text/plain": [
              "tuple"
            ]
          },
          "metadata": {},
          "execution_count": 85
        }
      ]
    },
    {
      "cell_type": "code",
      "source": [
        "#顯示前3個\n",
        "x[:3]"
      ],
      "metadata": {
        "colab": {
          "base_uri": "https://localhost:8080/"
        },
        "id": "FVmZEklP78E0",
        "outputId": "15e4b557-55bd-4624-cb9d-8d2ba289d817"
      },
      "execution_count": 86,
      "outputs": [
        {
          "output_type": "execute_result",
          "data": {
            "text/plain": [
              "('a', 'b', 'c')"
            ]
          },
          "metadata": {},
          "execution_count": 86
        }
      ]
    },
    {
      "cell_type": "code",
      "source": [
        "#顯示後3個\n",
        "x[-3:]"
      ],
      "metadata": {
        "colab": {
          "base_uri": "https://localhost:8080/"
        },
        "id": "7Mb8YeLg7-N5",
        "outputId": "084164a0-a50f-4095-f008-244380fe118c"
      },
      "execution_count": 87,
      "outputs": [
        {
          "output_type": "execute_result",
          "data": {
            "text/plain": [
              "('c', 'd', 'e')"
            ]
          },
          "metadata": {},
          "execution_count": 87
        }
      ]
    },
    {
      "cell_type": "markdown",
      "source": [
        "## dict(字典)"
      ],
      "metadata": {
        "id": "h7P3UkXM8kHs"
      }
    },
    {
      "cell_type": "code",
      "source": [
        "#建立一個空的字典\n",
        "d = {}"
      ],
      "metadata": {
        "id": "qiArWF8v8G3C"
      },
      "execution_count": 88,
      "outputs": []
    },
    {
      "cell_type": "code",
      "source": [
        "type(d)"
      ],
      "metadata": {
        "colab": {
          "base_uri": "https://localhost:8080/"
        },
        "id": "md86KVJc8uuA",
        "outputId": "84e414fc-9129-4132-b231-1584529244ff"
      },
      "execution_count": 89,
      "outputs": [
        {
          "output_type": "execute_result",
          "data": {
            "text/plain": [
              "dict"
            ]
          },
          "metadata": {},
          "execution_count": 89
        }
      ]
    },
    {
      "cell_type": "code",
      "source": [
        "#加入一筆資料\n",
        "d['cat'] = '貓咪'"
      ],
      "metadata": {
        "id": "5uEXI4jp8xJg"
      },
      "execution_count": 90,
      "outputs": []
    },
    {
      "cell_type": "code",
      "source": [
        "d"
      ],
      "metadata": {
        "colab": {
          "base_uri": "https://localhost:8080/"
        },
        "id": "u0qGCqxZ89XT",
        "outputId": "14d83f67-20a6-46aa-d6f9-5d63f60dad31"
      },
      "execution_count": 91,
      "outputs": [
        {
          "output_type": "execute_result",
          "data": {
            "text/plain": [
              "{'cat': '貓咪'}"
            ]
          },
          "metadata": {},
          "execution_count": 91
        }
      ]
    },
    {
      "cell_type": "code",
      "source": [
        "#加入第二筆資料\n",
        "d['dog'] = '狗狗'"
      ],
      "metadata": {
        "id": "GAIgUqH58_V2"
      },
      "execution_count": 92,
      "outputs": []
    },
    {
      "cell_type": "code",
      "source": [
        "d"
      ],
      "metadata": {
        "colab": {
          "base_uri": "https://localhost:8080/"
        },
        "id": "ws0cxGJ-9Wfy",
        "outputId": "bc5fcc91-456f-4db8-f943-8760a2bcf1b2"
      },
      "execution_count": 93,
      "outputs": [
        {
          "output_type": "execute_result",
          "data": {
            "text/plain": [
              "{'cat': '貓咪', 'dog': '狗狗'}"
            ]
          },
          "metadata": {},
          "execution_count": 93
        }
      ]
    },
    {
      "cell_type": "code",
      "source": [
        "#查詢資料\n",
        "d['cat']"
      ],
      "metadata": {
        "colab": {
          "base_uri": "https://localhost:8080/",
          "height": 35
        },
        "id": "v7khzPPT9YFe",
        "outputId": "29463555-e7f1-4094-d4d4-6a35ac2c899d"
      },
      "execution_count": 94,
      "outputs": [
        {
          "output_type": "execute_result",
          "data": {
            "text/plain": [
              "'貓咪'"
            ],
            "application/vnd.google.colaboratory.intrinsic+json": {
              "type": "string"
            }
          },
          "metadata": {},
          "execution_count": 94
        }
      ]
    },
    {
      "cell_type": "markdown",
      "source": [
        "### for迴圈與list及dict的合用"
      ],
      "metadata": {
        "id": "sp-Nn-wi_Kzb"
      }
    },
    {
      "cell_type": "code",
      "source": [
        "x"
      ],
      "metadata": {
        "colab": {
          "base_uri": "https://localhost:8080/"
        },
        "id": "rBtzHxI_9kfE",
        "outputId": "bc78f82e-fc1a-4f05-9a8e-ca190ba2f18e"
      },
      "execution_count": 95,
      "outputs": [
        {
          "output_type": "execute_result",
          "data": {
            "text/plain": [
              "('a', 'b', 'c', 'd', 'e')"
            ]
          },
          "metadata": {},
          "execution_count": 95
        }
      ]
    },
    {
      "cell_type": "code",
      "source": [
        "#for回圈與list合用\n",
        "for i in x:\n",
        "  print(i)"
      ],
      "metadata": {
        "colab": {
          "base_uri": "https://localhost:8080/"
        },
        "id": "ZD19Npjv_PbX",
        "outputId": "454c17c6-f492-432d-e8b6-db42849f1ea2"
      },
      "execution_count": 96,
      "outputs": [
        {
          "output_type": "stream",
          "name": "stdout",
          "text": [
            "a\n",
            "b\n",
            "c\n",
            "d\n",
            "e\n"
          ]
        }
      ]
    },
    {
      "cell_type": "code",
      "source": [
        "#for回圈與dict合用\n",
        "for i in d:\n",
        "  print(i)"
      ],
      "metadata": {
        "colab": {
          "base_uri": "https://localhost:8080/"
        },
        "id": "DUfynSG3_SKq",
        "outputId": "52497ccf-79fd-45bf-b5f5-76151b86a129"
      },
      "execution_count": 97,
      "outputs": [
        {
          "output_type": "stream",
          "name": "stdout",
          "text": [
            "cat\n",
            "dog\n"
          ]
        }
      ]
    },
    {
      "cell_type": "code",
      "source": [
        "for i in d:\n",
        "  print(d[i])"
      ],
      "metadata": {
        "colab": {
          "base_uri": "https://localhost:8080/"
        },
        "id": "QB8sqCG-_qcP",
        "outputId": "388431a6-9b84-4aae-a744-e25aaedd9583"
      },
      "execution_count": 98,
      "outputs": [
        {
          "output_type": "stream",
          "name": "stdout",
          "text": [
            "貓咪\n",
            "狗狗\n"
          ]
        }
      ]
    },
    {
      "cell_type": "code",
      "source": [
        "for i in d:\n",
        "  print(i,\":\",d[i])"
      ],
      "metadata": {
        "colab": {
          "base_uri": "https://localhost:8080/"
        },
        "id": "GfIzfdudALbC",
        "outputId": "21ce2fec-b9f7-43b4-e67c-862ea5d38819"
      },
      "execution_count": 99,
      "outputs": [
        {
          "output_type": "stream",
          "name": "stdout",
          "text": [
            "cat : 貓咪\n",
            "dog : 狗狗\n"
          ]
        }
      ]
    },
    {
      "cell_type": "markdown",
      "source": [
        "# 使用 requests 抓取網路資料"
      ],
      "metadata": {
        "id": "BA-S6At6Mer7"
      }
    },
    {
      "cell_type": "markdown",
      "source": [
        "## 抓取網頁原始碼"
      ],
      "metadata": {
        "id": "ULoZ666YNLhl"
      }
    },
    {
      "cell_type": "code",
      "source": [
        "url = \"https://victorgau.github.io/khpy_web_intro/html_only.html\""
      ],
      "metadata": {
        "id": "E04vYyz0AUn4"
      },
      "execution_count": 100,
      "outputs": []
    },
    {
      "cell_type": "code",
      "source": [
        "# 載入requests, 用來抓取網路上的資料\n",
        "import requests"
      ],
      "metadata": {
        "id": "hEiUASjAN6lm"
      },
      "execution_count": 101,
      "outputs": []
    },
    {
      "cell_type": "code",
      "source": [
        "# 取得特定網址的網頁原始碼, 並將回傳的內容(包含headers)放入變數\n",
        "r = requests.get(url)"
      ],
      "metadata": {
        "id": "g6JiAa2iN-xd"
      },
      "execution_count": 102,
      "outputs": []
    },
    {
      "cell_type": "code",
      "source": [
        "# 印出回傳值中的.text的部分(即網頁原始碼)\n",
        "print(r.text)"
      ],
      "metadata": {
        "colab": {
          "base_uri": "https://localhost:8080/"
        },
        "id": "Yw4ZFylJOEW4",
        "outputId": "72231bb0-5f94-493a-fa13-5ff27b0bb1d1"
      },
      "execution_count": 103,
      "outputs": [
        {
          "output_type": "stream",
          "name": "stdout",
          "text": [
            "<!DOCTYPE html>\n",
            "<html>\n",
            "<head>\n",
            "    <title>HTML範例</title>\n",
            "</head>\n",
            "<body>\n",
            "\n",
            "<h1>哈囉！HTML！</h1>\n",
            "\n",
            "<img src=\"ninja.jpg\" />\n",
            "\n",
            "</body>\n",
            "</html>\n"
          ]
        }
      ]
    },
    {
      "cell_type": "markdown",
      "source": [
        "## 使用requests呼叫web API,寫一個中文字典\n",
        "\n",
        "### 萌典 https://github.com/g0v/moedict-webkit\n",
        "\n",
        "### API:Application Programming Interface\n",
        "\n",
        "### API是一個提供給應用程式(Application)使用程式(Program)來存取特定服務的介面(Interface)"
      ],
      "metadata": {
        "id": "CvgDSzTgOvYm"
      }
    },
    {
      "cell_type": "markdown",
      "source": [
        "#### 方法一\n"
      ],
      "metadata": {
        "id": "abLM57PuQwtN"
      }
    },
    {
      "cell_type": "markdown",
      "source": [
        "##### 抓取資料\n",
        "範例:\"https://www.moedict.tw/uni/\"\n",
        "字典的網站"
      ],
      "metadata": {
        "id": "5L_iUiG1YRyl"
      }
    },
    {
      "cell_type": "code",
      "source": [
        "import json"
      ],
      "metadata": {
        "id": "cxGoNIkKRV-1"
      },
      "execution_count": 104,
      "outputs": []
    },
    {
      "cell_type": "code",
      "source": [
        "q = \"教室\""
      ],
      "metadata": {
        "id": "rTP9L0FFRHvz"
      },
      "execution_count": 105,
      "outputs": []
    },
    {
      "cell_type": "code",
      "source": [
        "url = \"https://www.moedict.tw/uni/\"+q"
      ],
      "metadata": {
        "id": "L11zb326OHKR"
      },
      "execution_count": 106,
      "outputs": []
    },
    {
      "cell_type": "code",
      "source": [
        "url"
      ],
      "metadata": {
        "colab": {
          "base_uri": "https://localhost:8080/",
          "height": 35
        },
        "id": "5T_Dqtc8RCqL",
        "outputId": "55bfa1f5-c4c4-4bda-cfc2-1f7be400fd67"
      },
      "execution_count": 107,
      "outputs": [
        {
          "output_type": "execute_result",
          "data": {
            "text/plain": [
              "'https://www.moedict.tw/uni/教室'"
            ],
            "application/vnd.google.colaboratory.intrinsic+json": {
              "type": "string"
            }
          },
          "metadata": {},
          "execution_count": 107
        }
      ]
    },
    {
      "cell_type": "code",
      "source": [
        "r = requests.get(url)"
      ],
      "metadata": {
        "id": "cvaVmbPFQ_r_"
      },
      "execution_count": 108,
      "outputs": []
    },
    {
      "cell_type": "code",
      "source": [
        "print(r.text)"
      ],
      "metadata": {
        "colab": {
          "base_uri": "https://localhost:8080/"
        },
        "id": "BD4NYuyESHks",
        "outputId": "5010271e-c9c4-44c8-8296-633afd8bdb5a"
      },
      "execution_count": 109,
      "outputs": [
        {
          "output_type": "stream",
          "name": "stdout",
          "text": [
            "\t{\n",
            "\t\t\"heteronyms\": [\n",
            "\t\t\t{\n",
            "\t\t\t\t\"bopomofo\": \"ㄐㄧㄠˋ ㄕˋ\",\n",
            "\t\t\t\t\"bopomofo2\": \"jiàu shr̀\",\n",
            "\t\t\t\t\"definitions\": [\n",
            "\t\t\t\t\t{\n",
            "\t\t\t\t\t\t\"def\": \"學校裡進行教學活動的房間。\",\n",
            "\t\t\t\t\t\t\"example\": [\n",
            "\t\t\t\t\t\t\t\"如：「實驗教室」、「音樂教室」。\"\n",
            "\t\t\t\t\t\t],\n",
            "\t\t\t\t\t\t\"synonyms\": \"課堂,講堂\"\n",
            "\t\t\t\t\t}\n",
            "\t\t\t\t],\n",
            "\t\t\t\t\"pinyin\": \"jiào shì\"\n",
            "\t\t\t}\n",
            "\t\t],\n",
            "\t\t\"title\": \"教室\"\n",
            "\t}\n"
          ]
        }
      ]
    },
    {
      "cell_type": "markdown",
      "source": [
        "##### 剖析資料"
      ],
      "metadata": {
        "id": "tpPP4sytUuPt"
      }
    },
    {
      "cell_type": "code",
      "source": [
        "data = json.loads(r.text)"
      ],
      "metadata": {
        "id": "T2ob1USpSKZ0"
      },
      "execution_count": 110,
      "outputs": []
    },
    {
      "cell_type": "code",
      "source": [
        "type(data)"
      ],
      "metadata": {
        "colab": {
          "base_uri": "https://localhost:8080/"
        },
        "id": "dvEkA8M2U8Jw",
        "outputId": "45a67c93-8f1d-47cd-89f8-4434fa59289c"
      },
      "execution_count": 111,
      "outputs": [
        {
          "output_type": "execute_result",
          "data": {
            "text/plain": [
              "dict"
            ]
          },
          "metadata": {},
          "execution_count": 111
        }
      ]
    },
    {
      "cell_type": "code",
      "source": [
        "data"
      ],
      "metadata": {
        "colab": {
          "base_uri": "https://localhost:8080/"
        },
        "id": "7HqyV26lUYhM",
        "outputId": "b7953fb9-a4cb-4b72-b161-c86be65a3a76"
      },
      "execution_count": 112,
      "outputs": [
        {
          "output_type": "execute_result",
          "data": {
            "text/plain": [
              "{'heteronyms': [{'bopomofo': 'ㄐㄧㄠˋ ㄕˋ',\n",
              "   'bopomofo2': 'jiàu shr̀',\n",
              "   'definitions': [{'def': '學校裡進行教學活動的房間。',\n",
              "     'example': ['如：「實驗教室」、「音樂教室」。'],\n",
              "     'synonyms': '課堂,講堂'}],\n",
              "   'pinyin': 'jiào shì'}],\n",
              " 'title': '教室'}"
            ]
          },
          "metadata": {},
          "execution_count": 112
        }
      ]
    },
    {
      "cell_type": "code",
      "source": [
        "data['heteronyms']"
      ],
      "metadata": {
        "colab": {
          "base_uri": "https://localhost:8080/"
        },
        "id": "L4nd9RTKVDNq",
        "outputId": "2faa370b-b12e-4b24-fd0e-be4623b84e4d"
      },
      "execution_count": 113,
      "outputs": [
        {
          "output_type": "execute_result",
          "data": {
            "text/plain": [
              "[{'bopomofo': 'ㄐㄧㄠˋ ㄕˋ',\n",
              "  'bopomofo2': 'jiàu shr̀',\n",
              "  'definitions': [{'def': '學校裡進行教學活動的房間。',\n",
              "    'example': ['如：「實驗教室」、「音樂教室」。'],\n",
              "    'synonyms': '課堂,講堂'}],\n",
              "  'pinyin': 'jiào shì'}]"
            ]
          },
          "metadata": {},
          "execution_count": 113
        }
      ]
    },
    {
      "cell_type": "code",
      "source": [
        "type(data['heteronyms'])"
      ],
      "metadata": {
        "colab": {
          "base_uri": "https://localhost:8080/"
        },
        "id": "dM-Wo2C4Vt5z",
        "outputId": "d762de26-d439-4c2b-cba0-d7f17185732e"
      },
      "execution_count": 114,
      "outputs": [
        {
          "output_type": "execute_result",
          "data": {
            "text/plain": [
              "list"
            ]
          },
          "metadata": {},
          "execution_count": 114
        }
      ]
    },
    {
      "cell_type": "code",
      "source": [
        "len(data['heteronyms'])"
      ],
      "metadata": {
        "colab": {
          "base_uri": "https://localhost:8080/"
        },
        "id": "sT_1z9YbW10G",
        "outputId": "09873752-ae0a-4a61-cd9e-5e5728ceac3d"
      },
      "execution_count": 115,
      "outputs": [
        {
          "output_type": "execute_result",
          "data": {
            "text/plain": [
              "1"
            ]
          },
          "metadata": {},
          "execution_count": 115
        }
      ]
    },
    {
      "cell_type": "code",
      "source": [
        "data['heteronyms'][0]"
      ],
      "metadata": {
        "colab": {
          "base_uri": "https://localhost:8080/"
        },
        "id": "5rgLlw4eW4cM",
        "outputId": "1d7221f1-14d2-4252-ff95-d6545e7aff9e"
      },
      "execution_count": 116,
      "outputs": [
        {
          "output_type": "execute_result",
          "data": {
            "text/plain": [
              "{'bopomofo': 'ㄐㄧㄠˋ ㄕˋ',\n",
              " 'bopomofo2': 'jiàu shr̀',\n",
              " 'definitions': [{'def': '學校裡進行教學活動的房間。',\n",
              "   'example': ['如：「實驗教室」、「音樂教室」。'],\n",
              "   'synonyms': '課堂,講堂'}],\n",
              " 'pinyin': 'jiào shì'}"
            ]
          },
          "metadata": {},
          "execution_count": 116
        }
      ]
    },
    {
      "cell_type": "code",
      "source": [
        "data['heteronyms'][0]['definitions']"
      ],
      "metadata": {
        "colab": {
          "base_uri": "https://localhost:8080/"
        },
        "id": "DZd0HPpoXYNF",
        "outputId": "2a6e6fb4-e31f-420f-cea0-3d92a4b477ac"
      },
      "execution_count": 117,
      "outputs": [
        {
          "output_type": "execute_result",
          "data": {
            "text/plain": [
              "[{'def': '學校裡進行教學活動的房間。',\n",
              "  'example': ['如：「實驗教室」、「音樂教室」。'],\n",
              "  'synonyms': '課堂,講堂'}]"
            ]
          },
          "metadata": {},
          "execution_count": 117
        }
      ]
    },
    {
      "cell_type": "code",
      "source": [
        "data['heteronyms'][0]['definitions'][0]"
      ],
      "metadata": {
        "colab": {
          "base_uri": "https://localhost:8080/"
        },
        "id": "VRtncRz7XeJb",
        "outputId": "a4d8988e-c1a5-477a-e3c8-8d586bcf3993"
      },
      "execution_count": 118,
      "outputs": [
        {
          "output_type": "execute_result",
          "data": {
            "text/plain": [
              "{'def': '學校裡進行教學活動的房間。', 'example': ['如：「實驗教室」、「音樂教室」。'], 'synonyms': '課堂,講堂'}"
            ]
          },
          "metadata": {},
          "execution_count": 118
        }
      ]
    },
    {
      "cell_type": "code",
      "source": [
        "data['heteronyms'][0]['definitions'][0]['def']"
      ],
      "metadata": {
        "colab": {
          "base_uri": "https://localhost:8080/",
          "height": 35
        },
        "id": "YM8_g2MRXiZ9",
        "outputId": "ce4465de-c95e-4a7a-ec49-0af511274bf6"
      },
      "execution_count": 119,
      "outputs": [
        {
          "output_type": "execute_result",
          "data": {
            "text/plain": [
              "'學校裡進行教學活動的房間。'"
            ],
            "application/vnd.google.colaboratory.intrinsic+json": {
              "type": "string"
            }
          },
          "metadata": {},
          "execution_count": 119
        }
      ]
    },
    {
      "cell_type": "markdown",
      "source": [
        "#### 方法二"
      ],
      "metadata": {
        "id": "feSSGOC2YFeU"
      }
    },
    {
      "cell_type": "code",
      "source": [
        "#直接將抓取json資料跟剖析資料寫在一起\n",
        "data = requests.get(url).json()"
      ],
      "metadata": {
        "id": "gqOMv3QjXobV"
      },
      "execution_count": 120,
      "outputs": []
    },
    {
      "cell_type": "code",
      "source": [
        "data"
      ],
      "metadata": {
        "colab": {
          "base_uri": "https://localhost:8080/"
        },
        "id": "ohbNu6OGYs22",
        "outputId": "b2c454c4-3f6e-40cc-a04c-f7e4299f90f5"
      },
      "execution_count": 121,
      "outputs": [
        {
          "output_type": "execute_result",
          "data": {
            "text/plain": [
              "{'heteronyms': [{'bopomofo': 'ㄐㄧㄠˋ ㄕˋ',\n",
              "   'bopomofo2': 'jiàu shr̀',\n",
              "   'definitions': [{'def': '學校裡進行教學活動的房間。',\n",
              "     'example': ['如：「實驗教室」、「音樂教室」。'],\n",
              "     'synonyms': '課堂,講堂'}],\n",
              "   'pinyin': 'jiào shì'}],\n",
              " 'title': '教室'}"
            ]
          },
          "metadata": {},
          "execution_count": 121
        }
      ]
    },
    {
      "cell_type": "code",
      "source": [
        "#取得我們所需的資訊\n",
        "data['heteronyms'][0]['definitions'][0]['def']"
      ],
      "metadata": {
        "colab": {
          "base_uri": "https://localhost:8080/",
          "height": 35
        },
        "id": "kfYb0MZRYbQn",
        "outputId": "31960508-09d7-4666-f2fc-007c5d14f03e"
      },
      "execution_count": 122,
      "outputs": [
        {
          "output_type": "execute_result",
          "data": {
            "text/plain": [
              "'學校裡進行教學活動的房間。'"
            ],
            "application/vnd.google.colaboratory.intrinsic+json": {
              "type": "string"
            }
          },
          "metadata": {},
          "execution_count": 122
        }
      ]
    },
    {
      "cell_type": "markdown",
      "source": [
        "#### 將方法二寫成函數來使用\n",
        "* 一開始要先定義，定義中把網頁、資料、回傳...等想要的資料都寫進去"
      ],
      "metadata": {
        "id": "Ce8Glp-8Y8sA"
      }
    },
    {
      "cell_type": "code",
      "source": [
        "def lookup(q):\n",
        "  url = \"https://www.moedict.tw/uni/\"+q\n",
        "  data = requests.get(url).json()\n",
        "  return data[\"heteronyms\"][0]['definitions'][0]['def']"
      ],
      "metadata": {
        "id": "IQq6onG2Yfdv"
      },
      "execution_count": 123,
      "outputs": []
    },
    {
      "cell_type": "code",
      "source": [
        "lookup(\"教室\")"
      ],
      "metadata": {
        "colab": {
          "base_uri": "https://localhost:8080/",
          "height": 35
        },
        "id": "sSDCZUzQaHIR",
        "outputId": "c5701e96-f3c7-4fef-d040-d1d28de69601"
      },
      "execution_count": 124,
      "outputs": [
        {
          "output_type": "execute_result",
          "data": {
            "text/plain": [
              "'學校裡進行教學活動的房間。'"
            ],
            "application/vnd.google.colaboratory.intrinsic+json": {
              "type": "string"
            }
          },
          "metadata": {},
          "execution_count": 124
        }
      ]
    },
    {
      "cell_type": "code",
      "source": [
        "lookup(\"瀑布\")"
      ],
      "metadata": {
        "colab": {
          "base_uri": "https://localhost:8080/",
          "height": 35
        },
        "id": "6el0X3pKaKr0",
        "outputId": "9dd92dcd-f118-4f12-b03d-5f8e5b655e4d"
      },
      "execution_count": 125,
      "outputs": [
        {
          "output_type": "execute_result",
          "data": {
            "text/plain": [
              "'水由高處直瀉而下，遠望似布垂落，稱為「瀑布」。'"
            ],
            "application/vnd.google.colaboratory.intrinsic+json": {
              "type": "string"
            }
          },
          "metadata": {},
          "execution_count": 125
        }
      ]
    },
    {
      "cell_type": "markdown",
      "source": [
        "#### reqests.get(url).json() 是啥？\n",
        "\n",
        "底下兩個東西結果是一樣的：\n",
        "\n",
        "作法一：\n",
        "```python\n",
        "import requests\n",
        "import json\n",
        "\n",
        "r = requests.get(url)\n",
        "data = json.loads(r.text)\n",
        "```\n",
        "\n",
        "作法二:\n",
        "```python\n",
        "import requests\n",
        "\n",
        "data = requests.get(url).json()\n",
        "```\n"
      ],
      "metadata": {
        "id": "2TpWAO4Nbg1E"
      }
    },
    {
      "cell_type": "markdown",
      "source": [
        "#### 讀取0050成份股\n",
        "https://www.yuantaetfs.com/api/StkWeights?date=&fundid=1066"
      ],
      "metadata": {
        "id": "oSLZQrqUdyoV"
      }
    },
    {
      "cell_type": "code",
      "source": [
        "import json"
      ],
      "metadata": {
        "id": "EbZ2j7IqaVht"
      },
      "execution_count": 126,
      "outputs": []
    },
    {
      "cell_type": "code",
      "source": [
        "url = \"https://www.yuantaetfs.com/api/StkWeights?date=&fundid=1066\""
      ],
      "metadata": {
        "id": "hOpzkODwew4P"
      },
      "execution_count": 127,
      "outputs": []
    },
    {
      "cell_type": "code",
      "source": [
        "import requests\n",
        "\n",
        "data = requests.get(url).json()"
      ],
      "metadata": {
        "id": "HKsdpUafe0md"
      },
      "execution_count": 128,
      "outputs": []
    },
    {
      "cell_type": "code",
      "source": [
        "data"
      ],
      "metadata": {
        "colab": {
          "base_uri": "https://localhost:8080/"
        },
        "id": "wRtwChd9e16q",
        "outputId": "5fcded6f-669f-4c2e-f410-1c57ce102dbf"
      },
      "execution_count": 129,
      "outputs": [
        {
          "output_type": "execute_result",
          "data": {
            "text/plain": [
              "[{'code': '2330',\n",
              "  'ym': None,\n",
              "  'name': '台積電',\n",
              "  'ename': 'Taiwan Semiconductor Manufacturing Co. Ltd.',\n",
              "  'weights': 48.73,\n",
              "  'qty': 246120278.0},\n",
              " {'code': '2317',\n",
              "  'ym': None,\n",
              "  'name': '鴻海',\n",
              "  'ename': 'HON HAI PRECISION IND. CO. LTD.',\n",
              "  'weights': 4.51,\n",
              "  'qty': 122305400.0},\n",
              " {'code': '2454',\n",
              "  'ym': None,\n",
              "  'name': '聯發科',\n",
              "  'ename': 'MediaTek Inc.',\n",
              "  'weights': 4.1,\n",
              "  'qty': 15248561.0},\n",
              " {'code': '2308',\n",
              "  'ym': None,\n",
              "  'name': '台達電',\n",
              "  'ename': 'DELTA ELECTRONICS INC.',\n",
              "  'weights': 2.36,\n",
              "  'qty': 22141605.0},\n",
              " {'code': '2303',\n",
              "  'ym': None,\n",
              "  'name': '聯電',\n",
              "  'ename': 'UNITED MICROELECTRONICS CORP.',\n",
              "  'weights': 2.21,\n",
              "  'qty': 119992423.0},\n",
              " {'code': '2881',\n",
              "  'ym': None,\n",
              "  'name': '富邦金',\n",
              "  'ename': 'Fubon Financial Holding Co. Ltd.',\n",
              "  'weights': 1.62,\n",
              "  'qty': 75568931.0},\n",
              " {'code': '2412',\n",
              "  'ym': None,\n",
              "  'name': '中華電',\n",
              "  'ename': 'Chunghwa Telecom Co. Ltd',\n",
              "  'weights': 1.6,\n",
              "  'qty': 38981167.0},\n",
              " {'code': '1303',\n",
              "  'ym': None,\n",
              "  'name': '南亞',\n",
              "  'ename': 'NAN YA PLASTICS CORPORATION',\n",
              "  'weights': 1.56,\n",
              "  'qty': 57880391.0},\n",
              " {'code': '2891',\n",
              "  'ym': None,\n",
              "  'name': '中信金',\n",
              "  'ename': 'CTBC FINANCIAL HOLDING CO. LTD.',\n",
              "  'weights': 1.52,\n",
              "  'qty': 185988205.0},\n",
              " {'code': '2002',\n",
              "  'ym': None,\n",
              "  'name': '中鋼',\n",
              "  'ename': 'China Steel Corporation',\n",
              "  'weights': 1.43,\n",
              "  'qty': 126394577.0},\n",
              " {'code': '2882',\n",
              "  'ym': None,\n",
              "  'name': '國泰金',\n",
              "  'ename': 'CATHAY FINANCIAL HOLDING CO. LTD.',\n",
              "  'weights': 1.42,\n",
              "  'qty': 91602832.0},\n",
              " {'code': '2886',\n",
              "  'ym': None,\n",
              "  'name': '兆豐金',\n",
              "  'ename': 'Mega Financial Holding Company Ltd.',\n",
              "  'weights': 1.35,\n",
              "  'qty': 114362664.0},\n",
              " {'code': '3711',\n",
              "  'ym': None,\n",
              "  'name': '日月光投控',\n",
              "  'ename': 'ASE Technology Holding Co. Ltd.',\n",
              "  'weights': 1.34,\n",
              "  'qty': 34886744.0},\n",
              " {'code': '2884',\n",
              "  'ym': None,\n",
              "  'name': '玉山金',\n",
              "  'ename': 'E.SUN FINANCIAL HOLDING COMPANYLTD.',\n",
              "  'weights': 1.25,\n",
              "  'qty': 138873462.0},\n",
              " {'code': '1301',\n",
              "  'ym': None,\n",
              "  'name': '台塑',\n",
              "  'ename': 'Formosa Plastics Corporation',\n",
              "  'weights': 1.24,\n",
              "  'qty': 38231086.0},\n",
              " {'code': '5871',\n",
              "  'ym': None,\n",
              "  'name': '中租-KY',\n",
              "  'ename': 'Chailease Holding Company Limited',\n",
              "  'weights': 1.2,\n",
              "  'qty': 14144085.0},\n",
              " {'code': '1216',\n",
              "  'ym': None,\n",
              "  'name': '統一',\n",
              "  'ename': 'UNI-PRESIDENT ENTERPRISES CORP.',\n",
              "  'weights': 1.19,\n",
              "  'qty': 49132681.0},\n",
              " {'code': '2892',\n",
              "  'ym': None,\n",
              "  'name': '第一金',\n",
              "  'ename': 'First  Financial  Holding  Co.  Ltd.',\n",
              "  'weights': 1.02,\n",
              "  'qty': 106817864.0},\n",
              " {'code': '2885',\n",
              "  'ym': None,\n",
              "  'name': '元大金',\n",
              "  'ename': 'Yuanta Financial Holding Co. Ltd',\n",
              "  'weights': 1.02,\n",
              "  'qty': 122755367.0},\n",
              " {'code': '5880',\n",
              "  'ym': None,\n",
              "  'name': '合庫金',\n",
              "  'ename': 'Taiwan Cooperative Financial Holding Co.Ltd.',\n",
              "  'weights': 1.0,\n",
              "  'qty': 103436952.0},\n",
              " {'code': '1326',\n",
              "  'ym': None,\n",
              "  'name': '台化',\n",
              "  'ename': 'FORMOSA CHEMICALS & FIBRE CORPORATION',\n",
              "  'weights': 0.9,\n",
              "  'qty': 35087873.0},\n",
              " {'code': '1101',\n",
              "  'ym': None,\n",
              "  'name': '台泥',\n",
              "  'ename': 'Taiwan Cement Corp.',\n",
              "  'weights': 0.87,\n",
              "  'qty': 64754131.0},\n",
              " {'code': '3008',\n",
              "  'ym': None,\n",
              "  'name': '大立光',\n",
              "  'ename': 'LARGAN Precision Co.Ltd',\n",
              "  'weights': 0.86,\n",
              "  'qty': 1050671.0},\n",
              " {'code': '2880',\n",
              "  'ym': None,\n",
              "  'name': '華南金',\n",
              "  'ename': 'HUA NAN FINANCIAL HOLDINGS CO.LTD.',\n",
              "  'weights': 0.86,\n",
              "  'qty': 104118718.0},\n",
              " {'code': '3034',\n",
              "  'ym': None,\n",
              "  'name': '聯詠',\n",
              "  'ename': 'NOVATEK MICROELECTRONICS CORP.',\n",
              "  'weights': 0.82,\n",
              "  'qty': 5865565.0},\n",
              " {'code': '2382',\n",
              "  'ym': None,\n",
              "  'name': '廣達',\n",
              "  'ename': 'QUANTA COMPUTER INC.',\n",
              "  'weights': 0.77,\n",
              "  'qty': 27268460.0},\n",
              " {'code': '6415',\n",
              "  'ym': None,\n",
              "  'name': '矽力*-KY',\n",
              "  'ename': 'Silergy Corp.',\n",
              "  'weights': 0.76,\n",
              "  'qty': 3317515.0},\n",
              " {'code': '2883',\n",
              "  'ym': None,\n",
              "  'name': '開發金',\n",
              "  'ename': 'CHINA DEVELOPMENT FINANCIAL HOLDING CORP.',\n",
              "  'weights': 0.76,\n",
              "  'qty': 161503344.0},\n",
              " {'code': '2327',\n",
              "  'ym': None,\n",
              "  'name': '國巨',\n",
              "  'ename': 'YAGEO CORPORATION',\n",
              "  'weights': 0.75,\n",
              "  'qty': 4002627.0},\n",
              " {'code': '2207',\n",
              "  'ym': None,\n",
              "  'name': '和泰車',\n",
              "  'ename': 'HOTAI MOTOR CO.LTD.',\n",
              "  'weights': 0.74,\n",
              "  'qty': 3268973.0},\n",
              " {'code': '2357',\n",
              "  'ym': None,\n",
              "  'name': '華碩',\n",
              "  'ename': 'ASUSTEK COMPUTER INC.',\n",
              "  'weights': 0.71,\n",
              "  'qty': 7228285.0},\n",
              " {'code': '2887',\n",
              "  'ym': None,\n",
              "  'name': '台新金',\n",
              "  'ename': 'Taishin Financial Holding Co. Ltd.',\n",
              "  'weights': 0.68,\n",
              "  'qty': 116495910.0},\n",
              " {'code': '2890',\n",
              "  'ym': None,\n",
              "  'name': '永豐金',\n",
              "  'ename': 'SINOPAC  FINANCIAL HOLDINGS COMPANY LIMITED',\n",
              "  'weights': 0.68,\n",
              "  'qty': 108573634.0},\n",
              " {'code': '1590',\n",
              "  'ym': None,\n",
              "  'name': '亞德客-KY',\n",
              "  'ename': 'AIRTAC INTERNATIONAL GROUP',\n",
              "  'weights': 0.63,\n",
              "  'qty': 1600046.0},\n",
              " {'code': '2379',\n",
              "  'ym': None,\n",
              "  'name': '瑞昱',\n",
              "  'ename': 'Realtek Semiconductor Corporation',\n",
              "  'weights': 0.63,\n",
              "  'qty': 4874788.0},\n",
              " {'code': '3045',\n",
              "  'ym': None,\n",
              "  'name': '台灣大',\n",
              "  'ename': 'TAIWAN  MOBILE  CO. LTD.',\n",
              "  'weights': 0.62,\n",
              "  'qty': 17684259.0},\n",
              " {'code': '5876',\n",
              "  'ym': None,\n",
              "  'name': '上海商銀',\n",
              "  'ename': 'THE SHANGHAI COMMERCIAL & SAVINGS BANK LTD.',\n",
              "  'weights': 0.62,\n",
              "  'qty': 36040157.0},\n",
              " {'code': '3037',\n",
              "  'ym': None,\n",
              "  'name': '欣興',\n",
              "  'ename': 'Unimicron Technology Corp.',\n",
              "  'weights': 0.6,\n",
              "  'qty': 12895441.0},\n",
              " {'code': '2912',\n",
              "  'ym': None,\n",
              "  'name': '統一超',\n",
              "  'ename': 'PRESIDENT CHAIN STORE CORPORATION',\n",
              "  'weights': 0.56,\n",
              "  'qty': 5752852.0},\n",
              " {'code': '2395',\n",
              "  'ym': None,\n",
              "  'name': '研華',\n",
              "  'ename': 'ADVANTECH Co. Ltd.',\n",
              "  'weights': 0.55,\n",
              "  'qty': 4233348.0},\n",
              " {'code': '2603',\n",
              "  'ym': None,\n",
              "  'name': '長榮',\n",
              "  'ename': 'EVERGREEN MARINE CORP. (TAIWAN) LTD.',\n",
              "  'weights': 0.55,\n",
              "  'qty': 10309167.0},\n",
              " {'code': '1402',\n",
              "  'ym': None,\n",
              "  'name': '遠東新',\n",
              "  'ename': 'Far Eastern New Century Corporation',\n",
              "  'weights': 0.47,\n",
              "  'qty': 40210277.0},\n",
              " {'code': '2801',\n",
              "  'ym': None,\n",
              "  'name': '彰銀',\n",
              "  'ename': 'CHANG HWA COMMERCIAL BANK LTD.',\n",
              "  'weights': 0.43,\n",
              "  'qty': 67919862.0},\n",
              " {'code': '6505',\n",
              "  'ym': None,\n",
              "  'name': '台塑化',\n",
              "  'ename': 'Formosa Petrochemical Corp',\n",
              "  'weights': 0.42,\n",
              "  'qty': 13988798.0},\n",
              " {'code': '4904',\n",
              "  'ym': None,\n",
              "  'name': '遠傳',\n",
              "  'ename': 'Far EasTone Telecommunications Co. Ltd.',\n",
              "  'weights': 0.4,\n",
              "  'qty': 16373549.0},\n",
              " {'code': '2615',\n",
              "  'ym': None,\n",
              "  'name': '萬海',\n",
              "  'ename': 'WAN HAI LINES LTD.',\n",
              "  'weights': 0.39,\n",
              "  'qty': 14386012.0},\n",
              " {'code': '2609',\n",
              "  'ym': None,\n",
              "  'name': '陽明',\n",
              "  'ename': 'Yang Ming Marine Transport Corp.',\n",
              "  'weights': 0.39,\n",
              "  'qty': 17902014.0},\n",
              " {'code': '9910',\n",
              "  'ym': None,\n",
              "  'name': '豐泰',\n",
              "  'ename': 'FENG TAY ENTERPRISES CO. LTD.',\n",
              "  'weights': 0.31,\n",
              "  'qty': 4520752.0},\n",
              " {'code': '8046',\n",
              "  'ym': None,\n",
              "  'name': '南電',\n",
              "  'ename': 'NAN YA PRINTED CIRCUIT BOARD CORPORATION',\n",
              "  'weights': 0.19,\n",
              "  'qty': 2153132.0},\n",
              " {'code': '2408',\n",
              "  'ym': None,\n",
              "  'name': '南亞科',\n",
              "  'ename': 'NANYA TECHNOLOGY CORPORATION',\n",
              "  'weights': 0.18,\n",
              "  'qty': 8388112.0}]"
            ]
          },
          "metadata": {},
          "execution_count": 129
        }
      ]
    },
    {
      "cell_type": "code",
      "source": [
        "data[0]"
      ],
      "metadata": {
        "colab": {
          "base_uri": "https://localhost:8080/"
        },
        "id": "MIV9ioMleYTX",
        "outputId": "2611de40-4f91-420a-8c38-4ba7cd883742"
      },
      "execution_count": 130,
      "outputs": [
        {
          "output_type": "execute_result",
          "data": {
            "text/plain": [
              "{'code': '2330',\n",
              " 'ym': None,\n",
              " 'name': '台積電',\n",
              " 'ename': 'Taiwan Semiconductor Manufacturing Co. Ltd.',\n",
              " 'weights': 48.73,\n",
              " 'qty': 246120278.0}"
            ]
          },
          "metadata": {},
          "execution_count": 130
        }
      ]
    },
    {
      "cell_type": "code",
      "source": [
        "for i in data:\n",
        "  print(i['code'],',',i['name'])"
      ],
      "metadata": {
        "colab": {
          "base_uri": "https://localhost:8080/"
        },
        "id": "hRNw0FsyfhY5",
        "outputId": "5d7dac7b-b4d2-4d29-dd5c-9cb6ad4afd1a"
      },
      "execution_count": 131,
      "outputs": [
        {
          "output_type": "stream",
          "name": "stdout",
          "text": [
            "2330 , 台積電\n",
            "2317 , 鴻海\n",
            "2454 , 聯發科\n",
            "2308 , 台達電\n",
            "2303 , 聯電\n",
            "2881 , 富邦金\n",
            "2412 , 中華電\n",
            "1303 , 南亞\n",
            "2891 , 中信金\n",
            "2002 , 中鋼\n",
            "2882 , 國泰金\n",
            "2886 , 兆豐金\n",
            "3711 , 日月光投控\n",
            "2884 , 玉山金\n",
            "1301 , 台塑\n",
            "5871 , 中租-KY\n",
            "1216 , 統一\n",
            "2892 , 第一金\n",
            "2885 , 元大金\n",
            "5880 , 合庫金\n",
            "1326 , 台化\n",
            "1101 , 台泥\n",
            "3008 , 大立光\n",
            "2880 , 華南金\n",
            "3034 , 聯詠\n",
            "2382 , 廣達\n",
            "6415 , 矽力*-KY\n",
            "2883 , 開發金\n",
            "2327 , 國巨\n",
            "2207 , 和泰車\n",
            "2357 , 華碩\n",
            "2887 , 台新金\n",
            "2890 , 永豐金\n",
            "1590 , 亞德客-KY\n",
            "2379 , 瑞昱\n",
            "3045 , 台灣大\n",
            "5876 , 上海商銀\n",
            "3037 , 欣興\n",
            "2912 , 統一超\n",
            "2395 , 研華\n",
            "2603 , 長榮\n",
            "1402 , 遠東新\n",
            "2801 , 彰銀\n",
            "6505 , 台塑化\n",
            "4904 , 遠傳\n",
            "2615 , 萬海\n",
            "2609 , 陽明\n",
            "9910 , 豐泰\n",
            "8046 , 南電\n",
            "2408 , 南亞科\n"
          ]
        }
      ]
    },
    {
      "cell_type": "markdown",
      "source": [
        "##### 不是每個網站都是json格式，通常api的網頁有提供json格式，若不是json格式，需要找方法去轉換成json格式給puthon做讀取"
      ],
      "metadata": {
        "id": "iMCknCvxh--c"
      }
    },
    {
      "cell_type": "code",
      "source": [],
      "metadata": {
        "id": "p9e-P8rZh4Tp"
      },
      "execution_count": 131,
      "outputs": []
    }
  ]
}
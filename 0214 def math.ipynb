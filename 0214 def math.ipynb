{
  "nbformat": 4,
  "nbformat_minor": 0,
  "metadata": {
    "colab": {
      "provenance": [],
      "toc_visible": true,
      "authorship_tag": "ABX9TyPFd5WUh12h7RI/I09boaCi",
      "include_colab_link": true
    },
    "kernelspec": {
      "name": "python3",
      "display_name": "Python 3"
    },
    "language_info": {
      "name": "python"
    }
  },
  "cells": [
    {
      "cell_type": "markdown",
      "metadata": {
        "id": "view-in-github",
        "colab_type": "text"
      },
      "source": [
        "<a href=\"https://colab.research.google.com/github/pooyalHsu/20230205python/blob/main/0214%20def%20math.ipynb\" target=\"_parent\"><img src=\"https://colab.research.google.com/assets/colab-badge.svg\" alt=\"Open In Colab\"/></a>"
      ]
    },
    {
      "cell_type": "markdown",
      "source": [
        "# 定義加減乘除"
      ],
      "metadata": {
        "id": "bbdNkOdaUtpb"
      }
    },
    {
      "cell_type": "code",
      "execution_count": 19,
      "metadata": {
        "id": "UzbbfSHbUrza"
      },
      "outputs": [],
      "source": [
        "#定義a,b兩個數字，印出字串a+b= 加上逗點會空格然後寫出a+b的值\n",
        "def add(a,b):\n",
        "  print(\"a + b =\", a+b)\n",
        "def sub(a,b):\n",
        "  print(\"a - b =\", a-b)\n",
        "def div(a,b):\n",
        "  print(\"a / b =\", a/b)\n",
        "def mul(a,b):\n",
        "  print(\"a * b =\", a*b)"
      ]
    },
    {
      "cell_type": "code",
      "source": [
        "#將這四個定義寫到x裡面\n",
        "x =(add,sub,div,mul)"
      ],
      "metadata": {
        "id": "m_mQnVL4VXYB"
      },
      "execution_count": 3,
      "outputs": []
    },
    {
      "cell_type": "code",
      "source": [
        "#把a,b的數字列出，開始嘗試，讓x中的定義可以產出a,b運算後的值，如果產生例外的話使用except讓例外產生要顯示的資訊或是想要顯示的字串\n",
        "from logging import exception\n",
        "a = 5\n",
        "b = 0\n",
        "try:\n",
        "  for i in (x):\n",
        "    i(a,b)\n",
        "except Exception as e:\n",
        "    print(\"oh,no!!have a problem\")"
      ],
      "metadata": {
        "colab": {
          "base_uri": "https://localhost:8080/"
        },
        "id": "_GfOdVy1VnX9",
        "outputId": "404002e4-1e70-4310-f824-80002c14b180"
      },
      "execution_count": 18,
      "outputs": [
        {
          "output_type": "stream",
          "name": "stdout",
          "text": [
            "a + b = 5\n",
            "a - b = 5\n",
            "oh,no!!have a problem\n"
          ]
        }
      ]
    },
    {
      "cell_type": "code",
      "source": [],
      "metadata": {
        "id": "b37KLh4nV01N"
      },
      "execution_count": null,
      "outputs": []
    }
  ]
}
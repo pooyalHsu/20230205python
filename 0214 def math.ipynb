{
  "nbformat": 4,
  "nbformat_minor": 0,
  "metadata": {
    "colab": {
      "provenance": [],
      "toc_visible": true,
      "authorship_tag": "ABX9TyNdDERqmfCfu0ZPD6IlSjsA",
      "include_colab_link": true
    },
    "kernelspec": {
      "name": "python3",
      "display_name": "Python 3"
    },
    "language_info": {
      "name": "python"
    }
  },
  "cells": [
    {
      "cell_type": "markdown",
      "metadata": {
        "id": "view-in-github",
        "colab_type": "text"
      },
      "source": [
        "<a href=\"https://colab.research.google.com/github/pooyalHsu/20230205python/blob/main/0214%20def%20math.ipynb\" target=\"_parent\"><img src=\"https://colab.research.google.com/assets/colab-badge.svg\" alt=\"Open In Colab\"/></a>"
      ]
    },
    {
      "cell_type": "markdown",
      "source": [
        "# 定義加減乘除"
      ],
      "metadata": {
        "id": "bbdNkOdaUtpb"
      }
    },
    {
      "cell_type": "code",
      "execution_count": 2,
      "metadata": {
        "id": "UzbbfSHbUrza"
      },
      "outputs": [],
      "source": [
        "def add(a,b):\n",
        "  print(\"a + b =\", a+b)\n",
        "def sub(a,b):\n",
        "  print(\"a - b =\", a-b)\n",
        "def div(a,b):\n",
        "  print(\"a / b =\", a/b)\n",
        "def mul(a,b):\n",
        "  print(\"a * b =\", a*b)"
      ]
    },
    {
      "cell_type": "code",
      "source": [
        "x =(add,sub,div,mul)"
      ],
      "metadata": {
        "id": "m_mQnVL4VXYB"
      },
      "execution_count": 3,
      "outputs": []
    },
    {
      "cell_type": "code",
      "source": [
        "from logging import exception\n",
        "a = 5\n",
        "b = 0\n",
        "try:\n",
        "  for i in (x):\n",
        "    i(a,b)\n",
        "except Exception as e:\n",
        "    print(\"oh,no!!have a problem\")"
      ],
      "metadata": {
        "colab": {
          "base_uri": "https://localhost:8080/"
        },
        "id": "_GfOdVy1VnX9",
        "outputId": "404002e4-1e70-4310-f824-80002c14b180"
      },
      "execution_count": 18,
      "outputs": [
        {
          "output_type": "stream",
          "name": "stdout",
          "text": [
            "a + b = 5\n",
            "a - b = 5\n",
            "oh,no!!have a problem\n"
          ]
        }
      ]
    },
    {
      "cell_type": "code",
      "source": [],
      "metadata": {
        "id": "b37KLh4nV01N"
      },
      "execution_count": null,
      "outputs": []
    }
  ]
}
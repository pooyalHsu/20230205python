{
  "nbformat": 4,
  "nbformat_minor": 0,
  "metadata": {
    "colab": {
      "provenance": [],
      "toc_visible": true,
      "authorship_tag": "ABX9TyPErlx9WrI233ErMnqtBtXd",
      "include_colab_link": true
    },
    "kernelspec": {
      "name": "python3",
      "display_name": "Python 3"
    },
    "language_info": {
      "name": "python"
    }
  },
  "cells": [
    {
      "cell_type": "markdown",
      "metadata": {
        "id": "view-in-github",
        "colab_type": "text"
      },
      "source": [
        "<a href=\"https://colab.research.google.com/github/pooyalHsu/20230205python/blob/main/20230211_python.ipynb\" target=\"_parent\"><img src=\"https://colab.research.google.com/assets/colab-badge.svg\" alt=\"Open In Colab\"/></a>"
      ]
    },
    {
      "cell_type": "markdown",
      "source": [
        "# 20232011筆記\n",
        "\n",
        "## 今天學到的是從colab建立檔案後，用另存存到gifhub上建立副本\n",
        "## 唯客學院中的影片有些是比較舊的影片，但是理論上可以做參考，因為有可是介面上有改變\n",
        "\n"
      ],
      "metadata": {
        "id": "PUR2pd1JMZ3a"
      }
    },
    {
      "cell_type": "markdown",
      "source": [
        "# 基本資料型態\n",
        "\n",
        "* int (整數)\n",
        "* float (浮點數)\n",
        "* bool (布林變數)\n",
        "* str (字串:文字訊息)\n",
        "\n",
        "使用 **type(變數)** 可以檢查變數裡面的資料型態"
      ],
      "metadata": {
        "id": "x09slP8yUH0S"
      }
    },
    {
      "cell_type": "markdown",
      "source": [
        "## int"
      ],
      "metadata": {
        "id": "whOMNtCTU3Ea"
      }
    },
    {
      "cell_type": "code",
      "execution_count": 15,
      "metadata": {
        "id": "w9ZdkV2lMQwx"
      },
      "outputs": [],
      "source": [
        "#把1放到記憶體中的一個位置\n",
        "x = 1"
      ]
    },
    {
      "cell_type": "code",
      "source": [
        "#查看x的型態\n",
        "type(x)"
      ],
      "metadata": {
        "colab": {
          "base_uri": "https://localhost:8080/"
        },
        "id": "F92A3CIKRIKR",
        "outputId": "91ae6af5-37a0-48df-909a-1e8f09c5133f"
      },
      "execution_count": 16,
      "outputs": [
        {
          "output_type": "execute_result",
          "data": {
            "text/plain": [
              "int"
            ]
          },
          "metadata": {},
          "execution_count": 16
        }
      ]
    },
    {
      "cell_type": "code",
      "source": [
        "#如果只有一個除號，出來的答案是浮點數\n",
        "y=4/2"
      ],
      "metadata": {
        "id": "phvanJqgWQM3"
      },
      "execution_count": 23,
      "outputs": []
    },
    {
      "cell_type": "code",
      "source": [
        "type(y)"
      ],
      "metadata": {
        "colab": {
          "base_uri": "https://localhost:8080/"
        },
        "id": "5UaUgHq_WVBn",
        "outputId": "b85f307a-d18a-4887-f269-43486debd012"
      },
      "execution_count": 18,
      "outputs": [
        {
          "output_type": "execute_result",
          "data": {
            "text/plain": [
              "float"
            ]
          },
          "metadata": {},
          "execution_count": 18
        }
      ]
    },
    {
      "cell_type": "code",
      "source": [
        "y"
      ],
      "metadata": {
        "colab": {
          "base_uri": "https://localhost:8080/"
        },
        "id": "8BLC0boFWWsO",
        "outputId": "e46f6ad8-744e-4d63-caca-8dfefd9e9d47"
      },
      "execution_count": 19,
      "outputs": [
        {
          "output_type": "execute_result",
          "data": {
            "text/plain": [
              "2.0"
            ]
          },
          "metadata": {},
          "execution_count": 19
        }
      ]
    },
    {
      "cell_type": "markdown",
      "source": [
        "## 整數除法"
      ],
      "metadata": {
        "id": "q_GhB35wXGCr"
      }
    },
    {
      "cell_type": "code",
      "source": [
        "#如果要整除的話要用兩個除號\n",
        "z=4//2"
      ],
      "metadata": {
        "id": "FDNkZY-YWZJ8"
      },
      "execution_count": 20,
      "outputs": []
    },
    {
      "cell_type": "code",
      "source": [
        "type(z)"
      ],
      "metadata": {
        "colab": {
          "base_uri": "https://localhost:8080/"
        },
        "id": "M0eSb0dgWeoA",
        "outputId": "1db48e50-ffc2-45f7-deb9-c9ed66bd17b8"
      },
      "execution_count": 21,
      "outputs": [
        {
          "output_type": "execute_result",
          "data": {
            "text/plain": [
              "int"
            ]
          },
          "metadata": {},
          "execution_count": 21
        }
      ]
    },
    {
      "cell_type": "code",
      "source": [],
      "metadata": {
        "id": "k5vVxCDgWgEY"
      },
      "execution_count": null,
      "outputs": []
    },
    {
      "cell_type": "markdown",
      "source": [
        "## 次方(**)"
      ],
      "metadata": {
        "id": "oFza_FMtXKPr"
      }
    },
    {
      "cell_type": "code",
      "source": [
        "2**2"
      ],
      "metadata": {
        "colab": {
          "base_uri": "https://localhost:8080/"
        },
        "id": "GnG5MlgeXNqW",
        "outputId": "e7d09b97-4490-4fa3-d212-5d7e08f450fd"
      },
      "execution_count": 24,
      "outputs": [
        {
          "output_type": "execute_result",
          "data": {
            "text/plain": [
              "4"
            ]
          },
          "metadata": {},
          "execution_count": 24
        }
      ]
    },
    {
      "cell_type": "code",
      "source": [
        "2**4"
      ],
      "metadata": {
        "colab": {
          "base_uri": "https://localhost:8080/"
        },
        "id": "cMkunE9wXPS-",
        "outputId": "279e93cb-5a0b-4369-fd3f-653a1bb2930e"
      },
      "execution_count": 25,
      "outputs": [
        {
          "output_type": "execute_result",
          "data": {
            "text/plain": [
              "16"
            ]
          },
          "metadata": {},
          "execution_count": 25
        }
      ]
    },
    {
      "cell_type": "markdown",
      "source": [
        "## 什麼是bool?(布林變數)"
      ],
      "metadata": {
        "id": "W8e5c2pYXbkz"
      }
    },
    {
      "cell_type": "code",
      "source": [
        "#布林變數就是只有true和false兩種，這個結果可以存到變數裡面去\n",
        "3 > 2"
      ],
      "metadata": {
        "colab": {
          "base_uri": "https://localhost:8080/"
        },
        "id": "rp-qrAi2XQ2t",
        "outputId": "a9a8f6d8-7e84-400d-e007-9748c7c1cbed"
      },
      "execution_count": 26,
      "outputs": [
        {
          "output_type": "execute_result",
          "data": {
            "text/plain": [
              "True"
            ]
          },
          "metadata": {},
          "execution_count": 26
        }
      ]
    },
    {
      "cell_type": "code",
      "source": [
        "#True很容易被變成數字，只要有運算的時候就會自己去轉換資料型態，電腦會覺得true沒辦法加所以變成1，因為電腦中的運算只有0跟1\n",
        "True + True"
      ],
      "metadata": {
        "colab": {
          "base_uri": "https://localhost:8080/"
        },
        "id": "Bj_bEoXVXowc",
        "outputId": "091333b5-48a5-4b86-ac76-628c9ebdc7e4"
      },
      "execution_count": 27,
      "outputs": [
        {
          "output_type": "execute_result",
          "data": {
            "text/plain": [
              "2"
            ]
          },
          "metadata": {},
          "execution_count": 27
        }
      ]
    },
    {
      "cell_type": "code",
      "source": [
        "True + False"
      ],
      "metadata": {
        "colab": {
          "base_uri": "https://localhost:8080/"
        },
        "id": "nP8U4JlYX5ym",
        "outputId": "d4749a50-1e62-463b-eb2b-e8bdf771e2c5"
      },
      "execution_count": 28,
      "outputs": [
        {
          "output_type": "execute_result",
          "data": {
            "text/plain": [
              "1"
            ]
          },
          "metadata": {},
          "execution_count": 28
        }
      ]
    },
    {
      "cell_type": "code",
      "source": [
        "#比較兩個變數內的值有沒有相等\n",
        "x == z"
      ],
      "metadata": {
        "colab": {
          "base_uri": "https://localhost:8080/"
        },
        "id": "h0cLI2beYR1B",
        "outputId": "9c0afc5a-3ade-4ebd-ef2a-36457c9f1e4f"
      },
      "execution_count": 29,
      "outputs": [
        {
          "output_type": "execute_result",
          "data": {
            "text/plain": [
              "False"
            ]
          },
          "metadata": {},
          "execution_count": 29
        }
      ]
    },
    {
      "cell_type": "markdown",
      "source": [
        "## 關於字串"
      ],
      "metadata": {
        "id": "mVuFLlNNZBpj"
      }
    },
    {
      "cell_type": "code",
      "source": [
        "#字串是文字訊息,要記得是文字訊息一定要加上引號\n",
        "w = 'dog'"
      ],
      "metadata": {
        "id": "kMDZJ4yzYidz"
      },
      "execution_count": 32,
      "outputs": []
    },
    {
      "cell_type": "code",
      "source": [
        "u = \"It's my dog\""
      ],
      "metadata": {
        "id": "CqIfkI45ZkMc"
      },
      "execution_count": 31,
      "outputs": []
    },
    {
      "cell_type": "code",
      "source": [
        "#如果要用單引號寫變數，如下，要加入反斜線(\\)，這叫做跳脫字元(Escape Charactor)，意思就是說，要讓電腦知道在反斜線後面的是我的一個標點符號，不是變數啦\n",
        "v = 'It\\'s my dog'"
      ],
      "metadata": {
        "id": "ykC9bpFpZxiY"
      },
      "execution_count": 34,
      "outputs": []
    },
    {
      "cell_type": "code",
      "source": [],
      "metadata": {
        "id": "48ex4uJ5aYz_"
      },
      "execution_count": null,
      "outputs": []
    }
  ]
}
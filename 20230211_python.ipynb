{
  "nbformat": 4,
  "nbformat_minor": 0,
  "metadata": {
    "colab": {
      "provenance": [],
      "authorship_tag": "ABX9TyM1hBvTg3eBKF4rzyezUNoo",
      "include_colab_link": true
    },
    "kernelspec": {
      "name": "python3",
      "display_name": "Python 3"
    },
    "language_info": {
      "name": "python"
    }
  },
  "cells": [
    {
      "cell_type": "markdown",
      "metadata": {
        "id": "view-in-github",
        "colab_type": "text"
      },
      "source": [
        "<a href=\"https://colab.research.google.com/github/pooyalHsu/20230205python/blob/main/20230211_python.ipynb\" target=\"_parent\"><img src=\"https://colab.research.google.com/assets/colab-badge.svg\" alt=\"Open In Colab\"/></a>"
      ]
    },
    {
      "cell_type": "markdown",
      "source": [
        "# 20232011筆記\n",
        "\n",
        "## 今天學到的是從colab建立檔案後，用另存存到gifhub上建立副本\n",
        "## 唯客學院中的影片有些是比較舊的影片，但是理論上可以做參考，因為有可是介面上有改變\n",
        "\n"
      ],
      "metadata": {
        "id": "PUR2pd1JMZ3a"
      }
    },
    {
      "cell_type": "code",
      "execution_count": 2,
      "metadata": {
        "id": "w9ZdkV2lMQwx"
      },
      "outputs": [],
      "source": [
        "#把1放到記憶體中的一個位置\n",
        "x = 1"
      ]
    },
    {
      "cell_type": "code",
      "source": [
        "#定義輸入foo這個代碼的時候前面會加哈囉\n",
        "def foo(name):\n",
        " print(\"hello\", name)"
      ],
      "metadata": {
        "id": "KrDcztCDQ1wd"
      },
      "execution_count": 9,
      "outputs": []
    },
    {
      "cell_type": "code",
      "source": [
        "#讓y=代碼+名字就會出現定義的字\n",
        "y = foo(\"jay\")"
      ],
      "metadata": {
        "colab": {
          "base_uri": "https://localhost:8080/"
        },
        "id": "ey92VS0VRKBv",
        "outputId": "afe8ebb1-9138-48ea-a971-01d7d8034cac"
      },
      "execution_count": 11,
      "outputs": [
        {
          "output_type": "stream",
          "name": "stdout",
          "text": [
            "hello jay\n"
          ]
        }
      ]
    },
    {
      "cell_type": "code",
      "source": [],
      "metadata": {
        "id": "F92A3CIKRIKR"
      },
      "execution_count": null,
      "outputs": []
    }
  ]
}
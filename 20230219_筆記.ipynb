{
  "nbformat": 4,
  "nbformat_minor": 0,
  "metadata": {
    "colab": {
      "provenance": [],
      "toc_visible": true,
      "authorship_tag": "ABX9TyN1BLKyuJIdxm5TqiV9/Cyw",
      "include_colab_link": true
    },
    "kernelspec": {
      "name": "python3",
      "display_name": "Python 3"
    },
    "language_info": {
      "name": "python"
    }
  },
  "cells": [
    {
      "cell_type": "markdown",
      "metadata": {
        "id": "view-in-github",
        "colab_type": "text"
      },
      "source": [
        "<a href=\"https://colab.research.google.com/github/pooyalHsu/20230205python/blob/main/20230219_%E7%AD%86%E8%A8%98.ipynb\" target=\"_parent\"><img src=\"https://colab.research.google.com/assets/colab-badge.svg\" alt=\"Open In Colab\"/></a>"
      ]
    },
    {
      "cell_type": "markdown",
      "source": [
        "# 簡單程式碼測試\n",
        "* https://python.microbit.org/v/3\n",
        "* % 代表餘數，使用時，需要知道我的可循環的最大值，讓程式在跑的時候不會超過最大值，而是會在固定值中循環\n",
        "\n",
        "嘗試執行底下程式，按按鈕A乾ㄔ\n",
        "\n",
        "```python\n",
        "# Imports go at the top\n",
        "from microbit import *\n",
        "\n",
        "display.clear()\n",
        "\n",
        "x = 0\n",
        "y = 0\n",
        "display.set_pixel(x,y,9)\n",
        "\n",
        "while True:\n",
        "    if button_a.was_pressed():\n",
        "        x = x + 1\n",
        "        display.clear()\n",
        "        display.set_pixel(x%5,y,9)\n",
        "```"
      ],
      "metadata": {
        "id": "yWZFQfQjJRfD"
      }
    },
    {
      "cell_type": "markdown",
      "source": [
        "# 複習requests的使用\n",
        "\n",
        "從政府資料開放平台抓資料: https://data.gov.tw/"
      ],
      "metadata": {
        "id": "5AByRgI0VJHx"
      }
    },
    {
      "cell_type": "markdown",
      "source": [
        "## 練習"
      ],
      "metadata": {
        "id": "jD5F26_KW6gy"
      }
    },
    {
      "cell_type": "markdown",
      "source": [
        "### 抓取年度國內主要金融指標下來做分析\n",
        "\n",
        "https://apiservice.mol.gov.tw/OdService/download/A17000000J-030244-dpp"
      ],
      "metadata": {
        "id": "6TCCyHZHd8nM"
      }
    },
    {
      "cell_type": "code",
      "source": [
        "#載入我要用的模組\n",
        "import requests"
      ],
      "metadata": {
        "id": "nqTdXnbtPnxE"
      },
      "execution_count": 9,
      "outputs": []
    },
    {
      "cell_type": "code",
      "source": [
        "#輸入我要抓取的網址\n",
        "url = \"https://apiservice.mol.gov.tw/OdService/download/A17000000J-030244-dpp\""
      ],
      "metadata": {
        "id": "_RsIEX78XL0x"
      },
      "execution_count": 6,
      "outputs": []
    },
    {
      "cell_type": "code",
      "source": [
        "#讓資料轉換成json\n",
        "data = requests.get(url).json()"
      ],
      "metadata": {
        "id": "WYLQ_j-VXNRd"
      },
      "execution_count": 21,
      "outputs": []
    },
    {
      "cell_type": "code",
      "source": [
        "#檢視data裡面有幾筆資料\n",
        "type(data)"
      ],
      "metadata": {
        "colab": {
          "base_uri": "https://localhost:8080/"
        },
        "id": "0gVxxOkuXi_z",
        "outputId": "1c3485aa-7179-471f-d351-92c32bfb73d9"
      },
      "execution_count": 23,
      "outputs": [
        {
          "output_type": "execute_result",
          "data": {
            "text/plain": [
              "list"
            ]
          },
          "metadata": {},
          "execution_count": 23
        }
      ]
    },
    {
      "cell_type": "code",
      "source": [
        "#此清單中有幾筆資料\n",
        "len(data)"
      ],
      "metadata": {
        "colab": {
          "base_uri": "https://localhost:8080/"
        },
        "id": "s9iDZreXYQbx",
        "outputId": "49af6353-219f-413a-e90c-d81f197475f8"
      },
      "execution_count": 24,
      "outputs": [
        {
          "output_type": "execute_result",
          "data": {
            "text/plain": [
              "29"
            ]
          },
          "metadata": {},
          "execution_count": 24
        }
      ]
    },
    {
      "cell_type": "markdown",
      "source": [
        "#### 方法一，列出每年度貨幣供給額其底年增率"
      ],
      "metadata": {
        "id": "gfmHV95pd3eN"
      }
    },
    {
      "cell_type": "code",
      "source": [
        "for i in data:\n",
        "  print(i['年度'], \"==>\", i['貨幣供給額期底年增率-M2'])"
      ],
      "metadata": {
        "id": "-_6neo9MY53M"
      },
      "execution_count": null,
      "outputs": []
    },
    {
      "cell_type": "markdown",
      "source": [
        "#### 方法二"
      ],
      "metadata": {
        "id": "a2TjvRUHeEHl"
      }
    },
    {
      "cell_type": "code",
      "source": [
        "for i in range(len(data)):\n",
        "  print(i)\n"
      ],
      "metadata": {
        "id": "OXiue4BrajdQ"
      },
      "execution_count": null,
      "outputs": []
    },
    {
      "cell_type": "code",
      "source": [
        "for i in range(len(data)):\n",
        "  print(data[i]['年度'], \"==>\", data[i]['貨幣供給額期底年增率-M2'])"
      ],
      "metadata": {
        "colab": {
          "base_uri": "https://localhost:8080/"
        },
        "id": "SLFNFiy-eMVj",
        "outputId": "07e376a6-c93e-4cf6-f01f-3e7ba07fa377"
      },
      "execution_count": 32,
      "outputs": [
        {
          "output_type": "stream",
          "name": "stdout",
          "text": [
            "1994 ==> 15.07\n",
            "1995 ==> 9.42\n",
            "1996 ==> 9.13\n",
            "1997 ==> 8.02\n",
            "1998 ==> 8.56\n",
            "1999 ==> 8.29\n",
            "2000 ==> 6.50\n",
            "2001 ==> 4.31\n",
            "2002 ==> 2.53\n",
            "2003 ==> 5.68\n",
            "2004 ==> 7.19\n",
            "2005 ==> 6.63\n",
            "2006 ==> 5.15\n",
            "2007 ==> 0.84\n",
            "2008 ==> 7.21\n",
            "2009 ==> 5.78\n",
            "2010 ==> 5.44\n",
            "2011 ==> 4.84\n",
            "2012 ==> 3.46\n",
            "2013 ==> 5.79\n",
            "2014 ==> 6.13\n",
            "2015 ==> 5.80\n",
            "2016 ==> 3.55\n",
            "2017 ==> 3.56\n",
            "2018 ==> 2.65\n",
            "2019 ==> 4.52\n",
            "2020 ==> 9.36\n",
            "2021 ==> 7.35\n",
            "2022 ==> 6.74\n"
          ]
        }
      ]
    },
    {
      "cell_type": "markdown",
      "source": [
        "## 資料分資料分析基礎\n",
        "* numpy ==> 科學運算基礎套件\n",
        "* matplotlib ==> 繪圖機處套件\n",
        "* pandas ==> 資料分析基礎套件"
      ],
      "metadata": {
        "id": "ait9kpHYhYA1"
      }
    },
    {
      "cell_type": "markdown",
      "source": [
        "### 套件載入的慣用法\n",
        "```python\n",
        "import numpy as np\n",
        "import matplotlib.pyplot as plt\n",
        "import pandas as pd\n",
        "````"
      ],
      "metadata": {
        "id": "Zvgaln6Jh6PE"
      }
    },
    {
      "cell_type": "markdown",
      "source": [
        "### NumPy\n",
        "* NumPy ==> **Num**merical **Py**thon\n",
        "* ndarray ==> N-Dimensional Arrays\n",
        "* ufunc (通用函式) ==> Universal Functions"
      ],
      "metadata": {
        "id": "eYbNoJUUihts"
      }
    },
    {
      "cell_type": "code",
      "source": [
        "import numpy as np"
      ],
      "metadata": {
        "id": "zYK4eEBhfJGj"
      },
      "execution_count": 33,
      "outputs": []
    },
    {
      "cell_type": "markdown",
      "source": [
        "#### 原生的python的容器型別的限制\n",
        "\n",
        "無法簡單的做到科學(向量)運算!"
      ],
      "metadata": {
        "id": "evPeOU-wlhvo"
      }
    },
    {
      "cell_type": "code",
      "source": [
        "x = [1,2,3]\n",
        "y = [4,5,6]"
      ],
      "metadata": {
        "id": "FZQB__DfjBNY"
      },
      "execution_count": 34,
      "outputs": []
    },
    {
      "cell_type": "code",
      "source": [
        "x + y"
      ],
      "metadata": {
        "colab": {
          "base_uri": "https://localhost:8080/"
        },
        "id": "5zLyotnIkdVM",
        "outputId": "4a032897-d60b-409e-d5f9-77115c5b0322"
      },
      "execution_count": 36,
      "outputs": [
        {
          "output_type": "execute_result",
          "data": {
            "text/plain": [
              "[1, 2, 3, 4, 5, 6]"
            ]
          },
          "metadata": {},
          "execution_count": 36
        }
      ]
    },
    {
      "cell_type": "markdown",
      "source": [
        "#### 使用numpy的ndarray來解決科學運算的問題"
      ],
      "metadata": {
        "id": "CuAlzmIKlvpE"
      }
    },
    {
      "cell_type": "code",
      "source": [
        "#讓x1成為x的陣列\n",
        "x1 = np.array(x)\n",
        "y1 = np.array(y)"
      ],
      "metadata": {
        "id": "Ibz9za8GkeZC"
      },
      "execution_count": 37,
      "outputs": []
    },
    {
      "cell_type": "code",
      "source": [
        "type(x1)"
      ],
      "metadata": {
        "colab": {
          "base_uri": "https://localhost:8080/"
        },
        "id": "44levnzSlLzF",
        "outputId": "79233381-3256-43a4-81aa-f2927044481a"
      },
      "execution_count": 38,
      "outputs": [
        {
          "output_type": "execute_result",
          "data": {
            "text/plain": [
              "numpy.ndarray"
            ]
          },
          "metadata": {},
          "execution_count": 38
        }
      ]
    },
    {
      "cell_type": "code",
      "source": [
        "x1"
      ],
      "metadata": {
        "colab": {
          "base_uri": "https://localhost:8080/"
        },
        "id": "nezCMo9zlbcM",
        "outputId": "d4584826-d8d8-4466-d604-0b6d72e7c62e"
      },
      "execution_count": 41,
      "outputs": [
        {
          "output_type": "execute_result",
          "data": {
            "text/plain": [
              "array([1, 2, 3])"
            ]
          },
          "metadata": {},
          "execution_count": 41
        }
      ]
    },
    {
      "cell_type": "code",
      "source": [
        "x1 + y1"
      ],
      "metadata": {
        "colab": {
          "base_uri": "https://localhost:8080/"
        },
        "id": "xzemHdVflNwB",
        "outputId": "4be545b5-bc93-46a8-fd31-feb75fe75852"
      },
      "execution_count": 39,
      "outputs": [
        {
          "output_type": "execute_result",
          "data": {
            "text/plain": [
              "array([5, 7, 9])"
            ]
          },
          "metadata": {},
          "execution_count": 39
        }
      ]
    },
    {
      "cell_type": "markdown",
      "source": [
        "### ufunk"
      ],
      "metadata": {
        "id": "NKv29zv6mpYj"
      }
    },
    {
      "cell_type": "markdown",
      "source": [
        "#### 原生的pthon的數學運算"
      ],
      "metadata": {
        "id": "5JFwjziyoFHM"
      }
    },
    {
      "cell_type": "code",
      "source": [
        "import math"
      ],
      "metadata": {
        "id": "7lCqfuqGmkk5"
      },
      "execution_count": 46,
      "outputs": []
    },
    {
      "cell_type": "code",
      "source": [
        "math.pi"
      ],
      "metadata": {
        "colab": {
          "base_uri": "https://localhost:8080/"
        },
        "id": "HrUCk3dpm6t3",
        "outputId": "cd60cc81-81d5-4021-aa34-0ede997a7da4"
      },
      "execution_count": 47,
      "outputs": [
        {
          "output_type": "execute_result",
          "data": {
            "text/plain": [
              "3.141592653589793"
            ]
          },
          "metadata": {},
          "execution_count": 47
        }
      ]
    },
    {
      "cell_type": "code",
      "source": [
        "math.sin(math.pi/2)"
      ],
      "metadata": {
        "colab": {
          "base_uri": "https://localhost:8080/"
        },
        "id": "fQMwmMYMm8cA",
        "outputId": "a0e588ba-95ef-48c1-fb0a-f27f6e21ffdd"
      },
      "execution_count": 48,
      "outputs": [
        {
          "output_type": "execute_result",
          "data": {
            "text/plain": [
              "1.0"
            ]
          },
          "metadata": {},
          "execution_count": 48
        }
      ]
    },
    {
      "cell_type": "markdown",
      "source": [
        "#### 比較一下numpy的使用"
      ],
      "metadata": {
        "id": "7GvPeP0FoBgF"
      }
    },
    {
      "cell_type": "code",
      "source": [
        "np.pi"
      ],
      "metadata": {
        "colab": {
          "base_uri": "https://localhost:8080/"
        },
        "id": "QaXTWjUMnBOw",
        "outputId": "90a8343d-e838-49c6-dc81-0a6d8723decd"
      },
      "execution_count": 50,
      "outputs": [
        {
          "output_type": "execute_result",
          "data": {
            "text/plain": [
              "3.141592653589793"
            ]
          },
          "metadata": {},
          "execution_count": 50
        }
      ]
    },
    {
      "cell_type": "code",
      "source": [
        "np.sin(np.pi/2)"
      ],
      "metadata": {
        "colab": {
          "base_uri": "https://localhost:8080/"
        },
        "id": "4HhDiDxGnaEi",
        "outputId": "d86647d8-7123-4311-94ef-41cfd2a7355a"
      },
      "execution_count": 51,
      "outputs": [
        {
          "output_type": "execute_result",
          "data": {
            "text/plain": [
              "1.0"
            ]
          },
          "metadata": {},
          "execution_count": 51
        }
      ]
    },
    {
      "cell_type": "code",
      "source": [
        "np.sin(x)"
      ],
      "metadata": {
        "colab": {
          "base_uri": "https://localhost:8080/"
        },
        "id": "mfSU149BnpK7",
        "outputId": "606bf1c8-5196-4b73-9e87-865d4b07ccc5"
      },
      "execution_count": 52,
      "outputs": [
        {
          "output_type": "execute_result",
          "data": {
            "text/plain": [
              "array([0.84147098, 0.90929743, 0.14112001])"
            ]
          },
          "metadata": {},
          "execution_count": 52
        }
      ]
    },
    {
      "cell_type": "code",
      "source": [],
      "metadata": {
        "id": "3L3ptgXMnsLv"
      },
      "execution_count": null,
      "outputs": []
    }
  ]
}
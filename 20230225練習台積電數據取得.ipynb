{
  "nbformat": 4,
  "nbformat_minor": 0,
  "metadata": {
    "colab": {
      "provenance": [],
      "authorship_tag": "ABX9TyNFRhOBZGlee9sZwwWBTB+K",
      "include_colab_link": true
    },
    "kernelspec": {
      "name": "python3",
      "display_name": "Python 3"
    },
    "language_info": {
      "name": "python"
    }
  },
  "cells": [
    {
      "cell_type": "markdown",
      "metadata": {
        "id": "view-in-github",
        "colab_type": "text"
      },
      "source": [
        "<a href=\"https://colab.research.google.com/github/pooyalHsu/20230205python/blob/main/20230225%E7%B7%B4%E7%BF%92%E5%8F%B0%E7%A9%8D%E9%9B%BB%E6%95%B8%E6%93%9A%E5%8F%96%E5%BE%97.ipynb\" target=\"_parent\"><img src=\"https://colab.research.google.com/assets/colab-badge.svg\" alt=\"Open In Colab\"/></a>"
      ]
    },
    {
      "cell_type": "markdown",
      "source": [
        "## 分析台積電的股價 (2330.tw)\n",
        "\n",
        "* 下載歷史股價\n",
        "* 分析歷史股價第一筆到最近一筆資料的資產變化情形\n",
        "* 分析2022年至2023年間,從何時切入投資報酬率最大\n",
        "* 繪製台積電收盤價曲線\n"
      ],
      "metadata": {
        "id": "0WUvHS0Qx9FM"
      }
    },
    {
      "cell_type": "code",
      "source": [
        "import yfinance as yf\n",
        "import pandas as pd\n",
        "\n",
        "# 下載 TSMC 股票數據\n",
        "tsmc = yf.download('TSM')\n",
        "\n",
        "\n",
        "# 打印前幾行數據\n",
        "print(tsmc.head())\n"
      ],
      "metadata": {
        "colab": {
          "base_uri": "https://localhost:8080/"
        },
        "id": "rORDyvc9-34c",
        "outputId": "3053c142-2143-496b-99a1-fe05afe15ceb"
      },
      "execution_count": 58,
      "outputs": [
        {
          "output_type": "stream",
          "name": "stdout",
          "text": [
            "\r[*********************100%***********************]  1 of 1 completed\n",
            "                Open      High       Low     Close  Adj Close    Volume\n",
            "Date                                                                   \n",
            "1997-10-09  5.646040  6.562691  5.646040  6.323565   3.289080  10201979\n",
            "1997-10-10  7.014374  7.040944  6.363419  6.615830   3.441097  10669148\n",
            "1997-10-13  6.629115  6.629115  6.443128  6.469698   3.365088   3044363\n",
            "1997-10-14  6.416558  6.429843  6.031299  6.204002   3.226891   2549907\n",
            "1997-10-15  5.818742  6.044584  5.805458  6.031299   3.137064   3167153\n"
          ]
        }
      ]
    },
    {
      "cell_type": "code",
      "source": [
        "import matplotlib.pyplot as plt"
      ],
      "metadata": {
        "id": "nNIxoWdF_Imd"
      },
      "execution_count": 60,
      "outputs": []
    },
    {
      "cell_type": "code",
      "source": [
        "# 計算每天的報酬率\n",
        "daily_returns = tsmc['Adj Close'].pct_change()\n",
        "\n",
        "# 設置不同的持有期\n",
        "holding_periods = [30, 60]\n",
        "\n",
        "# 記錄每個持有期的起始和結束日期，以及對應的總報酬率\n",
        "results = []\n",
        "for holding_period in holding_periods:\n",
        "    total_returns = daily_returns.rolling(holding_period).apply(lambda x: (x+1).prod() - 1)\n",
        "    max_return = total_returns.max()\n",
        "    start_date = total_returns.idxmax()\n",
        "    end_date = start_date + pd.DateOffset(days=holding_period-1)\n",
        "    results.append({'holding_period': holding_period,\n",
        "                    'start_date': start_date,\n",
        "                    'end_date': end_date,\n",
        "                    'total_return': max_return})\n",
        "\n",
        "# 打印結果\n",
        "for result in results:\n",
        "    print('持有期：{} 天，最高報酬率：{:.2f}%，投資期間：{} - {}'.format(result['holding_period'],\n",
        "                                                           result['total_return']*100,\n",
        "                                                           result['start_date'].strftime('%Y-%m-%d'),\n",
        "                                                           result['end_date'].strftime('%Y-%m-%d')))\n"
      ],
      "metadata": {
        "colab": {
          "base_uri": "https://localhost:8080/"
        },
        "id": "QGeSLyXf_pSB",
        "outputId": "19bf598b-05d8-4b3d-8afa-80b78287bea9"
      },
      "execution_count": 66,
      "outputs": [
        {
          "output_type": "stream",
          "name": "stdout",
          "text": [
            "持有期：30 天，最高報酬率：92.95%，投資期間：1998-02-25 - 1998-03-26\n",
            "持有期：60 天，最高報酬率：103.99%，投資期間：2001-12-14 - 2002-02-11\n"
          ]
        }
      ]
    },
    {
      "cell_type": "code",
      "source": [
        "# 繪製收盤價曲線\n",
        "plt.plot(tsmc['Close'])\n",
        "\n",
        "# 設置圖表標題和軸標籤\n",
        "plt.title('TSMC Closing Prices')\n",
        "plt.xlabel('Date')\n",
        "plt.ylabel('Closing Price (NTD)')\n",
        "\n",
        "# 顯示圖表\n",
        "plt.show()"
      ],
      "metadata": {
        "colab": {
          "base_uri": "https://localhost:8080/",
          "height": 295
        },
        "id": "S3Ktw4MPAkfl",
        "outputId": "c174b71f-8ac8-4e30-c9bd-9470e7e7c815"
      },
      "execution_count": 67,
      "outputs": [
        {
          "output_type": "display_data",
          "data": {
            "text/plain": [
              "<Figure size 432x288 with 1 Axes>"
            ],
            "image/png": "[encoded data removed]"
          },
          "metadata": {
            "needs_background": "light"
          }
        }
      ]
    },
    {
      "cell_type": "code",
      "source": [],
      "metadata": {
        "id": "LbAH8M35AqRj"
      },
      "execution_count": null,
      "outputs": []
    }
  ]
}
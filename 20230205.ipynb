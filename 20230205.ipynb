{
  "nbformat": 4,
  "nbformat_minor": 0,
  "metadata": {
    "colab": {
      "provenance": [],
      "authorship_tag": "ABX9TyOhlzeuIJVXwtkE5J3j+I7V",
      "include_colab_link": true
    },
    "kernelspec": {
      "name": "python3",
      "display_name": "Python 3"
    },
    "language_info": {
      "name": "python"
    }
  },
  "cells": [
    {
      "cell_type": "markdown",
      "metadata": {
        "id": "view-in-github",
        "colab_type": "text"
      },
      "source": [
        "<a href=\"https://colab.research.google.com/github/pooyalHsu/20230205python/blob/main/20230205.ipynb\" target=\"_parent\"><img src=\"https://colab.research.google.com/assets/colab-badge.svg\" alt=\"Open In Colab\"/></a>"
      ]
    },
    {
      "cell_type": "markdown",
      "source": [
        "# 20230205"
      ],
      "metadata": {
        "id": "2BpxF0NCt993"
      }
    },
    {
      "cell_type": "markdown",
      "source": [
        "## 變數\n",
        "\n",
        "* x=1,代表把1放到X這個電腦位置,等於x就是電腦位置的別名\n",
        "* 在找x的時候,要符合大小寫,因為python會判別大小寫\n",
        "* 大小寫英文字母、前面有底線都可以當變數名稱,其他都不行\n",
        "* !wget代表我要從別的網站的東西拉過來用,會直接拉到檔案中去"
      ],
      "metadata": {
        "id": "uI1eqT3K-xR7"
      }
    },
    {
      "cell_type": "code",
      "source": [
        "# 設定x這個變數=1\n",
        "x = 1"
      ],
      "metadata": {
        "id": "B2EP8WBv-9Hi"
      },
      "execution_count": null,
      "outputs": []
    },
    {
      "cell_type": "code",
      "source": [
        "# 查詢x這個變數在電腦的哪一個位置\n",
        "id(x)"
      ],
      "metadata": {
        "colab": {
          "base_uri": "https://localhost:8080/"
        },
        "id": "YP3HrkbS_E4p",
        "outputId": "c7a3dac1-c5e3-4978-f183-361ce3795cea"
      },
      "execution_count": null,
      "outputs": [
        {
          "output_type": "execute_result",
          "data": {
            "text/plain": [
              "9793088"
            ]
          },
          "metadata": {},
          "execution_count": 4
        }
      ]
    },
    {
      "cell_type": "code",
      "source": [
        "# 查詢變數的型態,int表示整數\n",
        "type(x)"
      ],
      "metadata": {
        "colab": {
          "base_uri": "https://localhost:8080/"
        },
        "id": "DouId_L4_XBy",
        "outputId": "0d7ecba8-4a40-4c78-8133-e0710c430f1d"
      },
      "execution_count": null,
      "outputs": [
        {
          "output_type": "execute_result",
          "data": {
            "text/plain": [
              "int"
            ]
          },
          "metadata": {},
          "execution_count": 6
        }
      ]
    },
    {
      "cell_type": "code",
      "source": [
        "# 直接打出變數時,可以看到這個變數是設定什麼\n",
        "x"
      ],
      "metadata": {
        "colab": {
          "base_uri": "https://localhost:8080/"
        },
        "id": "nkZ2MSyYAPjn",
        "outputId": "8481e598-f09b-4be2-b225-7b1bcca2f67f"
      },
      "execution_count": null,
      "outputs": [
        {
          "output_type": "execute_result",
          "data": {
            "text/plain": [
              "1"
            ]
          },
          "metadata": {},
          "execution_count": 11
        }
      ]
    },
    {
      "cell_type": "code",
      "source": [
        "\n",
        "# 設定了一個z為另一個變數\n",
        "z=3>2"
      ],
      "metadata": {
        "id": "O7a2oJT5ATKy"
      },
      "execution_count": null,
      "outputs": []
    },
    {
      "cell_type": "code",
      "source": [
        "# 直接打出變數時,可以看到這個變數是設定什麼\n",
        "z"
      ],
      "metadata": {
        "colab": {
          "base_uri": "https://localhost:8080/"
        },
        "id": "bo4r82hIC0zD",
        "outputId": "de6f140a-b0c4-420c-e40b-3a2523d93d94"
      },
      "execution_count": null,
      "outputs": [
        {
          "output_type": "execute_result",
          "data": {
            "text/plain": [
              "True"
            ]
          },
          "metadata": {},
          "execution_count": 18
        }
      ]
    },
    {
      "cell_type": "code",
      "source": [
        "#想要看變數的型態前面使用type\n",
        "type(z)"
      ],
      "metadata": {
        "colab": {
          "base_uri": "https://localhost:8080/"
        },
        "id": "23V_Ui90C3Co",
        "outputId": "90bf27a9-b690-43ea-cec1-2848e5cb2306"
      },
      "execution_count": null,
      "outputs": [
        {
          "output_type": "execute_result",
          "data": {
            "text/plain": [
              "bool"
            ]
          },
          "metadata": {},
          "execution_count": 19
        }
      ]
    },
    {
      "cell_type": "code",
      "source": [
        "y=3<2"
      ],
      "metadata": {
        "id": "Ru09AX_JC8kh"
      },
      "execution_count": null,
      "outputs": []
    },
    {
      "cell_type": "code",
      "source": [
        "type(y)"
      ],
      "metadata": {
        "colab": {
          "base_uri": "https://localhost:8080/"
        },
        "id": "gKvVHXPGC_DY",
        "outputId": "50482a69-22d5-4035-af37-3165e3f120e5"
      },
      "execution_count": null,
      "outputs": [
        {
          "output_type": "execute_result",
          "data": {
            "text/plain": [
              "bool"
            ]
          },
          "metadata": {},
          "execution_count": 21
        }
      ]
    },
    {
      "cell_type": "code",
      "source": [
        "# 變數設定的名稱\n",
        "abc=1"
      ],
      "metadata": {
        "id": "Y-CnetkiA6Da"
      },
      "execution_count": null,
      "outputs": []
    },
    {
      "cell_type": "code",
      "source": [
        "# 變數設定的名稱前面可以使用底線\n",
        "_abc=1"
      ],
      "metadata": {
        "id": "0uHRPTNgA_M4"
      },
      "execution_count": null,
      "outputs": []
    },
    {
      "cell_type": "code",
      "source": [
        "# 如果要看到文字訊息,要先設定變數,然後加上引號,讓python去辨別出他是文字訊息\n",
        "w=\"dog\""
      ],
      "metadata": {
        "id": "H7HvDN2lBAjx"
      },
      "execution_count": null,
      "outputs": []
    },
    {
      "cell_type": "code",
      "source": [
        "w"
      ],
      "metadata": {
        "colab": {
          "base_uri": "https://localhost:8080/",
          "height": 35
        },
        "id": "lLZyJ_k7Df0Z",
        "outputId": "79d8c536-9d60-4275-baef-2bf71627f9a2"
      },
      "execution_count": null,
      "outputs": [
        {
          "output_type": "execute_result",
          "data": {
            "text/plain": [
              "'dog'"
            ],
            "application/vnd.google.colaboratory.intrinsic+json": {
              "type": "string"
            }
          },
          "metadata": {},
          "execution_count": 23
        }
      ]
    },
    {
      "cell_type": "code",
      "source": [
        "type(w)"
      ],
      "metadata": {
        "colab": {
          "base_uri": "https://localhost:8080/"
        },
        "id": "hWvD7hHTDhDO",
        "outputId": "aa05889e-586a-45bb-a802-8a4fc41bcee4"
      },
      "execution_count": null,
      "outputs": [
        {
          "output_type": "execute_result",
          "data": {
            "text/plain": [
              "str"
            ]
          },
          "metadata": {},
          "execution_count": 24
        }
      ]
    },
    {
      "cell_type": "code",
      "source": [
        "id(w)"
      ],
      "metadata": {
        "colab": {
          "base_uri": "https://localhost:8080/"
        },
        "id": "vfYFuqM4D0Rx",
        "outputId": "27930b92-0d87-4166-e38e-0d73eaff2aeb"
      },
      "execution_count": null,
      "outputs": [
        {
          "output_type": "execute_result",
          "data": {
            "text/plain": [
              "139948874666160"
            ]
          },
          "metadata": {},
          "execution_count": 25
        }
      ]
    },
    {
      "cell_type": "markdown",
      "source": [
        "# markdown的語法\n",
        "## 次大標題\n",
        "### 次次大標題\n",
        "* 細項1\n",
        "* 細項2\n",
        "* [連結](後面加入網址)"
      ],
      "metadata": {
        "id": "Y2-vo8iXhRYg"
      }
    },
    {
      "cell_type": "markdown",
      "source": [
        "## 使用line notify 傳送訊息給自己\n",
        "* [申請token](https://notify-bot.line.me/zh_TW/)\n",
        "* [取得貼圖](https://github.com/victorgau/khpy_linenotify_intro/raw/main/misc/sticker_list.pdf)\n",
        "取得圖片,找到要傳送的圖片,上傳到程式碼的檔案夾中,然後輸入相同檔名\n",
        "* [line help](https://help2.line.me/line_notify/web/pc?lang=zh-Hant)\n",
        "* [Line Notify API Documentation](https://notify-bot.line.me/doc/en/)"
      ],
      "metadata": {
        "id": "yM_FWASED9_v"
      }
    },
    {
      "cell_type": "code",
      "source": [
        "# 從gifthub 將 linenotify.py下載到colab裡面來\n",
        "!wget https://raw.githubusercontent.com/victorgau/khpy_linenotify_intro/main/py/linenotify.py"
      ],
      "metadata": {
        "colab": {
          "base_uri": "https://localhost:8080/"
        },
        "id": "SBFSKcpPE5Cg",
        "outputId": "4abe6cda-ca4a-4c3d-f642-7c9e41298215"
      },
      "execution_count": null,
      "outputs": [
        {
          "output_type": "stream",
          "name": "stdout",
          "text": [
            "--2023-02-07 15:42:43--  https://raw.githubusercontent.com/victorgau/khpy_linenotify_intro/main/py/linenotify.py\n",
            "Resolving raw.githubusercontent.com (raw.githubusercontent.com)... 185.199.108.133, 185.199.110.133, 185.199.111.133, ...\n",
            "Connecting to raw.githubusercontent.com (raw.githubusercontent.com)|185.199.108.133|:443... connected.\n",
            "HTTP request sent, awaiting response... 200 OK\n",
            "Length: 818 [text/plain]\n",
            "Saving to: ‘linenotify.py’\n",
            "\n",
            "linenotify.py       100%[===================>]     818  --.-KB/s    in 0s      \n",
            "\n",
            "2023-02-07 15:42:43 (51.9 MB/s) - ‘linenotify.py’ saved [818/818]\n",
            "\n"
          ]
        }
      ]
    },
    {
      "cell_type": "code",
      "source": [
        "#從 linenotify 載入 notify這個函數來使用\n",
        "from linenotify import Notify"
      ],
      "metadata": {
        "id": "ymkSaQocFz3y"
      },
      "execution_count": null,
      "outputs": []
    },
    {
      "cell_type": "code",
      "source": [
        "# token 是一個權杖(連結到特定某一個人的id)\n",
        "token = \"4hTAm3IeFefpkLkKCJFKDTjsaVSL8JMD0cFZvri01Io\"\n",
        "Notify(token,\"元宵節快樂\")"
      ],
      "metadata": {
        "colab": {
          "base_uri": "https://localhost:8080/"
        },
        "id": "mAAMD2j5F53v",
        "outputId": "19e0b60d-9272-4ea9-cdfb-c208f2a6d8bb"
      },
      "execution_count": null,
      "outputs": [
        {
          "output_type": "execute_result",
          "data": {
            "text/plain": [
              "<Response [200]>"
            ]
          },
          "metadata": {},
          "execution_count": 34
        }
      ]
    },
    {
      "cell_type": "code",
      "source": [
        "# 傳送貼圖\n",
        "token = \"4hTAm3IeFefpkLkKCJFKDTjsaVSL8JMD0cFZvri01Io\"\n",
        "Notify(token,\"你超酷的\",1,4)"
      ],
      "metadata": {
        "colab": {
          "base_uri": "https://localhost:8080/"
        },
        "id": "B-6pT5FcIAgn",
        "outputId": "05e0075b-3177-4750-c097-4417dffd437c"
      },
      "execution_count": null,
      "outputs": [
        {
          "output_type": "execute_result",
          "data": {
            "text/plain": [
              "<Response [200]>"
            ]
          },
          "metadata": {},
          "execution_count": 38
        }
      ]
    },
    {
      "cell_type": "code",
      "source": [
        "token = \"4hTAm3IeFefpkLkKCJFKDTjsaVSL8JMD0cFZvri01Io\"\n",
        "Notify(token,\"測試一下\",2,30)"
      ],
      "metadata": {
        "colab": {
          "base_uri": "https://localhost:8080/"
        },
        "id": "qQtWI2fXNEjH",
        "outputId": "bcf77b1b-be04-4423-f32e-b724a90adf3d"
      },
      "execution_count": null,
      "outputs": [
        {
          "output_type": "execute_result",
          "data": {
            "text/plain": [
              "<Response [200]>"
            ]
          },
          "metadata": {},
          "execution_count": 39
        }
      ]
    },
    {
      "cell_type": "code",
      "source": [
        "# 傳送圖片\n",
        "token = \"4hTAm3IeFefpkLkKCJFKDTjsaVSL8JMD0cFZvri01Io\"\n",
        "Notify(token,\"可以喔\",1,5,\"000.jpg\")"
      ],
      "metadata": {
        "colab": {
          "base_uri": "https://localhost:8080/"
        },
        "id": "TqMSd7JeICT2",
        "outputId": "49622259-70b4-4577-915e-725f458e19ee"
      },
      "execution_count": null,
      "outputs": [
        {
          "output_type": "execute_result",
          "data": {
            "text/plain": [
              "<Response [200]>"
            ]
          },
          "metadata": {},
          "execution_count": 42
        }
      ]
    },
    {
      "cell_type": "code",
      "source": [
        "# 所以不傳貼圖時,中間的變數就設定0\n",
        "token = \"4hTAm3IeFefpkLkKCJFKDTj1saVSL8JMD0cFZvri01Io\"\n",
        "Notify(token,\"可以喔\",0,0,\"000.jpg\")"
      ],
      "metadata": {
        "colab": {
          "base_uri": "https://localhost:8080/"
        },
        "id": "nYNuL1NeQs-1",
        "outputId": "95d0a037-a590-451d-ddd3-354aba2b300c"
      },
      "execution_count": null,
      "outputs": [
        {
          "output_type": "execute_result",
          "data": {
            "text/plain": [
              "<Response [200]>"
            ]
          },
          "metadata": {},
          "execution_count": 44
        }
      ]
    },
    {
      "cell_type": "code",
      "source": [
        "# 先找一組群組token\n",
        "# 這個是上課群組的\n",
        "# s722OvjXsPxTRrSafjWMhZQOOw5pIX4W39aQ9aiTipg\n",
        "token = \"s722OvjXsPxTRrSafjWMhZQOOw5pIX4W39aQ9aiTipg\"\n",
        "Notify(group_token, \"祝您元宵節快樂！\", 1, 5, \"lin01.jpg\")"
      ],
      "metadata": {
        "id": "SIgr39LdRvrU"
      },
      "execution_count": null,
      "outputs": []
    },
    {
      "cell_type": "code",
      "source": [
        "# 把r設定成一個變數,後面是機器人傳訊息的函數\n",
        "r = Notify(token, \"好愛你喔！\", 1, 5, \"000.jpg\")"
      ],
      "metadata": {
        "id": "UVvw29stUISL"
      },
      "execution_count": null,
      "outputs": []
    },
    {
      "cell_type": "code",
      "source": [
        "# 可以看到還有多少存取數量的限制\n",
        "r.headers"
      ],
      "metadata": {
        "colab": {
          "base_uri": "https://localhost:8080/"
        },
        "id": "dDeBgaNfVMaM",
        "outputId": "f2cd1208-2fdf-4a9e-d8b4-f34f394c98ba"
      },
      "execution_count": null,
      "outputs": [
        {
          "output_type": "execute_result",
          "data": {
            "text/plain": [
              "{'Server': 'nginx', 'Date': 'Sun, 05 Feb 2023 06:46:50 GMT', 'Content-Type': 'application/json', 'Transfer-Encoding': 'chunked', 'Keep-Alive': 'timeout=9', 'Vary': 'Accept-Encoding', 'X-RateLimit-Limit': '1000', 'X-RateLimit-ImageLimit': '50', 'X-RateLimit-Remaining': '993', 'X-RateLimit-ImageRemaining': '47', 'X-RateLimit-Reset': '1675579800', 'X-Robots-Tag': 'noindex, nofollow, nosnippet, noarchive', 'Content-Encoding': 'gzip'}"
            ]
          },
          "metadata": {},
          "execution_count": 49
        }
      ]
    },
    {
      "cell_type": "markdown",
      "source": [
        "基本資料型態\n",
        "\n",
        "* int\n",
        "* float\n",
        "* bool\n",
        "* str\n"
      ],
      "metadata": {
        "id": "4IOzUdEUuEH_"
      }
    },
    {
      "cell_type": "markdown",
      "source": [
        "# 基本容器型別\n",
        "* list\n",
        "* tuple\n",
        "* dict\n",
        "* set\n"
      ],
      "metadata": {
        "id": "aXwrUg8Pgwyh"
      }
    },
    {
      "cell_type": "code",
      "source": [
        "# json格式 就是一個字串\n",
        "s = \"\"\"{\n",
        "  \"firstName\": \"John\",\n",
        "  \"lastName\": \"Smith\",\n",
        "  \"isAlive\": true,\n",
        "  \"age\": 27,\n",
        "  \"address\": {\n",
        "    \"streetAddress\": \"21 2nd Street\",\n",
        "    \"city\": \"New York\",\n",
        "    \"state\": \"NY\",\n",
        "    \"postalCode\": \"10021-3100\"\n",
        "  },\n",
        "  \"phoneNumbers\": [\n",
        "    {\n",
        "      \"type\": \"home\",\n",
        "      \"number\": \"212 555-1234\"\n",
        "    },\n",
        "    {\n",
        "      \"type\": \"office\",\n",
        "      \"number\": \"646 555-4567\"\n",
        "    }\n",
        "  ],\n",
        "  \"children\": [\n",
        "      \"Catherine\",\n",
        "      \"Thomas\",\n",
        "      \"Trevor\"\n",
        "  ],\n",
        "  \"spouse\": null\n",
        "}\"\"\""
      ],
      "metadata": {
        "id": "2EeJ-2x6t-G3"
      },
      "execution_count": null,
      "outputs": []
    },
    {
      "cell_type": "code",
      "source": [
        "# 導入json字串\n",
        "import json"
      ],
      "metadata": {
        "id": "ff-cHcmLijfg"
      },
      "execution_count": null,
      "outputs": []
    },
    {
      "cell_type": "code",
      "source": [
        "# 讓json字串變成字典\n",
        "data = json.loads(s)"
      ],
      "metadata": {
        "id": "74PCLPhzinTa"
      },
      "execution_count": null,
      "outputs": []
    },
    {
      "cell_type": "code",
      "source": [
        "# 打了data就會看到字典中的資料\n",
        "data"
      ],
      "metadata": {
        "colab": {
          "base_uri": "https://localhost:8080/"
        },
        "id": "VBA1uPUcipVy",
        "outputId": "686fa152-1d50-4350-dcb1-c20475283e6d"
      },
      "execution_count": null,
      "outputs": [
        {
          "output_type": "execute_result",
          "data": {
            "text/plain": [
              "{'firstName': 'John',\n",
              " 'lastName': 'Smith',\n",
              " 'isAlive': True,\n",
              " 'age': 27,\n",
              " 'address': {'streetAddress': '21 2nd Street',\n",
              "  'city': 'New York',\n",
              "  'state': 'NY',\n",
              "  'postalCode': '10021-3100'},\n",
              " 'phoneNumbers': [{'type': 'home', 'number': '212 555-1234'},\n",
              "  {'type': 'office', 'number': '646 555-4567'}],\n",
              " 'children': ['Catherine', 'Thomas', 'Trevor'],\n",
              " 'spouse': None}"
            ]
          },
          "metadata": {},
          "execution_count": 54
        }
      ]
    },
    {
      "cell_type": "code",
      "source": [
        "# 發現了這個data的形式是字典\n",
        "type(data)"
      ],
      "metadata": {
        "colab": {
          "base_uri": "https://localhost:8080/"
        },
        "id": "u2sPWozIiv_N",
        "outputId": "72cebdb2-ae2c-40a2-9a23-48bf31cbd6c2"
      },
      "execution_count": null,
      "outputs": [
        {
          "output_type": "execute_result",
          "data": {
            "text/plain": [
              "dict"
            ]
          },
          "metadata": {},
          "execution_count": 57
        }
      ]
    },
    {
      "cell_type": "code",
      "source": [
        "# 我想取出data裡面的電話號碼,所以打了data['phoneNumbers']\n",
        "data['phoneNumbers']"
      ],
      "metadata": {
        "colab": {
          "base_uri": "https://localhost:8080/"
        },
        "id": "EYfxY42kjAoT",
        "outputId": "a087e554-cbfd-4914-ef9a-11b94c142e5f"
      },
      "execution_count": null,
      "outputs": [
        {
          "output_type": "execute_result",
          "data": {
            "text/plain": [
              "[{'type': 'home', 'number': '212 555-1234'},\n",
              " {'type': 'office', 'number': '646 555-4567'}]"
            ]
          },
          "metadata": {},
          "execution_count": 62
        }
      ]
    },
    {
      "cell_type": "code",
      "source": [
        "# 也可以再看一下data['phoneNumbers']的格式是什麼,我們發現是一個清單\n",
        "type(data['phoneNumbers'])"
      ],
      "metadata": {
        "colab": {
          "base_uri": "https://localhost:8080/"
        },
        "id": "x3umKvR1jjTY",
        "outputId": "f16f19ab-c2ac-4b73-be65-4295601efb75"
      },
      "execution_count": null,
      "outputs": [
        {
          "output_type": "execute_result",
          "data": {
            "text/plain": [
              "list"
            ]
          },
          "metadata": {},
          "execution_count": 63
        }
      ]
    },
    {
      "cell_type": "code",
      "source": [
        "# 那我就按照電腦的的排序方法算出我要第幾個\n",
        "data['phoneNumbers'][0]"
      ],
      "metadata": {
        "colab": {
          "base_uri": "https://localhost:8080/"
        },
        "id": "0OyzrE3_jtd3",
        "outputId": "1f13588b-6a30-4dba-eb41-aed4e1f500a7"
      },
      "execution_count": null,
      "outputs": [
        {
          "output_type": "execute_result",
          "data": {
            "text/plain": [
              "{'type': 'home', 'number': '212 555-1234'}"
            ]
          },
          "metadata": {},
          "execution_count": 64
        }
      ]
    },
    {
      "cell_type": "code",
      "source": [
        "# 所以我要單獨取出第一筆的電話號碼就去找第0筆的nimber\n",
        "data['phoneNumbers'][0]['number']"
      ],
      "metadata": {
        "colab": {
          "base_uri": "https://localhost:8080/",
          "height": 35
        },
        "id": "115kgxR0j31O",
        "outputId": "b22e78ec-d3b6-47a9-e3cd-c4198adb22ea"
      },
      "execution_count": null,
      "outputs": [
        {
          "output_type": "execute_result",
          "data": {
            "text/plain": [
              "'212 555-1234'"
            ],
            "application/vnd.google.colaboratory.intrinsic+json": {
              "type": "string"
            }
          },
          "metadata": {},
          "execution_count": 68
        }
      ]
    },
    {
      "cell_type": "code",
      "source": [
        "#這個是取出第一筆的電話做法\n",
        "data['phoneNumbers'][1]['number']"
      ],
      "metadata": {
        "colab": {
          "base_uri": "https://localhost:8080/",
          "height": 35
        },
        "id": "BYrmw93wleOe",
        "outputId": "15fa9438-2d7e-48af-cc4f-1b392b262d60"
      },
      "execution_count": null,
      "outputs": [
        {
          "output_type": "execute_result",
          "data": {
            "text/plain": [
              "'646 555-4567'"
            ],
            "application/vnd.google.colaboratory.intrinsic+json": {
              "type": "string"
            }
          },
          "metadata": {},
          "execution_count": 69
        }
      ]
    },
    {
      "cell_type": "code",
      "source": [
        "# 查看資料中address裡面有什麼\n",
        "data['address']"
      ],
      "metadata": {
        "colab": {
          "base_uri": "https://localhost:8080/"
        },
        "id": "OSqFxmHMlgB7",
        "outputId": "6a76345c-da6d-4f73-ebd8-5978cb68b373"
      },
      "execution_count": null,
      "outputs": [
        {
          "output_type": "execute_result",
          "data": {
            "text/plain": [
              "{'streetAddress': '21 2nd Street',\n",
              " 'city': 'New York',\n",
              " 'state': 'NY',\n",
              " 'postalCode': '10021-3100'}"
            ]
          },
          "metadata": {},
          "execution_count": 70
        }
      ]
    },
    {
      "cell_type": "code",
      "source": [
        "type(data['address'])"
      ],
      "metadata": {
        "colab": {
          "base_uri": "https://localhost:8080/"
        },
        "id": "FpgB6yJvluko",
        "outputId": "03d8f96e-78ec-43d5-a2ba-007d25499e9b"
      },
      "execution_count": null,
      "outputs": [
        {
          "output_type": "execute_result",
          "data": {
            "text/plain": [
              "dict"
            ]
          },
          "metadata": {},
          "execution_count": 72
        }
      ]
    },
    {
      "cell_type": "code",
      "source": [
        "data['address']['state']"
      ],
      "metadata": {
        "colab": {
          "base_uri": "https://localhost:8080/",
          "height": 35
        },
        "id": "58TyC0mQmAr-",
        "outputId": "ad74c4bb-658b-4460-bbc8-b8cae91d8939"
      },
      "execution_count": null,
      "outputs": [
        {
          "output_type": "execute_result",
          "data": {
            "text/plain": [
              "'NY'"
            ],
            "application/vnd.google.colaboratory.intrinsic+json": {
              "type": "string"
            }
          },
          "metadata": {},
          "execution_count": 75
        }
      ]
    },
    {
      "cell_type": "code",
      "source": [
        "data['firstName']"
      ],
      "metadata": {
        "colab": {
          "base_uri": "https://localhost:8080/",
          "height": 35
        },
        "id": "w5CKoxvbmnYv",
        "outputId": "2a1558da-e3fd-4a3b-e779-b41e40ffbd6e"
      },
      "execution_count": null,
      "outputs": [
        {
          "output_type": "execute_result",
          "data": {
            "text/plain": [
              "'John'"
            ],
            "application/vnd.google.colaboratory.intrinsic+json": {
              "type": "string"
            }
          },
          "metadata": {},
          "execution_count": 77
        }
      ]
    },
    {
      "cell_type": "code",
      "source": [
        "data['children'][1]"
      ],
      "metadata": {
        "colab": {
          "base_uri": "https://localhost:8080/",
          "height": 35
        },
        "id": "fZ5iycEakCzO",
        "outputId": "943cdf54-6b57-4ab0-b514-8ba86357ed83"
      },
      "execution_count": null,
      "outputs": [
        {
          "output_type": "execute_result",
          "data": {
            "text/plain": [
              "'Thomas'"
            ],
            "application/vnd.google.colaboratory.intrinsic+json": {
              "type": "string"
            }
          },
          "metadata": {},
          "execution_count": 31
        }
      ]
    },
    {
      "cell_type": "code",
      "source": [],
      "metadata": {
        "id": "Aat3FFANkHOY"
      },
      "execution_count": null,
      "outputs": []
    }
  ]
}
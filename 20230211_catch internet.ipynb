{
  "nbformat": 4,
  "nbformat_minor": 0,
  "metadata": {
    "colab": {
      "provenance": [],
      "toc_visible": true,
      "authorship_tag": "ABX9TyOiH1E04+NV83fCE6aF0/mK",
      "include_colab_link": true
    },
    "kernelspec": {
      "name": "python3",
      "display_name": "Python 3"
    },
    "language_info": {
      "name": "python"
    }
  },
  "cells": [
    {
      "cell_type": "markdown",
      "metadata": {
        "id": "view-in-github",
        "colab_type": "text"
      },
      "source": [
        "<a href=\"https://colab.research.google.com/github/pooyalHsu/20230205python/blob/main/20230211_catch%20internet.ipynb\" target=\"_parent\"><img src=\"https://colab.research.google.com/assets/colab-badge.svg\" alt=\"Open In Colab\"/></a>"
      ]
    },
    {
      "cell_type": "markdown",
      "source": [
        "# 20232011筆記\n",
        "\n",
        "## 今天學到的是從colab建立檔案後，用另存存到gifhub上建立副本\n",
        "## 唯客學院中的影片有些是比較舊的影片，但是理論上可以做參考，因為有可是介面上有改變\n",
        "\n"
      ],
      "metadata": {
        "id": "PUR2pd1JMZ3a"
      }
    },
    {
      "cell_type": "markdown",
      "source": [
        "# 基本資料型態\n",
        "\n",
        "* int (整數)\n",
        "* float (浮點數)\n",
        "* bool (布林變數)\n",
        "* str (字串:文字訊息)\n",
        "\n",
        "使用 **type(變數)** 可以檢查變數裡面的資料型態"
      ],
      "metadata": {
        "id": "x09slP8yUH0S"
      }
    },
    {
      "cell_type": "markdown",
      "source": [
        "## int"
      ],
      "metadata": {
        "id": "whOMNtCTU3Ea"
      }
    },
    {
      "cell_type": "code",
      "execution_count": null,
      "metadata": {
        "id": "w9ZdkV2lMQwx"
      },
      "outputs": [],
      "source": [
        "#把1放到記憶體中的一個位置\n",
        "x = 1"
      ]
    },
    {
      "cell_type": "code",
      "source": [
        "#查看x的型態\n",
        "type(x)"
      ],
      "metadata": {
        "colab": {
          "base_uri": "https://localhost:8080/"
        },
        "id": "F92A3CIKRIKR",
        "outputId": "adc4a8dd-e1ed-4840-e985-f45e6cf34c2a"
      },
      "execution_count": null,
      "outputs": [
        {
          "output_type": "execute_result",
          "data": {
            "text/plain": [
              "int"
            ]
          },
          "metadata": {},
          "execution_count": 40
        }
      ]
    },
    {
      "cell_type": "code",
      "source": [
        "#如果只有一個除號，出來的答案是浮點數\n",
        "y=4/2"
      ],
      "metadata": {
        "id": "phvanJqgWQM3"
      },
      "execution_count": null,
      "outputs": []
    },
    {
      "cell_type": "code",
      "source": [
        "type(y)"
      ],
      "metadata": {
        "colab": {
          "base_uri": "https://localhost:8080/"
        },
        "id": "5UaUgHq_WVBn",
        "outputId": "c07dcb5f-1233-4167-e1df-e9eb7ce7bab1"
      },
      "execution_count": null,
      "outputs": [
        {
          "output_type": "execute_result",
          "data": {
            "text/plain": [
              "float"
            ]
          },
          "metadata": {},
          "execution_count": 42
        }
      ]
    },
    {
      "cell_type": "code",
      "source": [
        "y"
      ],
      "metadata": {
        "colab": {
          "base_uri": "https://localhost:8080/"
        },
        "id": "8BLC0boFWWsO",
        "outputId": "e0a44426-408a-47d1-f00c-1e750c9c1ee7"
      },
      "execution_count": null,
      "outputs": [
        {
          "output_type": "execute_result",
          "data": {
            "text/plain": [
              "2.0"
            ]
          },
          "metadata": {},
          "execution_count": 43
        }
      ]
    },
    {
      "cell_type": "markdown",
      "source": [
        "## 整數除法"
      ],
      "metadata": {
        "id": "q_GhB35wXGCr"
      }
    },
    {
      "cell_type": "code",
      "source": [
        "#如果要整除的話要用兩個除號\n",
        "z=4//2"
      ],
      "metadata": {
        "id": "FDNkZY-YWZJ8"
      },
      "execution_count": null,
      "outputs": []
    },
    {
      "cell_type": "code",
      "source": [
        "type(z)"
      ],
      "metadata": {
        "colab": {
          "base_uri": "https://localhost:8080/"
        },
        "id": "M0eSb0dgWeoA",
        "outputId": "b9faa963-910d-4343-c8b1-be89bc8c0ff9"
      },
      "execution_count": null,
      "outputs": [
        {
          "output_type": "execute_result",
          "data": {
            "text/plain": [
              "int"
            ]
          },
          "metadata": {},
          "execution_count": 45
        }
      ]
    },
    {
      "cell_type": "code",
      "source": [],
      "metadata": {
        "id": "k5vVxCDgWgEY"
      },
      "execution_count": null,
      "outputs": []
    },
    {
      "cell_type": "markdown",
      "source": [
        "## 次方(**)"
      ],
      "metadata": {
        "id": "oFza_FMtXKPr"
      }
    },
    {
      "cell_type": "code",
      "source": [
        "2**2"
      ],
      "metadata": {
        "colab": {
          "base_uri": "https://localhost:8080/"
        },
        "id": "GnG5MlgeXNqW",
        "outputId": "d4780a63-7695-4207-f77b-07d38f95b9bd"
      },
      "execution_count": null,
      "outputs": [
        {
          "output_type": "execute_result",
          "data": {
            "text/plain": [
              "4"
            ]
          },
          "metadata": {},
          "execution_count": 46
        }
      ]
    },
    {
      "cell_type": "code",
      "source": [
        "2**4"
      ],
      "metadata": {
        "colab": {
          "base_uri": "https://localhost:8080/"
        },
        "id": "cMkunE9wXPS-",
        "outputId": "7fb78cfe-bcaa-49fc-e858-23ada745b09f"
      },
      "execution_count": null,
      "outputs": [
        {
          "output_type": "execute_result",
          "data": {
            "text/plain": [
              "16"
            ]
          },
          "metadata": {},
          "execution_count": 47
        }
      ]
    },
    {
      "cell_type": "markdown",
      "source": [
        "## 什麼是bool?(布林變數)"
      ],
      "metadata": {
        "id": "W8e5c2pYXbkz"
      }
    },
    {
      "cell_type": "code",
      "source": [
        "#布林變數就是只有true和false兩種，這個結果可以存到變數裡面去\n",
        "3 > 2"
      ],
      "metadata": {
        "colab": {
          "base_uri": "https://localhost:8080/"
        },
        "id": "rp-qrAi2XQ2t",
        "outputId": "ee65a0d5-52c2-4443-a6d3-504a189ee7af"
      },
      "execution_count": null,
      "outputs": [
        {
          "output_type": "execute_result",
          "data": {
            "text/plain": [
              "True"
            ]
          },
          "metadata": {},
          "execution_count": 48
        }
      ]
    },
    {
      "cell_type": "code",
      "source": [
        "#True很容易被變成數字，只要有運算的時候就會自己去轉換資料型態，電腦會覺得true沒辦法加所以變成1，因為電腦中的運算只有0跟1\n",
        "True + True"
      ],
      "metadata": {
        "colab": {
          "base_uri": "https://localhost:8080/"
        },
        "id": "Bj_bEoXVXowc",
        "outputId": "bfcee093-ef39-445f-a097-95b306e28dcc"
      },
      "execution_count": null,
      "outputs": [
        {
          "output_type": "execute_result",
          "data": {
            "text/plain": [
              "2"
            ]
          },
          "metadata": {},
          "execution_count": 49
        }
      ]
    },
    {
      "cell_type": "code",
      "source": [
        "True + False"
      ],
      "metadata": {
        "colab": {
          "base_uri": "https://localhost:8080/"
        },
        "id": "nP8U4JlYX5ym",
        "outputId": "4b303c4e-6832-4647-d8cf-32d64526e156"
      },
      "execution_count": null,
      "outputs": [
        {
          "output_type": "execute_result",
          "data": {
            "text/plain": [
              "1"
            ]
          },
          "metadata": {},
          "execution_count": 50
        }
      ]
    },
    {
      "cell_type": "code",
      "source": [
        "#比較兩個變數內的值有沒有相等\n",
        "x == z"
      ],
      "metadata": {
        "colab": {
          "base_uri": "https://localhost:8080/"
        },
        "id": "h0cLI2beYR1B",
        "outputId": "dc0c78c5-8d02-4e5c-9e2f-4a22cb3230c3"
      },
      "execution_count": null,
      "outputs": [
        {
          "output_type": "execute_result",
          "data": {
            "text/plain": [
              "False"
            ]
          },
          "metadata": {},
          "execution_count": 51
        }
      ]
    },
    {
      "cell_type": "markdown",
      "source": [
        "## 關於字串"
      ],
      "metadata": {
        "id": "mVuFLlNNZBpj"
      }
    },
    {
      "cell_type": "code",
      "source": [
        "#字串是文字訊息,要記得是文字訊息一定要加上引號\n",
        "w = 'dog'"
      ],
      "metadata": {
        "id": "kMDZJ4yzYidz"
      },
      "execution_count": null,
      "outputs": []
    },
    {
      "cell_type": "code",
      "source": [
        "u = \"It's my dog\""
      ],
      "metadata": {
        "id": "CqIfkI45ZkMc"
      },
      "execution_count": null,
      "outputs": []
    },
    {
      "cell_type": "code",
      "source": [
        "#如果要用單引號寫變數，如下，要加入反斜線(\\)，這叫做跳脫字元(Escape Charactor)，意思就是說，要讓電腦知道在反斜線後面的是我的一個標點符號，不是變數啦\n",
        "v = 'It\\'s my dog'"
      ],
      "metadata": {
        "id": "ykC9bpFpZxiY"
      },
      "execution_count": null,
      "outputs": []
    },
    {
      "cell_type": "markdown",
      "source": [
        "## 字串的加法(+)跟乘法(*)"
      ],
      "metadata": {
        "id": "a5oShhy_fSfL"
      }
    },
    {
      "cell_type": "code",
      "source": [
        "#字串+起來會連在一起\n",
        "\"abc\" + \"3\""
      ],
      "metadata": {
        "colab": {
          "base_uri": "https://localhost:8080/",
          "height": 35
        },
        "id": "48ex4uJ5aYz_",
        "outputId": "915774af-01c4-428f-ab6d-22da73c4b41d"
      },
      "execution_count": null,
      "outputs": [
        {
          "output_type": "execute_result",
          "data": {
            "text/plain": [
              "'abc3'"
            ],
            "application/vnd.google.colaboratory.intrinsic+json": {
              "type": "string"
            }
          },
          "metadata": {},
          "execution_count": 55
        }
      ]
    },
    {
      "cell_type": "code",
      "source": [
        "#乘法會連續寫3次\n",
        "\"abc\" * 3"
      ],
      "metadata": {
        "colab": {
          "base_uri": "https://localhost:8080/",
          "height": 35
        },
        "id": "DyU6MSqpfg21",
        "outputId": "95efbef4-aeea-42be-ea65-96e3beb8e8ef"
      },
      "execution_count": null,
      "outputs": [
        {
          "output_type": "execute_result",
          "data": {
            "text/plain": [
              "'abcabcabc'"
            ],
            "application/vnd.google.colaboratory.intrinsic+json": {
              "type": "string"
            }
          },
          "metadata": {},
          "execution_count": 56
        }
      ]
    },
    {
      "cell_type": "code",
      "source": [
        "# 練習: (使用字串畫出底下的金字塔)\n",
        "\n",
        "    *\n",
        "   ***\n",
        "  *****\n",
        " *******\n",
        "*********"
      ],
      "metadata": {
        "id": "5EAbi4dlfqIG"
      },
      "execution_count": null,
      "outputs": []
    },
    {
      "cell_type": "code",
      "source": [
        "for i in range(5):\n",
        "  print(i)"
      ],
      "metadata": {
        "colab": {
          "base_uri": "https://localhost:8080/"
        },
        "id": "aKrQ0P78gIP6",
        "outputId": "0d91a544-e750-4955-9068-80724ba93836"
      },
      "execution_count": null,
      "outputs": [
        {
          "output_type": "stream",
          "name": "stdout",
          "text": [
            "0\n",
            "1\n",
            "2\n",
            "3\n",
            "4\n"
          ]
        }
      ]
    },
    {
      "cell_type": "code",
      "source": [
        "for i in range(3):\n",
        "  print(\"程式區塊開始\")\n",
        "  print(i)\n",
        "  print(\"程式區塊結束\")"
      ],
      "metadata": {
        "colab": {
          "base_uri": "https://localhost:8080/"
        },
        "id": "fP2FApwTgPjS",
        "outputId": "cd34d92a-a7a0-43dc-81ce-73b8bd1b3cd2"
      },
      "execution_count": null,
      "outputs": [
        {
          "output_type": "stream",
          "name": "stdout",
          "text": [
            "程式區塊開始\n",
            "0\n",
            "程式區塊結束\n",
            "程式區塊開始\n",
            "1\n",
            "程式區塊結束\n",
            "程式區塊開始\n",
            "2\n",
            "程式區塊結束\n"
          ]
        }
      ]
    },
    {
      "cell_type": "code",
      "source": [
        "#如果縮排沒有整理好的話，沒有縮牌的那一行，會辨識成另外一個程式區塊\n",
        "for i in range(3):\n",
        "  print(\"程式區塊開始\")\n",
        "  print(i)\n",
        "print(\"程式區塊結束\")"
      ],
      "metadata": {
        "colab": {
          "base_uri": "https://localhost:8080/"
        },
        "id": "DlYCRsmJghFU",
        "outputId": "bf8530e0-c9ef-4ec4-bf09-ff1f21fd2b35"
      },
      "execution_count": null,
      "outputs": [
        {
          "output_type": "stream",
          "name": "stdout",
          "text": [
            "程式區塊開始\n",
            "0\n",
            "程式區塊開始\n",
            "1\n",
            "程式區塊開始\n",
            "2\n",
            "程式區塊結束\n"
          ]
        }
      ]
    },
    {
      "cell_type": "code",
      "source": [
        "for i in range(5):\n",
        "  print((2*i+1))"
      ],
      "metadata": {
        "colab": {
          "base_uri": "https://localhost:8080/"
        },
        "id": "gIghFItKgkwD",
        "outputId": "2c2d93b5-b1ae-4c70-95d2-2c8c4c9accfc"
      },
      "execution_count": null,
      "outputs": [
        {
          "output_type": "stream",
          "name": "stdout",
          "text": [
            "1\n",
            "3\n",
            "5\n",
            "7\n",
            "9\n"
          ]
        }
      ]
    },
    {
      "cell_type": "code",
      "source": [
        "for i in range(5):\n",
        "  print((2*i+1)*'*')"
      ],
      "metadata": {
        "colab": {
          "base_uri": "https://localhost:8080/"
        },
        "id": "J3NvtF_Ah30e",
        "outputId": "28e41082-be66-4ea7-f5fb-3e788fab5225"
      },
      "execution_count": null,
      "outputs": [
        {
          "output_type": "stream",
          "name": "stdout",
          "text": [
            "*\n",
            "***\n",
            "*****\n",
            "*******\n",
            "*********\n"
          ]
        }
      ]
    },
    {
      "cell_type": "code",
      "source": [
        "for i in range(5):\n",
        "  print((5-i)*' '+(2*i+1)*'*')"
      ],
      "metadata": {
        "colab": {
          "base_uri": "https://localhost:8080/"
        },
        "id": "TXzp4r14gWB-",
        "outputId": "7e4d22dd-a1d8-415f-e576-997d322dfe07"
      },
      "execution_count": null,
      "outputs": [
        {
          "output_type": "stream",
          "name": "stdout",
          "text": [
            "     *\n",
            "    ***\n",
            "   *****\n",
            "  *******\n",
            " *********\n"
          ]
        }
      ]
    },
    {
      "cell_type": "code",
      "source": [
        "#聖誕樹\n",
        "for i in range(6):\n",
        "  print((16-i)*' '+(2*i+1)*'*')\n",
        "for i in range(7):\n",
        "  print((16-i)*' '+(2*i+2)*'*')\n",
        "for i in range(10):\n",
        "  print((14-i)*' '+(2*i+6)*'*')  \n",
        "  "
      ],
      "metadata": {
        "colab": {
          "base_uri": "https://localhost:8080/"
        },
        "id": "VrX7vwbiihGU",
        "outputId": "6191fc7c-a21a-45ff-8c06-7d6b78c0339c"
      },
      "execution_count": null,
      "outputs": [
        {
          "output_type": "stream",
          "name": "stdout",
          "text": [
            "                *\n",
            "               ***\n",
            "              *****\n",
            "             *******\n",
            "            *********\n",
            "           ***********\n",
            "                **\n",
            "               ****\n",
            "              ******\n",
            "             ********\n",
            "            **********\n",
            "           ************\n",
            "          **************\n",
            "              ******\n",
            "             ********\n",
            "            **********\n",
            "           ************\n",
            "          **************\n",
            "         ****************\n",
            "        ******************\n",
            "       ********************\n",
            "      **********************\n",
            "     ************************\n"
          ]
        }
      ]
    },
    {
      "cell_type": "code",
      "source": [
        "#菱形\n",
        "for i in range(5):\n",
        "    print((5-i)*' '+(2*i+1)*'*')\n",
        "\n",
        "for i in range(4, 0, -1):\n",
        "    print((5-i)*' '+(2*i+1)*'*')\n"
      ],
      "metadata": {
        "colab": {
          "base_uri": "https://localhost:8080/"
        },
        "id": "2RFIz7iFioL6",
        "outputId": "f19e06d4-b264-4fd5-df76-d2c09c4ff355"
      },
      "execution_count": null,
      "outputs": [
        {
          "output_type": "stream",
          "name": "stdout",
          "text": [
            "     *\n",
            "    ***\n",
            "   *****\n",
            "  *******\n",
            " *********\n",
            " *********\n",
            "  *******\n",
            "   *****\n",
            "    ***\n"
          ]
        }
      ]
    },
    {
      "cell_type": "markdown",
      "source": [
        "## input() 及 print()\n",
        "input(): 用來讀取輸入\n",
        "print(): 用來打印輸出"
      ],
      "metadata": {
        "id": "X-wXUP3HkzV8"
      }
    },
    {
      "cell_type": "code",
      "source": [
        "#input輸入的數字會是字串，如果要轉型要使用另一種函數\n",
        "x = input(\"請輸入一個數字:\")"
      ],
      "metadata": {
        "colab": {
          "base_uri": "https://localhost:8080/"
        },
        "id": "3acHA8TwkiMb",
        "outputId": "e9868ef4-2408-49e3-dfa4-f63d9499a2b0"
      },
      "execution_count": null,
      "outputs": [
        {
          "name": "stdout",
          "output_type": "stream",
          "text": [
            "請輸入一個數字:100\n"
          ]
        }
      ]
    },
    {
      "cell_type": "code",
      "source": [
        "type(x)"
      ],
      "metadata": {
        "colab": {
          "base_uri": "https://localhost:8080/"
        },
        "id": "uVPcYM69lEFp",
        "outputId": "f17a4815-f595-43a2-9075-6eb79bf3bcb0"
      },
      "execution_count": null,
      "outputs": [
        {
          "output_type": "execute_result",
          "data": {
            "text/plain": [
              "str"
            ]
          },
          "metadata": {},
          "execution_count": 70
        }
      ]
    },
    {
      "cell_type": "code",
      "source": [
        "print(x)"
      ],
      "metadata": {
        "colab": {
          "base_uri": "https://localhost:8080/"
        },
        "id": "zloClIMGlL49",
        "outputId": "062db728-0573-4a03-d5a5-610242aa7451"
      },
      "execution_count": null,
      "outputs": [
        {
          "output_type": "stream",
          "name": "stdout",
          "text": [
            "100\n"
          ]
        }
      ]
    },
    {
      "cell_type": "code",
      "source": [
        "#逗號表示空一格,所以空格要取消，後面要加sep(空格的意思)，看讓他要變成什麼，可以是加減乘除\n",
        "x = 1\n",
        "y = 2\n",
        "z = 3\n",
        "print(x,y,z,sep=\"+\")"
      ],
      "metadata": {
        "colab": {
          "base_uri": "https://localhost:8080/"
        },
        "id": "7KTRlPRFlYwB",
        "outputId": "c2e4c2a2-b299-42c1-d32c-94a64604e1f6"
      },
      "execution_count": null,
      "outputs": [
        {
          "output_type": "stream",
          "name": "stdout",
          "text": [
            "1+2+3\n"
          ]
        }
      ]
    },
    {
      "cell_type": "markdown",
      "source": [
        "# 基礎容器型別\n",
        "\n",
        "* list (串列)\n",
        "* tuple (元組)\n",
        "* dict (字典)\n",
        "* set (集合)"
      ],
      "metadata": {
        "id": "eWt4Gm1unrzr"
      }
    },
    {
      "cell_type": "markdown",
      "source": [
        "## list"
      ],
      "metadata": {
        "id": "bYvwhCcX4uNj"
      }
    },
    {
      "cell_type": "code",
      "source": [
        "x =('a','b','c','d','e')"
      ],
      "metadata": {
        "id": "ELTBu-5rl1tF"
      },
      "execution_count": null,
      "outputs": []
    },
    {
      "cell_type": "code",
      "source": [
        "type(x)"
      ],
      "metadata": {
        "colab": {
          "base_uri": "https://localhost:8080/"
        },
        "id": "X5y_caYklzbS",
        "outputId": "a4aa0f30-baf6-4bfb-b5fb-bf2d30d8ce8f"
      },
      "execution_count": null,
      "outputs": [
        {
          "output_type": "execute_result",
          "data": {
            "text/plain": [
              "tuple"
            ]
          },
          "metadata": {},
          "execution_count": 132
        }
      ]
    },
    {
      "cell_type": "code",
      "source": [
        "#快速寫法\n",
        "y = list('abcde')"
      ],
      "metadata": {
        "id": "YJNwVnIV49EI"
      },
      "execution_count": null,
      "outputs": []
    },
    {
      "cell_type": "code",
      "source": [
        "x[0]"
      ],
      "metadata": {
        "colab": {
          "base_uri": "https://localhost:8080/",
          "height": 35
        },
        "id": "QGZM0syZ5FVB",
        "outputId": "bf420405-334f-4fea-ea0d-43a709184106"
      },
      "execution_count": null,
      "outputs": [
        {
          "output_type": "execute_result",
          "data": {
            "text/plain": [
              "'a'"
            ],
            "application/vnd.google.colaboratory.intrinsic+json": {
              "type": "string"
            }
          },
          "metadata": {},
          "execution_count": 75
        }
      ]
    },
    {
      "cell_type": "code",
      "source": [
        "#回傳list裡面有幾個items\n",
        "len(x)"
      ],
      "metadata": {
        "colab": {
          "base_uri": "https://localhost:8080/"
        },
        "id": "6Gl022Mg5P9T",
        "outputId": "1629f00d-dc03-4da9-ad72-f6a3af9e7e4d"
      },
      "execution_count": null,
      "outputs": [
        {
          "output_type": "execute_result",
          "data": {
            "text/plain": [
              "5"
            ]
          },
          "metadata": {},
          "execution_count": 76
        }
      ]
    },
    {
      "cell_type": "markdown",
      "source": [
        "### 練習：從網址中切分出檔案名稱"
      ],
      "metadata": {
        "id": "xEAlM6s5-vFD"
      }
    },
    {
      "cell_type": "code",
      "source": [
        "url = \"https://img.ltn.com.tw/Upload/ent/page/800/2023/02/08/phpGvNT9E.jpg\""
      ],
      "metadata": {
        "id": "Scr7nof65WjC"
      },
      "execution_count": null,
      "outputs": []
    },
    {
      "cell_type": "code",
      "source": [
        "type(url)"
      ],
      "metadata": {
        "colab": {
          "base_uri": "https://localhost:8080/"
        },
        "id": "wJTYq7oA5-z-",
        "outputId": "21dd3685-8f5b-4c22-b279-04d6ea0c1ecd"
      },
      "execution_count": null,
      "outputs": [
        {
          "output_type": "execute_result",
          "data": {
            "text/plain": [
              "str"
            ]
          },
          "metadata": {},
          "execution_count": 79
        }
      ]
    },
    {
      "cell_type": "code",
      "source": [
        "#在變數後面加一個點，可以看到可以處理此變數的函數,如果加上問號的話可以看到使用說明\n",
        "url.split?"
      ],
      "metadata": {
        "id": "OVnNbtoQ6BhX"
      },
      "execution_count": null,
      "outputs": []
    },
    {
      "cell_type": "code",
      "source": [
        "#使用斜線(/)切割字串\n",
        "url.split(\"/\")"
      ],
      "metadata": {
        "colab": {
          "base_uri": "https://localhost:8080/"
        },
        "id": "EsllKp556XT6",
        "outputId": "5249f1a8-3a54-4d3e-a639-02be2ed95216"
      },
      "execution_count": null,
      "outputs": [
        {
          "output_type": "execute_result",
          "data": {
            "text/plain": [
              "['https:',\n",
              " '',\n",
              " 'img.ltn.com.tw',\n",
              " 'Upload',\n",
              " 'ent',\n",
              " 'page',\n",
              " '800',\n",
              " '2023',\n",
              " '02',\n",
              " '08',\n",
              " 'phpGvNT9E.jpg']"
            ]
          },
          "metadata": {},
          "execution_count": 81
        }
      ]
    },
    {
      "cell_type": "code",
      "source": [
        "#取得list中最後一個item\n",
        "url.split(\"/\")[10]"
      ],
      "metadata": {
        "colab": {
          "base_uri": "https://localhost:8080/",
          "height": 35
        },
        "id": "AIK5YKaW6rPD",
        "outputId": "2aa91d04-bb3f-4dbc-a585-a975e424eb5d"
      },
      "execution_count": null,
      "outputs": [
        {
          "output_type": "execute_result",
          "data": {
            "text/plain": [
              "'phpGvNT9E.jpg'"
            ],
            "application/vnd.google.colaboratory.intrinsic+json": {
              "type": "string"
            }
          },
          "metadata": {},
          "execution_count": 82
        }
      ]
    },
    {
      "cell_type": "code",
      "source": [
        "#取得list中從後面算過來第一個item\n",
        "url.split(\"/\")[-1]"
      ],
      "metadata": {
        "colab": {
          "base_uri": "https://localhost:8080/",
          "height": 35
        },
        "id": "0NdjRdUQ7DaD",
        "outputId": "c0cac7e0-3e4c-47ab-9dc2-ff7f97cf7de5"
      },
      "execution_count": null,
      "outputs": [
        {
          "output_type": "execute_result",
          "data": {
            "text/plain": [
              "'phpGvNT9E.jpg'"
            ],
            "application/vnd.google.colaboratory.intrinsic+json": {
              "type": "string"
            }
          },
          "metadata": {},
          "execution_count": 83
        }
      ]
    },
    {
      "cell_type": "markdown",
      "source": [
        "### 如何取得list中前幾個或後幾個items?"
      ],
      "metadata": {
        "id": "sFZJtIbi7x4H"
      }
    },
    {
      "cell_type": "code",
      "source": [
        "x"
      ],
      "metadata": {
        "colab": {
          "base_uri": "https://localhost:8080/"
        },
        "id": "1gOdl1JC66J-",
        "outputId": "a5009ee6-b85e-4801-9ce6-6ed13d4040f5"
      },
      "execution_count": null,
      "outputs": [
        {
          "output_type": "execute_result",
          "data": {
            "text/plain": [
              "('a', 'b', 'c', 'd', 'e')"
            ]
          },
          "metadata": {},
          "execution_count": 84
        }
      ]
    },
    {
      "cell_type": "code",
      "source": [
        "type(x)"
      ],
      "metadata": {
        "colab": {
          "base_uri": "https://localhost:8080/"
        },
        "id": "d0DuzEU2kr4K",
        "outputId": "26960aee-ec6b-4389-8f24-a2a019cd1ce6"
      },
      "execution_count": null,
      "outputs": [
        {
          "output_type": "execute_result",
          "data": {
            "text/plain": [
              "tuple"
            ]
          },
          "metadata": {},
          "execution_count": 85
        }
      ]
    },
    {
      "cell_type": "code",
      "source": [
        "#顯示前3個\n",
        "x[:3]"
      ],
      "metadata": {
        "colab": {
          "base_uri": "https://localhost:8080/"
        },
        "id": "FVmZEklP78E0",
        "outputId": "15e4b557-55bd-4624-cb9d-8d2ba289d817"
      },
      "execution_count": null,
      "outputs": [
        {
          "output_type": "execute_result",
          "data": {
            "text/plain": [
              "('a', 'b', 'c')"
            ]
          },
          "metadata": {},
          "execution_count": 86
        }
      ]
    },
    {
      "cell_type": "code",
      "source": [
        "#顯示後3個\n",
        "x[-3:]"
      ],
      "metadata": {
        "colab": {
          "base_uri": "https://localhost:8080/"
        },
        "id": "7Mb8YeLg7-N5",
        "outputId": "084164a0-a50f-4095-f008-244380fe118c"
      },
      "execution_count": null,
      "outputs": [
        {
          "output_type": "execute_result",
          "data": {
            "text/plain": [
              "('c', 'd', 'e')"
            ]
          },
          "metadata": {},
          "execution_count": 87
        }
      ]
    },
    {
      "cell_type": "markdown",
      "source": [
        "## dict(字典)"
      ],
      "metadata": {
        "id": "h7P3UkXM8kHs"
      }
    },
    {
      "cell_type": "code",
      "source": [
        "#建立一個空的字典\n",
        "d = {}"
      ],
      "metadata": {
        "id": "qiArWF8v8G3C"
      },
      "execution_count": null,
      "outputs": []
    },
    {
      "cell_type": "code",
      "source": [
        "type(d)"
      ],
      "metadata": {
        "colab": {
          "base_uri": "https://localhost:8080/"
        },
        "id": "md86KVJc8uuA",
        "outputId": "84e414fc-9129-4132-b231-1584529244ff"
      },
      "execution_count": null,
      "outputs": [
        {
          "output_type": "execute_result",
          "data": {
            "text/plain": [
              "dict"
            ]
          },
          "metadata": {},
          "execution_count": 89
        }
      ]
    },
    {
      "cell_type": "code",
      "source": [
        "#加入一筆資料\n",
        "d['cat'] = '貓咪'"
      ],
      "metadata": {
        "id": "5uEXI4jp8xJg"
      },
      "execution_count": null,
      "outputs": []
    },
    {
      "cell_type": "code",
      "source": [
        "d"
      ],
      "metadata": {
        "colab": {
          "base_uri": "https://localhost:8080/"
        },
        "id": "u0qGCqxZ89XT",
        "outputId": "14d83f67-20a6-46aa-d6f9-5d63f60dad31"
      },
      "execution_count": null,
      "outputs": [
        {
          "output_type": "execute_result",
          "data": {
            "text/plain": [
              "{'cat': '貓咪'}"
            ]
          },
          "metadata": {},
          "execution_count": 91
        }
      ]
    },
    {
      "cell_type": "code",
      "source": [
        "#加入第二筆資料\n",
        "d['dog'] = '狗狗'"
      ],
      "metadata": {
        "id": "GAIgUqH58_V2"
      },
      "execution_count": null,
      "outputs": []
    },
    {
      "cell_type": "code",
      "source": [
        "d"
      ],
      "metadata": {
        "colab": {
          "base_uri": "https://localhost:8080/"
        },
        "id": "ws0cxGJ-9Wfy",
        "outputId": "bc5fcc91-456f-4db8-f943-8760a2bcf1b2"
      },
      "execution_count": null,
      "outputs": [
        {
          "output_type": "execute_result",
          "data": {
            "text/plain": [
              "{'cat': '貓咪', 'dog': '狗狗'}"
            ]
          },
          "metadata": {},
          "execution_count": 93
        }
      ]
    },
    {
      "cell_type": "code",
      "source": [
        "#查詢資料\n",
        "d['cat']"
      ],
      "metadata": {
        "colab": {
          "base_uri": "https://localhost:8080/",
          "height": 35
        },
        "id": "v7khzPPT9YFe",
        "outputId": "29463555-e7f1-4094-d4d4-6a35ac2c899d"
      },
      "execution_count": null,
      "outputs": [
        {
          "output_type": "execute_result",
          "data": {
            "text/plain": [
              "'貓咪'"
            ],
            "application/vnd.google.colaboratory.intrinsic+json": {
              "type": "string"
            }
          },
          "metadata": {},
          "execution_count": 94
        }
      ]
    },
    {
      "cell_type": "markdown",
      "source": [
        "### for迴圈與list及dict的合用"
      ],
      "metadata": {
        "id": "sp-Nn-wi_Kzb"
      }
    },
    {
      "cell_type": "code",
      "source": [
        "x"
      ],
      "metadata": {
        "colab": {
          "base_uri": "https://localhost:8080/"
        },
        "id": "rBtzHxI_9kfE",
        "outputId": "bc78f82e-fc1a-4f05-9a8e-ca190ba2f18e"
      },
      "execution_count": null,
      "outputs": [
        {
          "output_type": "execute_result",
          "data": {
            "text/plain": [
              "('a', 'b', 'c', 'd', 'e')"
            ]
          },
          "metadata": {},
          "execution_count": 95
        }
      ]
    },
    {
      "cell_type": "code",
      "source": [
        "#for回圈與list合用\n",
        "for i in x:\n",
        "  print(i)"
      ],
      "metadata": {
        "colab": {
          "base_uri": "https://localhost:8080/"
        },
        "id": "ZD19Npjv_PbX",
        "outputId": "454c17c6-f492-432d-e8b6-db42849f1ea2"
      },
      "execution_count": null,
      "outputs": [
        {
          "output_type": "stream",
          "name": "stdout",
          "text": [
            "a\n",
            "b\n",
            "c\n",
            "d\n",
            "e\n"
          ]
        }
      ]
    },
    {
      "cell_type": "code",
      "source": [
        "#for回圈與dict合用\n",
        "for i in d:\n",
        "  print(i)"
      ],
      "metadata": {
        "colab": {
          "base_uri": "https://localhost:8080/"
        },
        "id": "DUfynSG3_SKq",
        "outputId": "52497ccf-79fd-45bf-b5f5-76151b86a129"
      },
      "execution_count": null,
      "outputs": [
        {
          "output_type": "stream",
          "name": "stdout",
          "text": [
            "cat\n",
            "dog\n"
          ]
        }
      ]
    },
    {
      "cell_type": "code",
      "source": [
        "for i in d:\n",
        "  print(d[i])"
      ],
      "metadata": {
        "colab": {
          "base_uri": "https://localhost:8080/"
        },
        "id": "QB8sqCG-_qcP",
        "outputId": "388431a6-9b84-4aae-a744-e25aaedd9583"
      },
      "execution_count": null,
      "outputs": [
        {
          "output_type": "stream",
          "name": "stdout",
          "text": [
            "貓咪\n",
            "狗狗\n"
          ]
        }
      ]
    },
    {
      "cell_type": "code",
      "source": [
        "for i in d:\n",
        "  print(i,\":\",d[i])"
      ],
      "metadata": {
        "colab": {
          "base_uri": "https://localhost:8080/"
        },
        "id": "GfIzfdudALbC",
        "outputId": "21ce2fec-b9f7-43b4-e67c-862ea5d38819"
      },
      "execution_count": null,
      "outputs": [
        {
          "output_type": "stream",
          "name": "stdout",
          "text": [
            "cat : 貓咪\n",
            "dog : 狗狗\n"
          ]
        }
      ]
    },
    {
      "cell_type": "markdown",
      "source": [
        "# 使用 requests 抓取網路資料"
      ],
      "metadata": {
        "id": "BA-S6At6Mer7"
      }
    },
    {
      "cell_type": "markdown",
      "source": [
        "## 抓取網頁原始碼"
      ],
      "metadata": {
        "id": "ULoZ666YNLhl"
      }
    },
    {
      "cell_type": "code",
      "source": [
        "url = \"https://victorgau.github.io/khpy_web_intro/html_only.html\""
      ],
      "metadata": {
        "id": "E04vYyz0AUn4"
      },
      "execution_count": null,
      "outputs": []
    },
    {
      "cell_type": "code",
      "source": [
        "# 載入requests, 用來抓取網路上的資料\n",
        "import requests"
      ],
      "metadata": {
        "id": "hEiUASjAN6lm"
      },
      "execution_count": null,
      "outputs": []
    },
    {
      "cell_type": "code",
      "source": [
        "# 取得特定網址的網頁原始碼, 並將回傳的內容(包含headers)放入變數\n",
        "r = requests.get(url)"
      ],
      "metadata": {
        "id": "g6JiAa2iN-xd"
      },
      "execution_count": null,
      "outputs": []
    },
    {
      "cell_type": "code",
      "source": [
        "# 印出回傳值中的.text的部分(即網頁原始碼)\n",
        "print(r.text)"
      ],
      "metadata": {
        "colab": {
          "base_uri": "https://localhost:8080/"
        },
        "id": "Yw4ZFylJOEW4",
        "outputId": "72231bb0-5f94-493a-fa13-5ff27b0bb1d1"
      },
      "execution_count": null,
      "outputs": [
        {
          "output_type": "stream",
          "name": "stdout",
          "text": [
            "<!DOCTYPE html>\n",
            "<html>\n",
            "<head>\n",
            "    <title>HTML範例</title>\n",
            "</head>\n",
            "<body>\n",
            "\n",
            "<h1>哈囉！HTML！</h1>\n",
            "\n",
            "<img src=\"ninja.jpg\" />\n",
            "\n",
            "</body>\n",
            "</html>\n"
          ]
        }
      ]
    },
    {
      "cell_type": "markdown",
      "source": [
        "## 使用requests呼叫web API,寫一個中文字典\n",
        "\n",
        "### 萌典 https://github.com/g0v/moedict-webkit\n",
        "\n",
        "### API:Application Programming Interface\n",
        "\n",
        "### API是一個提供給應用程式(Application)使用程式(Program)來存取特定服務的介面(Interface)"
      ],
      "metadata": {
        "id": "CvgDSzTgOvYm"
      }
    },
    {
      "cell_type": "markdown",
      "source": [
        "#### 方法一\n"
      ],
      "metadata": {
        "id": "abLM57PuQwtN"
      }
    },
    {
      "cell_type": "markdown",
      "source": [
        "##### 抓取資料\n",
        "範例:\"https://www.moedict.tw/uni/\"\n",
        "字典的網站"
      ],
      "metadata": {
        "id": "5L_iUiG1YRyl"
      }
    },
    {
      "cell_type": "code",
      "source": [
        "import json"
      ],
      "metadata": {
        "id": "cxGoNIkKRV-1"
      },
      "execution_count": null,
      "outputs": []
    },
    {
      "cell_type": "code",
      "source": [
        "q = \"教室\""
      ],
      "metadata": {
        "id": "rTP9L0FFRHvz"
      },
      "execution_count": null,
      "outputs": []
    },
    {
      "cell_type": "code",
      "source": [
        "url = \"https://www.moedict.tw/uni/\"+q"
      ],
      "metadata": {
        "id": "L11zb326OHKR"
      },
      "execution_count": null,
      "outputs": []
    },
    {
      "cell_type": "code",
      "source": [
        "url"
      ],
      "metadata": {
        "colab": {
          "base_uri": "https://localhost:8080/",
          "height": 35
        },
        "id": "5T_Dqtc8RCqL",
        "outputId": "55bfa1f5-c4c4-4bda-cfc2-1f7be400fd67"
      },
      "execution_count": null,
      "outputs": [
        {
          "output_type": "execute_result",
          "data": {
            "text/plain": [
              "'https://www.moedict.tw/uni/教室'"
            ],
            "application/vnd.google.colaboratory.intrinsic+json": {
              "type": "string"
            }
          },
          "metadata": {},
          "execution_count": 107
        }
      ]
    },
    {
      "cell_type": "code",
      "source": [
        "r = requests.get(url)"
      ],
      "metadata": {
        "id": "cvaVmbPFQ_r_"
      },
      "execution_count": null,
      "outputs": []
    },
    {
      "cell_type": "code",
      "source": [
        "print(r.text)"
      ],
      "metadata": {
        "colab": {
          "base_uri": "https://localhost:8080/"
        },
        "id": "BD4NYuyESHks",
        "outputId": "5010271e-c9c4-44c8-8296-633afd8bdb5a"
      },
      "execution_count": null,
      "outputs": [
        {
          "output_type": "stream",
          "name": "stdout",
          "text": [
            "\t{\n",
            "\t\t\"heteronyms\": [\n",
            "\t\t\t{\n",
            "\t\t\t\t\"bopomofo\": \"ㄐㄧㄠˋ ㄕˋ\",\n",
            "\t\t\t\t\"bopomofo2\": \"jiàu shr̀\",\n",
            "\t\t\t\t\"definitions\": [\n",
            "\t\t\t\t\t{\n",
            "\t\t\t\t\t\t\"def\": \"學校裡進行教學活動的房間。\",\n",
            "\t\t\t\t\t\t\"example\": [\n",
            "\t\t\t\t\t\t\t\"如：「實驗教室」、「音樂教室」。\"\n",
            "\t\t\t\t\t\t],\n",
            "\t\t\t\t\t\t\"synonyms\": \"課堂,講堂\"\n",
            "\t\t\t\t\t}\n",
            "\t\t\t\t],\n",
            "\t\t\t\t\"pinyin\": \"jiào shì\"\n",
            "\t\t\t}\n",
            "\t\t],\n",
            "\t\t\"title\": \"教室\"\n",
            "\t}\n"
          ]
        }
      ]
    },
    {
      "cell_type": "markdown",
      "source": [
        "##### 剖析資料"
      ],
      "metadata": {
        "id": "tpPP4sytUuPt"
      }
    },
    {
      "cell_type": "code",
      "source": [
        "data = json.loads(r.text)"
      ],
      "metadata": {
        "id": "T2ob1USpSKZ0"
      },
      "execution_count": null,
      "outputs": []
    },
    {
      "cell_type": "code",
      "source": [
        "type(data)"
      ],
      "metadata": {
        "colab": {
          "base_uri": "https://localhost:8080/"
        },
        "id": "dvEkA8M2U8Jw",
        "outputId": "45a67c93-8f1d-47cd-89f8-4434fa59289c"
      },
      "execution_count": null,
      "outputs": [
        {
          "output_type": "execute_result",
          "data": {
            "text/plain": [
              "dict"
            ]
          },
          "metadata": {},
          "execution_count": 111
        }
      ]
    },
    {
      "cell_type": "code",
      "source": [
        "data"
      ],
      "metadata": {
        "colab": {
          "base_uri": "https://localhost:8080/"
        },
        "id": "7HqyV26lUYhM",
        "outputId": "b7953fb9-a4cb-4b72-b161-c86be65a3a76"
      },
      "execution_count": null,
      "outputs": [
        {
          "output_type": "execute_result",
          "data": {
            "text/plain": [
              "{'heteronyms': [{'bopomofo': 'ㄐㄧㄠˋ ㄕˋ',\n",
              "   'bopomofo2': 'jiàu shr̀',\n",
              "   'definitions': [{'def': '學校裡進行教學活動的房間。',\n",
              "     'example': ['如：「實驗教室」、「音樂教室」。'],\n",
              "     'synonyms': '課堂,講堂'}],\n",
              "   'pinyin': 'jiào shì'}],\n",
              " 'title': '教室'}"
            ]
          },
          "metadata": {},
          "execution_count": 112
        }
      ]
    },
    {
      "cell_type": "code",
      "source": [
        "data['heteronyms']"
      ],
      "metadata": {
        "colab": {
          "base_uri": "https://localhost:8080/"
        },
        "id": "L4nd9RTKVDNq",
        "outputId": "2faa370b-b12e-4b24-fd0e-be4623b84e4d"
      },
      "execution_count": null,
      "outputs": [
        {
          "output_type": "execute_result",
          "data": {
            "text/plain": [
              "[{'bopomofo': 'ㄐㄧㄠˋ ㄕˋ',\n",
              "  'bopomofo2': 'jiàu shr̀',\n",
              "  'definitions': [{'def': '學校裡進行教學活動的房間。',\n",
              "    'example': ['如：「實驗教室」、「音樂教室」。'],\n",
              "    'synonyms': '課堂,講堂'}],\n",
              "  'pinyin': 'jiào shì'}]"
            ]
          },
          "metadata": {},
          "execution_count": 113
        }
      ]
    },
    {
      "cell_type": "code",
      "source": [
        "type(data['heteronyms'])"
      ],
      "metadata": {
        "colab": {
          "base_uri": "https://localhost:8080/"
        },
        "id": "dM-Wo2C4Vt5z",
        "outputId": "d762de26-d439-4c2b-cba0-d7f17185732e"
      },
      "execution_count": null,
      "outputs": [
        {
          "output_type": "execute_result",
          "data": {
            "text/plain": [
              "list"
            ]
          },
          "metadata": {},
          "execution_count": 114
        }
      ]
    },
    {
      "cell_type": "code",
      "source": [
        "len(data['heteronyms'])"
      ],
      "metadata": {
        "colab": {
          "base_uri": "https://localhost:8080/"
        },
        "id": "sT_1z9YbW10G",
        "outputId": "09873752-ae0a-4a61-cd9e-5e5728ceac3d"
      },
      "execution_count": null,
      "outputs": [
        {
          "output_type": "execute_result",
          "data": {
            "text/plain": [
              "1"
            ]
          },
          "metadata": {},
          "execution_count": 115
        }
      ]
    },
    {
      "cell_type": "code",
      "source": [
        "data['heteronyms'][0]"
      ],
      "metadata": {
        "colab": {
          "base_uri": "https://localhost:8080/"
        },
        "id": "5rgLlw4eW4cM",
        "outputId": "1d7221f1-14d2-4252-ff95-d6545e7aff9e"
      },
      "execution_count": null,
      "outputs": [
        {
          "output_type": "execute_result",
          "data": {
            "text/plain": [
              "{'bopomofo': 'ㄐㄧㄠˋ ㄕˋ',\n",
              " 'bopomofo2': 'jiàu shr̀',\n",
              " 'definitions': [{'def': '學校裡進行教學活動的房間。',\n",
              "   'example': ['如：「實驗教室」、「音樂教室」。'],\n",
              "   'synonyms': '課堂,講堂'}],\n",
              " 'pinyin': 'jiào shì'}"
            ]
          },
          "metadata": {},
          "execution_count": 116
        }
      ]
    },
    {
      "cell_type": "code",
      "source": [
        "data['heteronyms'][0]['definitions']"
      ],
      "metadata": {
        "colab": {
          "base_uri": "https://localhost:8080/"
        },
        "id": "DZd0HPpoXYNF",
        "outputId": "2a6e6fb4-e31f-420f-cea0-3d92a4b477ac"
      },
      "execution_count": null,
      "outputs": [
        {
          "output_type": "execute_result",
          "data": {
            "text/plain": [
              "[{'def': '學校裡進行教學活動的房間。',\n",
              "  'example': ['如：「實驗教室」、「音樂教室」。'],\n",
              "  'synonyms': '課堂,講堂'}]"
            ]
          },
          "metadata": {},
          "execution_count": 117
        }
      ]
    },
    {
      "cell_type": "code",
      "source": [
        "data['heteronyms'][0]['definitions'][0]"
      ],
      "metadata": {
        "colab": {
          "base_uri": "https://localhost:8080/"
        },
        "id": "VRtncRz7XeJb",
        "outputId": "a4d8988e-c1a5-477a-e3c8-8d586bcf3993"
      },
      "execution_count": null,
      "outputs": [
        {
          "output_type": "execute_result",
          "data": {
            "text/plain": [
              "{'def': '學校裡進行教學活動的房間。', 'example': ['如：「實驗教室」、「音樂教室」。'], 'synonyms': '課堂,講堂'}"
            ]
          },
          "metadata": {},
          "execution_count": 118
        }
      ]
    },
    {
      "cell_type": "code",
      "source": [
        "data['heteronyms'][0]['definitions'][0]['def']"
      ],
      "metadata": {
        "colab": {
          "base_uri": "https://localhost:8080/",
          "height": 35
        },
        "id": "YM8_g2MRXiZ9",
        "outputId": "ce4465de-c95e-4a7a-ec49-0af511274bf6"
      },
      "execution_count": null,
      "outputs": [
        {
          "output_type": "execute_result",
          "data": {
            "text/plain": [
              "'學校裡進行教學活動的房間。'"
            ],
            "application/vnd.google.colaboratory.intrinsic+json": {
              "type": "string"
            }
          },
          "metadata": {},
          "execution_count": 119
        }
      ]
    },
    {
      "cell_type": "markdown",
      "source": [
        "#### 方法二"
      ],
      "metadata": {
        "id": "feSSGOC2YFeU"
      }
    },
    {
      "cell_type": "code",
      "source": [
        "#直接將抓取json資料跟剖析資料寫在一起\n",
        "data = requests.get(url).json()"
      ],
      "metadata": {
        "id": "gqOMv3QjXobV"
      },
      "execution_count": null,
      "outputs": []
    },
    {
      "cell_type": "code",
      "source": [
        "data"
      ],
      "metadata": {
        "colab": {
          "base_uri": "https://localhost:8080/"
        },
        "id": "ohbNu6OGYs22",
        "outputId": "b2c454c4-3f6e-40cc-a04c-f7e4299f90f5"
      },
      "execution_count": null,
      "outputs": [
        {
          "output_type": "execute_result",
          "data": {
            "text/plain": [
              "{'heteronyms': [{'bopomofo': 'ㄐㄧㄠˋ ㄕˋ',\n",
              "   'bopomofo2': 'jiàu shr̀',\n",
              "   'definitions': [{'def': '學校裡進行教學活動的房間。',\n",
              "     'example': ['如：「實驗教室」、「音樂教室」。'],\n",
              "     'synonyms': '課堂,講堂'}],\n",
              "   'pinyin': 'jiào shì'}],\n",
              " 'title': '教室'}"
            ]
          },
          "metadata": {},
          "execution_count": 121
        }
      ]
    },
    {
      "cell_type": "code",
      "source": [
        "#取得我們所需的資訊\n",
        "data['heteronyms'][0]['definitions'][0]['def']"
      ],
      "metadata": {
        "colab": {
          "base_uri": "https://localhost:8080/",
          "height": 35
        },
        "id": "kfYb0MZRYbQn",
        "outputId": "31960508-09d7-4666-f2fc-007c5d14f03e"
      },
      "execution_count": null,
      "outputs": [
        {
          "output_type": "execute_result",
          "data": {
            "text/plain": [
              "'學校裡進行教學活動的房間。'"
            ],
            "application/vnd.google.colaboratory.intrinsic+json": {
              "type": "string"
            }
          },
          "metadata": {},
          "execution_count": 122
        }
      ]
    },
    {
      "cell_type": "markdown",
      "source": [
        "#### 將方法二寫成函數來使用\n",
        "* 一開始要先定義，定義中把網頁、資料、回傳...等想要的資料都寫進去"
      ],
      "metadata": {
        "id": "Ce8Glp-8Y8sA"
      }
    },
    {
      "cell_type": "code",
      "source": [
        "def lookup(q):\n",
        "  url = \"https://www.moedict.tw/uni/\"+q\n",
        "  data = requests.get(url).json()\n",
        "  return data[\"heteronyms\"][0]['definitions'][0]['def']"
      ],
      "metadata": {
        "id": "IQq6onG2Yfdv"
      },
      "execution_count": null,
      "outputs": []
    },
    {
      "cell_type": "code",
      "source": [
        "lookup(\"教室\")"
      ],
      "metadata": {
        "colab": {
          "base_uri": "https://localhost:8080/",
          "height": 35
        },
        "id": "sSDCZUzQaHIR",
        "outputId": "c5701e96-f3c7-4fef-d040-d1d28de69601"
      },
      "execution_count": null,
      "outputs": [
        {
          "output_type": "execute_result",
          "data": {
            "text/plain": [
              "'學校裡進行教學活動的房間。'"
            ],
            "application/vnd.google.colaboratory.intrinsic+json": {
              "type": "string"
            }
          },
          "metadata": {},
          "execution_count": 124
        }
      ]
    },
    {
      "cell_type": "code",
      "source": [
        "lookup(\"瀑布\")"
      ],
      "metadata": {
        "colab": {
          "base_uri": "https://localhost:8080/",
          "height": 35
        },
        "id": "6el0X3pKaKr0",
        "outputId": "9dd92dcd-f118-4f12-b03d-5f8e5b655e4d"
      },
      "execution_count": null,
      "outputs": [
        {
          "output_type": "execute_result",
          "data": {
            "text/plain": [
              "'水由高處直瀉而下，遠望似布垂落，稱為「瀑布」。'"
            ],
            "application/vnd.google.colaboratory.intrinsic+json": {
              "type": "string"
            }
          },
          "metadata": {},
          "execution_count": 125
        }
      ]
    },
    {
      "cell_type": "markdown",
      "source": [
        "#### reqests.get(url).json() 是啥？\n",
        "\n",
        "底下兩個東西結果是一樣的：\n",
        "\n",
        "作法一：\n",
        "```python\n",
        "import requests\n",
        "import json\n",
        "\n",
        "r = requests.get(url)\n",
        "data = json.loads(r.text)\n",
        "```\n",
        "\n",
        "作法二:\n",
        "```python\n",
        "import requests\n",
        "\n",
        "data = requests.get(url).json()\n",
        "```\n"
      ],
      "metadata": {
        "id": "2TpWAO4Nbg1E"
      }
    },
    {
      "cell_type": "markdown",
      "source": [
        "#### 讀取0050成份股\n",
        "https://www.yuantaetfs.com/api/StkWeights?date=&fundid=1066"
      ],
      "metadata": {
        "id": "oSLZQrqUdyoV"
      }
    },
    {
      "cell_type": "code",
      "source": [
        "import json"
      ],
      "metadata": {
        "id": "EbZ2j7IqaVht"
      },
      "execution_count": null,
      "outputs": []
    },
    {
      "cell_type": "code",
      "source": [
        "url = \"https://www.yuantaetfs.com/api/StkWeights?date=&fundid=1066\""
      ],
      "metadata": {
        "id": "hOpzkODwew4P"
      },
      "execution_count": null,
      "outputs": []
    },
    {
      "cell_type": "code",
      "source": [
        "import requests\n",
        "\n",
        "data = requests.get(url).json()"
      ],
      "metadata": {
        "id": "HKsdpUafe0md"
      },
      "execution_count": null,
      "outputs": []
    },
    {
      "cell_type": "code",
      "source": [
        "data"
      ],
      "metadata": {
        "colab": {
          "base_uri": "https://localhost:8080/"
        },
        "id": "wRtwChd9e16q",
        "outputId": "5fcded6f-669f-4c2e-f410-1c57ce102dbf"
      },
      "execution_count": null,
      "outputs": [
        {
          "output_type": "execute_result",
          "data": {
            "text/plain": [
              "[{'code': '2330',\n",
              "  'ym': None,\n",
              "  'name': '台積電',\n",
              "  'ename': 'Taiwan Semiconductor Manufacturing Co. Ltd.',\n",
              "  'weights': 48.73,\n",
              "  'qty': 246120278.0},\n",
              " {'code': '2317',\n",
              "  'ym': None,\n",
              "  'name': '鴻海',\n",
              "  'ename': 'HON HAI PRECISION IND. CO. LTD.',\n",
              "  'weights': 4.51,\n",
              "  'qty': 122305400.0},\n",
              " {'code': '2454',\n",
              "  'ym': None,\n",
              "  'name': '聯發科',\n",
              "  'ename': 'MediaTek Inc.',\n",
              "  'weights': 4.1,\n",
              "  'qty': 15248561.0},\n",
              " {'code': '2308',\n",
              "  'ym': None,\n",
              "  'name': '台達電',\n",
              "  'ename': 'DELTA ELECTRONICS INC.',\n",
              "  'weights': 2.36,\n",
              "  'qty': 22141605.0},\n",
              " {'code': '2303',\n",
              "  'ym': None,\n",
              "  'name': '聯電',\n",
              "  'ename': 'UNITED MICROELECTRONICS CORP.',\n",
              "  'weights': 2.21,\n",
              "  'qty': 119992423.0},\n",
              " {'code': '2881',\n",
              "  'ym': None,\n",
              "  'name': '富邦金',\n",
              "  'ename': 'Fubon Financial Holding Co. Ltd.',\n",
              "  'weights': 1.62,\n",
              "  'qty': 75568931.0},\n",
              " {'code': '2412',\n",
              "  'ym': None,\n",
              "  'name': '中華電',\n",
              "  'ename': 'Chunghwa Telecom Co. Ltd',\n",
              "  'weights': 1.6,\n",
              "  'qty': 38981167.0},\n",
              " {'code': '1303',\n",
              "  'ym': None,\n",
              "  'name': '南亞',\n",
              "  'ename': 'NAN YA PLASTICS CORPORATION',\n",
              "  'weights': 1.56,\n",
              "  'qty': 57880391.0},\n",
              " {'code': '2891',\n",
              "  'ym': None,\n",
              "  'name': '中信金',\n",
              "  'ename': 'CTBC FINANCIAL HOLDING CO. LTD.',\n",
              "  'weights': 1.52,\n",
              "  'qty': 185988205.0},\n",
              " {'code': '2002',\n",
              "  'ym': None,\n",
              "  'name': '中鋼',\n",
              "  'ename': 'China Steel Corporation',\n",
              "  'weights': 1.43,\n",
              "  'qty': 126394577.0},\n",
              " {'code': '2882',\n",
              "  'ym': None,\n",
              "  'name': '國泰金',\n",
              "  'ename': 'CATHAY FINANCIAL HOLDING CO. LTD.',\n",
              "  'weights': 1.42,\n",
              "  'qty': 91602832.0},\n",
              " {'code': '2886',\n",
              "  'ym': None,\n",
              "  'name': '兆豐金',\n",
              "  'ename': 'Mega Financial Holding Company Ltd.',\n",
              "  'weights': 1.35,\n",
              "  'qty': 114362664.0},\n",
              " {'code': '3711',\n",
              "  'ym': None,\n",
              "  'name': '日月光投控',\n",
              "  'ename': 'ASE Technology Holding Co. Ltd.',\n",
              "  'weights': 1.34,\n",
              "  'qty': 34886744.0},\n",
              " {'code': '2884',\n",
              "  'ym': None,\n",
              "  'name': '玉山金',\n",
              "  'ename': 'E.SUN FINANCIAL HOLDING COMPANYLTD.',\n",
              "  'weights': 1.25,\n",
              "  'qty': 138873462.0},\n",
              " {'code': '1301',\n",
              "  'ym': None,\n",
              "  'name': '台塑',\n",
              "  'ename': 'Formosa Plastics Corporation',\n",
              "  'weights': 1.24,\n",
              "  'qty': 38231086.0},\n",
              " {'code': '5871',\n",
              "  'ym': None,\n",
              "  'name': '中租-KY',\n",
              "  'ename': 'Chailease Holding Company Limited',\n",
              "  'weights': 1.2,\n",
              "  'qty': 14144085.0},\n",
              " {'code': '1216',\n",
              "  'ym': None,\n",
              "  'name': '統一',\n",
              "  'ename': 'UNI-PRESIDENT ENTERPRISES CORP.',\n",
              "  'weights': 1.19,\n",
              "  'qty': 49132681.0},\n",
              " {'code': '2892',\n",
              "  'ym': None,\n",
              "  'name': '第一金',\n",
              "  'ename': 'First  Financial  Holding  Co.  Ltd.',\n",
              "  'weights': 1.02,\n",
              "  'qty': 106817864.0},\n",
              " {'code': '2885',\n",
              "  'ym': None,\n",
              "  'name': '元大金',\n",
              "  'ename': 'Yuanta Financial Holding Co. Ltd',\n",
              "  'weights': 1.02,\n",
              "  'qty': 122755367.0},\n",
              " {'code': '5880',\n",
              "  'ym': None,\n",
              "  'name': '合庫金',\n",
              "  'ename': 'Taiwan Cooperative Financial Holding Co.Ltd.',\n",
              "  'weights': 1.0,\n",
              "  'qty': 103436952.0},\n",
              " {'code': '1326',\n",
              "  'ym': None,\n",
              "  'name': '台化',\n",
              "  'ename': 'FORMOSA CHEMICALS & FIBRE CORPORATION',\n",
              "  'weights': 0.9,\n",
              "  'qty': 35087873.0},\n",
              " {'code': '1101',\n",
              "  'ym': None,\n",
              "  'name': '台泥',\n",
              "  'ename': 'Taiwan Cement Corp.',\n",
              "  'weights': 0.87,\n",
              "  'qty': 64754131.0},\n",
              " {'code': '3008',\n",
              "  'ym': None,\n",
              "  'name': '大立光',\n",
              "  'ename': 'LARGAN Precision Co.Ltd',\n",
              "  'weights': 0.86,\n",
              "  'qty': 1050671.0},\n",
              " {'code': '2880',\n",
              "  'ym': None,\n",
              "  'name': '華南金',\n",
              "  'ename': 'HUA NAN FINANCIAL HOLDINGS CO.LTD.',\n",
              "  'weights': 0.86,\n",
              "  'qty': 104118718.0},\n",
              " {'code': '3034',\n",
              "  'ym': None,\n",
              "  'name': '聯詠',\n",
              "  'ename': 'NOVATEK MICROELECTRONICS CORP.',\n",
              "  'weights': 0.82,\n",
              "  'qty': 5865565.0},\n",
              " {'code': '2382',\n",
              "  'ym': None,\n",
              "  'name': '廣達',\n",
              "  'ename': 'QUANTA COMPUTER INC.',\n",
              "  'weights': 0.77,\n",
              "  'qty': 27268460.0},\n",
              " {'code': '6415',\n",
              "  'ym': None,\n",
              "  'name': '矽力*-KY',\n",
              "  'ename': 'Silergy Corp.',\n",
              "  'weights': 0.76,\n",
              "  'qty': 3317515.0},\n",
              " {'code': '2883',\n",
              "  'ym': None,\n",
              "  'name': '開發金',\n",
              "  'ename': 'CHINA DEVELOPMENT FINANCIAL HOLDING CORP.',\n",
              "  'weights': 0.76,\n",
              "  'qty': 161503344.0},\n",
              " {'code': '2327',\n",
              "  'ym': None,\n",
              "  'name': '國巨',\n",
              "  'ename': 'YAGEO CORPORATION',\n",
              "  'weights': 0.75,\n",
              "  'qty': 4002627.0},\n",
              " {'code': '2207',\n",
              "  'ym': None,\n",
              "  'name': '和泰車',\n",
              "  'ename': 'HOTAI MOTOR CO.LTD.',\n",
              "  'weights': 0.74,\n",
              "  'qty': 3268973.0},\n",
              " {'code': '2357',\n",
              "  'ym': None,\n",
              "  'name': '華碩',\n",
              "  'ename': 'ASUSTEK COMPUTER INC.',\n",
              "  'weights': 0.71,\n",
              "  'qty': 7228285.0},\n",
              " {'code': '2887',\n",
              "  'ym': None,\n",
              "  'name': '台新金',\n",
              "  'ename': 'Taishin Financial Holding Co. Ltd.',\n",
              "  'weights': 0.68,\n",
              "  'qty': 116495910.0},\n",
              " {'code': '2890',\n",
              "  'ym': None,\n",
              "  'name': '永豐金',\n",
              "  'ename': 'SINOPAC  FINANCIAL HOLDINGS COMPANY LIMITED',\n",
              "  'weights': 0.68,\n",
              "  'qty': 108573634.0},\n",
              " {'code': '1590',\n",
              "  'ym': None,\n",
              "  'name': '亞德客-KY',\n",
              "  'ename': 'AIRTAC INTERNATIONAL GROUP',\n",
              "  'weights': 0.63,\n",
              "  'qty': 1600046.0},\n",
              " {'code': '2379',\n",
              "  'ym': None,\n",
              "  'name': '瑞昱',\n",
              "  'ename': 'Realtek Semiconductor Corporation',\n",
              "  'weights': 0.63,\n",
              "  'qty': 4874788.0},\n",
              " {'code': '3045',\n",
              "  'ym': None,\n",
              "  'name': '台灣大',\n",
              "  'ename': 'TAIWAN  MOBILE  CO. LTD.',\n",
              "  'weights': 0.62,\n",
              "  'qty': 17684259.0},\n",
              " {'code': '5876',\n",
              "  'ym': None,\n",
              "  'name': '上海商銀',\n",
              "  'ename': 'THE SHANGHAI COMMERCIAL & SAVINGS BANK LTD.',\n",
              "  'weights': 0.62,\n",
              "  'qty': 36040157.0},\n",
              " {'code': '3037',\n",
              "  'ym': None,\n",
              "  'name': '欣興',\n",
              "  'ename': 'Unimicron Technology Corp.',\n",
              "  'weights': 0.6,\n",
              "  'qty': 12895441.0},\n",
              " {'code': '2912',\n",
              "  'ym': None,\n",
              "  'name': '統一超',\n",
              "  'ename': 'PRESIDENT CHAIN STORE CORPORATION',\n",
              "  'weights': 0.56,\n",
              "  'qty': 5752852.0},\n",
              " {'code': '2395',\n",
              "  'ym': None,\n",
              "  'name': '研華',\n",
              "  'ename': 'ADVANTECH Co. Ltd.',\n",
              "  'weights': 0.55,\n",
              "  'qty': 4233348.0},\n",
              " {'code': '2603',\n",
              "  'ym': None,\n",
              "  'name': '長榮',\n",
              "  'ename': 'EVERGREEN MARINE CORP. (TAIWAN) LTD.',\n",
              "  'weights': 0.55,\n",
              "  'qty': 10309167.0},\n",
              " {'code': '1402',\n",
              "  'ym': None,\n",
              "  'name': '遠東新',\n",
              "  'ename': 'Far Eastern New Century Corporation',\n",
              "  'weights': 0.47,\n",
              "  'qty': 40210277.0},\n",
              " {'code': '2801',\n",
              "  'ym': None,\n",
              "  'name': '彰銀',\n",
              "  'ename': 'CHANG HWA COMMERCIAL BANK LTD.',\n",
              "  'weights': 0.43,\n",
              "  'qty': 67919862.0},\n",
              " {'code': '6505',\n",
              "  'ym': None,\n",
              "  'name': '台塑化',\n",
              "  'ename': 'Formosa Petrochemical Corp',\n",
              "  'weights': 0.42,\n",
              "  'qty': 13988798.0},\n",
              " {'code': '4904',\n",
              "  'ym': None,\n",
              "  'name': '遠傳',\n",
              "  'ename': 'Far EasTone Telecommunications Co. Ltd.',\n",
              "  'weights': 0.4,\n",
              "  'qty': 16373549.0},\n",
              " {'code': '2615',\n",
              "  'ym': None,\n",
              "  'name': '萬海',\n",
              "  'ename': 'WAN HAI LINES LTD.',\n",
              "  'weights': 0.39,\n",
              "  'qty': 14386012.0},\n",
              " {'code': '2609',\n",
              "  'ym': None,\n",
              "  'name': '陽明',\n",
              "  'ename': 'Yang Ming Marine Transport Corp.',\n",
              "  'weights': 0.39,\n",
              "  'qty': 17902014.0},\n",
              " {'code': '9910',\n",
              "  'ym': None,\n",
              "  'name': '豐泰',\n",
              "  'ename': 'FENG TAY ENTERPRISES CO. LTD.',\n",
              "  'weights': 0.31,\n",
              "  'qty': 4520752.0},\n",
              " {'code': '8046',\n",
              "  'ym': None,\n",
              "  'name': '南電',\n",
              "  'ename': 'NAN YA PRINTED CIRCUIT BOARD CORPORATION',\n",
              "  'weights': 0.19,\n",
              "  'qty': 2153132.0},\n",
              " {'code': '2408',\n",
              "  'ym': None,\n",
              "  'name': '南亞科',\n",
              "  'ename': 'NANYA TECHNOLOGY CORPORATION',\n",
              "  'weights': 0.18,\n",
              "  'qty': 8388112.0}]"
            ]
          },
          "metadata": {},
          "execution_count": 129
        }
      ]
    },
    {
      "cell_type": "code",
      "source": [
        "data[0]"
      ],
      "metadata": {
        "colab": {
          "base_uri": "https://localhost:8080/"
        },
        "id": "MIV9ioMleYTX",
        "outputId": "2611de40-4f91-420a-8c38-4ba7cd883742"
      },
      "execution_count": null,
      "outputs": [
        {
          "output_type": "execute_result",
          "data": {
            "text/plain": [
              "{'code': '2330',\n",
              " 'ym': None,\n",
              " 'name': '台積電',\n",
              " 'ename': 'Taiwan Semiconductor Manufacturing Co. Ltd.',\n",
              " 'weights': 48.73,\n",
              " 'qty': 246120278.0}"
            ]
          },
          "metadata": {},
          "execution_count": 130
        }
      ]
    },
    {
      "cell_type": "code",
      "source": [
        "for i in data:\n",
        "  print(i['code'],',',i['name'])"
      ],
      "metadata": {
        "colab": {
          "base_uri": "https://localhost:8080/"
        },
        "id": "hRNw0FsyfhY5",
        "outputId": "5d7dac7b-b4d2-4d29-dd5c-9cb6ad4afd1a"
      },
      "execution_count": null,
      "outputs": [
        {
          "output_type": "stream",
          "name": "stdout",
          "text": [
            "2330 , 台積電\n",
            "2317 , 鴻海\n",
            "2454 , 聯發科\n",
            "2308 , 台達電\n",
            "2303 , 聯電\n",
            "2881 , 富邦金\n",
            "2412 , 中華電\n",
            "1303 , 南亞\n",
            "2891 , 中信金\n",
            "2002 , 中鋼\n",
            "2882 , 國泰金\n",
            "2886 , 兆豐金\n",
            "3711 , 日月光投控\n",
            "2884 , 玉山金\n",
            "1301 , 台塑\n",
            "5871 , 中租-KY\n",
            "1216 , 統一\n",
            "2892 , 第一金\n",
            "2885 , 元大金\n",
            "5880 , 合庫金\n",
            "1326 , 台化\n",
            "1101 , 台泥\n",
            "3008 , 大立光\n",
            "2880 , 華南金\n",
            "3034 , 聯詠\n",
            "2382 , 廣達\n",
            "6415 , 矽力*-KY\n",
            "2883 , 開發金\n",
            "2327 , 國巨\n",
            "2207 , 和泰車\n",
            "2357 , 華碩\n",
            "2887 , 台新金\n",
            "2890 , 永豐金\n",
            "1590 , 亞德客-KY\n",
            "2379 , 瑞昱\n",
            "3045 , 台灣大\n",
            "5876 , 上海商銀\n",
            "3037 , 欣興\n",
            "2912 , 統一超\n",
            "2395 , 研華\n",
            "2603 , 長榮\n",
            "1402 , 遠東新\n",
            "2801 , 彰銀\n",
            "6505 , 台塑化\n",
            "4904 , 遠傳\n",
            "2615 , 萬海\n",
            "2609 , 陽明\n",
            "9910 , 豐泰\n",
            "8046 , 南電\n",
            "2408 , 南亞科\n"
          ]
        }
      ]
    },
    {
      "cell_type": "markdown",
      "source": [
        "##### 不是每個網站都是json格式，通常api的網頁有提供json格式，若不是json格式，需要找方法去轉換成json格式給puthon做讀取"
      ],
      "metadata": {
        "id": "iMCknCvxh--c"
      }
    },
    {
      "cell_type": "markdown",
      "source": [
        "#### 練習抓取網站原始碼"
      ],
      "metadata": {
        "id": "JHyyYZi66g3s"
      }
    },
    {
      "cell_type": "code",
      "source": [
        "url = \"https://shopee.tw/\""
      ],
      "metadata": {
        "id": "p9e-P8rZh4Tp"
      },
      "execution_count": 1,
      "outputs": []
    },
    {
      "cell_type": "code",
      "source": [
        "import json"
      ],
      "metadata": {
        "id": "JG7n8YqO6vt0"
      },
      "execution_count": 2,
      "outputs": []
    },
    {
      "cell_type": "code",
      "source": [
        "import requests"
      ],
      "metadata": {
        "id": "tnv87IY266uh"
      },
      "execution_count": 3,
      "outputs": []
    },
    {
      "cell_type": "code",
      "source": [
        "response = requests.get(url)\n",
        "html = response.text"
      ],
      "metadata": {
        "id": "fW76znzn7CL3"
      },
      "execution_count": 7,
      "outputs": []
    },
    {
      "cell_type": "code",
      "source": [
        "html"
      ],
      "metadata": {
        "id": "RHYzSQqx8OFX",
        "outputId": "fb05e3cd-4778-439b-8e66-6ec365ea41d6",
        "colab": {
          "base_uri": "https://localhost:8080/",
          "height": 192
        }
      },
      "execution_count": 8,
      "outputs": [
        {
          "output_type": "execute_result",
          "data": {
            "text/plain": [
              "'<!doctype html>\\n<html dir=\"ltr\">\\n<head>\\n<link rel=\"preconnect\" href=\"//cf.shopee.tw/\">\\n<link rel=\"preconnect\" href=\"//deo.shopeemobile.com/shopee/\">\\n<link rel=\"preconnect\" href=\"//cv.shopee.tw/\">\\n<meta charset=\"utf-8\">\\n<meta name=\"viewport\" content=\"width=device-width,initial-scale=1,maximum-scale=1,minimum-scale=1,user-scalable=no,viewport-fit=cover\">\\n<meta name=\"shopee:git-sha\" content=\"c6c49a0b35456d0889c0f7237a8bb20dcd46c6e1\">\\n<meta name=\"shopee:version\" content=\"rw-v4.35.1\">\\n<link rel=\"preload\" href=\"https://deo.shopeemobile.com/shopee/shopee-mobilemall-live-sg/assets/entry-modules.54776cc32f12b302.css\" as=\"style\" data-modern=\"true\">\\n<link rel=\"preload\" href=\"https://deo.shopeemobile.com/shopee/shopee-mobilemall-live-sg/assets/bundle.7a4dadbb5969686d.css\" as=\"style\" data-modern=\"true\">\\n<link rel=\"modulepreload\" href=\"https://deo.shopeemobile.com/shopee/shopee-mobilemall-live-sg/assets/webpack-runtime.9c90d3ba3b06e376.js\" data-modern=\"true\">\\n<link rel=\"modulepreload\" href=\"https://deo.shopeemobile.com/shopee/shopee-mobilemall-live-sg/assets/entry-modules.5a699052e10d92e2.js\" data-modern=\"true\">\\n<link rel=\"modulepreload\" href=\"https://deo.shopeemobile.com/shopee/shopee-mobilemall-live-sg/assets/bundle.64407838e2c24ee1.js\" data-modern=\"true\">\\n<link rel=\"modulepreload\" href=\"https://deo.shopeemobile.com/shopee/shopee-mobilemall-live-sg/assets/modules.f078e3d8a8bdc000.js\" data-modern=\"true\">\\n<script>\\nwindow.__PAGE_ID__ = 12;\\n        window.__LOCALE__ = \\'TW\\';\\n        window.__ENV__ = \\'live\\';\\n        window.__ASSETS__ = {\"DL_ENABLED_MALL_REGIONS\":[\"SG\",\"MY\",\"ID\",\"TH\",\"VN\",\"PH\",\"TW\"],\"FESTIVAL_SKIN_V2\":{\"data\":[{\"id\":22,\"name\":\"2023_3.3\",\"start\":1676736000,\"end\":1677859199,\"status\":\"scheduled\",\"visibility\":true,\"mtime\":null,\"operator\":null,\"mobile\":{\"category_image\":null,\"daily_discover_image\":null,\"timer\":null,\"custom_header_array\":[{\"header_name\":\"CATEGORY\",\"image\":null,\"color\":\"#ee4d2d\",\"display_width\":null,\"display_height\":null,\"background_image\":null},{\"header_name\":\"DAILY_DISCOVER\",\"image\":null,\"color\":\"#EE4D2D\",\"display_width\":null,\"display_height\":null,\"background_image\":null}],\"display\":1,\"header_color\":null,\"apply_to_pc\":false},\"pc\":{\"logo\":null,\"banner\":{\"image_type\":\"fs\",\"image\":\"a00964c2012e41ff3c9062dc6da7cc74\",\"display_width\":3400,\"display_height\":800},\"timer\":null,\"custom_header_array\":null,\"display\":1,\"header_color\":null,\"key_visual_height\":null},\"navbar\":{\"background_image_standard\":\"d928557c181bb9135da213835e66dc03\",\"background_image_long\":\"a5314e7d7a241058859cae563a1d9eb0\",\"color\":\"white\",\"display\":1}}],\"error\":null,\"error_messages\":null,\"error_msg\":null},\"MART_CONFIG\":{\"shop\":{\"shopid\":37137599,\"username\":\"shopee24h\"},\"header\":null},\"PAGE_MANIFEST\":{\"mobilemall-addondeal-aod\":\"https://deo.shopeemobile.com/shopee/stm-sg-live/webfe-rp-assets/16977/asset-TW-live.ad6e813a48acd0b827267e3b297d2ce4.json\",\"mobilemall-addondeal-pwg\":\"https://deo.shopeemobile.com/shopee/stm-sg-live/webfe-rp-assets/17385/asset-TW-live.06663d3e22459066ad181dc9fb75a26c.json\",\"mobilemall-addondeal-pwp\":\"https://deo.shopeemobile.com/shopee/stm-sg-live/webfe-rp-assets/17570/asset-TW-live.23abdc0b8568cb165305aaf4233f0e88.json\",\"mobilemall-allcampaigns\":\"https://deo.shopeemobile.com/shopee/stm-sg-live/webfe-rp-assets/2225/asset-TW-live.c7289d931606f2ace44f622878eb2425.json\",\"mobilemall-anneentrytask\":null,\"mobilemall-brandsale\":\"https://deo.shopeemobile.com/shopee/stm-sg-live/webfe-rp-assets/17832/asset-TW-live.9d4799973ef7d76ed9e91cb87bb92b28.json\",\"mobilemall-brandsaleentrance\":\"https://deo.shopeemobile.com/shopee/stm-sg-live/webfe-rp-assets/17985/asset-TW-live.4004a1af01dd01c6a073f6ab4637275a.json\",\"mobilemall-bundledeal\":\"https://deo.shopeemobile.com/shopee/stm-sg-live/webfe-rp-assets/13374/asset-TW-live.a8924c86f96be6005f1944b7785ccdb7.json\",\"mobilemall-cancellation\":null,\"mobilemall-cart\":\"https://deo.shopeemobile.com/shopee/stm-sg-live/webfe-rp-assets/2305/asset-TW-live.d5142b12e1fe0f56adda5b5f4e9f8f47.json\",\"mobilemall-categorypage\":{\"version\":1,\"assets\":{\"TRANSIFY_COLLECTION_MAPPING\":{\"en-live-10\":1656592032,\"en-live-100\":1669962906,\"en-live-101\":1669948146,\"en-live-102\":1656592032,\"en-live-107\":1656592032,\"en-live-108\":1649754651,\"en-live-111\":1649754651,\"en-live-113\":1673606135,\"en-live-118\":1656592032,\"en-live-128\":1658481381,\"en-live-129\":1656592032,\"en-live-131\":1656592032,\"en-live-132\":1656592032,\"en-live-136\":1672823594,\"en-live-138\":1649754651,\"en-live-14\":1673584215,\"en-live-140\":1656592032,\"en-live-141\":1649754651,\"en-live-143\":1649754651,\"en-live-145\":1656592032,\"en-live-147\":1649754651,\"en-live-148\":1613634051,\"en-live-15\":1666834600,\"en-live-151\":1656592032,\"en-live-155\":1656592032,\"en-live-158\":1656592032,\"en-live-16\":1675392620,\"en-live-166\":1649754651,\"en-live-167\":1649754651,\"en-live-17\":1670231446,\"en-live-18\":1665459985,\"en-live-184\":1599448355,\"en-live-189\":1656592032,\"en-live-20\":1656592032,\"en-live-204\":1670231446,\"en-live-206\":1656592032,\"en-live-209\":1672891708,\"en-live-21\":1669864286,\"en-live-213\":1641889752,\"en-live-214\":1669626890,\"en-live-223\":1670568542,\"en-live-224\":1649754651,\"en-live-231\":1656592032,\"en-live-235\":1669345746,\"en-live-239\":1675051400,\"en-live-242\":1656592032,\"en-live-243\":1676256870,\"en-live-246\":1649754651,\"en-live-254\":1649754651,\"en-live-255\":1656592032,\"en-live-256\":1661243712,\"en-live-257\":1649754651,\"en-live-258\":1652434726,\"en-live-263\":1656592032,\"en-live-265\":1656592032,\"en-live-268\":1649754651,\"en-live-27\":1674193189,\"en-live-277\":1656592032,\"en-live-28\":1675156307,\"en-live-283\":1656592032,\"en-live-287\":1652867414,\"en-live-29\":1671166219,\"en-live-290\":1649754651,\"en-live-292\":1649754651,\"en-live-294\":1661998479,\"en-live-297\":1649754651,\"en-live-30\":1673584215,\"en-live-300\":1649754651,\"en-live-301\":1649754651,\"en-live-306\":1665738335,\"en-live-31\":1656592032,\"en-live-310\":1649754651,\"en-live-311\":1622803477,\"en-live-314\":1659414278,\"en-live-318\":1664855926,\"en-live-32\":1663035147,\"en-live-321\":1624941198,\"en-live-326\":1649754651,\"en-live-33\":1660620189,\"en-live-330\":1656592032,\"en-live-340\":1675916236,\"en-live-343\":1632386384,\"en-live-345\":1659926091,\"en-live-354\":1656592032,\"en-live-355\":1657703796,\"en-live-360\":1657162080,\"en-live-361\":1649754651,\"en-live-362\":1649754651,\"en-live-363\":1649754651,\"en-live-368\":1634095524,\"en-live-378\":1649754651,\"en-live-379\":1649754651,\"en-live-380\":1656592032,\"en-live-389\":1665653988,\"en-live-392\":1649754651,\"en-live-397\":1668650110,\"en-live-40\":1666343774,\"en-live-406\":1662968897,\"en-live-409\":1656592032,\"en-live-42\":1656592032,\"en-live-422\":1664953185,\"en-live-426\":1649754651,\"en-live-43\":1673243832,\"en-live-432\":1671422277,\"en-live-436\":1663057992,\"en-live-445\":1660701473,\"en-live-453\":1652434726,\"en-live-457\":1656592032,\"en-live-463\":1651724615,\"en-live-47\":1649754651,\"en-live-474\":1656592032,\"en-live-478\":1656592032,\"en-live-484\":1661747620,\"en-live-490\":1659507764,\"en-live-507\":1663145960,\"en-live-515\":1657695367,\"en-live-520\":1659578556,\"en-live-521\":1659586354,\"en-live-522\":1671785219,\"en-live-524\":1660129555,\"en-live-528\":1664435617,\"en-live-530\":1667455602,\"en-live-531\":1670231446,\"en-live-532\":1663741806,\"en-live-538\":1663818317,\"en-live-545\":1668676205,\"en-live-561\":1671100885,\"en-live-573\":1675936231,\"en-live-7\":1647843523,\"en-live-73\":1649754651,\"en-live-76\":1643359987,\"en-live-8\":1675152140,\"en-live-83\":1656592032,\"en-live-85\":1649754651,\"en-live-9\":1674102672,\"en-us-live-100\":1664964772,\"en-us-live-113\":1673345590,\"en-us-live-128\":1658481381,\"en-us-live-129\":1656592032,\"en-us-live-131\":1656592032,\"en-us-live-136\":1672823594,\"en-us-live-14\":1665543034,\"en-us-live-140\":1656592032,\"en-us-live-143\":1649754651,\"en-us-live-15\":1666834600,\"en-us-live-16\":1675392620,\"en-us-live-17\":1665658857,\"en-us-live-18\":1665459985,\"en-us-live-204\":1649754651,\"en-us-live-209\":1672891708,\"en-us-live-21\":1669864286,\"en-us-live-214\":1669626890,\"en-us-live-223\":1670568542,\"en-us-live-235\":1669345746,\"en-us-live-239\":1675051400,\"en-us-live-243\":1674009165,\"en-us-live-255\":1656592032,\"en-us-live-256\":1661243712,\"en-us-live-258\":1651119407,\"en-us-live-27\":1674193189,\"en-us-live-28\":1675156307,\"en-us-live-29\":1671166219,\"en-us-live-294\":1661998479,\"en-us-live-30\":1670559399,\"en-us-live-306\":1665738335,\"en-us-live-31\":1656592032,\"en-us-live-314\":1659414278,\"en-us-live-33\":1660620189,\"en-us-live-340\":1675916236,\"en-us-live-345\":1659926091,\"en-us-live-360\":1657162080,\"en-us-live-380\":1656592032,\"en-us-live-389\":1665653988,\"en-us-live-397\":1668650110,\"en-us-live-40\":1666343774,\"en-us-live-406\":1662968897,\"en-us-live-409\":1656592032,\"en-us-live-422\":1664953185,\"en-us-live-426\":1649754651,\"en-us-live-43\":1673243832,\"en-us-live-432\":1671422277,\"en-us-live-436\":1663057992,\"en-us-live-445\":1660701473,\"en-us-live-453\":1649754651,\"en-us-live-457\":1656592032,\"en-us-live-463\":1651063956,\"en-us-live-478\":1656592032,\"en-us-live-484\":1661747620,\"en-us-live-490\":1659507764,\"en-us-live-507\":1663145960,\"en-us-live-515\":1657695367,\"en-us-live-520\":1659578556,\"en-us-live-521\":1659586354,\"en-us-live-522\":1671785219,\"en-us-live-528\":1664435617,\"en-us-live-530\":1667455602,\"en-us-live-531\":1666177551,\"en-us-live-532\":1663141244,\"en-us-live-538\":1663818317,\"en-us-live-545\":1668676205,\"en-us-live-561\":1671100885,\"en-us-live-573\":1675936231,\"en-us-live-8\":1674721182,\"en-us-live-9\":1674102672,\"es-ar-live-10\":1656592032,\"es-ar-live-100\":1664964772,\"es-ar-live-101\":1656592032,\"es-ar-live-102\":1656592032,\"es-ar-live-107\":1656592032,\"es-ar-live-108\":1649754651,\"es-ar-live-111\":1649754651,\"es-ar-live-113\":1673345590,\"es-ar-live-118\":1656592032,\"es-ar-live-128\":1658481381,\"es-ar-live-129\":1656592032,\"es-ar-live-131\":1656592032,\"es-ar-live-132\":1656592032,\"es-ar-live-136\":1672823594,\"es-ar-live-138\":1649754651,\"es-ar-live-14\":1665543034,\"es-ar-live-140\":1656592032,\"es-ar-live-141\":1649754651,\"es-ar-live-143\":1649754651,\"es-ar-live-145\":1656592032,\"es-ar-live-147\":1649754651,\"es-ar-live-15\":1666834600,\"es-ar-live-151\":1656592032,\"es-ar-live-155\":1656592032,\"es-ar-live-158\":1656592032,\"es-ar-live-16\":1675392620,\"es-ar-live-166\":1649754651,\"es-ar-live-167\":1649754651,\"es-ar-live-17\":1665658857,\"es-ar-live-18\":1665459985,\"es-ar-live-184\":1641382222,\"es-ar-live-189\":1656592032,\"es-ar-live-198\":1641382222,\"es-ar-live-20\":1656592032,\"es-ar-live-204\":1649754651,\"es-ar-live-206\":1656592032,\"es-ar-live-209\":1672891708,\"es-ar-live-21\":1669864286,\"es-ar-live-214\":1669626890,\"es-ar-live-223\":1670568542,\"es-ar-live-224\":1649754651,\"es-ar-live-228\":1641382222,\"es-ar-live-231\":1656592032,\"es-ar-live-233\":1641382222,\"es-ar-live-234\":1641382222,\"es-ar-live-235\":1669345746,\"es-ar-live-238\":1641382222,\"es-ar-live-239\":1675051400,\"es-ar-live-242\":1656592032,\"es-ar-live-243\":1674009165,\"es-ar-live-246\":1649754651,\"es-ar-live-254\":1649754651,\"es-ar-live-255\":1656592032,\"es-ar-live-256\":1661243712,\"es-ar-live-257\":1649754651,\"es-ar-live-258\":1652434726,\"es-ar-live-263\":1656592032,\"es-ar-live-265\":1656592032,\"es-ar-live-268\":1649754651,\"es-ar-live-27\":1674193189,\"es-ar-live-271\":1641382222,\"es-ar-live-277\":1656592032,\"es-ar-live-28\":1675156307,\"es-ar-live-283\":1656592032,\"es-ar-live-287\":1652867414,\"es-ar-live-29\":1671166219,\"es-ar-live-290\":1649754651,\"es-ar-live-292\":1649754651,\"es-ar-live-294\":1661998479,\"es-ar-live-297\":1649754651,\"es-ar-live-30\":1670559399,\"es-ar-live-300\":1649754651,\"es-ar-live-301\":1649754651,\"es-ar-live-303\":1641382222,\"es-ar-live-306\":1665738335,\"es-ar-live-31\":1656592032,\"es-ar-live-310\":1649754651,\"es-ar-live-311\":1641382222,\"es-ar-live-312\":1641382222,\"es-ar-live-314\":1659414278,\"es-ar-live-318\":1664855926,\"es-ar-live-32\":1663035147,\"es-ar-live-321\":1641382222,\"es-ar-live-326\":1649754651,\"es-ar-live-328\":1641382222,\"es-ar-live-329\":1641382222,\"es-ar-live-33\":1660620189,\"es-ar-live-330\":1656592032,\"es-ar-live-340\":1675916236,\"es-ar-live-343\":1641382222,\"es-ar-live-345\":1659926091,\"es-ar-live-348\":1641382222,\"es-ar-live-350\":1641382222,\"es-ar-live-354\":1656592032,\"es-ar-live-355\":1657703796,\"es-ar-live-360\":1657162080,\"es-ar-live-361\":1649754651,\"es-ar-live-362\":1649754651,\"es-ar-live-363\":1649754651,\"es-ar-live-368\":1641382222,\"es-ar-live-374\":1641382222,\"es-ar-live-378\":1649754651,\"es-ar-live-379\":1649754651,\"es-ar-live-380\":1656592032,\"es-ar-live-389\":1665653988,\"es-ar-live-392\":1649754651,\"es-ar-live-397\":1668650110,\"es-ar-live-40\":1666343774,\"es-ar-live-406\":1662968897,\"es-ar-live-409\":1656592032,\"es-ar-live-42\":1656592032,\"es-ar-live-422\":1664953185,\"es-ar-live-426\":1649754651,\"es-ar-live-43\":1673243832,\"es-ar-live-432\":1671422277,\"es-ar-live-436\":1663057992,\"es-ar-live-445\":1660701473,\"es-ar-live-453\":1652434726,\"es-ar-live-457\":1656592032,\"es-ar-live-463\":1651724615,\"es-ar-live-47\":1649754651,\"es-ar-live-474\":1656592032,\"es-ar-live-478\":1656592032,\"es-ar-live-484\":1661747620,\"es-ar-live-490\":1659507764,\"es-ar-live-507\":1663145960,\"es-ar-live-515\":1657695367,\"es-ar-live-520\":1661415974,\"es-ar-live-521\":1659586354,\"es-ar-live-522\":1671785219,\"es-ar-live-524\":1660129555,\"es-ar-live-528\":1664435617,\"es-ar-live-530\":1667455602,\"es-ar-live-531\":1666177551,\"es-ar-live-532\":1663141244,\"es-ar-live-538\":1663818317,\"es-ar-live-545\":1668676205,\"es-ar-live-561\":1671100885,\"es-ar-live-573\":1675936231,\"es-ar-live-7\":1647843523,\"es-ar-live-73\":1649754651,\"es-ar-live-76\":1643359987,\"es-ar-live-8\":1674721182,\"es-ar-live-83\":1656592032,\"es-ar-live-85\":1649754651,\"es-ar-live-9\":1674102672,\"es-cl-live-10\":1656592032,\"es-cl-live-100\":1669962906,\"es-cl-live-101\":1656592032,\"es-cl-live-102\":1656592032,\"es-cl-live-107\":1656592032,\"es-cl-live-108\":1649754651,\"es-cl-live-111\":1649754651,\"es-cl-live-113\":1673345590,\"es-cl-live-118\":1656592032,\"es-cl-live-128\":1658481381,\"es-cl-live-129\":1656592032,\"es-cl-live-131\":1656592032,\"es-cl-live-132\":1656592032,\"es-cl-live-136\":1672823594,\"es-cl-live-138\":1649754651,\"es-cl-live-14\":1665543034,\"es-cl-live-140\":1656592032,\"es-cl-live-141\":1649754651,\"es-cl-live-143\":1649754651,\"es-cl-live-145\":1656592032,\"es-cl-live-147\":1649754651,\"es-cl-live-15\":1666834600,\"es-cl-live-151\":1656592032,\"es-cl-live-155\":1656592032,\"es-cl-live-158\":1656592032,\"es-cl-live-16\":1675392620,\"es-cl-live-166\":1649754651,\"es-cl-live-167\":1649754651,\"es-cl-live-17\":1665658857,\"es-cl-live-18\":1665459985,\"es-cl-live-184\":1621413380,\"es-cl-live-189\":1656592032,\"es-cl-live-198\":1621413380,\"es-cl-live-20\":1656592032,\"es-cl-live-204\":1649754651,\"es-cl-live-206\":1656592032,\"es-cl-live-209\":1672891708,\"es-cl-live-21\":1669864286,\"es-cl-live-213\":1641889752,\"es-cl-live-214\":1669626890,\"es-cl-live-223\":1670568542,\"es-cl-live-224\":1649754651,\"es-cl-live-228\":1621413380,\"es-cl-live-231\":1656592032,\"es-cl-live-233\":1621413380,\"es-cl-live-234\":1621413380,\"es-cl-live-235\":1669345746,\"es-cl-live-238\":1621413380,\"es-cl-live-239\":1675051400,\"es-cl-live-242\":1656592032,\"es-cl-live-243\":1674009165,\"es-cl-live-246\":1649754651,\"es-cl-live-254\":1649754651,\"es-cl-live-255\":1656592032,\"es-cl-live-256\":1661243712,\"es-cl-live-257\":1649754651,\"es-cl-live-258\":1652434726,\"es-cl-live-263\":1656592032,\"es-cl-live-265\":1656592032,\"es-cl-live-268\":1649754651,\"es-cl-live-27\":1674193189,\"es-cl-live-271\":1621413380,\"es-cl-live-277\":1656592032,\"es-cl-live-28\":1675156307,\"es-cl-live-283\":1656592032,\"es-cl-live-287\":1652867414,\"es-cl-live-29\":1671166219,\"es-cl-live-290\":1649754651,\"es-cl-live-292\":1649754651,\"es-cl-live-294\":1661998479,\"es-cl-live-297\":1649754651,\"es-cl-live-30\":1670559399,\"es-cl-live-300\":1649754651,\"es-cl-live-301\":1649754651,\"es-cl-live-306\":1665738335,\"es-cl-live-31\":1656592032,\"es-cl-live-310\":1649754651,\"es-cl-live-314\":1659414278,\"es-cl-live-318\":1664855926,\"es-cl-live-32\":1663035147,\"es-cl-live-321\":1624941198,\"es-cl-live-326\":1649754651,\"es-cl-live-33\":1660620189,\"es-cl-live-330\":1656592032,\"es-cl-live-340\":1675916236,\"es-cl-live-343\":1632386384,\"es-cl-live-345\":1659926091,\"es-cl-live-354\":1656592032,\"es-cl-live-355\":1657703796,\"es-cl-live-360\":1657162080,\"es-cl-live-361\":1649754651,\"es-cl-live-362\":1649754651,\"es-cl-live-363\":1649754651,\"es-cl-live-368\":1634095524,\"es-cl-live-378\":1649754651,\"es-cl-live-379\":1649754651,\"es-cl-live-380\":1656592032,\"es-cl-live-389\":1665653988,\"es-cl-live-392\":1649754651,\"es-cl-live-397\":1668650110,\"es-cl-live-40\":1666343774,\"es-cl-live-406\":1662968897,\"es-cl-live-409\":1656592032,\"es-cl-live-42\":1660688179,\"es-cl-live-422\":1664953185,\"es-cl-live-426\":1649754651,\"es-cl-live-43\":1673243832,\"es-cl-live-432\":1671422277,\"es-cl-live-436\":1663057992,\"es-cl-live-445\":1660701473,\"es-cl-live-453\":1652434726,\"es-cl-live-457\":1656592032,\"es-cl-live-463\":1651724615,\"es-cl-live-47\":1649754651,\"es-cl-live-474\":1656592032,\"es-cl-live-478\":1656592032,\"es-cl-live-484\":1661747620,\"es-cl-live-490\":1659507764,\"es-cl-live-507\":1663145960,\"es-cl-live-515\":1657695367,\"es-cl-live-520\":1659578556,\"es-cl-live-521\":1659586354,\"es-cl-live-522\":1671785219,\"es-cl-live-524\":1660129555,\"es-cl-live-528\":1664435617,\"es-cl-live-530\":1667455602,\"es-cl-live-531\":1666177551,\"es-cl-live-532\":1663141244,\"es-cl-live-538\":1663818317,\"es-cl-live-545\":1668676205,\"es-cl-live-561\":1671100885,\"es-cl-live-573\":1675936231,\"es-cl-live-58\":1622085081,\"es-cl-live-7\":1647843523,\"es-cl-live-73\":1649754651,\"es-cl-live-76\":1643359987,\"es-cl-live-8\":1674721182,\"es-cl-live-83\":1656592032,\"es-cl-live-85\":1649754651,\"es-cl-live-9\":1674102672,\"es-co-live-10\":1656592032,\"es-co-live-100\":1664964772,\"es-co-live-101\":1656592032,\"es-co-live-102\":1656592032,\"es-co-live-107\":1656592032,\"es-co-live-108\":1649754651,\"es-co-live-111\":1649754651,\"es-co-live-113\":1673345590,\"es-co-live-118\":1656592032,\"es-co-live-128\":1658481381,\"es-co-live-129\":1656592032,\"es-co-live-131\":1656592032,\"es-co-live-132\":1656592032,\"es-co-live-136\":1672823594,\"es-co-live-138\":1649754651,\"es-co-live-14\":1665543034,\"es-co-live-140\":1656592032,\"es-co-live-141\":1649754651,\"es-co-live-143\":1649754651,\"es-co-live-145\":1656592032,\"es-co-live-147\":1649754651,\"es-co-live-15\":1666834600,\"es-co-live-151\":1656592032,\"es-co-live-155\":1656592032,\"es-co-live-158\":1656592032,\"es-co-live-16\":1675392620,\"es-co-live-166\":1649754651,\"es-co-live-167\":1649754651,\"es-co-live-17\":1665658857,\"es-co-live-18\":1665459985,\"es-co-live-184\":1621413519,\"es-co-live-189\":1656592032,\"es-co-live-198\":1621413519,\"es-co-live-20\":1656592032,\"es-co-live-204\":1649754651,\"es-co-live-206\":1656592032,\"es-co-live-209\":1672891708,\"es-co-live-21\":1669864286,\"es-co-live-213\":1641889752,\"es-co-live-214\":1669626890,\"es-co-live-223\":1670568542,\"es-co-live-224\":1649754651,\"es-co-live-228\":1621413519,\"es-co-live-231\":1656592032,\"es-co-live-233\":1621413519,\"es-co-live-234\":1621413519,\"es-co-live-235\":1669345746,\"es-co-live-238\":1621413519,\"es-co-live-239\":1675051400,\"es-co-live-242\":1656592032,\"es-co-live-243\":1674009165,\"es-co-live-246\":1649754651,\"es-co-live-254\":1649754651,\"es-co-live-255\":1656592032,\"es-co-live-256\":1661243712,\"es-co-live-257\":1649754651,\"es-co-live-258\":1652434726,\"es-co-live-263\":1656592032,\"es-co-live-265\":1656592032,\"es-co-live-268\":1649754651,\"es-co-live-27\":1674193189,\"es-co-live-271\":1621413519,\"es-co-live-277\":1656592032,\"es-co-live-28\":1675156307,\"es-co-live-283\":1656592032,\"es-co-live-287\":1652867414,\"es-co-live-29\":1671166219,\"es-co-live-290\":1649754651,\"es-co-live-292\":1649754651,\"es-co-live-294\":1661998479,\"es-co-live-297\":1649754651,\"es-co-live-30\":1670559399,\"es-co-live-300\":1649754651,\"es-co-live-301\":1649754651,\"es-co-live-306\":1665738335,\"es-co-live-31\":1656592032,\"es-co-live-310\":1649754651,\"es-co-live-314\":1659414278,\"es-co-live-318\":1664855926,\"es-co-live-32\":1663035147,\"es-co-live-321\":1624941198,\"es-co-live-326\":1649754651,\"es-co-live-33\":1660620189,\"es-co-live-330\":1656592032,\"es-co-live-340\":1675916236,\"es-co-live-343\":1632386384,\"es-co-live-345\":1659926091,\"es-co-live-354\":1656592032,\"es-co-live-355\":1657703796,\"es-co-live-360\":1657162080,\"es-co-live-361\":1649754651,\"es-co-live-362\":1649754651,\"es-co-live-363\":1649754651,\"es-co-live-368\":1634095524,\"es-co-live-378\":1649754651,\"es-co-live-379\":1649754651,\"es-co-live-380\":1656592032,\"es-co-live-389\":1665653988,\"es-co-live-392\":1649754651,\"es-co-live-397\":1668650110,\"es-co-live-40\":1666343774,\"es-co-live-406\":1662968897,\"es-co-live-409\":1656592032,\"es-co-live-42\":1656592032,\"es-co-live-422\":1664953185,\"es-co-live-426\":1649754651,\"es-co-live-43\":1673243832,\"es-co-live-432\":1671422277,\"es-co-live-436\":1663057992,\"es-co-live-445\":1660701473,\"es-co-live-453\":1652434726,\"es-co-live-457\":1656592032,\"es-co-live-463\":1651724615,\"es-co-live-47\":1649754651,\"es-co-live-474\":1656592032,\"es-co-live-478\":1656592032,\"es-co-live-484\":1661747620,\"es-co-live-490\":1659507764,\"es-co-live-507\":1663145960,\"es-co-live-515\":1657695367,\"es-co-live-520\":1659578556,\"es-co-live-521\":1659586354,\"es-co-live-522\":1671785219,\"es-co-live-524\":1660129555,\"es-co-live-528\":1664435617,\"es-co-live-530\":1667455602,\"es-co-live-531\":1666177551,\"es-co-live-532\":1663141244,\"es-co-live-538\":1663818317,\"es-co-live-545\":1668676205,\"es-co-live-561\":1671100885,\"es-co-live-573\":1675936231,\"es-co-live-58\":1622084952,\"es-co-live-7\":1647843523,\"es-co-live-73\":1649754651,\"es-co-live-76\":1643359987,\"es-co-live-8\":1674721182,\"es-co-live-83\":1656592032,\"es-co-live-85\":1649754651,\"es-co-live-9\":1674102672,\"es-es-live-10\":1656592032,\"es-es-live-100\":1664964772,\"es-es-live-101\":1656592032,\"es-es-live-102\":1656592032,\"es-es-live-107\":1656592032,\"es-es-live-108\":1651028375,\"es-es-live-111\":1649754651,\"es-es-live-113\":1673345590,\"es-es-live-118\":1656592032,\"es-es-live-128\":1658481381,\"es-es-live-129\":1656592032,\"es-es-live-131\":1656592032,\"es-es-live-132\":1656592032,\"es-es-live-136\":1672823594,\"es-es-live-138\":1649754651,\"es-es-live-14\":1665543034,\"es-es-live-140\":1656592032,\"es-es-live-141\":1649754651,\"es-es-live-143\":1649754651,\"es-es-live-145\":1656592032,\"es-es-live-147\":1649754651,\"es-es-live-15\":1666834600,\"es-es-live-151\":1656592032,\"es-es-live-155\":1656592032,\"es-es-live-158\":1656592032,\"es-es-live-16\":1675392620,\"es-es-live-166\":1649754651,\"es-es-live-167\":1649754651,\"es-es-live-17\":1665658857,\"es-es-live-18\":1665459985,\"es-es-live-184\":1632800881,\"es-es-live-189\":1656592032,\"es-es-live-198\":1632800881,\"es-es-live-20\":1656592032,\"es-es-live-204\":1649754651,\"es-es-live-206\":1656592032,\"es-es-live-209\":1672891708,\"es-es-live-21\":1669864286,\"es-es-live-213\":1641889752,\"es-es-live-214\":1669626890,\"es-es-live-223\":1670568542,\"es-es-live-224\":1649754651,\"es-es-live-228\":1632800881,\"es-es-live-231\":1656592032,\"es-es-live-233\":1632800881,\"es-es-live-234\":1632800881,\"es-es-live-235\":1669345746,\"es-es-live-238\":1632800881,\"es-es-live-239\":1675051400,\"es-es-live-242\":1656592032,\"es-es-live-243\":1674009165,\"es-es-live-246\":1649754651,\"es-es-live-254\":1649754651,\"es-es-live-255\":1656592032,\"es-es-live-256\":1661243712,\"es-es-live-257\":1649754651,\"es-es-live-258\":1652434726,\"es-es-live-263\":1656592032,\"es-es-live-265\":1656592032,\"es-es-live-268\":1649754651,\"es-es-live-27\":1674193189,\"es-es-live-271\":1632800881,\"es-es-live-277\":1656592032,\"es-es-live-28\":1675156307,\"es-es-live-283\":1656592032,\"es-es-live-287\":1652867414,\"es-es-live-29\":1671166219,\"es-es-live-290\":1649754651,\"es-es-live-292\":1649754651,\"es-es-live-294\":1661998479,\"es-es-live-297\":1649754651,\"es-es-live-30\":1670559399,\"es-es-live-300\":1649754651,\"es-es-live-301\":1649754651,\"es-es-live-303\":1632800881,\"es-es-live-306\":1665738335,\"es-es-live-31\":1656592032,\"es-es-live-310\":1649754651,\"es-es-live-311\":1632800881,\"es-es-live-312\":1632800881,\"es-es-live-314\":1659414278,\"es-es-live-318\":1664855926,\"es-es-live-32\":1663035147,\"es-es-live-321\":1632800881,\"es-es-live-326\":1649754651,\"es-es-live-328\":1632800881,\"es-es-live-329\":1632800881,\"es-es-live-33\":1660620189,\"es-es-live-330\":1656592032,\"es-es-live-340\":1675916236,\"es-es-live-343\":1632800881,\"es-es-live-345\":1659926091,\"es-es-live-348\":1632800881,\"es-es-live-350\":1632800881,\"es-es-live-354\":1656592032,\"es-es-live-355\":1657703796,\"es-es-live-360\":1657162080,\"es-es-live-361\":1649754651,\"es-es-live-362\":1649754651,\"es-es-live-363\":1649754651,\"es-es-live-378\":1649754651,\"es-es-live-379\":1649754651,\"es-es-live-380\":1656592032,\"es-es-live-389\":1665653988,\"es-es-live-392\":1649754651,\"es-es-live-397\":1668650110,\"es-es-live-40\":1666343774,\"es-es-live-406\":1662968897,\"es-es-live-409\":1656592032,\"es-es-live-42\":1656592032,\"es-es-live-422\":1664953185,\"es-es-live-426\":1649754651,\"es-es-live-43\":1673243832,\"es-es-live-432\":1671422277,\"es-es-live-436\":1663057992,\"es-es-live-445\":1660701473,\"es-es-live-453\":1652434726,\"es-es-live-457\":1656592032,\"es-es-live-463\":1651724615,\"es-es-live-47\":1649754651,\"es-es-live-474\":1656592032,\"es-es-live-478\":1656592032,\"es-es-live-484\":1661747620,\"es-es-live-490\":1659507764,\"es-es-live-507\":1663145960,\"es-es-live-515\":1657695367,\"es-es-live-520\":1659578556,\"es-es-live-521\":1659586354,\"es-es-live-522\":1671785219,\"es-es-live-524\":1660129555,\"es-es-live-528\":1664435617,\"es-es-live-530\":1667455602,\"es-es-live-531\":1666177551,\"es-es-live-532\":1663141244,\"es-es-live-538\":1663818317,\"es-es-live-545\":1668676205,\"es-es-live-561\":1671100885,\"es-es-live-573\":1675936231,\"es-es-live-7\":1647843523,\"es-es-live-73\":1649754651,\"es-es-live-76\":1643359987,\"es-es-live-8\":1674721182,\"es-es-live-83\":1656592032,\"es-es-live-85\":1649754651,\"es-es-live-9\":1674102672,\"es-mx-live-10\":1656592032,\"es-mx-live-100\":1664964772,\"es-mx-live-101\":1656592032,\"es-mx-live-102\":1656592032,\"es-mx-live-107\":1656592032,\"es-mx-live-108\":1649754651,\"es-mx-live-111\":1649754651,\"es-mx-live-113\":1673345590,\"es-mx-live-118\":1656592032,\"es-mx-live-128\":1658481381,\"es-mx-live-129\":1656592032,\"es-mx-live-131\":1656592032,\"es-mx-live-132\":1656592032,\"es-mx-live-136\":1672823594,\"es-mx-live-138\":1649754651,\"es-mx-live-14\":1665543034,\"es-mx-live-140\":1656592032,\"es-mx-live-141\":1649754651,\"es-mx-live-143\":1649754651,\"es-mx-live-145\":1656592032,\"es-mx-live-147\":1649754651,\"es-mx-live-15\":1666834600,\"es-mx-live-151\":1656592032,\"es-mx-live-155\":1656592032,\"es-mx-live-158\":1656592032,\"es-mx-live-16\":1675392620,\"es-mx-live-166\":1649754651,\"es-mx-live-167\":1649754651,\"es-mx-live-17\":1665658857,\"es-mx-live-18\":1665459985,\"es-mx-live-184\":1610614370,\"es-mx-live-189\":1656592032,\"es-mx-live-198\":1610614345,\"es-mx-live-20\":1656592032,\"es-mx-live-204\":1656090306,\"es-mx-live-206\":1656592032,\"es-mx-live-209\":1672891708,\"es-mx-live-21\":1669864286,\"es-mx-live-213\":1641889752,\"es-mx-live-214\":1669626890,\"es-mx-live-223\":1670568542,\"es-mx-live-224\":1649754651,\"es-mx-live-228\":1610614448,\"es-mx-live-231\":1656592032,\"es-mx-live-233\":1610614341,\"es-mx-live-234\":1610614305,\"es-mx-live-235\":1669345746,\"es-mx-live-239\":1675051400,\"es-mx-live-242\":1656592032,\"es-mx-live-243\":1674009165,\"es-mx-live-246\":1649754651,\"es-mx-live-254\":1649754651,\"es-mx-live-255\":1656592032,\"es-mx-live-256\":1661243712,\"es-mx-live-257\":1649754651,\"es-mx-live-258\":1652434726,\"es-mx-live-263\":1656592032,\"es-mx-live-265\":1656592032,\"es-mx-live-268\":1649754651,\"es-mx-live-27\":1674193189,\"es-mx-live-277\":1656592032,\"es-mx-live-28\":1675156307,\"es-mx-live-283\":1656592032,\"es-mx-live-287\":1652867414,\"es-mx-live-29\":1671166219,\"es-mx-live-290\":1649754651,\"es-mx-live-292\":1649754651,\"es-mx-live-294\":1661998479,\"es-mx-live-297\":1649754651,\"es-mx-live-30\":1670559399,\"es-mx-live-300\":1649754651,\"es-mx-live-301\":1649754651,\"es-mx-live-306\":1665738335,\"es-mx-live-31\":1656592032,\"es-mx-live-310\":1649754651,\"es-mx-live-314\":1659414278,\"es-mx-live-318\":1664855926,\"es-mx-live-32\":1663035147,\"es-mx-live-321\":1624941198,\"es-mx-live-326\":1649754651,\"es-mx-live-33\":1660620189,\"es-mx-live-330\":1656592032,\"es-mx-live-340\":1675916236,\"es-mx-live-343\":1632386384,\"es-mx-live-345\":1659926091,\"es-mx-live-354\":1656592032,\"es-mx-live-355\":1657703796,\"es-mx-live-360\":1657162080,\"es-mx-live-361\":1656090306,\"es-mx-live-362\":1649754651,\"es-mx-live-363\":1649754651,\"es-mx-live-368\":1634095524,\"es-mx-live-378\":1649754651,\"es-mx-live-379\":1649754651,\"es-mx-live-380\":1656592032,\"es-mx-live-389\":1665653988,\"es-mx-live-392\":1649754651,\"es-mx-live-397\":1668650110,\"es-mx-live-40\":1666343774,\"es-mx-live-406\":1662968897,\"es-mx-live-409\":1656592032,\"es-mx-live-42\":1656592032,\"es-mx-live-422\":1664953185,\"es-mx-live-426\":1649754651,\"es-mx-live-43\":1673243832,\"es-mx-live-432\":1671422277,\"es-mx-live-436\":1663057992,\"es-mx-live-445\":1660701473,\"es-mx-live-453\":1652434726,\"es-mx-live-457\":1656592032,\"es-mx-live-463\":1651724615,\"es-mx-live-47\":1649754651,\"es-mx-live-474\":1656592032,\"es-mx-live-478\":1656592032,\"es-mx-live-484\":1661747620,\"es-mx-live-490\":1659507764,\"es-mx-live-507\":1663145960,\"es-mx-live-515\":1657695367,\"es-mx-live-520\":1659578556,\"es-mx-live-521\":1659586354,\"es-mx-live-522\":1671785219,\"es-mx-live-524\":1660129555,\"es-mx-live-528\":1664435617,\"es-mx-live-530\":1667455602,\"es-mx-live-531\":1666177551,\"es-mx-live-532\":1663141244,\"es-mx-live-538\":1663818317,\"es-mx-live-545\":1668676205,\"es-mx-live-561\":1671100885,\"es-mx-live-573\":1675936231,\"es-mx-live-7\":1647843523,\"es-mx-live-73\":1654882236,\"es-mx-live-76\":1643359987,\"es-mx-live-8\":1674721182,\"es-mx-live-83\":1656592032,\"es-mx-live-85\":1656090306,\"es-mx-live-9\":1674102672,\"fil-live-113\":1673345590,\"fil-live-136\":1672823594,\"fil-live-15\":1666834600,\"fil-live-16\":1675392620,\"fil-live-17\":1665658857,\"fil-live-209\":1672891708,\"fil-live-21\":1669864286,\"fil-live-214\":1669626890,\"fil-live-223\":1670568542,\"fil-live-235\":1669345746,\"fil-live-239\":1675051400,\"fil-live-243\":1674009165,\"fil-live-28\":1675156307,\"fil-live-29\":1671166219,\"fil-live-294\":1661998479,\"fil-live-30\":1670559399,\"fil-live-306\":1665738335,\"fil-live-340\":1675916236,\"fil-live-389\":1665653988,\"fil-live-397\":1668650110,\"fil-live-40\":1666343774,\"fil-live-406\":1662968897,\"fil-live-422\":1664953185,\"fil-live-43\":1673243832,\"fil-live-432\":1671422277,\"fil-live-522\":1671785219,\"fil-live-528\":1664435617,\"fil-live-530\":1667455602,\"fil-live-531\":1666177551,\"fil-live-532\":1663141244,\"fil-live-538\":1663818317,\"fil-live-545\":1668676205,\"fil-live-561\":1671100885,\"fil-live-573\":1675936231,\"fil-live-8\":1674721182,\"fil-live-9\":1674102672,\"fr-live-10\":1656592032,\"fr-live-100\":1664964772,\"fr-live-101\":1656592032,\"fr-live-102\":1656592032,\"fr-live-107\":1656592032,\"fr-live-108\":1649754651,\"fr-live-111\":1649754651,\"fr-live-113\":1673345590,\"fr-live-118\":1656592032,\"fr-live-128\":1658481381,\"fr-live-129\":1656592032,\"fr-live-131\":1656592032,\"fr-live-132\":1656592032,\"fr-live-136\":1672823594,\"fr-live-138\":1649754651,\"fr-live-14\":1665543034,\"fr-live-140\":1656592032,\"fr-live-141\":1649754651,\"fr-live-143\":1649754651,\"fr-live-145\":1656592032,\"fr-live-147\":1649754651,\"fr-live-15\":1666834600,\"fr-live-151\":1656592032,\"fr-live-155\":1656592032,\"fr-live-158\":1656592032,\"fr-live-16\":1675392620,\"fr-live-166\":1649754651,\"fr-live-167\":1649754651,\"fr-live-17\":1665658857,\"fr-live-18\":1665459985,\"fr-live-184\":1633944930,\"fr-live-189\":1656592032,\"fr-live-198\":1633944930,\"fr-live-20\":1656592032,\"fr-live-204\":1649754651,\"fr-live-206\":1656592032,\"fr-live-209\":1672891708,\"fr-live-21\":1669864286,\"fr-live-214\":1669626890,\"fr-live-223\":1670568542,\"fr-live-224\":1649754651,\"fr-live-228\":1633944930,\"fr-live-231\":1656592032,\"fr-live-233\":1633944930,\"fr-live-234\":1633944930,\"fr-live-235\":1669345746,\"fr-live-238\":1633944930,\"fr-live-239\":1675051400,\"fr-live-242\":1656592032,\"fr-live-243\":1674009165,\"fr-live-246\":1649754651,\"fr-live-254\":1649754651,\"fr-live-255\":1656592032,\"fr-live-256\":1661243712,\"fr-live-257\":1649754651,\"fr-live-258\":1652434726,\"fr-live-263\":1656592032,\"fr-live-265\":1656592032,\"fr-live-268\":1649754651,\"fr-live-27\":1674193189,\"fr-live-271\":1633944930,\"fr-live-277\":1656592032,\"fr-live-28\":1675156307,\"fr-live-283\":1656592032,\"fr-live-287\":1652867414,\"fr-live-29\":1671166219,\"fr-live-290\":1649754651,\"fr-live-292\":1649754651,\"fr-live-294\":1661998479,\"fr-live-297\":1649754651,\"fr-live-30\":1670559399,\"fr-live-300\":1649754651,\"fr-live-301\":1649754651,\"fr-live-303\":1633944930,\"fr-live-306\":1665738335,\"fr-live-31\":1656592032,\"fr-live-310\":1649754651,\"fr-live-311\":1633944930,\"fr-live-312\":1633944930,\"fr-live-314\":1659414278,\"fr-live-318\":1664855926,\"fr-live-32\":1663035147,\"fr-live-321\":1633944930,\"fr-live-326\":1649754651,\"fr-live-328\":1633944930,\"fr-live-329\":1633944930,\"fr-live-33\":1660620189,\"fr-live-330\":1656592032,\"fr-live-340\":1675916236,\"fr-live-343\":1633944930,\"fr-live-345\":1659926091,\"fr-live-348\":1633944930,\"fr-live-350\":1633944930,\"fr-live-354\":1656592032,\"fr-live-355\":1657703796,\"fr-live-360\":1657162080,\"fr-live-361\":1649754651,\"fr-live-362\":1649754651,\"fr-live-363\":1649754651,\"fr-live-378\":1649754651,\"fr-live-379\":1649754651,\"fr-live-380\":1656592032,\"fr-live-389\":1665653988,\"fr-live-392\":1649754651,\"fr-live-397\":1668650110,\"fr-live-40\":1666343774,\"fr-live-406\":1662968897,\"fr-live-409\":1656592032,\"fr-live-42\":1656592032,\"fr-live-422\":1664953185,\"fr-live-426\":1649754651,\"fr-live-43\":1673243832,\"fr-live-432\":1671422277,\"fr-live-436\":1663057992,\"fr-live-445\":1660701473,\"fr-live-453\":1652434726,\"fr-live-457\":1656592032,\"fr-live-463\":1651724615,\"fr-live-47\":1649754651,\"fr-live-474\":1656592032,\"fr-live-478\":1656592032,\"fr-live-484\":1661747620,\"fr-live-490\":1659507764,\"fr-live-507\":1663145960,\"fr-live-515\":1657695367,\"fr-live-520\":1659578556,\"fr-live-521\":1659586354,\"fr-live-522\":1671785219,\"fr-live-524\":1660129555,\"fr-live-528\":1664435617,\"fr-live-530\":1667455602,\"fr-live-531\":1666177551,\"fr-live-532\":1663141244,\"fr-live-538\":1663818317,\"fr-live-545\":1668676205,\"fr-live-561\":1671100885,\"fr-live-573\":1675936231,\"fr-live-7\":1643858915,\"fr-live-73\":1649754651,\"fr-live-76\":1643359987,\"fr-live-8\":1674721182,\"fr-live-83\":1656592032,\"fr-live-85\":1649754651,\"fr-live-9\":1674102672,\"hi-live-10\":1656592032,\"hi-live-100\":1664964772,\"hi-live-101\":1656592032,\"hi-live-102\":1656592032,\"hi-live-107\":1656592032,\"hi-live-108\":1649754651,\"hi-live-111\":1649754651,\"hi-live-113\":1673345590,\"hi-live-118\":1656592032,\"hi-live-128\":1658481381,\"hi-live-129\":1656592032,\"hi-live-131\":1656592032,\"hi-live-132\":1656592032,\"hi-live-136\":1672823594,\"hi-live-138\":1649754651,\"hi-live-14\":1665543034,\"hi-live-140\":1656592032,\"hi-live-141\":1649754651,\"hi-live-143\":1649754651,\"hi-live-145\":1656592032,\"hi-live-147\":1649754651,\"hi-live-15\":1666834600,\"hi-live-151\":1656592032,\"hi-live-155\":1656592032,\"hi-live-158\":1656592032,\"hi-live-16\":1675392620,\"hi-live-166\":1649754651,\"hi-live-167\":1649754651,\"hi-live-17\":1665658857,\"hi-live-18\":1665459985,\"hi-live-184\":1632898917,\"hi-live-189\":1656592032,\"hi-live-198\":1632898917,\"hi-live-20\":1656592032,\"hi-live-204\":1649754651,\"hi-live-206\":1656592032,\"hi-live-209\":1672891708,\"hi-live-21\":1669864286,\"hi-live-213\":1641889752,\"hi-live-214\":1669626890,\"hi-live-223\":1670568542,\"hi-live-224\":1649754651,\"hi-live-228\":1632898917,\"hi-live-231\":1656592032,\"hi-live-233\":1632898917,\"hi-live-234\":1632898917,\"hi-live-235\":1669345746,\"hi-live-238\":1632898917,\"hi-live-239\":1675051400,\"hi-live-242\":1656592032,\"hi-live-243\":1674009165,\"hi-live-246\":1649754651,\"hi-live-254\":1649754651,\"hi-live-255\":1656592032,\"hi-live-256\":1661243712,\"hi-live-257\":1649754651,\"hi-live-258\":1652434726,\"hi-live-263\":1656592032,\"hi-live-265\":1656592032,\"hi-live-268\":1649754651,\"hi-live-27\":1674193189,\"hi-live-271\":1632898917,\"hi-live-277\":1656592032,\"hi-live-28\":1675156307,\"hi-live-283\":1656592032,\"hi-live-287\":1652867414,\"hi-live-29\":1671166219,\"hi-live-290\":1649754651,\"hi-live-292\":1649754651,\"hi-live-294\":1661998479,\"hi-live-297\":1649754651,\"hi-live-30\":1670559399,\"hi-live-300\":1649754651,\"hi-live-301\":1649754651,\"hi-live-303\":1632898917,\"hi-live-306\":1665738335,\"hi-live-31\":1656592032,\"hi-live-310\":1649754651,\"hi-live-311\":1632898917,\"hi-live-312\":1632898917,\"hi-live-314\":1659414278,\"hi-live-318\":1664855926,\"hi-live-32\":1663035147,\"hi-live-321\":1632898917,\"hi-live-326\":1649754651,\"hi-live-328\":1632898917,\"hi-live-329\":1632898917,\"hi-live-33\":1660620189,\"hi-live-330\":1656592032,\"hi-live-340\":1675916236,\"hi-live-343\":1632898917,\"hi-live-345\":1659926091,\"hi-live-348\":1632898917,\"hi-live-350\":1632898917,\"hi-live-354\":1656592032,\"hi-live-355\":1657703796,\"hi-live-360\":1657162080,\"hi-live-361\":1649754651,\"hi-live-362\":1649754651,\"hi-live-363\":1649754651,\"hi-live-378\":1649754651,\"hi-live-379\":1649754651,\"hi-live-380\":1656592032,\"hi-live-389\":1665653988,\"hi-live-392\":1649754651,\"hi-live-397\":1668650110,\"hi-live-40\":1666343774,\"hi-live-406\":1662968897,\"hi-live-409\":1656592032,\"hi-live-42\":1656592032,\"hi-live-422\":1664953185,\"hi-live-426\":1649754651,\"hi-live-43\":1673243832,\"hi-live-432\":1671422277,\"hi-live-436\":1663057992,\"hi-live-445\":1660701473,\"hi-live-453\":1652434726,\"hi-live-457\":1656592032,\"hi-live-463\":1651724615,\"hi-live-47\":1649754651,\"hi-live-474\":1656592032,\"hi-live-478\":1656592032,\"hi-live-484\":1661747620,\"hi-live-490\":1659507764,\"hi-live-507\":1663145960,\"hi-live-515\":1657695367,\"hi-live-520\":1659578556,\"hi-live-521\":1659586354,\"hi-live-522\":1671785219,\"hi-live-524\":1660129555,\"hi-live-528\":1664435617,\"hi-live-530\":1667455602,\"hi-live-531\":1666177551,\"hi-live-532\":1663141244,\"hi-live-538\":1663818317,\"hi-live-545\":1668676205,\"hi-live-561\":1671100885,\"hi-live-573\":1675936231,\"hi-live-7\":1647843523,\"hi-live-73\":1649754651,\"hi-live-76\":1643359987,\"hi-live-8\":1674721182,\"hi-live-83\":1656592032,\"hi-live-85\":1649754651,\"hi-live-9\":1674102672,\"id-live-10\":1656592032,\"id-live-100\":1664964772,\"id-live-101\":1656592032,\"id-live-102\":1656592032,\"id-live-107\":1656592032,\"id-live-108\":1649754651,\"id-live-111\":1649754651,\"id-live-113\":1673345590,\"id-live-118\":1656592032,\"id-live-128\":1658481381,\"id-live-129\":1656592032,\"id-live-131\":1656592032,\"id-live-132\":1656592032,\"id-live-136\":1672823594,\"id-live-138\":1649754651,\"id-live-14\":1665543034,\"id-live-140\":1656592032,\"id-live-141\":1649754651,\"id-live-143\":1649754651,\"id-live-145\":1656592032,\"id-live-147\":1649754651,\"id-live-148\":1613634051,\"id-live-15\":1666834600,\"id-live-151\":1656592032,\"id-live-155\":1656592032,\"id-live-158\":1656592032,\"id-live-16\":1675392620,\"id-live-166\":1649754651,\"id-live-167\":1649754651,\"id-live-17\":1670231446,\"id-live-18\":1665459985,\"id-live-184\":1599448355,\"id-live-189\":1656592032,\"id-live-20\":1656592032,\"id-live-204\":1670231446,\"id-live-206\":1656592032,\"id-live-209\":1672891708,\"id-live-21\":1669864286,\"id-live-213\":1641889752,\"id-live-214\":1669626890,\"id-live-223\":1670568542,\"id-live-224\":1649754651,\"id-live-231\":1656592032,\"id-live-235\":1669345746,\"id-live-239\":1675051400,\"id-live-242\":1656592032,\"id-live-243\":1674009165,\"id-live-246\":1649754651,\"id-live-254\":1649754651,\"id-live-255\":1656592032,\"id-live-256\":1661243712,\"id-live-257\":1649754651,\"id-live-258\":1652434726,\"id-live-263\":1656592032,\"id-live-265\":1656592032,\"id-live-268\":1649754651,\"id-live-27\":1674193189,\"id-live-277\":1656592032,\"id-live-28\":1675156307,\"id-live-283\":1656592032,\"id-live-287\":1652867414,\"id-live-29\":1671166219,\"id-live-290\":1649754651,\"id-live-292\":1649754651,\"id-live-294\":1661998479,\"id-live-297\":1649754651,\"id-live-30\":1670559399,\"id-live-300\":1649754651,\"id-live-301\":1649754651,\"id-live-306\":1665738335,\"id-live-31\":1656592032,\"id-live-310\":1649754651,\"id-live-314\":1659414278,\"id-live-318\":1664855926,\"id-live-32\":1663035147,\"id-live-321\":1624941198,\"id-live-326\":1649754651,\"id-live-33\":1660620189,\"id-live-330\":1656592032,\"id-live-340\":1675916236,\"id-live-343\":1632386384,\"id-live-345\":1659926091,\"id-live-354\":1656592032,\"id-live-355\":1657703796,\"id-live-360\":1657162080,\"id-live-361\":1649754651,\"id-live-362\":1649754651,\"id-live-363\":1649754651,\"id-live-368\":1634095524,\"id-live-378\":1649754651,\"id-live-379\":1649754651,\"id-live-380\":1656592032,\"id-live-389\":1665653988,\"id-live-392\":1649754651,\"id-live-397\":1668650110,\"id-live-40\":1666343774,\"id-live-406\":1662968897,\"id-live-409\":1656592032,\"id-live-42\":1656592032,\"id-live-422\":1664953185,\"id-live-426\":1649754651,\"id-live-43\":1673243832,\"id-live-432\":1671422277,\"id-live-436\":1663057992,\"id-live-445\":1660701473,\"id-live-453\":1652434726,\"id-live-457\":1656592032,\"id-live-463\":1651724615,\"id-live-47\":1649754651,\"id-live-474\":1656592032,\"id-live-478\":1656592032,\"id-live-484\":1661747620,\"id-live-490\":1659507764,\"id-live-507\":1663145960,\"id-live-515\":1657695367,\"id-live-520\":1659578556,\"id-live-521\":1659586354,\"id-live-522\":1671785219,\"id-live-524\":1660129555,\"id-live-528\":1664435617,\"id-live-530\":1667455602,\"id-live-531\":1670231446,\"id-live-532\":1663141244,\"id-live-538\":1663818317,\"id-live-545\":1668676205,\"id-live-561\":1671100885,\"id-live-573\":1675936231,\"id-live-7\":1647843523,\"id-live-73\":1649754651,\"id-live-76\":1643359987,\"id-live-8\":1675152140,\"id-live-83\":1656592032,\"id-live-85\":1649754651,\"id-live-9\":1674102672,\"ms-my-live-10\":1656592032,\"ms-my-live-100\":1664964772,\"ms-my-live-101\":1656592032,\"ms-my-live-102\":1656592032,\"ms-my-live-107\":1656592032,\"ms-my-live-108\":1649754651,\"ms-my-live-111\":1649754651,\"ms-my-live-113\":1673345590,\"ms-my-live-118\":1656592032,\"ms-my-live-128\":1658481381,\"ms-my-live-129\":1656592032,\"ms-my-live-131\":1656592032,\"ms-my-live-132\":1656592032,\"ms-my-live-136\":1672823594,\"ms-my-live-138\":1649754651,\"ms-my-live-14\":1665543034,\"ms-my-live-140\":1656592032,\"ms-my-live-141\":1649754651,\"ms-my-live-143\":1649754651,\"ms-my-live-145\":1656592032,\"ms-my-live-147\":1649754651,\"ms-my-live-148\":1613634051,\"ms-my-live-15\":1666834600,\"ms-my-live-151\":1656592032,\"ms-my-live-155\":1656592032,\"ms-my-live-158\":1656592032,\"ms-my-live-16\":1675392620,\"ms-my-live-166\":1649754651,\"ms-my-live-167\":1649754651,\"ms-my-live-17\":1670231446,\"ms-my-live-18\":1665459985,\"ms-my-live-184\":1599448355,\"ms-my-live-189\":1656592032,\"ms-my-live-20\":1656592032,\"ms-my-live-204\":1670231446,\"ms-my-live-206\":1656592032,\"ms-my-live-209\":1672891708,\"ms-my-live-21\":1669864286,\"ms-my-live-213\":1641889752,\"ms-my-live-214\":1669626890,\"ms-my-live-223\":1670568542,\"ms-my-live-224\":1649754651,\"ms-my-live-231\":1656592032,\"ms-my-live-235\":1669345746,\"ms-my-live-239\":1675051400,\"ms-my-live-242\":1656592032,\"ms-my-live-243\":1674009165,\"ms-my-live-246\":1649754651,\"ms-my-live-254\":1649754651,\"ms-my-live-255\":1656592032,\"ms-my-live-256\":1661243712,\"ms-my-live-257\":1649754651,\"ms-my-live-258\":1652434726,\"ms-my-live-263\":1656592032,\"ms-my-live-265\":1656592032,\"ms-my-live-268\":1649754651,\"ms-my-live-27\":1674193189,\"ms-my-live-277\":1656592032,\"ms-my-live-28\":1675156307,\"ms-my-live-283\":1656592032,\"ms-my-live-287\":1652867414,\"ms-my-live-29\":1671166219,\"ms-my-live-290\":1649754651,\"ms-my-live-292\":1649754651,\"ms-my-live-294\":1661998479,\"ms-my-live-297\":1649754651,\"ms-my-live-30\":1670559399,\"ms-my-live-300\":1649754651,\"ms-my-live-301\":1649754651,\"ms-my-live-306\":1665738335,\"ms-my-live-31\":1656592032,\"ms-my-live-310\":1649754651,\"ms-my-live-314\":1659414278,\"ms-my-live-318\":1664855926,\"ms-my-live-32\":1663035147,\"ms-my-live-321\":1624941198,\"ms-my-live-326\":1649754651,\"ms-my-live-33\":1660620189,\"ms-my-live-330\":1656592032,\"ms-my-live-340\":1675916236,\"ms-my-live-343\":1632386384,\"ms-my-live-345\":1659926091,\"ms-my-live-354\":1656592032,\"ms-my-live-355\":1657703796,\"ms-my-live-360\":1657162080,\"ms-my-live-361\":1649754651,\"ms-my-live-362\":1649754651,\"ms-my-live-363\":1649754651,\"ms-my-live-368\":1634095524,\"ms-my-live-378\":1649754651,\"ms-my-live-379\":1649754651,\"ms-my-live-380\":1656592032,\"ms-my-live-389\":1665653988,\"ms-my-live-392\":1649754651,\"ms-my-live-397\":1668650110,\"ms-my-live-40\":1666343774,\"ms-my-live-406\":1662968897,\"ms-my-live-409\":1656592032,\"ms-my-live-42\":1656592032,\"ms-my-live-422\":1664953185,\"ms-my-live-426\":1649754651,\"ms-my-live-43\":1673243832,\"ms-my-live-432\":1671422277,\"ms-my-live-436\":1663057992,\"ms-my-live-445\":1660701473,\"ms-my-live-453\":1652434726,\"ms-my-live-457\":1656592032,\"ms-my-live-463\":1651724615,\"ms-my-live-47\":1649754651,\"ms-my-live-474\":1656592032,\"ms-my-live-478\":1656592032,\"ms-my-live-484\":1661747620,\"ms-my-live-490\":1659507764,\"ms-my-live-507\":1663145960,\"ms-my-live-515\":1657695367,\"ms-my-live-520\":1659578556,\"ms-my-live-521\":1659586354,\"ms-my-live-522\":1671785219,\"ms-my-live-524\":1660129555,\"ms-my-live-528\":1664435617,\"ms-my-live-530\":1667455602,\"ms-my-live-531\":1670231446,\"ms-my-live-532\":1663141244,\"ms-my-live-538\":1663818317,\"ms-my-live-545\":1668676205,\"ms-my-live-561\":1671100885,\"ms-my-live-573\":1675936231,\"ms-my-live-7\":1647843523,\"ms-my-live-73\":1649754651,\"ms-my-live-76\":1643359987,\"ms-my-live-8\":1674721182,\"ms-my-live-83\":1656592032,\"ms-my-live-85\":1649754651,\"ms-my-live-9\":1674102672,\"pl-live-10\":1656592032,\"pl-live-100\":1669948132,\"pl-live-101\":1669948146,\"pl-live-102\":1656592032,\"pl-live-107\":1656592032,\"pl-live-108\":1649754651,\"pl-live-111\":1649754651,\"pl-live-113\":1673606135,\"pl-live-118\":1656592032,\"pl-live-128\":1658481381,\"pl-live-129\":1656592032,\"pl-live-131\":1656592032,\"pl-live-132\":1656592032,\"pl-live-136\":1672823594,\"pl-live-138\":1649754651,\"pl-live-14\":1665543034,\"pl-live-140\":1656592032,\"pl-live-141\":1649754651,\"pl-live-143\":1649754651,\"pl-live-145\":1656592032,\"pl-live-147\":1649754651,\"pl-live-15\":1666834600,\"pl-live-151\":1656592032,\"pl-live-155\":1656592032,\"pl-live-158\":1656592032,\"pl-live-16\":1675392620,\"pl-live-166\":1649754651,\"pl-live-167\":1649754651,\"pl-live-17\":1665658857,\"pl-live-18\":1665459985,\"pl-live-184\":1631766012,\"pl-live-189\":1656592032,\"pl-live-198\":1631766012,\"pl-live-20\":1656592032,\"pl-live-204\":1649754651,\"pl-live-206\":1656592032,\"pl-live-209\":1672891708,\"pl-live-21\":1669864286,\"pl-live-213\":1641889752,\"pl-live-214\":1669626890,\"pl-live-223\":1670568542,\"pl-live-224\":1649754651,\"pl-live-228\":1631766012,\"pl-live-231\":1656592032,\"pl-live-233\":1631766012,\"pl-live-234\":1631766012,\"pl-live-235\":1669345746,\"pl-live-238\":1631766012,\"pl-live-239\":1675051400,\"pl-live-242\":1656592032,\"pl-live-243\":1674009165,\"pl-live-246\":1649754651,\"pl-live-254\":1649754651,\"pl-live-255\":1656592032,\"pl-live-256\":1661243712,\"pl-live-257\":1649754651,\"pl-live-258\":1652434726,\"pl-live-263\":1656592032,\"pl-live-265\":1656592032,\"pl-live-268\":1649754651,\"pl-live-27\":1674193189,\"pl-live-271\":1631766012,\"pl-live-277\":1656592032,\"pl-live-28\":1675156307,\"pl-live-283\":1656592032,\"pl-live-287\":1652867414,\"pl-live-29\":1671166219,\"pl-live-290\":1649754651,\"pl-live-292\":1649754651,\"pl-live-294\":1661998479,\"pl-live-297\":1649754651,\"pl-live-30\":1670559399,\"pl-live-300\":1649754651,\"pl-live-301\":1649754651,\"pl-live-303\":1631766012,\"pl-live-306\":1665738335,\"pl-live-31\":1656592032,\"pl-live-310\":1649754651,\"pl-live-311\":1631766012,\"pl-live-312\":1631766012,\"pl-live-314\":1659414278,\"pl-live-318\":1664855926,\"pl-live-32\":1663035147,\"pl-live-321\":1631766012,\"pl-live-326\":1649754651,\"pl-live-328\":1631766012,\"pl-live-329\":1631766012,\"pl-live-33\":1660620189,\"pl-live-330\":1656592032,\"pl-live-340\":1675916236,\"pl-live-343\":1631766012,\"pl-live-345\":1659926091,\"pl-live-348\":1631766012,\"pl-live-350\":1631766012,\"pl-live-354\":1656592032,\"pl-live-355\":1657703796,\"pl-live-360\":1657162080,\"pl-live-361\":1649754651,\"pl-live-362\":1649754651,\"pl-live-363\":1649754651,\"pl-live-368\":1634095524,\"pl-live-378\":1649754651,\"pl-live-379\":1649754651,\"pl-live-380\":1656592032,\"pl-live-389\":1665653988,\"pl-live-392\":1649754651,\"pl-live-397\":1668650110,\"pl-live-40\":1666343774,\"pl-live-406\":1662968897,\"pl-live-409\":1656592032,\"pl-live-42\":1656592032,\"pl-live-422\":1664953185,\"pl-live-426\":1649754651,\"pl-live-43\":1673243832,\"pl-live-432\":1671422277,\"pl-live-436\":1663057992,\"pl-live-445\":1660701473,\"pl-live-453\":1652434726,\"pl-live-457\":1656592032,\"pl-live-463\":1651724615,\"pl-live-47\":1649754651,\"pl-live-474\":1656592032,\"pl-live-478\":1656592032,\"pl-live-484\":1661747620,\"pl-live-490\":1659507764,\"pl-live-507\":1663145960,\"pl-live-515\":1657695367,\"pl-live-520\":1659578556,\"pl-live-521\":1659586354,\"pl-live-522\":1671785219,\"pl-live-524\":1668426834,\"pl-live-528\":1664435617,\"pl-live-530\":1667455602,\"pl-live-531\":1666177551,\"pl-live-532\":1663141244,\"pl-live-538\":1663818317,\"pl-live-545\":1668676205,\"pl-live-561\":1671100885,\"pl-live-573\":1675936231,\"pl-live-7\":1647843523,\"pl-live-73\":1649754651,\"pl-live-76\":1643359987,\"pl-live-8\":1674721182,\"pl-live-83\":1656592032,\"pl-live-85\":1649754651,\"pl-live-9\":1674102672,\"pt-br-live-10\":1656592032,\"pt-br-live-100\":1664964772,\"pt-br-live-101\":1656592032,\"pt-br-live-102\":1656592032,\"pt-br-live-107\":1656592032,\"pt-br-live-108\":1670303429,\"pt-br-live-111\":1649754651,\"pt-br-live-113\":1673345590,\"pt-br-live-118\":1656592032,\"pt-br-live-128\":1658481381,\"pt-br-live-129\":1656592032,\"pt-br-live-131\":1656592032,\"pt-br-live-132\":1656592032,\"pt-br-live-136\":1672823594,\"pt-br-live-138\":1649754651,\"pt-br-live-14\":1665543034,\"pt-br-live-140\":1656592032,\"pt-br-live-141\":1649754651,\"pt-br-live-143\":1649754651,\"pt-br-live-145\":1656592032,\"pt-br-live-147\":1649754651,\"pt-br-live-148\":1613634051,\"pt-br-live-15\":1666834600,\"pt-br-live-151\":1656592032,\"pt-br-live-155\":1656592032,\"pt-br-live-158\":1656592032,\"pt-br-live-16\":1675392620,\"pt-br-live-166\":1649754651,\"pt-br-live-167\":1649754651,\"pt-br-live-17\":1665658857,\"pt-br-live-18\":1665459985,\"pt-br-live-184\":1599448355,\"pt-br-live-189\":1656592032,\"pt-br-live-20\":1656592032,\"pt-br-live-204\":1649754651,\"pt-br-live-206\":1656592032,\"pt-br-live-209\":1672891708,\"pt-br-live-21\":1669864286,\"pt-br-live-213\":1641889752,\"pt-br-live-214\":1669626890,\"pt-br-live-223\":1670568542,\"pt-br-live-224\":1649754651,\"pt-br-live-231\":1656592032,\"pt-br-live-235\":1669345746,\"pt-br-live-239\":1675051400,\"pt-br-live-242\":1656592032,\"pt-br-live-243\":1674009165,\"pt-br-live-246\":1649754651,\"pt-br-live-254\":1649754651,\"pt-br-live-255\":1656592032,\"pt-br-live-256\":1661243712,\"pt-br-live-257\":1649754651,\"pt-br-live-258\":1652434726,\"pt-br-live-263\":1656592032,\"pt-br-live-265\":1656592032,\"pt-br-live-268\":1649754651,\"pt-br-live-27\":1674193189,\"pt-br-live-277\":1656592032,\"pt-br-live-28\":1675156307,\"pt-br-live-283\":1656592032,\"pt-br-live-287\":1652867414,\"pt-br-live-29\":1671166219,\"pt-br-live-290\":1649754651,\"pt-br-live-292\":1649754651,\"pt-br-live-294\":1661998479,\"pt-br-live-297\":1649754651,\"pt-br-live-30\":1670559399,\"pt-br-live-300\":1649754651,\"pt-br-live-301\":1649754651,\"pt-br-live-306\":1665738335,\"pt-br-live-31\":1656592032,\"pt-br-live-310\":1649754651,\"pt-br-live-314\":1659414278,\"pt-br-live-318\":1664855926,\"pt-br-live-32\":1663035147,\"pt-br-live-321\":1624941198,\"pt-br-live-326\":1649754651,\"pt-br-live-33\":1660620189,\"pt-br-live-330\":1656592032,\"pt-br-live-340\":1675916236,\"pt-br-live-343\":1632386384,\"pt-br-live-345\":1659926091,\"pt-br-live-354\":1656592032,\"pt-br-live-355\":1657703796,\"pt-br-live-360\":1657162080,\"pt-br-live-361\":1649754651,\"pt-br-live-362\":1649754651,\"pt-br-live-363\":1649754651,\"pt-br-live-368\":1634095524,\"pt-br-live-378\":1649754651,\"pt-br-live-379\":1649754651,\"pt-br-live-380\":1656592032,\"pt-br-live-389\":1665653988,\"pt-br-live-392\":1649754651,\"pt-br-live-397\":1668650110,\"pt-br-live-40\":1666343774,\"pt-br-live-406\":1662968897,\"pt-br-live-409\":1656592032,\"pt-br-live-42\":1656592032,\"pt-br-live-422\":1664953185,\"pt-br-live-426\":1649754651,\"pt-br-live-43\":1673243832,\"pt-br-live-432\":1671422277,\"pt-br-live-436\":1663057992,\"pt-br-live-445\":1660701473,\"pt-br-live-453\":1652434726,\"pt-br-live-457\":1656592032,\"pt-br-live-463\":1651724615,\"pt-br-live-47\":1649754651,\"pt-br-live-474\":1656592032,\"pt-br-live-478\":1656592032,\"pt-br-live-484\":1661747620,\"pt-br-live-490\":1659507764,\"pt-br-live-507\":1663145960,\"pt-br-live-515\":1657695367,\"pt-br-live-520\":1659578556,\"pt-br-live-521\":1659586354,\"pt-br-live-522\":1671785219,\"pt-br-live-524\":1660129555,\"pt-br-live-528\":1664435617,\"pt-br-live-530\":1667455602,\"pt-br-live-531\":1666177551,\"pt-br-live-532\":1663141244,\"pt-br-live-538\":1663818317,\"pt-br-live-545\":1668676205,\"pt-br-live-561\":1671100885,\"pt-br-live-573\":1675936231,\"pt-br-live-7\":1643858915,\"pt-br-live-73\":1649754651,\"pt-br-live-76\":1643359987,\"pt-br-live-8\":1674721182,\"pt-br-live-83\":1656592032,\"pt-br-live-85\":1649754651,\"pt-br-live-9\":1674102672,\"th-live-10\":1656592032,\"th-live-100\":1664964772,\"th-live-101\":1656592032,\"th-live-102\":1656592032,\"th-live-107\":1656592032,\"th-live-108\":1649754651,\"th-live-111\":1649754651,\"th-live-113\":1673345590,\"th-live-118\":1656592032,\"th-live-128\":1658481381,\"th-live-129\":1656592032,\"th-live-131\":1656592032,\"th-live-132\":1656592032,\"th-live-136\":1672823594,\"th-live-138\":1649754651,\"th-live-14\":1673584215,\"th-live-140\":1656592032,\"th-live-141\":1649754651,\"th-live-143\":1649754651,\"th-live-145\":1656592032,\"th-live-147\":1649754651,\"th-live-148\":1613634051,\"th-live-15\":1666834600,\"th-live-151\":1656592032,\"th-live-155\":1656592032,\"th-live-158\":1656592032,\"th-live-16\":1675392620,\"th-live-166\":1649754651,\"th-live-167\":1649754651,\"th-live-17\":1670231446,\"th-live-18\":1665459985,\"th-live-184\":1599448355,\"th-live-189\":1656592032,\"th-live-20\":1656592032,\"th-live-204\":1670231446,\"th-live-206\":1656592032,\"th-live-209\":1672891708,\"th-live-21\":1669864286,\"th-live-213\":1641889752,\"th-live-214\":1669626890,\"th-live-223\":1670568542,\"th-live-224\":1649754651,\"th-live-231\":1656592032,\"th-live-235\":1669345746,\"th-live-239\":1675051400,\"th-live-242\":1656592032,\"th-live-243\":1674009165,\"th-live-246\":1649754651,\"th-live-254\":1649754651,\"th-live-255\":1656592032,\"th-live-256\":1661243712,\"th-live-257\":1649754651,\"th-live-258\":1652434726,\"th-live-263\":1656592032,\"th-live-265\":1656592032,\"th-live-268\":1649754651,\"th-live-27\":1674193189,\"th-live-277\":1656592032,\"th-live-28\":1675156307,\"th-live-283\":1656592032,\"th-live-287\":1652867414,\"th-live-29\":1671166219,\"th-live-290\":1649754651,\"th-live-292\":1649754651,\"th-live-294\":1661998479,\"th-live-297\":1649754651,\"th-live-30\":1673584215,\"th-live-300\":1649754651,\"th-live-301\":1649754651,\"th-live-306\":1665738335,\"th-live-31\":1656592032,\"th-live-310\":1649754651,\"th-live-314\":1659414278,\"th-live-318\":1664855926,\"th-live-32\":1663035147,\"th-live-321\":1624941198,\"th-live-326\":1649754651,\"th-live-33\":1660620189,\"th-live-330\":1656592032,\"th-live-340\":1675916236,\"th-live-343\":1632386384,\"th-live-345\":1659926091,\"th-live-354\":1656592032,\"th-live-355\":1657703796,\"th-live-360\":1657162080,\"th-live-361\":1649754651,\"th-live-362\":1649754651,\"th-live-363\":1649754651,\"th-live-368\":1634095524,\"th-live-378\":1649754651,\"th-live-379\":1649754651,\"th-live-380\":1656592032,\"th-live-389\":1665653988,\"th-live-392\":1649754651,\"th-live-397\":1668650110,\"th-live-40\":1666343774,\"th-live-406\":1662968897,\"th-live-409\":1656592032,\"th-live-42\":1656592032,\"th-live-422\":1664953185,\"th-live-426\":1649754651,\"th-live-43\":1673243832,\"th-live-432\":1671422277,\"th-live-436\":1663057992,\"th-live-445\":1660701473,\"th-live-453\":1652434726,\"th-live-457\":1656592032,\"th-live-463\":1651724615,\"th-live-47\":1649754651,\"th-live-474\":1656592032,\"th-live-478\":1656592032,\"th-live-484\":1661747620,\"th-live-490\":1659507764,\"th-live-507\":1663145960,\"th-live-515\":1657695367,\"th-live-520\":1659578556,\"th-live-521\":1659586354,\"th-live-522\":1671785219,\"th-live-524\":1660129555,\"th-live-528\":1664435617,\"th-live-530\":1667455602,\"th-live-531\":1670231446,\"th-live-532\":1663141244,\"th-live-538\":1663818317,\"th-live-545\":1668676205,\"th-live-561\":1671100885,\"th-live-573\":1675936231,\"th-live-7\":1647843523,\"th-live-73\":1649754651,\"th-live-76\":1643359987,\"th-live-8\":1674721182,\"th-live-83\":1656592032,\"th-live-85\":1649754651,\"th-live-9\":1674102672,\"vi-live-10\":1656592032,\"vi-live-100\":1664964772,\"vi-live-101\":1656592032,\"vi-live-102\":1656592032,\"vi-live-107\":1656592032,\"vi-live-108\":1649754651,\"vi-live-111\":1649754651,\"vi-live-113\":1673345590,\"vi-live-118\":1656592032,\"vi-live-128\":1658481381,\"vi-live-129\":1656592032,\"vi-live-131\":1656592032,\"vi-live-132\":1656592032,\"vi-live-136\":1672823594,\"vi-live-138\":1649754651,\"vi-live-14\":1665543034,\"vi-live-140\":1656592032,\"vi-live-141\":1649754651,\"vi-live-143\":1649754651,\"vi-live-145\":1656592032,\"vi-live-147\":1649754651,\"vi-live-148\":1613634051,\"vi-live-15\":1666834600,\"vi-live-151\":1656592032,\"vi-live-155\":1656592032,\"vi-live-158\":1656592032,\"vi-live-16\":1675392620,\"vi-live-166\":1649754651,\"vi-live-167\":1649754651,\"vi-live-17\":1670231446,\"vi-live-18\":1665459985,\"vi-live-184\":1599448355,\"vi-live-189\":1656592032,\"vi-live-20\":1656592032,\"vi-live-204\":1670231446,\"vi-live-206\":1656592032,\"vi-live-209\":1672891708,\"vi-live-21\":1669864286,\"vi-live-213\":1641889752,\"vi-live-214\":1669626890,\"vi-live-223\":1670568542,\"vi-live-224\":1649754651,\"vi-live-231\":1656592032,\"vi-live-235\":1669345746,\"vi-live-239\":1675051400,\"vi-live-242\":1656592032,\"vi-live-243\":1674009165,\"vi-live-246\":1649754651,\"vi-live-254\":1649754651,\"vi-live-255\":1656592032,\"vi-live-256\":1661243712,\"vi-live-257\":1649754651,\"vi-live-258\":1652434726,\"vi-live-263\":1656592032,\"vi-live-265\":1656592032,\"vi-live-268\":1649754651,\"vi-live-27\":1674193189,\"vi-live-277\":1656592032,\"vi-live-28\":1675156307,\"vi-live-283\":1656592032,\"vi-live-287\":1656040006,\"vi-live-29\":1671166219,\"vi-live-290\":1649754651,\"vi-live-292\":1649754651,\"vi-live-294\":1661998479,\"vi-live-297\":1649754651,\"vi-live-30\":1670559399,\"vi-live-300\":1649754651,\"vi-live-301\":1649754651,\"vi-live-306\":1665738335,\"vi-live-31\":1656592032,\"vi-live-310\":1649754651,\"vi-live-314\":1659414278,\"vi-live-318\":1664855926,\"vi-live-32\":1663035147,\"vi-live-321\":1624941198,\"vi-live-326\":1649754651,\"vi-live-33\":1660620189,\"vi-live-330\":1656592032,\"vi-live-340\":1675916236,\"vi-live-343\":1632386384,\"vi-live-345\":1659926091,\"vi-live-354\":1656592032,\"vi-live-355\":1657703796,\"vi-live-360\":1657162080,\"vi-live-361\":1649754651,\"vi-live-362\":1649754651,\"vi-live-363\":1649754651,\"vi-live-368\":1634095524,\"vi-live-378\":1649754651,\"vi-live-379\":1649754651,\"vi-live-380\":1656592032,\"vi-live-389\":1665653988,\"vi-live-392\":1649754651,\"vi-live-397\":1668650110,\"vi-live-40\":1666343774,\"vi-live-406\":1662968897,\"vi-live-409\":1656592032,\"vi-live-42\":1656592032,\"vi-live-422\":1664953185,\"vi-live-426\":1649754651,\"vi-live-43\":1673243832,\"vi-live-432\":1671422277,\"vi-live-436\":1663057992,\"vi-live-445\":1660701473,\"vi-live-453\":1652434726,\"vi-live-457\":1656592032,\"vi-live-463\":1651724615,\"vi-live-47\":1649754651,\"vi-live-474\":1656592032,\"vi-live-478\":1656592032,\"vi-live-484\":1661747620,\"vi-live-490\":1659507764,\"vi-live-507\":1663145960,\"vi-live-515\":1657695367,\"vi-live-520\":1659578556,\"vi-live-521\":1659586354,\"vi-live-522\":1671785219,\"vi-live-524\":1660129555,\"vi-live-528\":1664435617,\"vi-live-530\":1667455602,\"vi-live-531\":1670231446,\"vi-live-532\":1663741806,\"vi-live-538\":1663818317,\"vi-live-545\":1668676205,\"vi-live-561\":1671100885,\"vi-live-573\":1675936231,\"vi-live-7\":1647843523,\"vi-live-73\":1649754651,\"vi-live-76\":1643359987,\"vi-live-8\":1674721182,\"vi-live-83\":1656592032,\"vi-live-85\":1649754651,\"vi-live-9\":1674102672,\"zh-hans-live-10\":1656592032,\"zh-hans-live-100\":1664964772,\"zh-hans-live-101\":1656592032,\"zh-hans-live-102\":1656592032,\"zh-hans-live-107\":1656592032,\"zh-hans-live-108\":1649754651,\"zh-hans-live-111\":1649754651,\"zh-hans-live-113\":1673345590,\"zh-hans-live-118\":1656592032,\"zh-hans-live-128\":1658481381,\"zh-hans-live-129\":1656592032,\"zh-hans-live-131\":1656592032,\"zh-hans-live-132\":1656592032,\"zh-hans-live-136\":1672823594,\"zh-hans-live-138\":1649754651,\"zh-hans-live-14\":1665543034,\"zh-hans-live-140\":1656592032,\"zh-hans-live-141\":1649754651,\"zh-hans-live-143\":1649754651,\"zh-hans-live-145\":1656592032,\"zh-hans-live-147\":1649754651,\"zh-hans-live-148\":1613634051,\"zh-hans-live-15\":1666834600,\"zh-hans-live-151\":1656592032,\"zh-hans-live-155\":1656592032,\"zh-hans-live-158\":1656592032,\"zh-hans-live-16\":1675392620,\"zh-hans-live-166\":1649754651,\"zh-hans-live-167\":1649754651,\"zh-hans-live-17\":1670231446,\"zh-hans-live-18\":1665459985,\"zh-hans-live-184\":1599448355,\"zh-hans-live-189\":1656592032,\"zh-hans-live-20\":1656592032,\"zh-hans-live-204\":1670231446,\"zh-hans-live-206\":1656592032,\"zh-hans-live-209\":1672891708,\"zh-hans-live-21\":1669864286,\"zh-hans-live-213\":1641889752,\"zh-hans-live-214\":1669626890,\"zh-hans-live-223\":1670568542,\"zh-hans-live-224\":1649754651,\"zh-hans-live-231\":1656592032,\"zh-hans-live-235\":1669345746,\"zh-hans-live-239\":1675051400,\"zh-hans-live-242\":1656592032,\"zh-hans-live-243\":1676256945,\"zh-hans-live-246\":1649754651,\"zh-hans-live-254\":1649754651,\"zh-hans-live-255\":1656592032,\"zh-hans-live-256\":1661243712,\"zh-hans-live-257\":1649754651,\"zh-hans-live-258\":1652434726,\"zh-hans-live-263\":1656592032,\"zh-hans-live-265\":1656592032,\"zh-hans-live-268\":1649754651,\"zh-hans-live-27\":1674193189,\"zh-hans-live-277\":1656592032,\"zh-hans-live-28\":1675156307,\"zh-hans-live-283\":1656592032,\"zh-hans-live-287\":1652867414,\"zh-hans-live-29\":1671166219,\"zh-hans-live-290\":1649754651,\"zh-hans-live-292\":1649754651,\"zh-hans-live-294\":1661998479,\"zh-hans-live-297\":1649754651,\"zh-hans-live-30\":1670559399,\"zh-hans-live-300\":1649754651,\"zh-hans-live-301\":1649754651,\"zh-hans-live-306\":1665738335,\"zh-hans-live-31\":1656592032,\"zh-hans-live-310\":1649754651,\"zh-hans-live-314\":1659414278,\"zh-hans-live-318\":1664855926,\"zh-hans-live-32\":1663035147,\"zh-hans-live-321\":1624941198,\"zh-hans-live-326\":1649754651,\"zh-hans-live-33\":1660620189,\"zh-hans-live-330\":1656592032,\"zh-hans-live-340\":1675916236,\"zh-hans-live-343\":1632386384,\"zh-hans-live-345\":1659926091,\"zh-hans-live-354\":1656592032,\"zh-hans-live-355\":1657703796,\"zh-hans-live-360\":1657162080,\"zh-hans-live-361\":1649754651,\"zh-hans-live-362\":1649754651,\"zh-hans-live-363\":1649754651,\"zh-hans-live-368\":1634095524,\"zh-hans-live-378\":1649754651,\"zh-hans-live-379\":1649754651,\"zh-hans-live-380\":1656592032,\"zh-hans-live-389\":1665653988,\"zh-hans-live-392\":1649754651,\"zh-hans-live-397\":1668650110,\"zh-hans-live-40\":1666343774,\"zh-hans-live-406\":1662968897,\"zh-hans-live-409\":1656592032,\"zh-hans-live-42\":1656592032,\"zh-hans-live-422\":1664953185,\"zh-hans-live-426\":1649754651,\"zh-hans-live-43\":1673243832,\"zh-hans-live-432\":1671422277,\"zh-hans-live-436\":1663057992,\"zh-hans-live-445\":1660701473,\"zh-hans-live-453\":1652434726,\"zh-hans-live-457\":1656592032,\"zh-hans-live-463\":1651724615,\"zh-hans-live-47\":1649754651,\"zh-hans-live-474\":1656592032,\"zh-hans-live-478\":1656592032,\"zh-hans-live-484\":1661747620,\"zh-hans-live-490\":1659507764,\"zh-hans-live-507\":1663145960,\"zh-hans-live-515\":1657695367,\"zh-hans-live-520\":1659578556,\"zh-hans-live-521\":1659586354,\"zh-hans-live-522\":1671785219,\"zh-hans-live-524\":1660129555,\"zh-hans-live-528\":1664435617,\"zh-hans-live-530\":1667455602,\"zh-hans-live-531\":1670231446,\"zh-hans-live-532\":1663141244,\"zh-hans-live-538\":1663818317,\"zh-hans-live-545\":1668676205,\"zh-hans-live-561\":1671100885,\"zh-hans-live-573\":1675936231,\"zh-hans-live-7\":1647843523,\"zh-hans-live-73\":1649754651,\"zh-hans-live-76\":1643359987,\"zh-hans-live-8\":1674721182,\"zh-hans-live-83\":1656592032,\"zh-hans-live-85\":1649754651,\"zh-hans-live-9\":1674102672,\"zh-hant-live-10\":1656592032,\"zh-hant-live-100\":1664964772,\"zh-hant-live-101\":1656592032,\"zh-hant-live-102\":1656592032,\"zh-hant-live-107\":1656592032,\"zh-hant-live-108\":1649754651,\"zh-hant-live-111\":1649754651,\"zh-hant-live-113\":1673345590,\"zh-hant-live-118\":1656592032,\"zh-hant-live-128\":1658481381,\"zh-hant-live-129\":1656592032,\"zh-hant-live-131\":1656592032,\"zh-hant-live-132\":1656592032,\"zh-hant-live-136\":1672823594,\"zh-hant-live-138\":1649754651,\"zh-hant-live-14\":1665543034,\"zh-hant-live-140\":1656592032,\"zh-hant-live-141\":1649754651,\"zh-hant-live-143\":1649754651,\"zh-hant-live-145\":1656592032,\"zh-hant-live-147\":1649754651,\"zh-hant-live-15\":1666834600,\"zh-hant-live-151\":1656592032,\"zh-hant-live-155\":1656592032,\"zh-hant-live-158\":1656592032,\"zh-hant-live-16\":1675392620,\"zh-hant-live-166\":1649754651,\"zh-hant-live-167\":1649754651,\"zh-hant-live-17\":1670231446,\"zh-hant-live-18\":1665459985,\"zh-hant-live-184\":1599448355,\"zh-hant-live-189\":1656592032,\"zh-hant-live-20\":1656592032,\"zh-hant-live-204\":1670231446,\"zh-hant-live-206\":1656592032,\"zh-hant-live-209\":1672891708,\"zh-hant-live-21\":1669864286,\"zh-hant-live-213\":1641889752,\"zh-hant-live-214\":1669626890,\"zh-hant-live-223\":1670568542,\"zh-hant-live-224\":1649754651,\"zh-hant-live-231\":1656592032,\"zh-hant-live-235\":1669345746,\"zh-hant-live-239\":1675051400,\"zh-hant-live-242\":1656592032,\"zh-hant-live-243\":1676256945,\"zh-hant-live-246\":1649754651,\"zh-hant-live-254\":1649754651,\"zh-hant-live-255\":1656592032,\"zh-hant-live-256\":1661243712,\"zh-hant-live-257\":1649754651,\"zh-hant-live-258\":1652434726,\"zh-hant-live-263\":1656592032,\"zh-hant-live-265\":1656592032,\"zh-hant-live-268\":1649754651,\"zh-hant-live-27\":1674193189,\"zh-hant-live-277\":1656592032,\"zh-hant-live-28\":1675156307,\"zh-hant-live-283\":1656592032,\"zh-hant-live-287\":1652867414,\"zh-hant-live-29\":1671166219,\"zh-hant-live-290\":1649754651,\"zh-hant-live-292\":1649754651,\"zh-hant-live-294\":1661998479,\"zh-hant-live-297\":1649754651,\"zh-hant-live-30\":1670559399,\"zh-hant-live-300\":1649754651,\"zh-hant-live-301\":1649754651,\"zh-hant-live-306\":1665738335,\"zh-hant-live-31\":1656592032,\"zh-hant-live-310\":1649754651,\"zh-hant-live-314\":1659414278,\"zh-hant-live-318\":1664855926,\"zh-hant-live-32\":1663035147,\"zh-hant-live-321\":1624941198,\"zh-hant-live-326\":1649754651,\"zh-hant-live-33\":1660620189,\"zh-hant-live-330\":1656592032,\"zh-hant-live-340\":1675916236,\"zh-hant-live-343\":1632386384,\"zh-hant-live-345\":1659926091,\"zh-hant-live-354\":1656592032,\"zh-hant-live-355\":1657703796,\"zh-hant-live-360\":1657162080,\"zh-hant-live-361\":1649754651,\"zh-hant-live-362\":1649754651,\"zh-hant-live-363\":1649754651,\"zh-hant-live-368\":1634095524,\"zh-hant-live-378\":1649754651,\"zh-hant-live-379\":1649754651,\"zh-hant-live-380\":1656592032,\"zh-hant-live-389\":1665653988,\"zh-hant-live-392\":1649754651,\"zh-hant-live-397\":1668650110,\"zh-hant-live-40\":1666343774,\"zh-hant-live-406\":1662968897,\"zh-hant-live-409\":1656592032,\"zh-hant-live-42\":1656592032,\"zh-hant-live-422\":1664953185,\"zh-hant-live-426\":1649754651,\"zh-hant-live-43\":1673243832,\"zh-hant-live-432\":1671422277,\"zh-hant-live-436\":1663057992,\"zh-hant-live-445\":1660701473,\"zh-hant-live-453\":1652434726,\"zh-hant-live-457\":1656592032,\"zh-hant-live-463\":1651724615,\"zh-hant-live-47\":1649754651,\"zh-hant-live-474\":1656592032,\"zh-hant-live-478\":1664273223,\"zh-hant-live-484\":1661747620,\"zh-hant-live-490\":1659507764,\"zh-hant-live-507\":1663145960,\"zh-hant-live-515\":1657695367,\"zh-hant-live-520\":1659578556,\"zh-hant-live-521\":1659586354,\"zh-hant-live-522\":1671785219,\"zh-hant-live-524\":1660129555,\"zh-hant-live-528\":1664435617,\"zh-hant-live-530\":1667455602,\"zh-hant-live-531\":1670231446,\"zh-hant-live-532\":1663141244,\"zh-hant-live-538\":1663818317,\"zh-hant-live-545\":1668676205,\"zh-hant-live-561\":1671100885,\"zh-hant-live-573\":1675936231,\"zh-hant-live-7\":1647843523,\"zh-hant-live-73\":1649754651,\"zh-hant-live-76\":1643359987,\"zh-hant-live-8\":1674721182,\"zh-hant-live-83\":1656592032,\"zh-hant-live-85\":1649754651,\"zh-hant-live-9\":1674102672}},\"legacy\":{\"js\":[\"https://deo.shopeemobile.com/shopee/shopee-mobilemall-live-sg/categorypage/mobilemall-categorypage.30355d71b0a2537de6b9.legacy.js\",\"https://deo.shopeemobile.com/shopee/modules-federation/live/0/shopee_common__time/2.3.1.legacy.js\",\"https://deo.shopeemobile.com/shopee/modules-federation/live/0/shopee__settings/1.0.37.legacy.js\",\"https://deo.shopeemobile.com/shopee/modules-federation/live/0/shopee__language/1.1.19.legacy.js\",\"https://deo.shopeemobile.com/shopee/modules-federation/live/0/shopee_common__currency/4.0.1.legacy.js\",\"https://deo.shopeemobile.com/shopee/modules-federation/live/0/shopee__domain/0.2.46.legacy.js\"],\"css\":[\"https://deo.shopeemobile.com/shopee/shopee-mobilemall-live-sg/categorypage/mobilemall-categorypage.386cd74ecb687179b394.legacy.css\"]},\"modern\":{\"js\":[\"https://deo.shopeemobile.com/shopee/shopee-mobilemall-live-sg/categorypage/mobilemall-categorypage.73249ec1ac4944b3a4be.js\",\"https://deo.shopeemobile.com/shopee/modules-federation/live/0/shopee_common__time/2.3.1.js\",\"https://deo.shopeemobile.com/shopee/modules-federation/live/0/shopee__settings/1.0.37.js\",\"https://deo.shopeemobile.com/shopee/modules-federation/live/0/shopee__language/1.1.19.js\",\"https://deo.shopeemobile.com/shopee/modules-federation/live/0/shopee_common__currency/4.0.1.js\",\"https://deo.shopeemobile.com/shopee/modules-federation/live/0/shopee__domain/0.2.46.js\"],\"css\":[\"https://deo.shopeemobile.com/shopee/shopee-mobilemall-live-sg/categorypage/mobilemall-categorypage.9d49d36cb1a9051dc1f3.css\"]}},\"mobilemall-chatbroadcast\":\"https://deo.shopeemobile.com/shopee/stm-sg-live/webfe-rp-assets/5278/asset-TW-live.43c679e78183ba41366f1f12ad1e0563.json\",\"mobilemall-checkout\":\"https://deo.shopeemobile.com/shopee/stm-sg-live/webfe-rp-assets/36218/asset-TW-live.cad77e51ec5d6d09635cab3222ca3910.json\",\"mobilemall-coins\":\"https://deo.shopeemobile.com/shopee/stm-sg-live/webfe-rp-assets/32579/asset-TW-live.d247632b47b8e49318d22bc5754e7729.json\",\"mobilemall-coinsfe\":null,\"mobilemall-coinsrewardpage\":\"https://deo.shopeemobile.com/shopee/stm-sg-live/webfe-rp-assets/4989/asset-TW-live.b5b2e61bab8d3ea3400e45268726e03f.json\",\"mobilemall-dailycheckin\":[\"https://deo.shopeemobile.com/shopee/shopee-mobilemall-live-sg/dailycheckin/main.be955e832b38f2f52f56.css\",\"https://deo.shopeemobile.com/shopee/shopee-mobilemall-live-sg/dailycheckin/main.e855ae89941e9be5faf3.js\"],\"mobilemall-ebcomponents-mb\":\"https://deo.shopeemobile.com/shopee/stm-sg-live/webfe-rp-assets/34555/asset-TW-live.ce38683db0a3d418e7030bed00fe919a.json\",\"mobilemall-ebcomponents-quiz\":\"https://deo.shopeemobile.com/shopee/stm-sg-live/webfe-rp-assets/30757/asset-TW-live.50a46d14ec40eaa3274d6ecb11674c73.json\",\"mobilemall-ebcomponents-voting\":\"https://deo.shopeemobile.com/shopee/stm-sg-live/webfe-rp-assets/31907/asset-TW-live.1cc347832806d00dc7d0aa2390f15342.json\",\"mobilemall-entrycollectionlanding\":\"https://deo.shopeemobile.com/shopee/stm-sg-live/webfe-rp-assets/27376/asset-TW-live.f4fc8558b4046f943564f8e29999a428.json\",\"mobilemall-flashsale\":\"https://deo.shopeemobile.com/shopee/stm-sg-live/webfe-rp-assets/7773/asset-TW-live.7f98ead666b17e2d08b56951fa79e922.json\",\"mobilemall-flashsaleentrance\":\"https://deo.shopeemobile.com/shopee/stm-sg-live/webfe-rp-assets/17901/asset-TW-live.17bd7c53787d02367593faa91be0c981.json\",\"mobilemall-flashsalesoldout\":\"https://deo.shopeemobile.com/shopee/stm-sg-live/webfe-rp-assets/31332/asset-TW-live.e7b0d2386f00690e1888e55d50ccf6eb.json\",\"mobilemall-formmanagement\":\"https://deo.shopeemobile.com/shopee/stm-sg-live/webfe-rp-assets/32390/asset-TW-live.b52feea47d44cf90f85d2289effcb7a0.json\",\"mobilemall-groupbuy\":[\"https://deo.shopeemobile.com/shopee/shopee-mobilemall-live-sg/groupbuy/mobilemall-groupbuy.1766d1d54bcad470a7d5.js\"],\"mobilemall-homepage\":\"https://deo.shopeemobile.com/shopee/stm-sg-live/webfe-rp-assets/23414/asset-TW-live.6e6cc18aa5b90e51146bb6dade8b9f3e.json\",\"mobilemall-intermediate\":{\"version\":1,\"assets\":{},\"legacy\":{\"js\":[\"https://deo.shopeemobile.com/shopee/shopee-mobilemall-live-sg/intermediate/mobilemall-intermediate.8ba99894becb139af452.legacy.js\"],\"css\":[\"https://deo.shopeemobile.com/shopee/shopee-mobilemall-live-sg/intermediate/mobilemall-intermediate.8151927b8e260ed61a08.legacy.css\"]},\"modern\":{\"js\":[\"https://deo.shopeemobile.com/shopee/shopee-mobilemall-live-sg/intermediate/mobilemall-intermediate.8ba99894becb139af452.legacy.js\"],\"css\":[\"https://deo.shopeemobile.com/shopee/shopee-mobilemall-live-sg/intermediate/mobilemall-intermediate.8151927b8e260ed61a08.legacy.css\"]}},\"mobilemall-intermediateabtest\":\"https://deo.shopeemobile.com/shopee/stm-sg-live/webfe-rp-assets/26088/asset-TW-live.733c45ed34635b2904d06869ca2f6141.json\",\"mobilemall-intermediateinstall\":\"https://deo.shopeemobile.com/shopee/stm-sg-live/webfe-rp-assets/28271/asset-TW-live.f55d714ed727e46c8d65364cd4bd4669.json\",\"mobilemall-kexintest\":null,\"mobilemall-mall-brand-list-page\":\"https://deo.shopeemobile.com/shopee/stm-sg-live/webfe-rp-assets/29523/asset-TW-live.6ba216918300bb5518a648a1d11551ef.json\",\"mobilemall-mall-landing-page\":\"https://deo.shopeemobile.com/shopee/stm-sg-live/webfe-rp-assets/29325/asset-TW-live.7631c6caa38f33b9b100211bba72b886.json\",\"mobilemall-mallbrands\":\"https://deo.shopeemobile.com/shopee/stm-sg-live/webfe-rp-assets/39473/asset-TW-live.dd1c00fb8cff4cc623b3c370577e5ad4.json\",\"mobilemall-mallcategories\":\"https://deo.shopeemobile.com/shopee/stm-sg-live/webfe-rp-assets/39565/asset-TW-live.a80c4dfb187cc2c6a6995c974e4685d2.json\",\"mobilemall-malllanding\":\"https://deo.shopeemobile.com/shopee/stm-sg-live/webfe-rp-assets/39367/asset-TW-live.1789ead03fdff60614142b239130bef3.json\",\"mobilemall-mart-categorylandingpage\":\"https://deo.shopeemobile.com/shopee/stm-sg-live/webfe-rp-assets/36482/asset-TW-live.0963dad397d48b3f94c70924aee67730.json\",\"mobilemall-mart-dealspage\":\"https://deo.shopeemobile.com/shopee/stm-sg-live/webfe-rp-assets/36581/asset-TW-live.e18bef205e336781865009141e32e373.json\",\"mobilemall-mart-homepage\":\"https://deo.shopeemobile.com/shopee/stm-sg-live/webfe-rp-assets/36668/asset-TW-live.b9fc088b7b9dd95c40da61700251bfde.json\",\"mobilemall-mart-navigation-bar\":\"https://deo.shopeemobile.com/shopee/stm-sg-live/webfe-rp-assets/42280/asset-TW-live.f29a0c03dc8e0514c414f8737cb1c292.json\",\"mobilemall-mart-voucherlandingpage\":\"https://deo.shopeemobile.com/shopee/stm-sg-live/webfe-rp-assets/42567/asset-TW-live.f80740331c45abae323f27d37eca0032.json\",\"mobilemall-martcategorylistpage\":\"https://deo.shopeemobile.com/shopee/stm-sg-live/webfe-rp-assets/35157/asset-TW-live.508100477a49f05aea87e5a6c9e92294.json\",\"mobilemall-mepage\":[\"https://deo.shopeemobile.com/shopee/shopee-mobilemall-live-sg/mepage/mobilemall-mepage.510ea52212b12af397bc.css\",\"https://deo.shopeemobile.com/shopee/shopee-mobilemall-live-sg/mepage/mobilemall-mepage.a3ec5d9f84c40fdcde6d.js\"],\"mobilemall-micrositepage\":{\"version\":1,\"assets\":{},\"legacy\":{\"js\":[\"https://deo.shopeemobile.com/shopee/shopee-mobilemall-live-sg/micrositepage/mobilemall-micrositepage.1045868289c2bbf65af4.legacy.js\",\"https://deo.shopeemobile.com/shopee/modules-federation/live/0/shopee__language/1.1.19.legacy.js\",\"https://deo.shopeemobile.com/shopee/modules-federation/live/0/shopee_common__time/2.3.1.legacy.js\",\"https://deo.shopeemobile.com/shopee/modules-federation/live/0/shopee_common__currency/4.0.1.legacy.js\",\"https://deo.shopeemobile.com/shopee/modules-federation/live/0/shopee__domain/0.2.46.legacy.js\",\"https://deo.shopeemobile.com/shopee/modules-federation/live/0/shopee__settings/1.0.37.legacy.js\"],\"css\":[\"https://deo.shopeemobile.com/shopee/shopee-mobilemall-live-sg/micrositepage/mobilemall-micrositepage.7ff529485d074c24d10f.legacy.css\"]},\"modern\":{\"js\":[\"https://deo.shopeemobile.com/shopee/shopee-mobilemall-live-sg/micrositepage/mobilemall-micrositepage.1045868289c2bbf65af4.legacy.js\",\"https://deo.shopeemobile.com/shopee/modules-federation/live/0/shopee__language/1.1.19.legacy.js\",\"https://deo.shopeemobile.com/shopee/modules-federation/live/0/shopee_common__time/2.3.1.legacy.js\",\"https://deo.shopeemobile.com/shopee/modules-federation/live/0/shopee_common__currency/4.0.1.legacy.js\",\"https://deo.shopeemobile.com/shopee/modules-federation/live/0/shopee__domain/0.2.46.legacy.js\",\"https://deo.shopeemobile.com/shopee/modules-federation/live/0/shopee__settings/1.0.37.legacy.js\"],\"css\":[\"https://deo.shopeemobile.com/shopee/shopee-mobilemall-live-sg/micrositepage/mobilemall-micrositepage.7ff529485d074c24d10f.legacy.css\"]}},\"mobilemall-micrositepagebuilder\":null,\"mobilemall-orderlist\":\"https://deo.shopeemobile.com/shopee/stm-sg-live/webfe-rp-assets/7929/asset-TW-live.f837a9c4a7ec826be83436cb5e1d82d5.json\",\"mobilemall-ordersellercollections\":null,\"mobilemall-pagedpvoucherredemption\":\"https://deo.shopeemobile.com/shopee/stm-sg-live/webfe-rp-assets/24311/asset-TW-live.87f6cf2d1b02a72928a4781ee92421c1.json\",\"mobilemall-pageitemrating\":\"https://deo.shopeemobile.com/shopee/stm-sg-live/webfe-rp-assets/41329/asset-TW-live.6e4094656ec708ef18e7a116f293bd34.json\",\"mobilemall-pageratingreport\":\"https://deo.shopeemobile.com/shopee/stm-sg-live/webfe-rp-assets/41423/asset-TW-live.b2fc79a617229761d8f348c70a536d44.json\",\"mobilemall-pagereplyrating\":\"https://deo.shopeemobile.com/shopee/stm-sg-live/webfe-rp-assets/41537/asset-TW-live.cff770878ec84fab42e42cf6f283aa5d.json\",\"mobilemall-pageshoprating\":\"https://deo.shopeemobile.com/shopee/stm-sg-live/webfe-rp-assets/41620/asset-TW-live.36d96c19133e913c5451fb0e0fd78a4f.json\",\"mobilemall-paymentfe\":\"https://deo.shopeemobile.com/shopee/stm-sg-live/webfe-rp-assets/3064/asset-TW-live.d086716c16935f943109f52d7dfa61f3.json\",\"mobilemall-pdp\":\"https://deo.shopeemobile.com/shopee/stm-sg-live/webfe-rp-assets/15782/asset-TW-live.15d65ad34ede35acaf1a481d2fe7eac9.json\",\"mobilemall-pdpvoucherdrawer\":\"https://deo.shopeemobile.com/shopee/stm-sg-live/webfe-rp-assets/24066/asset-TW-live.2171077a517c89fe0d7268de834a0a55.json\",\"mobilemall-platformvouchers\":\"https://deo.shopeemobile.com/shopee/stm-sg-live/webfe-rp-assets/23680/asset-TW-live.c700c7e754975968e97d8ea109173f8e.json\",\"mobilemall-productcollectionlanding\":\"https://deo.shopeemobile.com/shopee/stm-sg-live/webfe-rp-assets/27337/asset-TW-live.8c8f85ed0d131aa11ba4b1aaaa2d0a85.json\",\"mobilemall-productdetailspage\":\"https://deo.shopeemobile.com/shopee/stm-sg-live/webfe-rp-assets/32730/asset-TW-live.963306c27dccfa49022e7933d2cae115.json\",\"mobilemall-productrating\":\"https://deo.shopeemobile.com/shopee/stm-sg-live/webfe-rp-assets/42082/asset-TW-live.aaf099d83af694b52dfb9a1c24e66aea.json\",\"mobilemall-rcmd-cart-ymal\":\"https://deo.shopeemobile.com/shopee/stm-sg-live/webfe-rp-assets/23235/asset-TW-live.f9ee23368b6a769a390e339c357dbf63.json\",\"mobilemall-rcmd-category-module\":\"https://deo.shopeemobile.com/shopee/stm-sg-live/webfe-rp-assets/34652/asset-TW-live.ff53021099f9edb287593adcd316c768.json\",\"mobilemall-rcmd-daily-discover-module\":\"https://deo.shopeemobile.com/shopee/stm-sg-live/webfe-rp-assets/36092/asset-TW-live.d5a6a16dc38c749a9ce5f90777a51b39.json\",\"mobilemall-rcmd-daily-discover-page\":null,\"mobilemall-rcmd-featured-collections-module\":null,\"mobilemall-rcmd-featured-collections-page\":null,\"mobilemall-rcmd-flash-sale-sold-out-page\":\"https://deo.shopeemobile.com/shopee/stm-sg-live/webfe-rp-assets/33212/asset-TW-live.b89c96d85f3a08b8addf949509f9147a.json\",\"mobilemall-rcmd-fsp-page\":null,\"mobilemall-rcmd-home-top-products-module\":null,\"mobilemall-rcmd-home-top-products-page\":null,\"mobilemall-rcmd-mart-buy-again-module\":null,\"mobilemall-rcmd-mart-buy-again-page\":null,\"mobilemall-rcmd-mart-recommendation-module\":null,\"mobilemall-rcmd-pdp-ftss\":\"https://deo.shopeemobile.com/shopee/stm-sg-live/webfe-rp-assets/35529/asset-TW-live.288dba14cdb5315cca4e003f419fbc46.json\",\"mobilemall-rcmd-pdp-ftss-page\":null,\"mobilemall-rcmd-pdp-hot-sales\":null,\"mobilemall-rcmd-pdp-sp\":\"https://deo.shopeemobile.com/shopee/stm-sg-live/webfe-rp-assets/35615/asset-TW-live.4d35a67dcd2c8f9ee4ed637001463716.json\",\"mobilemall-rcmd-pdp-sp-page\":null,\"mobilemall-rcmd-pdp-ymal\":\"https://deo.shopeemobile.com/shopee/stm-sg-live/webfe-rp-assets/35719/asset-TW-live.ceb60b93343525bb90f4c18a094255de.json\",\"mobilemall-rcmd-shop-category-page\":\"https://deo.shopeemobile.com/shopee/stm-sg-live/webfe-rp-assets/35325/asset-TW-live.6213c9f207bb307333152ca360cebc4b.json\",\"mobilemall-rcmd-shop-hot-deals-page\":null,\"mobilemall-rcmd-shop-jfy-module\":null,\"mobilemall-rcmd-shop-rfy-page\":null,\"mobilemall-return\":\"https://deo.shopeemobile.com/shopee/stm-sg-live/webfe-rp-assets/5567/asset-TW-live.cfb03f438c9f85bb7801d883d1d7edb0.json\",\"mobilemall-returnevidence\":\"https://deo.shopeemobile.com/shopee/stm-sg-live/webfe-rp-assets/34361/asset-TW-live.768587ea8f3c5946e9453f4a764d5471.json\",\"mobilemall-sclp\":\"https://deo.shopeemobile.com/shopee/stm-sg-live/webfe-rp-assets/15084/asset-TW-live.8a80a8f9dd06a779fdfed01ef1369893.json\",\"mobilemall-search-srp-user\":null,\"mobilemall-search-user-page\":null,\"mobilemall-sellervoucher\":\"https://deo.shopeemobile.com/shopee/stm-sg-live/webfe-rp-assets/24130/asset-TW-live.52da26652060df9515f836244eae7a89.json\",\"mobilemall-sellervouchercard\":\"https://deo.shopeemobile.com/shopee/stm-sg-live/webfe-rp-assets/23956/asset-TW-live.75cb92e0ed4d71d430980e35bfadf7ad.json\",\"mobilemall-shop\":\"https://deo.shopeemobile.com/shopee/stm-sg-live/webfe-rp-assets/5076/asset-TW-live.79b2cf5d7a47d412541ecf514d7ddca2.json\",\"mobilemall-shopcollectionlanding\":\"https://deo.shopeemobile.com/shopee/stm-sg-live/webfe-rp-assets/27088/asset-TW-live.cbb2420780dbd3f35d288a00f56c46e5.json\",\"mobilemall-shopcustompage\":\"https://deo.shopeemobile.com/shopee/stm-sg-live/webfe-rp-assets/18910/asset-TW-live.0074f259505e5c43bde1ff7c5d742ff9.json\",\"mobilemall-shopflashsale\":\"https://deo.shopeemobile.com/shopee/stm-sg-live/webfe-rp-assets/18168/asset-TW-live.cb3dd8bdedaefcc4c38ece71b4eb914c.json\",\"mobilemall-shopflashsalecampaign\":\"https://deo.shopeemobile.com/shopee/stm-sg-live/webfe-rp-assets/19675/asset-TW-live.7ad1d4060f5dede925bca999b6623883.json\",\"mobilemall-shopflashsaleentrance\":\"https://deo.shopeemobile.com/shopee/stm-sg-live/webfe-rp-assets/18247/asset-TW-live.139d48e76e1dd9006743af38f44d9888.json\",\"mobilemall-shopmainbrowseitems\":\"https://deo.shopeemobile.com/shopee/stm-sg-live/webfe-rp-assets/5875/asset-TW-live.773a75ecb2899a8b0a2f8764699c6e6f.json\",\"mobilemall-shoppagesellervoucherpreview\":\"https://deo.shopeemobile.com/shopee/stm-sg-live/webfe-rp-assets/24398/asset-TW-live.36a71bb023b136c36d0732c15fadc3d4.json\",\"mobilemall-shopvouchers\":\"https://deo.shopeemobile.com/shopee/stm-sg-live/webfe-rp-assets/23863/asset-TW-live.4684a55024cacac6e690147c65eb365e.json\",\"mobilemall-smartflashsale\":\"https://deo.shopeemobile.com/shopee/stm-sg-live/webfe-rp-assets/18037/asset-TW-live.9a1d65cdcade00f4a26e18e26e8faa91.json\",\"mobilemall-smartflashsaleentrance\":\"https://deo.shopeemobile.com/shopee/stm-sg-live/webfe-rp-assets/18116/asset-TW-live.305146f2558893d74bb3aa37b9cbbab2.json\",\"mobilemall-useraccount\":\"https://deo.shopeemobile.com/shopee/stm-sg-live/webfe-rp-assets/22299/asset-TW-live.9274dc58a14f83ab081ed65135cfc1e0.json\",\"mobilemall-voucherpromotiontext\":\"https://deo.shopeemobile.com/shopee/stm-sg-live/webfe-rp-assets/24224/asset-TW-live.3b07c831fadd61e173b2f255afd38aea.json\",\"mobilemall-welcomepackage\":\"https://deo.shopeemobile.com/shopee/stm-sg-live/webfe-rp-assets/41891/asset-TW-live.6241bd0f5b58da7ab269626f75e1f8b4.json\"},\"TRANSIFY_COLLECTION_MAPPING\":{\"en-live-10\":1656592032,\"en-live-100\":1669962906,\"en-live-101\":1669948146,\"en-live-102\":1656592032,\"en-live-107\":1656592032,\"en-live-108\":1649754651,\"en-live-111\":1649754651,\"en-live-113\":1673606135,\"en-live-118\":1656592032,\"en-live-128\":1658481381,\"en-live-129\":1656592032,\"en-live-131\":1656592032,\"en-live-132\":1656592032,\"en-live-136\":1672823594,\"en-live-138\":1649754651,\"en-live-14\":1673584215,\"en-live-140\":1656592032,\"en-live-141\":1649754651,\"en-live-143\":1649754651,\"en-live-145\":1656592032,\"en-live-147\":1649754651,\"en-live-148\":1613634051,\"en-live-15\":1666834600,\"en-live-151\":1656592032,\"en-live-155\":1656592032,\"en-live-158\":1656592032,\"en-live-16\":1676286079,\"en-live-166\":1649754651,\"en-live-167\":1649754651,\"en-live-17\":1670231446,\"en-live-18\":1665459985,\"en-live-184\":1599448355,\"en-live-189\":1656592032,\"en-live-20\":1656592032,\"en-live-204\":1670231446,\"en-live-206\":1656592032,\"en-live-209\":1672891708,\"en-live-21\":1669864286,\"en-live-213\":1641889752,\"en-live-214\":1669626890,\"en-live-223\":1670568542,\"en-live-224\":1649754651,\"en-live-231\":1656592032,\"en-live-235\":1669345746,\"en-live-239\":1675051400,\"en-live-242\":1656592032,\"en-live-243\":1676256870,\"en-live-246\":1649754651,\"en-live-254\":1649754651,\"en-live-255\":1656592032,\"en-live-256\":1661243712,\"en-live-257\":1649754651,\"en-live-258\":1652434726,\"en-live-263\":1656592032,\"en-live-265\":1656592032,\"en-live-268\":1649754651,\"en-live-27\":1674193189,\"en-live-277\":1656592032,\"en-live-28\":1675156307,\"en-live-283\":1656592032,\"en-live-287\":1652867414,\"en-live-29\":1671166219,\"en-live-290\":1649754651,\"en-live-292\":1649754651,\"en-live-294\":1661998479,\"en-live-297\":1649754651,\"en-live-30\":1673584215,\"en-live-300\":1649754651,\"en-live-301\":1649754651,\"en-live-306\":1665738335,\"en-live-31\":1656592032,\"en-live-310\":1649754651,\"en-live-311\":1622803477,\"en-live-314\":1659414278,\"en-live-318\":1664855926,\"en-live-32\":1663035147,\"en-live-321\":1624941198,\"en-live-326\":1649754651,\"en-live-33\":1660620189,\"en-live-330\":1656592032,\"en-live-340\":1675916236,\"en-live-343\":1632386384,\"en-live-345\":1659926091,\"en-live-354\":1656592032,\"en-live-355\":1657703796,\"en-live-360\":1657162080,\"en-live-361\":1649754651,\"en-live-362\":1649754651,\"en-live-363\":1649754651,\"en-live-368\":1634095524,\"en-live-378\":1649754651,\"en-live-379\":1649754651,\"en-live-380\":1656592032,\"en-live-389\":1665653988,\"en-live-392\":1649754651,\"en-live-397\":1668650110,\"en-live-40\":1666343774,\"en-live-406\":1662968897,\"en-live-409\":1656592032,\"en-live-42\":1656592032,\"en-live-422\":1664953185,\"en-live-426\":1649754651,\"en-live-43\":1673243832,\"en-live-432\":1671422277,\"en-live-436\":1663057992,\"en-live-445\":1660701473,\"en-live-453\":1652434726,\"en-live-457\":1656592032,\"en-live-463\":1651724615,\"en-live-47\":1649754651,\"en-live-474\":1656592032,\"en-live-478\":1656592032,\"en-live-484\":1661747620,\"en-live-490\":1659507764,\"en-live-507\":1663145960,\"en-live-515\":1657695367,\"en-live-520\":1659578556,\"en-live-521\":1659586354,\"en-live-522\":1671785219,\"en-live-524\":1660129555,\"en-live-528\":1664435617,\"en-live-530\":1667455602,\"en-live-531\":1670231446,\"en-live-532\":1663741806,\"en-live-538\":1663818317,\"en-live-545\":1668676205,\"en-live-561\":1671100885,\"en-live-573\":1675936231,\"en-live-7\":1647843523,\"en-live-73\":1649754651,\"en-live-76\":1643359987,\"en-live-8\":1675152140,\"en-live-83\":1656592032,\"en-live-85\":1649754651,\"en-live-9\":1674102672,\"zh-hans-live-10\":1656592032,\"zh-hans-live-100\":1664964772,\"zh-hans-live-101\":1656592032,\"zh-hans-live-102\":1656592032,\"zh-hans-live-107\":1656592032,\"zh-hans-live-108\":1649754651,\"zh-hans-live-111\":1649754651,\"zh-hans-live-113\":1673345590,\"zh-hans-live-118\":1656592032,\"zh-hans-live-128\":1658481381,\"zh-hans-live-129\":1656592032,\"zh-hans-live-131\":1656592032,\"zh-hans-live-132\":1656592032,\"zh-hans-live-136\":1672823594,\"zh-hans-live-138\":1649754651,\"zh-hans-live-14\":1665543034,\"zh-hans-live-140\":1656592032,\"zh-hans-live-141\":1649754651,\"zh-hans-live-143\":1649754651,\"zh-hans-live-145\":1656592032,\"zh-hans-live-147\":1649754651,\"zh-hans-live-148\":1613634051,\"zh-hans-live-15\":1666834600,\"zh-hans-live-151\":1656592032,\"zh-hans-live-155\":1656592032,\"zh-hans-live-158\":1656592032,\"zh-hans-live-16\":1676286079,\"zh-hans-live-166\":1649754651,\"zh-hans-live-167\":1649754651,\"zh-hans-live-17\":1670231446,\"zh-hans-live-18\":1665459985,\"zh-hans-live-184\":1599448355,\"zh-hans-live-189\":1656592032,\"zh-hans-live-20\":1656592032,\"zh-hans-live-204\":1670231446,\"zh-hans-live-206\":1656592032,\"zh-hans-live-209\":1672891708,\"zh-hans-live-21\":1669864286,\"zh-hans-live-213\":1641889752,\"zh-hans-live-214\":1669626890,\"zh-hans-live-223\":1670568542,\"zh-hans-live-224\":1649754651,\"zh-hans-live-231\":1656592032,\"zh-hans-live-235\":1669345746,\"zh-hans-live-239\":1675051400,\"zh-hans-live-242\":1656592032,\"zh-hans-live-243\":1676256945,\"zh-hans-live-246\":1649754651,\"zh-hans-live-254\":1649754651,\"zh-hans-live-255\":1656592032,\"zh-hans-live-256\":1661243712,\"zh-hans-live-257\":1649754651,\"zh-hans-live-258\":1652434726,\"zh-hans-live-263\":1656592032,\"zh-hans-live-265\":1656592032,\"zh-hans-live-268\":1649754651,\"zh-hans-live-27\":1674193189,\"zh-hans-live-277\":1656592032,\"zh-hans-live-28\":1675156307,\"zh-hans-live-283\":1656592032,\"zh-hans-live-287\":1652867414,\"zh-hans-live-29\":1671166219,\"zh-hans-live-290\":1649754651,\"zh-hans-live-292\":1649754651,\"zh-hans-live-294\":1661998479,\"zh-hans-live-297\":1649754651,\"zh-hans-live-30\":1670559399,\"zh-hans-live-300\":1649754651,\"zh-hans-live-301\":1649754651,\"zh-hans-live-306\":1665738335,\"zh-hans-live-31\":1656592032,\"zh-hans-live-310\":1649754651,\"zh-hans-live-314\":1659414278,\"zh-hans-live-318\":1664855926,\"zh-hans-live-32\":1663035147,\"zh-hans-live-321\":1624941198,\"zh-hans-live-326\":1649754651,\"zh-hans-live-33\":1660620189,\"zh-hans-live-330\":1656592032,\"zh-hans-live-340\":1675916236,\"zh-hans-live-343\":1632386384,\"zh-hans-live-345\":1659926091,\"zh-hans-live-354\":1656592032,\"zh-hans-live-355\":1657703796,\"zh-hans-live-360\":1657162080,\"zh-hans-live-361\":1649754651,\"zh-hans-live-362\":1649754651,\"zh-hans-live-363\":1649754651,\"zh-hans-live-368\":1634095524,\"zh-hans-live-378\":1649754651,\"zh-hans-live-379\":1649754651,\"zh-hans-live-380\":1656592032,\"zh-hans-live-389\":1665653988,\"zh-hans-live-392\":1649754651,\"zh-hans-live-397\":1668650110,\"zh-hans-live-40\":1666343774,\"zh-hans-live-406\":1662968897,\"zh-hans-live-409\":1656592032,\"zh-hans-live-42\":1656592032,\"zh-hans-live-422\":1664953185,\"zh-hans-live-426\":1649754651,\"zh-hans-live-43\":1673243832,\"zh-hans-live-432\":1671422277,\"zh-hans-live-436\":1663057992,\"zh-hans-live-445\":1660701473,\"zh-hans-live-453\":1652434726,\"zh-hans-live-457\":1656592032,\"zh-hans-live-463\":1651724615,\"zh-hans-live-47\":1649754651,\"zh-hans-live-474\":1656592032,\"zh-hans-live-478\":1656592032,\"zh-hans-live-484\":1661747620,\"zh-hans-live-490\":1659507764,\"zh-hans-live-507\":1663145960,\"zh-hans-live-515\":1657695367,\"zh-hans-live-520\":1659578556,\"zh-hans-live-521\":1659586354,\"zh-hans-live-522\":1671785219,\"zh-hans-live-524\":1660129555,\"zh-hans-live-528\":1664435617,\"zh-hans-live-530\":1667455602,\"zh-hans-live-531\":1670231446,\"zh-hans-live-532\":1663141244,\"zh-hans-live-538\":1663818317,\"zh-hans-live-545\":1668676205,\"zh-hans-live-561\":1671100885,\"zh-hans-live-573\":1675936231,\"zh-hans-live-7\":1647843523,\"zh-hans-live-73\":1649754651,\"zh-hans-live-76\":1643359987,\"zh-hans-live-8\":1674721182,\"zh-hans-live-83\":1656592032,\"zh-hans-live-85\":1649754651,\"zh-hans-live-9\":1674102672,\"zh-hant-live-10\":1656592032,\"zh-hant-live-100\":1664964772,\"zh-hant-live-101\":1656592032,\"zh-hant-live-102\":1656592032,\"zh-hant-live-107\":1656592032,\"zh-hant-live-108\":1649754651,\"zh-hant-live-111\":1649754651,\"zh-hant-live-113\":1673345590,\"zh-hant-live-118\":1656592032,\"zh-hant-live-128\":1658481381,\"zh-hant-live-129\":1656592032,\"zh-hant-live-131\":1656592032,\"zh-hant-live-132\":1656592032,\"zh-hant-live-136\":1672823594,\"zh-hant-live-138\":1649754651,\"zh-hant-live-14\":1665543034,\"zh-hant-live-140\":1656592032,\"zh-hant-live-141\":1649754651,\"zh-hant-live-143\":1649754651,\"zh-hant-live-145\":1656592032,\"zh-hant-live-147\":1649754651,\"zh-hant-live-15\":1666834600,\"zh-hant-live-151\":1656592032,\"zh-hant-live-155\":1656592032,\"zh-hant-live-158\":1656592032,\"zh-hant-live-16\":1676286079,\"zh-hant-live-166\":1649754651,\"zh-hant-live-167\":1649754651,\"zh-hant-live-17\":1670231446,\"zh-hant-live-18\":1665459985,\"zh-hant-live-184\":1599448355,\"zh-hant-live-189\":1656592032,\"zh-hant-live-20\":1656592032,\"zh-hant-live-204\":1670231446,\"zh-hant-live-206\":1656592032,\"zh-hant-live-209\":1672891708,\"zh-hant-live-21\":1669864286,\"zh-hant-live-213\":1641889752,\"zh-hant-live-214\":1669626890,\"zh-hant-live-223\":1670568542,\"zh-hant-live-224\":1649754651,\"zh-hant-live-231\":1656592032,\"zh-hant-live-235\":1669345746,\"zh-hant-live-239\":1675051400,\"zh-hant-live-242\":1656592032,\"zh-hant-live-243\":1676256945,\"zh-hant-live-246\":1649754651,\"zh-hant-live-254\":1649754651,\"zh-hant-live-255\":1656592032,\"zh-hant-live-256\":1661243712,\"zh-hant-live-257\":1649754651,\"zh-hant-live-258\":1652434726,\"zh-hant-live-263\":1656592032,\"zh-hant-live-265\":1656592032,\"zh-hant-live-268\":1649754651,\"zh-hant-live-27\":1674193189,\"zh-hant-live-277\":1656592032,\"zh-hant-live-28\":1675156307,\"zh-hant-live-283\":1656592032,\"zh-hant-live-287\":1652867414,\"zh-hant-live-29\":1671166219,\"zh-hant-live-290\":1649754651,\"zh-hant-live-292\":1649754651,\"zh-hant-live-294\":1661998479,\"zh-hant-live-297\":1649754651,\"zh-hant-live-30\":1670559399,\"zh-hant-live-300\":1649754651,\"zh-hant-live-301\":1649754651,\"zh-hant-live-306\":1665738335,\"zh-hant-live-31\":1656592032,\"zh-hant-live-310\":1649754651,\"zh-hant-live-314\":1659414278,\"zh-hant-live-318\":1664855926,\"zh-hant-live-32\":1663035147,\"zh-hant-live-321\":1624941198,\"zh-hant-live-326\":1649754651,\"zh-hant-live-33\":1660620189,\"zh-hant-live-330\":1656592032,\"zh-hant-live-340\":1675916236,\"zh-hant-live-343\":1632386384,\"zh-hant-live-345\":1659926091,\"zh-hant-live-354\":1656592032,\"zh-hant-live-355\":1657703796,\"zh-hant-live-360\":1657162080,\"zh-hant-live-361\":1649754651,\"zh-hant-live-362\":1649754651,\"zh-hant-live-363\":1649754651,\"zh-hant-live-368\":1634095524,\"zh-hant-live-378\":1649754651,\"zh-hant-live-379\":1649754651,\"zh-hant-live-380\":1656592032,\"zh-hant-live-389\":1665653988,\"zh-hant-live-392\":1649754651,\"zh-hant-live-397\":1668650110,\"zh-hant-live-40\":1666343774,\"zh-hant-live-406\":1662968897,\"zh-hant-live-409\":1656592032,\"zh-hant-live-42\":1656592032,\"zh-hant-live-422\":1664953185,\"zh-hant-live-426\":1649754651,\"zh-hant-live-43\":1673243832,\"zh-hant-live-432\":1671422277,\"zh-hant-live-436\":1663057992,\"zh-hant-live-445\":1660701473,\"zh-hant-live-453\":1652434726,\"zh-hant-live-457\":1656592032,\"zh-hant-live-463\":1651724615,\"zh-hant-live-47\":1649754651,\"zh-hant-live-474\":1656592032,\"zh-hant-live-478\":1664273223,\"zh-hant-live-484\":1661747620,\"zh-hant-live-490\":1659507764,\"zh-hant-live-507\":1663145960,\"zh-hant-live-515\":1657695367,\"zh-hant-live-520\":1659578556,\"zh-hant-live-521\":1659586354,\"zh-hant-live-522\":1671785219,\"zh-hant-live-524\":1660129555,\"zh-hant-live-528\":1664435617,\"zh-hant-live-530\":1667455602,\"zh-hant-live-531\":1670231446,\"zh-hant-live-532\":1663141244,\"zh-hant-live-538\":1663818317,\"zh-hant-live-545\":1668676205,\"zh-hant-live-561\":1671100885,\"zh-hant-live-573\":1675936231,\"zh-hant-live-7\":1647843523,\"zh-hant-live-73\":1649754651,\"zh-hant-live-76\":1643359987,\"zh-hant-live-8\":1674721182,\"zh-hant-live-83\":1656592032,\"zh-hant-live-85\":1649754651,\"zh-hant-live-9\":1674102672},\"TRANSIFY_MAPPING\":{\"en-live\":1675666432,\"en-us-live\":1675666432,\"es-ar-live\":1675666432,\"es-cl-live\":1675666432,\"es-co-live\":1675666432,\"es-es-live\":1675666432,\"es-mx-live\":1675666432,\"fil-live\":1675666432,\"fr-live\":1675666432,\"hi-live\":1675666432,\"id-live\":1675666432,\"ms-my-live\":1675666432,\"pl-live\":1675666432,\"pt-br-live\":1675666432,\"th-live\":1675666432,\"vi-live\":1675666432,\"zh-hans-live\":1675666432,\"zh-hant-live\":1675666432},\"USER_STATIC_TOGGLE\":{\"af_sap_sdk\":true,\"af_sap_legacy\":false,\"use_anti_crawler_api_protection_sdk\":true,\"context_action_account_v2\":false,\"standalone_security_sdk\":true,\"standalone_fetch_utils\":true,\"fetch_account_v2\":false,\"fetch_account_v4\":true,\"account_info_sync_fetch_server_pc\":true,\"account_info_sync_fetch_server_rw\":true,\"account_info_sync_fetch_server_lite\":true,\"account_info_sync_fetch_client_pc\":true,\"account_info_sync_fetch_client_rw\":true,\"account_info_sync_fetch_client_lite\":true,\"account_redux_invalid_server_state_report_pc\":false,\"account_redux_invalid_server_state_report_rw\":false,\"account_redux_invalid_server_state_report_lite\":false,\"signup_otp_zalo_web\":false,\"login_otp_zalo_web\":false,\"authentication_bind_otp_zalo_web\":false,\"otp_shared_service_otp_zalo_web\":false},\"VOUCHER_CARD_MANIFEST\":{\"live\":\"1.35.1\",\"liveish\":\"1.35.1\"}};\\n        /*__asset_override__*/\\n</script>\\n<script>!function(){if(self.document){var e=self.document.createElement(\"script\"),t=\"noModule\"in e,n=t;Object.defineProperty(self,\"SUPPORT_MODULE\",{get:function(){return n},configurable:!1,enumerable:!1}),!t&&\"onbeforeload\"in e&&(self.document.addEventListener(\"beforeload\",(function(t){if(t.target===e)n=!0;else if(!t.target.hasAttribute(\"nomodule\")||!n)return;t.preventDefault()}),!0),e.type=\"module\",e.src=\".\",self.document.head.appendChild(e),e.remove())}}();</script>\\n<script nomodule src=\"https://deo.shopeemobile.com/shopee/shopee-mobilemall-live-sg/assets/polyfill-legacy.86f4aa206f234c7f.legacy.js\"></script>\\n<script>!function(){var t=document&&document.querySelector(\\'script[type^=\"text/shopee-short-url-checked\"]\\'),e=!(!t||\"1\"!==t.textContent),o=(location&&location.origin||\"\").replace(/^(https?:\\\\/\\\\/)lite\\\\./,(function(t,e){return e}));function n(){document&&document.body&&(document.body.style.visibility=\"visible\")}function a(t,e){void 0===e&&(e=!1);var a=function(t){var e=document.createElement(\"a\");return e.href=t,{pathname:e.pathname,hash:e.hash,search:e.search,protocol:e.protocol}}(t),r=a.pathname,i=a.hash;if(e&&(document&&document.body&&(document.body.style.visibility=\"hidden\"),setTimeout(n,5e3)),\"/\"!==r&&!function(t){return\"/supermarket\"===t||\"/supermarket/\"===t}(r)&&function(t){return 1===t.split(\"/\").filter(Boolean).length}(r)&&r.length<256&&\"\"===i&&0===r.lastIndexOf(\"/\")){var s=new XMLHttpRequest;s.open(\"GET\",o+\"/api/v4/pages/is_short_url/?path=\"+r.replace(\"/\",\"\")),s.setRequestHeader(\"Content-Type\",\"application/json\"),s.setRequestHeader(\"Accept\",\"application/json\"),s.onreadystatechange=function(){if(4===this.readyState)if(200===this.status){var t=JSON.parse(this.responseText);t&&t.data&&t.data.url?(console.log(\"Redirecting via short url to: res.data.url\"),location.href=t.data.url):e&&n()}else e&&n()},s.send()}}var r=window.history.pushState;window.history.pushState=function(){var t=arguments[2];t&&a(t),r.apply(history,arguments)};var i=window.history.replaceState;window.history.replaceState=function(){var t=arguments[2];t&&a(t),i.apply(history,arguments)},e||a(location.href,!0)}();</script>\\n<script>if(window.ga=window.ga||function(){(ga.q=ga.q||[]).push(arguments)},ga.l=+new Date,window.PerformanceObserver)try{var observer=new window.PerformanceObserver((function(e){for(var r=e.getEntries(),n=0;n<r.length;n++){var a=r[n],i=a.name,t=Math.round(a.startTime+a.duration);ga(\"send\",{hitType:\"timing\",timingCategory:\"Performance Metrics\",timingVar:i,timingValue:t})}}));observer.observe({entryTypes:[\"paint\"]})}catch(e){}</script>\\n<script>\"loading\"in HTMLImageElement.prototype?document.addEventListener(\"DOMContentLoaded\",(function(){document.querySelectorAll(\"img[loading].lazyload\").forEach((function(e){e.src=e.dataset.src}))})):document.write(\\'<script type=\"text/javascript\" src=\"https://deo.shopeemobile.com/shopee/shopee-mobilemall-live-sg/assets/polyfill.6eeeee64c6017caa.js\"><\\\\/script>\\')</script><script>\"IntersectionObserver\"in window&&\"IntersectionObserverEntry\"in window&&\"intersectionRatio\"in window.IntersectionObserverEntry.prototype&&\"isIntersecting\"in window.IntersectionObserverEntry.prototype||document.write(\\'<script type=\"text/javascript\" src=\"https://deo.shopeemobile.com/shopee/shopee-mobilemall-live-sg/assets/polyfill.e74248e871a636a1.js\"><\\\\/script>\\')</script><script>window.MutationObserver||document.write(\\'<script type=\"text/javascript\" src=\"https://deo.shopeemobile.com/shopee/shopee-mobilemall-live-sg/assets/polyfill.909f7922f04e46f7.js\"><\\\\/script>\\')</script><script>!function(){var e=document.createElement(\"div\").style;e.setProperty&&e.setProperty(\"--x\",\"x\"),e.getPropertyValue&&\"x\"===e.getPropertyValue(\"--x\")||(document.write(\\'<script type=\"text/javascript\" src=\"https://deo.shopeemobile.com/shopee/shopee-mobilemall-live-sg/assets/polyfill.0b761ff65aca5425.js\"><\\\\/script>\\'),document.write(\"<script>window.cssVars({preserveVars:!0,watch:!0});<\\\\/script>\"))}()</script>\\n<script src=\"https://deo.shopeemobile.com/shopee/shopee-trackingsdk-live-sg/index.js\"></script>\\n<script id=\"gtm-script\" data-locale=\"tw\" data-gtm-id=\"GTM-WJZQSJF\" data-delay-load=\"true\">!function(t,e,a,n){t[n]=[];var o=[\"PL\",\"ES\"].indexOf(__LOCALE__)>=0,r=o?\"denied\":\"granted\";!function(){dataLayer.push(arguments)}(\"consent\",\"default\",{consent_analytical:r,consent_functional:r,consent_advertising:r,consent_thirdparty_google:r,consent_thirdparty_tiktok:r,wait_for_update:o?15e3:0});var d=document.currentScript||document.getElementById(\"gtm-script\");if(d){var i=d.getAttribute(\"data-locale\"),c=d.getAttribute(\"data-gtm-id\"),s=d.getAttribute(\"data-delay-load\"),u=\"\",g=0;s&&(u=\"delay\",g=5e3),t[n]=t[n]||[];var m=Date.now(),_={\"gtm.start\":m,event:\"gtm.js\",country:i};u&&(_.userGroup=u),t[n].push(_);var l=!1;t.__shopeeLoadGTM=function(){l||(l=!0,g=Math.max(0,Math.min(g,g-(Date.now()-m))),setTimeout((function(){var t=e.getElementsByTagName(a)[0],n=e.createElement(a);n.async=!0,n.src=\"https://www.googletagmanager.com/gtm.js?id=\"+c,t.parentNode.insertBefore(n,t)}),g))},o||t.__shopeeLoadGTM()}}(window,document,\"script\",\"dataLayer\");</script>\\n<script>var spt=[]</script>\\n<link href=\"https://deo.shopeemobile.com/shopee/shopee-mobilemall-live-sg/assets/entry-modules.54776cc32f12b302.css\" data-modern=\"true\" rel=\"stylesheet\">\\n<link href=\"https://deo.shopeemobile.com/shopee/shopee-mobilemall-live-sg/assets/bundle.7a4dadbb5969686d.css\" data-modern=\"true\" rel=\"stylesheet\">\\n<meta name=\"mobile-web-app-capable\" content=\"yes\" /><meta name=\"apple-touch-fullscreen\" content=\"yes\" /><meta name=\"apple-mobile-web-app-title\" content=\"Shopee\" /><meta name=\"apple-mobile-web-app-capable\" content=\"yes\" /><meta name=\"apple-mobile-web-app-status-bar-style\" content=\"default\" /><link rel=\"apple-touch-icon\" size=\"120x120\" href=\"https://deo.shopeemobile.com/shopee/shopee-mobilemall-live-sg/assets/ios_icon_120x120.9c9cd4366011639d86dcf03856866b39.png\" /><link rel=\"apple-touch-icon\" size=\"180x180\" href=\"https://deo.shopeemobile.com/shopee/shopee-mobilemall-live-sg/assets/ios_icon_180x180.350d4cdc7ba40b87541691005bda74c5.png\" /><link rel=\"apple-touch-startup-image\" media=\"(device-width: 320px) and (device-height: 568px) and (-webkit-device-pixel-ratio: 2)\" href=\"https://deo.shopeemobile.com/shopee/shopee-mobilemall-live-sg/assets/ios_splash_screen_640x1136.44f3b1919faea215b1e8a8f33bc85eb2.png\" /><link rel=\"apple-touch-startup-image\" media=\"(device-width: 375px) and (device-height: 667px) and (-webkit-device-pixel-ratio: 2)\" href=\"https://deo.shopeemobile.com/shopee/shopee-mobilemall-live-sg/assets/ios_splash_screen_750x1334.e7f516f762373cc6c316d37455600b8a.png\" /><link rel=\"apple-touch-startup-image\" media=\"(device-width: 621px) and (device-height: 1104px) and (-webkit-device-pixel-ratio: 3)\" href=\"https://deo.shopeemobile.com/shopee/shopee-mobilemall-live-sg/assets/ios_splash_screen_1242x2208.0030ddfcb47d1a8f7f34ea1f488e063d.png\" /><link rel=\"apple-touch-startup-image\" media=\"(device-width: 375px) and (device-height: 812px) and (-webkit-device-pixel-ratio: 3)\" href=\"https://deo.shopeemobile.com/shopee/shopee-mobilemall-live-sg/assets/ios_splash_screen_1125x2436.d03df48b337e7e7f19d94203a800123b.png\" /><link rel=\"apple-touch-startup-image\" media=\"(device-width: 414px) and (device-height: 896px) and (-webkit-device-pixel-ratio: 2)\" href=\"https://deo.shopeemobile.com/shopee/shopee-mobilemall-live-sg/assets/ios_splash_screen_828x1792.848d89109908599fcf6edf6e0b7c6cde.png\" /><link rel=\"apple-touch-startup-image\" media=\"(device-width: 414px) and (device-height: 896px) and (-webkit-device-pixel-ratio: 3)\" href=\"https://deo.shopeemobile.com/shopee/shopee-mobilemall-live-sg/assets/ios_splash_screen_1242x2688.806794fa2096fd0d63f138f9380033ab.png\" /><link rel=\"apple-touch-startup-image\" media=\"(device-width: 360px) and (device-height: 780px) and (-webkit-device-pixel-ratio: 3)\" href=\"https://deo.shopeemobile.com/shopee/shopee-mobilemall-live-sg/assets/ios_splash_screen_1080x2340.b159e955714fc4bfcee0415d7a196559.png\" /><link rel=\"apple-touch-startup-image\" media=\"(device-width: 390px) and (device-height: 844px) and (-webkit-device-pixel-ratio: 3)\" href=\"https://deo.shopeemobile.com/shopee/shopee-mobilemall-live-sg/assets/ios_splash_screen_1170x2532.7d66e217dfb6824abb4829a8c0092554.png\" /><link rel=\"apple-touch-startup-image\" media=\"(device-width: 428px) and (device-height: 926px) and (-webkit-device-pixel-ratio: 3)\" href=\"https://deo.shopeemobile.com/shopee/shopee-mobilemall-live-sg/assets/ios_splash_screen_1284x2778.91b92b6b72c0355991793e6f3bf45eaf.png\" /></head>\\n<body>\\n<noscript>\\n<iframe src=\"//www.googletagmanager.com/ns.html?id=GTM-WJZQSJF\" height=\"0\" width=\"0\" style=\"display:none;visibility:hidden\"></iframe>\\n</noscript>\\n<div class=\"app-shell\">\\n<div class=\"navbar-fake\" style=\"height:44px;background-color:#fff;box-shadow:0 0 6px 0 rgba(0,0,0,.06)\"></div>\\n<style>@keyframes movement{from{transform:translateY(2px)}50%{transform:translateY(-2px)}to{transform:translateY(2px)}}.spinner circle{animation:.4s movement linear infinite}.spinner circle:nth-child(2){animation-delay:.1s}.spinner circle:nth-child(3){animation-delay:.2s}</style>\\n<svg class=\"spinner\" style=\"position:fixed;top:50%;left:50%;transform:translateX(-50%) translateY(-50%)\" width=\"34\" height=\"12\" viewBox=\"-1 0 33 12\">\\n<circle class=\"loading-dot\" cx=\"4\" cy=\"6\" r=\"4\" fill=\"#ee4d2d\"></circle>\\n<circle class=\"loading-dot\" cx=\"16\" cy=\"6\" r=\"4\" fill=\"#ee4d2d\"></circle>\\n<circle class=\"loading-dot\" cx=\"28\" cy=\"6\" r=\"4\" fill=\"#ee4d2d\"></circle>\\n</svg>\\n</div>\\n<div id=\"app\"></div>\\n<div id=\"modal\"></div>\\n<noscript>Please enable JavaScript on your browser.</noscript>\\n<script type=\"module\" src=\"https://deo.shopeemobile.com/shopee/shopee-mobilemall-live-sg/assets/webpack-runtime.9c90d3ba3b06e376.js\"></script>\\n<script type=\"module\" src=\"https://deo.shopeemobile.com/shopee/shopee-mobilemall-live-sg/assets/entry-modules.5a699052e10d92e2.js\"></script>\\n<script type=\"module\" src=\"https://deo.shopeemobile.com/shopee/shopee-mobilemall-live-sg/assets/modules.f078e3d8a8bdc000.js\"></script>\\n<script type=\"module\" src=\"https://deo.shopeemobile.com/shopee/shopee-mobilemall-live-sg/assets/bundle.64407838e2c24ee1.js\"></script>\\n<script nomodule>function loadStyleLink(e){var l=document.head||document.getElementsByTagName(\"head\")[0],t=document.createElement(\"link\");t.rel=\"stylesheet\",t.type=\"text/css\",t.href=e,l.appendChild(t)}if(!SUPPORT_MODULE){for(var links=[\"https://deo.shopeemobile.com/shopee/shopee-mobilemall-live-sg/assets/entry-modules.1729fedb8cd3633c.legacy.css\",\"https://deo.shopeemobile.com/shopee/shopee-mobilemall-live-sg/assets/bundle.c88ef942b4a8e5a9.legacy.css\"],i=0;i<links.length;i++)try{loadStyleLink(links[i])}catch(e){}try{document.querySelectorAll(\"[data-modern]\").forEach((function(e){e.remove()}))}catch(e){}}</script><script defer=\"defer\" nomodule src=\"https://deo.shopeemobile.com/shopee/shopee-mobilemall-live-sg/assets/webpack-runtime.d2cebc34cc147bfb.legacy.js\"></script><script defer=\"defer\" nomodule src=\"https://deo.shopeemobile.com/shopee/shopee-mobilemall-live-sg/assets/entry-modules.0bd2f81f15523437.legacy.js\"></script><script defer=\"defer\" nomodule src=\"https://deo.shopeemobile.com/shopee/shopee-mobilemall-live-sg/assets/modules.2e512256cd60f0fb.legacy.js\"></script><script defer=\"defer\" nomodule src=\"https://deo.shopeemobile.com/shopee/shopee-mobilemall-live-sg/assets/bundle.275b77fb758d699f.legacy.js\"></script></body>\\n</html>\\n'"
            ],
            "application/vnd.google.colaboratory.intrinsic+json": {
              "type": "string"
            }
          },
          "metadata": {},
          "execution_count": 8
        }
      ]
    },
    {
      "cell_type": "code",
      "source": [
        "type(html)"
      ],
      "metadata": {
        "id": "IU1bMFpZ93J4",
        "outputId": "958dcd2e-c092-40c2-cdff-42478b487516",
        "colab": {
          "base_uri": "https://localhost:8080/"
        }
      },
      "execution_count": 11,
      "outputs": [
        {
          "output_type": "execute_result",
          "data": {
            "text/plain": [
              "str"
            ]
          },
          "metadata": {},
          "execution_count": 11
        }
      ]
    },
    {
      "cell_type": "code",
      "source": [
        "print (html)"
      ],
      "metadata": {
        "id": "AJUIak9M9_ab",
        "outputId": "bec5d50e-e41d-46d9-d64f-89ea7ca52a58",
        "colab": {
          "base_uri": "https://localhost:8080/"
        }
      },
      "execution_count": 13,
      "outputs": [
        {
          "output_type": "stream",
          "name": "stdout",
          "text": [
            "<!doctype html>\n",
            "<html dir=\"ltr\">\n",
            "<head>\n",
            "<link rel=\"preconnect\" href=\"//cf.shopee.tw/\">\n",
            "<link rel=\"preconnect\" href=\"//deo.shopeemobile.com/shopee/\">\n",
            "<link rel=\"preconnect\" href=\"//cv.shopee.tw/\">\n",
            "<meta charset=\"utf-8\">\n",
            "<meta name=\"viewport\" content=\"width=device-width,initial-scale=1,maximum-scale=1,minimum-scale=1,user-scalable=no,viewport-fit=cover\">\n",
            "<meta name=\"shopee:git-sha\" content=\"c6c49a0b35456d0889c0f7237a8bb20dcd46c6e1\">\n",
            "<meta name=\"shopee:version\" content=\"rw-v4.35.1\">\n",
            "<link rel=\"preload\" href=\"https://deo.shopeemobile.com/shopee/shopee-mobilemall-live-sg/assets/entry-modules.54776cc32f12b302.css\" as=\"style\" data-modern=\"true\">\n",
            "<link rel=\"preload\" href=\"https://deo.shopeemobile.com/shopee/shopee-mobilemall-live-sg/assets/bundle.7a4dadbb5969686d.css\" as=\"style\" data-modern=\"true\">\n",
            "<link rel=\"modulepreload\" href=\"https://deo.shopeemobile.com/shopee/shopee-mobilemall-live-sg/assets/webpack-runtime.9c90d3ba3b06e376.js\" data-modern=\"true\">\n",
            "<link rel=\"modulepreload\" href=\"https://deo.shopeemobile.com/shopee/shopee-mobilemall-live-sg/assets/entry-modules.5a699052e10d92e2.js\" data-modern=\"true\">\n",
            "<link rel=\"modulepreload\" href=\"https://deo.shopeemobile.com/shopee/shopee-mobilemall-live-sg/assets/bundle.64407838e2c24ee1.js\" data-modern=\"true\">\n",
            "<link rel=\"modulepreload\" href=\"https://deo.shopeemobile.com/shopee/shopee-mobilemall-live-sg/assets/modules.f078e3d8a8bdc000.js\" data-modern=\"true\">\n",
            "<script>\n",
            "window.__PAGE_ID__ = 12;\n",
            "        window.__LOCALE__ = 'TW';\n",
            "        window.__ENV__ = 'live';\n",
            "        window.__ASSETS__ = {\"DL_ENABLED_MALL_REGIONS\":[\"SG\",\"MY\",\"ID\",\"TH\",\"VN\",\"PH\",\"TW\"],\"FESTIVAL_SKIN_V2\":{\"data\":[{\"id\":22,\"name\":\"2023_3.3\",\"start\":1676736000,\"end\":1677859199,\"status\":\"scheduled\",\"visibility\":true,\"mtime\":null,\"operator\":null,\"mobile\":{\"category_image\":null,\"daily_discover_image\":null,\"timer\":null,\"custom_header_array\":[{\"header_name\":\"CATEGORY\",\"image\":null,\"color\":\"#ee4d2d\",\"display_width\":null,\"display_height\":null,\"background_image\":null},{\"header_name\":\"DAILY_DISCOVER\",\"image\":null,\"color\":\"#EE4D2D\",\"display_width\":null,\"display_height\":null,\"background_image\":null}],\"display\":1,\"header_color\":null,\"apply_to_pc\":false},\"pc\":{\"logo\":null,\"banner\":{\"image_type\":\"fs\",\"image\":\"a00964c2012e41ff3c9062dc6da7cc74\",\"display_width\":3400,\"display_height\":800},\"timer\":null,\"custom_header_array\":null,\"display\":1,\"header_color\":null,\"key_visual_height\":null},\"navbar\":{\"background_image_standard\":\"d928557c181bb9135da213835e66dc03\",\"background_image_long\":\"a5314e7d7a241058859cae563a1d9eb0\",\"color\":\"white\",\"display\":1}}],\"error\":null,\"error_messages\":null,\"error_msg\":null},\"MART_CONFIG\":{\"shop\":{\"shopid\":37137599,\"username\":\"shopee24h\"},\"header\":null},\"PAGE_MANIFEST\":{\"mobilemall-addondeal-aod\":\"https://deo.shopeemobile.com/shopee/stm-sg-live/webfe-rp-assets/16977/asset-TW-live.ad6e813a48acd0b827267e3b297d2ce4.json\",\"mobilemall-addondeal-pwg\":\"https://deo.shopeemobile.com/shopee/stm-sg-live/webfe-rp-assets/17385/asset-TW-live.06663d3e22459066ad181dc9fb75a26c.json\",\"mobilemall-addondeal-pwp\":\"https://deo.shopeemobile.com/shopee/stm-sg-live/webfe-rp-assets/17570/asset-TW-live.23abdc0b8568cb165305aaf4233f0e88.json\",\"mobilemall-allcampaigns\":\"https://deo.shopeemobile.com/shopee/stm-sg-live/webfe-rp-assets/2225/asset-TW-live.c7289d931606f2ace44f622878eb2425.json\",\"mobilemall-anneentrytask\":null,\"mobilemall-brandsale\":\"https://deo.shopeemobile.com/shopee/stm-sg-live/webfe-rp-assets/17832/asset-TW-live.9d4799973ef7d76ed9e91cb87bb92b28.json\",\"mobilemall-brandsaleentrance\":\"https://deo.shopeemobile.com/shopee/stm-sg-live/webfe-rp-assets/17985/asset-TW-live.4004a1af01dd01c6a073f6ab4637275a.json\",\"mobilemall-bundledeal\":\"https://deo.shopeemobile.com/shopee/stm-sg-live/webfe-rp-assets/13374/asset-TW-live.a8924c86f96be6005f1944b7785ccdb7.json\",\"mobilemall-cancellation\":null,\"mobilemall-cart\":\"https://deo.shopeemobile.com/shopee/stm-sg-live/webfe-rp-assets/2305/asset-TW-live.d5142b12e1fe0f56adda5b5f4e9f8f47.json\",\"mobilemall-categorypage\":{\"version\":1,\"assets\":{\"TRANSIFY_COLLECTION_MAPPING\":{\"en-live-10\":1656592032,\"en-live-100\":1669962906,\"en-live-101\":1669948146,\"en-live-102\":1656592032,\"en-live-107\":1656592032,\"en-live-108\":1649754651,\"en-live-111\":1649754651,\"en-live-113\":1673606135,\"en-live-118\":1656592032,\"en-live-128\":1658481381,\"en-live-129\":1656592032,\"en-live-131\":1656592032,\"en-live-132\":1656592032,\"en-live-136\":1672823594,\"en-live-138\":1649754651,\"en-live-14\":1673584215,\"en-live-140\":1656592032,\"en-live-141\":1649754651,\"en-live-143\":1649754651,\"en-live-145\":1656592032,\"en-live-147\":1649754651,\"en-live-148\":1613634051,\"en-live-15\":1666834600,\"en-live-151\":1656592032,\"en-live-155\":1656592032,\"en-live-158\":1656592032,\"en-live-16\":1675392620,\"en-live-166\":1649754651,\"en-live-167\":1649754651,\"en-live-17\":1670231446,\"en-live-18\":1665459985,\"en-live-184\":1599448355,\"en-live-189\":1656592032,\"en-live-20\":1656592032,\"en-live-204\":1670231446,\"en-live-206\":1656592032,\"en-live-209\":1672891708,\"en-live-21\":1669864286,\"en-live-213\":1641889752,\"en-live-214\":1669626890,\"en-live-223\":1670568542,\"en-live-224\":1649754651,\"en-live-231\":1656592032,\"en-live-235\":1669345746,\"en-live-239\":1675051400,\"en-live-242\":1656592032,\"en-live-243\":1676256870,\"en-live-246\":1649754651,\"en-live-254\":1649754651,\"en-live-255\":1656592032,\"en-live-256\":1661243712,\"en-live-257\":1649754651,\"en-live-258\":1652434726,\"en-live-263\":1656592032,\"en-live-265\":1656592032,\"en-live-268\":1649754651,\"en-live-27\":1674193189,\"en-live-277\":1656592032,\"en-live-28\":1675156307,\"en-live-283\":1656592032,\"en-live-287\":1652867414,\"en-live-29\":1671166219,\"en-live-290\":1649754651,\"en-live-292\":1649754651,\"en-live-294\":1661998479,\"en-live-297\":1649754651,\"en-live-30\":1673584215,\"en-live-300\":1649754651,\"en-live-301\":1649754651,\"en-live-306\":1665738335,\"en-live-31\":1656592032,\"en-live-310\":1649754651,\"en-live-311\":1622803477,\"en-live-314\":1659414278,\"en-live-318\":1664855926,\"en-live-32\":1663035147,\"en-live-321\":1624941198,\"en-live-326\":1649754651,\"en-live-33\":1660620189,\"en-live-330\":1656592032,\"en-live-340\":1675916236,\"en-live-343\":1632386384,\"en-live-345\":1659926091,\"en-live-354\":1656592032,\"en-live-355\":1657703796,\"en-live-360\":1657162080,\"en-live-361\":1649754651,\"en-live-362\":1649754651,\"en-live-363\":1649754651,\"en-live-368\":1634095524,\"en-live-378\":1649754651,\"en-live-379\":1649754651,\"en-live-380\":1656592032,\"en-live-389\":1665653988,\"en-live-392\":1649754651,\"en-live-397\":1668650110,\"en-live-40\":1666343774,\"en-live-406\":1662968897,\"en-live-409\":1656592032,\"en-live-42\":1656592032,\"en-live-422\":1664953185,\"en-live-426\":1649754651,\"en-live-43\":1673243832,\"en-live-432\":1671422277,\"en-live-436\":1663057992,\"en-live-445\":1660701473,\"en-live-453\":1652434726,\"en-live-457\":1656592032,\"en-live-463\":1651724615,\"en-live-47\":1649754651,\"en-live-474\":1656592032,\"en-live-478\":1656592032,\"en-live-484\":1661747620,\"en-live-490\":1659507764,\"en-live-507\":1663145960,\"en-live-515\":1657695367,\"en-live-520\":1659578556,\"en-live-521\":1659586354,\"en-live-522\":1671785219,\"en-live-524\":1660129555,\"en-live-528\":1664435617,\"en-live-530\":1667455602,\"en-live-531\":1670231446,\"en-live-532\":1663741806,\"en-live-538\":1663818317,\"en-live-545\":1668676205,\"en-live-561\":1671100885,\"en-live-573\":1675936231,\"en-live-7\":1647843523,\"en-live-73\":1649754651,\"en-live-76\":1643359987,\"en-live-8\":1675152140,\"en-live-83\":1656592032,\"en-live-85\":1649754651,\"en-live-9\":1674102672,\"en-us-live-100\":1664964772,\"en-us-live-113\":1673345590,\"en-us-live-128\":1658481381,\"en-us-live-129\":1656592032,\"en-us-live-131\":1656592032,\"en-us-live-136\":1672823594,\"en-us-live-14\":1665543034,\"en-us-live-140\":1656592032,\"en-us-live-143\":1649754651,\"en-us-live-15\":1666834600,\"en-us-live-16\":1675392620,\"en-us-live-17\":1665658857,\"en-us-live-18\":1665459985,\"en-us-live-204\":1649754651,\"en-us-live-209\":1672891708,\"en-us-live-21\":1669864286,\"en-us-live-214\":1669626890,\"en-us-live-223\":1670568542,\"en-us-live-235\":1669345746,\"en-us-live-239\":1675051400,\"en-us-live-243\":1674009165,\"en-us-live-255\":1656592032,\"en-us-live-256\":1661243712,\"en-us-live-258\":1651119407,\"en-us-live-27\":1674193189,\"en-us-live-28\":1675156307,\"en-us-live-29\":1671166219,\"en-us-live-294\":1661998479,\"en-us-live-30\":1670559399,\"en-us-live-306\":1665738335,\"en-us-live-31\":1656592032,\"en-us-live-314\":1659414278,\"en-us-live-33\":1660620189,\"en-us-live-340\":1675916236,\"en-us-live-345\":1659926091,\"en-us-live-360\":1657162080,\"en-us-live-380\":1656592032,\"en-us-live-389\":1665653988,\"en-us-live-397\":1668650110,\"en-us-live-40\":1666343774,\"en-us-live-406\":1662968897,\"en-us-live-409\":1656592032,\"en-us-live-422\":1664953185,\"en-us-live-426\":1649754651,\"en-us-live-43\":1673243832,\"en-us-live-432\":1671422277,\"en-us-live-436\":1663057992,\"en-us-live-445\":1660701473,\"en-us-live-453\":1649754651,\"en-us-live-457\":1656592032,\"en-us-live-463\":1651063956,\"en-us-live-478\":1656592032,\"en-us-live-484\":1661747620,\"en-us-live-490\":1659507764,\"en-us-live-507\":1663145960,\"en-us-live-515\":1657695367,\"en-us-live-520\":1659578556,\"en-us-live-521\":1659586354,\"en-us-live-522\":1671785219,\"en-us-live-528\":1664435617,\"en-us-live-530\":1667455602,\"en-us-live-531\":1666177551,\"en-us-live-532\":1663141244,\"en-us-live-538\":1663818317,\"en-us-live-545\":1668676205,\"en-us-live-561\":1671100885,\"en-us-live-573\":1675936231,\"en-us-live-8\":1674721182,\"en-us-live-9\":1674102672,\"es-ar-live-10\":1656592032,\"es-ar-live-100\":1664964772,\"es-ar-live-101\":1656592032,\"es-ar-live-102\":1656592032,\"es-ar-live-107\":1656592032,\"es-ar-live-108\":1649754651,\"es-ar-live-111\":1649754651,\"es-ar-live-113\":1673345590,\"es-ar-live-118\":1656592032,\"es-ar-live-128\":1658481381,\"es-ar-live-129\":1656592032,\"es-ar-live-131\":1656592032,\"es-ar-live-132\":1656592032,\"es-ar-live-136\":1672823594,\"es-ar-live-138\":1649754651,\"es-ar-live-14\":1665543034,\"es-ar-live-140\":1656592032,\"es-ar-live-141\":1649754651,\"es-ar-live-143\":1649754651,\"es-ar-live-145\":1656592032,\"es-ar-live-147\":1649754651,\"es-ar-live-15\":1666834600,\"es-ar-live-151\":1656592032,\"es-ar-live-155\":1656592032,\"es-ar-live-158\":1656592032,\"es-ar-live-16\":1675392620,\"es-ar-live-166\":1649754651,\"es-ar-live-167\":1649754651,\"es-ar-live-17\":1665658857,\"es-ar-live-18\":1665459985,\"es-ar-live-184\":1641382222,\"es-ar-live-189\":1656592032,\"es-ar-live-198\":1641382222,\"es-ar-live-20\":1656592032,\"es-ar-live-204\":1649754651,\"es-ar-live-206\":1656592032,\"es-ar-live-209\":1672891708,\"es-ar-live-21\":1669864286,\"es-ar-live-214\":1669626890,\"es-ar-live-223\":1670568542,\"es-ar-live-224\":1649754651,\"es-ar-live-228\":1641382222,\"es-ar-live-231\":1656592032,\"es-ar-live-233\":1641382222,\"es-ar-live-234\":1641382222,\"es-ar-live-235\":1669345746,\"es-ar-live-238\":1641382222,\"es-ar-live-239\":1675051400,\"es-ar-live-242\":1656592032,\"es-ar-live-243\":1674009165,\"es-ar-live-246\":1649754651,\"es-ar-live-254\":1649754651,\"es-ar-live-255\":1656592032,\"es-ar-live-256\":1661243712,\"es-ar-live-257\":1649754651,\"es-ar-live-258\":1652434726,\"es-ar-live-263\":1656592032,\"es-ar-live-265\":1656592032,\"es-ar-live-268\":1649754651,\"es-ar-live-27\":1674193189,\"es-ar-live-271\":1641382222,\"es-ar-live-277\":1656592032,\"es-ar-live-28\":1675156307,\"es-ar-live-283\":1656592032,\"es-ar-live-287\":1652867414,\"es-ar-live-29\":1671166219,\"es-ar-live-290\":1649754651,\"es-ar-live-292\":1649754651,\"es-ar-live-294\":1661998479,\"es-ar-live-297\":1649754651,\"es-ar-live-30\":1670559399,\"es-ar-live-300\":1649754651,\"es-ar-live-301\":1649754651,\"es-ar-live-303\":1641382222,\"es-ar-live-306\":1665738335,\"es-ar-live-31\":1656592032,\"es-ar-live-310\":1649754651,\"es-ar-live-311\":1641382222,\"es-ar-live-312\":1641382222,\"es-ar-live-314\":1659414278,\"es-ar-live-318\":1664855926,\"es-ar-live-32\":1663035147,\"es-ar-live-321\":1641382222,\"es-ar-live-326\":1649754651,\"es-ar-live-328\":1641382222,\"es-ar-live-329\":1641382222,\"es-ar-live-33\":1660620189,\"es-ar-live-330\":1656592032,\"es-ar-live-340\":1675916236,\"es-ar-live-343\":1641382222,\"es-ar-live-345\":1659926091,\"es-ar-live-348\":1641382222,\"es-ar-live-350\":1641382222,\"es-ar-live-354\":1656592032,\"es-ar-live-355\":1657703796,\"es-ar-live-360\":1657162080,\"es-ar-live-361\":1649754651,\"es-ar-live-362\":1649754651,\"es-ar-live-363\":1649754651,\"es-ar-live-368\":1641382222,\"es-ar-live-374\":1641382222,\"es-ar-live-378\":1649754651,\"es-ar-live-379\":1649754651,\"es-ar-live-380\":1656592032,\"es-ar-live-389\":1665653988,\"es-ar-live-392\":1649754651,\"es-ar-live-397\":1668650110,\"es-ar-live-40\":1666343774,\"es-ar-live-406\":1662968897,\"es-ar-live-409\":1656592032,\"es-ar-live-42\":1656592032,\"es-ar-live-422\":1664953185,\"es-ar-live-426\":1649754651,\"es-ar-live-43\":1673243832,\"es-ar-live-432\":1671422277,\"es-ar-live-436\":1663057992,\"es-ar-live-445\":1660701473,\"es-ar-live-453\":1652434726,\"es-ar-live-457\":1656592032,\"es-ar-live-463\":1651724615,\"es-ar-live-47\":1649754651,\"es-ar-live-474\":1656592032,\"es-ar-live-478\":1656592032,\"es-ar-live-484\":1661747620,\"es-ar-live-490\":1659507764,\"es-ar-live-507\":1663145960,\"es-ar-live-515\":1657695367,\"es-ar-live-520\":1661415974,\"es-ar-live-521\":1659586354,\"es-ar-live-522\":1671785219,\"es-ar-live-524\":1660129555,\"es-ar-live-528\":1664435617,\"es-ar-live-530\":1667455602,\"es-ar-live-531\":1666177551,\"es-ar-live-532\":1663141244,\"es-ar-live-538\":1663818317,\"es-ar-live-545\":1668676205,\"es-ar-live-561\":1671100885,\"es-ar-live-573\":1675936231,\"es-ar-live-7\":1647843523,\"es-ar-live-73\":1649754651,\"es-ar-live-76\":1643359987,\"es-ar-live-8\":1674721182,\"es-ar-live-83\":1656592032,\"es-ar-live-85\":1649754651,\"es-ar-live-9\":1674102672,\"es-cl-live-10\":1656592032,\"es-cl-live-100\":1669962906,\"es-cl-live-101\":1656592032,\"es-cl-live-102\":1656592032,\"es-cl-live-107\":1656592032,\"es-cl-live-108\":1649754651,\"es-cl-live-111\":1649754651,\"es-cl-live-113\":1673345590,\"es-cl-live-118\":1656592032,\"es-cl-live-128\":1658481381,\"es-cl-live-129\":1656592032,\"es-cl-live-131\":1656592032,\"es-cl-live-132\":1656592032,\"es-cl-live-136\":1672823594,\"es-cl-live-138\":1649754651,\"es-cl-live-14\":1665543034,\"es-cl-live-140\":1656592032,\"es-cl-live-141\":1649754651,\"es-cl-live-143\":1649754651,\"es-cl-live-145\":1656592032,\"es-cl-live-147\":1649754651,\"es-cl-live-15\":1666834600,\"es-cl-live-151\":1656592032,\"es-cl-live-155\":1656592032,\"es-cl-live-158\":1656592032,\"es-cl-live-16\":1675392620,\"es-cl-live-166\":1649754651,\"es-cl-live-167\":1649754651,\"es-cl-live-17\":1665658857,\"es-cl-live-18\":1665459985,\"es-cl-live-184\":1621413380,\"es-cl-live-189\":1656592032,\"es-cl-live-198\":1621413380,\"es-cl-live-20\":1656592032,\"es-cl-live-204\":1649754651,\"es-cl-live-206\":1656592032,\"es-cl-live-209\":1672891708,\"es-cl-live-21\":1669864286,\"es-cl-live-213\":1641889752,\"es-cl-live-214\":1669626890,\"es-cl-live-223\":1670568542,\"es-cl-live-224\":1649754651,\"es-cl-live-228\":1621413380,\"es-cl-live-231\":1656592032,\"es-cl-live-233\":1621413380,\"es-cl-live-234\":1621413380,\"es-cl-live-235\":1669345746,\"es-cl-live-238\":1621413380,\"es-cl-live-239\":1675051400,\"es-cl-live-242\":1656592032,\"es-cl-live-243\":1674009165,\"es-cl-live-246\":1649754651,\"es-cl-live-254\":1649754651,\"es-cl-live-255\":1656592032,\"es-cl-live-256\":1661243712,\"es-cl-live-257\":1649754651,\"es-cl-live-258\":1652434726,\"es-cl-live-263\":1656592032,\"es-cl-live-265\":1656592032,\"es-cl-live-268\":1649754651,\"es-cl-live-27\":1674193189,\"es-cl-live-271\":1621413380,\"es-cl-live-277\":1656592032,\"es-cl-live-28\":1675156307,\"es-cl-live-283\":1656592032,\"es-cl-live-287\":1652867414,\"es-cl-live-29\":1671166219,\"es-cl-live-290\":1649754651,\"es-cl-live-292\":1649754651,\"es-cl-live-294\":1661998479,\"es-cl-live-297\":1649754651,\"es-cl-live-30\":1670559399,\"es-cl-live-300\":1649754651,\"es-cl-live-301\":1649754651,\"es-cl-live-306\":1665738335,\"es-cl-live-31\":1656592032,\"es-cl-live-310\":1649754651,\"es-cl-live-314\":1659414278,\"es-cl-live-318\":1664855926,\"es-cl-live-32\":1663035147,\"es-cl-live-321\":1624941198,\"es-cl-live-326\":1649754651,\"es-cl-live-33\":1660620189,\"es-cl-live-330\":1656592032,\"es-cl-live-340\":1675916236,\"es-cl-live-343\":1632386384,\"es-cl-live-345\":1659926091,\"es-cl-live-354\":1656592032,\"es-cl-live-355\":1657703796,\"es-cl-live-360\":1657162080,\"es-cl-live-361\":1649754651,\"es-cl-live-362\":1649754651,\"es-cl-live-363\":1649754651,\"es-cl-live-368\":1634095524,\"es-cl-live-378\":1649754651,\"es-cl-live-379\":1649754651,\"es-cl-live-380\":1656592032,\"es-cl-live-389\":1665653988,\"es-cl-live-392\":1649754651,\"es-cl-live-397\":1668650110,\"es-cl-live-40\":1666343774,\"es-cl-live-406\":1662968897,\"es-cl-live-409\":1656592032,\"es-cl-live-42\":1660688179,\"es-cl-live-422\":1664953185,\"es-cl-live-426\":1649754651,\"es-cl-live-43\":1673243832,\"es-cl-live-432\":1671422277,\"es-cl-live-436\":1663057992,\"es-cl-live-445\":1660701473,\"es-cl-live-453\":1652434726,\"es-cl-live-457\":1656592032,\"es-cl-live-463\":1651724615,\"es-cl-live-47\":1649754651,\"es-cl-live-474\":1656592032,\"es-cl-live-478\":1656592032,\"es-cl-live-484\":1661747620,\"es-cl-live-490\":1659507764,\"es-cl-live-507\":1663145960,\"es-cl-live-515\":1657695367,\"es-cl-live-520\":1659578556,\"es-cl-live-521\":1659586354,\"es-cl-live-522\":1671785219,\"es-cl-live-524\":1660129555,\"es-cl-live-528\":1664435617,\"es-cl-live-530\":1667455602,\"es-cl-live-531\":1666177551,\"es-cl-live-532\":1663141244,\"es-cl-live-538\":1663818317,\"es-cl-live-545\":1668676205,\"es-cl-live-561\":1671100885,\"es-cl-live-573\":1675936231,\"es-cl-live-58\":1622085081,\"es-cl-live-7\":1647843523,\"es-cl-live-73\":1649754651,\"es-cl-live-76\":1643359987,\"es-cl-live-8\":1674721182,\"es-cl-live-83\":1656592032,\"es-cl-live-85\":1649754651,\"es-cl-live-9\":1674102672,\"es-co-live-10\":1656592032,\"es-co-live-100\":1664964772,\"es-co-live-101\":1656592032,\"es-co-live-102\":1656592032,\"es-co-live-107\":1656592032,\"es-co-live-108\":1649754651,\"es-co-live-111\":1649754651,\"es-co-live-113\":1673345590,\"es-co-live-118\":1656592032,\"es-co-live-128\":1658481381,\"es-co-live-129\":1656592032,\"es-co-live-131\":1656592032,\"es-co-live-132\":1656592032,\"es-co-live-136\":1672823594,\"es-co-live-138\":1649754651,\"es-co-live-14\":1665543034,\"es-co-live-140\":1656592032,\"es-co-live-141\":1649754651,\"es-co-live-143\":1649754651,\"es-co-live-145\":1656592032,\"es-co-live-147\":1649754651,\"es-co-live-15\":1666834600,\"es-co-live-151\":1656592032,\"es-co-live-155\":1656592032,\"es-co-live-158\":1656592032,\"es-co-live-16\":1675392620,\"es-co-live-166\":1649754651,\"es-co-live-167\":1649754651,\"es-co-live-17\":1665658857,\"es-co-live-18\":1665459985,\"es-co-live-184\":1621413519,\"es-co-live-189\":1656592032,\"es-co-live-198\":1621413519,\"es-co-live-20\":1656592032,\"es-co-live-204\":1649754651,\"es-co-live-206\":1656592032,\"es-co-live-209\":1672891708,\"es-co-live-21\":1669864286,\"es-co-live-213\":1641889752,\"es-co-live-214\":1669626890,\"es-co-live-223\":1670568542,\"es-co-live-224\":1649754651,\"es-co-live-228\":1621413519,\"es-co-live-231\":1656592032,\"es-co-live-233\":1621413519,\"es-co-live-234\":1621413519,\"es-co-live-235\":1669345746,\"es-co-live-238\":1621413519,\"es-co-live-239\":1675051400,\"es-co-live-242\":1656592032,\"es-co-live-243\":1674009165,\"es-co-live-246\":1649754651,\"es-co-live-254\":1649754651,\"es-co-live-255\":1656592032,\"es-co-live-256\":1661243712,\"es-co-live-257\":1649754651,\"es-co-live-258\":1652434726,\"es-co-live-263\":1656592032,\"es-co-live-265\":1656592032,\"es-co-live-268\":1649754651,\"es-co-live-27\":1674193189,\"es-co-live-271\":1621413519,\"es-co-live-277\":1656592032,\"es-co-live-28\":1675156307,\"es-co-live-283\":1656592032,\"es-co-live-287\":1652867414,\"es-co-live-29\":1671166219,\"es-co-live-290\":1649754651,\"es-co-live-292\":1649754651,\"es-co-live-294\":1661998479,\"es-co-live-297\":1649754651,\"es-co-live-30\":1670559399,\"es-co-live-300\":1649754651,\"es-co-live-301\":1649754651,\"es-co-live-306\":1665738335,\"es-co-live-31\":1656592032,\"es-co-live-310\":1649754651,\"es-co-live-314\":1659414278,\"es-co-live-318\":1664855926,\"es-co-live-32\":1663035147,\"es-co-live-321\":1624941198,\"es-co-live-326\":1649754651,\"es-co-live-33\":1660620189,\"es-co-live-330\":1656592032,\"es-co-live-340\":1675916236,\"es-co-live-343\":1632386384,\"es-co-live-345\":1659926091,\"es-co-live-354\":1656592032,\"es-co-live-355\":1657703796,\"es-co-live-360\":1657162080,\"es-co-live-361\":1649754651,\"es-co-live-362\":1649754651,\"es-co-live-363\":1649754651,\"es-co-live-368\":1634095524,\"es-co-live-378\":1649754651,\"es-co-live-379\":1649754651,\"es-co-live-380\":1656592032,\"es-co-live-389\":1665653988,\"es-co-live-392\":1649754651,\"es-co-live-397\":1668650110,\"es-co-live-40\":1666343774,\"es-co-live-406\":1662968897,\"es-co-live-409\":1656592032,\"es-co-live-42\":1656592032,\"es-co-live-422\":1664953185,\"es-co-live-426\":1649754651,\"es-co-live-43\":1673243832,\"es-co-live-432\":1671422277,\"es-co-live-436\":1663057992,\"es-co-live-445\":1660701473,\"es-co-live-453\":1652434726,\"es-co-live-457\":1656592032,\"es-co-live-463\":1651724615,\"es-co-live-47\":1649754651,\"es-co-live-474\":1656592032,\"es-co-live-478\":1656592032,\"es-co-live-484\":1661747620,\"es-co-live-490\":1659507764,\"es-co-live-507\":1663145960,\"es-co-live-515\":1657695367,\"es-co-live-520\":1659578556,\"es-co-live-521\":1659586354,\"es-co-live-522\":1671785219,\"es-co-live-524\":1660129555,\"es-co-live-528\":1664435617,\"es-co-live-530\":1667455602,\"es-co-live-531\":1666177551,\"es-co-live-532\":1663141244,\"es-co-live-538\":1663818317,\"es-co-live-545\":1668676205,\"es-co-live-561\":1671100885,\"es-co-live-573\":1675936231,\"es-co-live-58\":1622084952,\"es-co-live-7\":1647843523,\"es-co-live-73\":1649754651,\"es-co-live-76\":1643359987,\"es-co-live-8\":1674721182,\"es-co-live-83\":1656592032,\"es-co-live-85\":1649754651,\"es-co-live-9\":1674102672,\"es-es-live-10\":1656592032,\"es-es-live-100\":1664964772,\"es-es-live-101\":1656592032,\"es-es-live-102\":1656592032,\"es-es-live-107\":1656592032,\"es-es-live-108\":1651028375,\"es-es-live-111\":1649754651,\"es-es-live-113\":1673345590,\"es-es-live-118\":1656592032,\"es-es-live-128\":1658481381,\"es-es-live-129\":1656592032,\"es-es-live-131\":1656592032,\"es-es-live-132\":1656592032,\"es-es-live-136\":1672823594,\"es-es-live-138\":1649754651,\"es-es-live-14\":1665543034,\"es-es-live-140\":1656592032,\"es-es-live-141\":1649754651,\"es-es-live-143\":1649754651,\"es-es-live-145\":1656592032,\"es-es-live-147\":1649754651,\"es-es-live-15\":1666834600,\"es-es-live-151\":1656592032,\"es-es-live-155\":1656592032,\"es-es-live-158\":1656592032,\"es-es-live-16\":1675392620,\"es-es-live-166\":1649754651,\"es-es-live-167\":1649754651,\"es-es-live-17\":1665658857,\"es-es-live-18\":1665459985,\"es-es-live-184\":1632800881,\"es-es-live-189\":1656592032,\"es-es-live-198\":1632800881,\"es-es-live-20\":1656592032,\"es-es-live-204\":1649754651,\"es-es-live-206\":1656592032,\"es-es-live-209\":1672891708,\"es-es-live-21\":1669864286,\"es-es-live-213\":1641889752,\"es-es-live-214\":1669626890,\"es-es-live-223\":1670568542,\"es-es-live-224\":1649754651,\"es-es-live-228\":1632800881,\"es-es-live-231\":1656592032,\"es-es-live-233\":1632800881,\"es-es-live-234\":1632800881,\"es-es-live-235\":1669345746,\"es-es-live-238\":1632800881,\"es-es-live-239\":1675051400,\"es-es-live-242\":1656592032,\"es-es-live-243\":1674009165,\"es-es-live-246\":1649754651,\"es-es-live-254\":1649754651,\"es-es-live-255\":1656592032,\"es-es-live-256\":1661243712,\"es-es-live-257\":1649754651,\"es-es-live-258\":1652434726,\"es-es-live-263\":1656592032,\"es-es-live-265\":1656592032,\"es-es-live-268\":1649754651,\"es-es-live-27\":1674193189,\"es-es-live-271\":1632800881,\"es-es-live-277\":1656592032,\"es-es-live-28\":1675156307,\"es-es-live-283\":1656592032,\"es-es-live-287\":1652867414,\"es-es-live-29\":1671166219,\"es-es-live-290\":1649754651,\"es-es-live-292\":1649754651,\"es-es-live-294\":1661998479,\"es-es-live-297\":1649754651,\"es-es-live-30\":1670559399,\"es-es-live-300\":1649754651,\"es-es-live-301\":1649754651,\"es-es-live-303\":1632800881,\"es-es-live-306\":1665738335,\"es-es-live-31\":1656592032,\"es-es-live-310\":1649754651,\"es-es-live-311\":1632800881,\"es-es-live-312\":1632800881,\"es-es-live-314\":1659414278,\"es-es-live-318\":1664855926,\"es-es-live-32\":1663035147,\"es-es-live-321\":1632800881,\"es-es-live-326\":1649754651,\"es-es-live-328\":1632800881,\"es-es-live-329\":1632800881,\"es-es-live-33\":1660620189,\"es-es-live-330\":1656592032,\"es-es-live-340\":1675916236,\"es-es-live-343\":1632800881,\"es-es-live-345\":1659926091,\"es-es-live-348\":1632800881,\"es-es-live-350\":1632800881,\"es-es-live-354\":1656592032,\"es-es-live-355\":1657703796,\"es-es-live-360\":1657162080,\"es-es-live-361\":1649754651,\"es-es-live-362\":1649754651,\"es-es-live-363\":1649754651,\"es-es-live-378\":1649754651,\"es-es-live-379\":1649754651,\"es-es-live-380\":1656592032,\"es-es-live-389\":1665653988,\"es-es-live-392\":1649754651,\"es-es-live-397\":1668650110,\"es-es-live-40\":1666343774,\"es-es-live-406\":1662968897,\"es-es-live-409\":1656592032,\"es-es-live-42\":1656592032,\"es-es-live-422\":1664953185,\"es-es-live-426\":1649754651,\"es-es-live-43\":1673243832,\"es-es-live-432\":1671422277,\"es-es-live-436\":1663057992,\"es-es-live-445\":1660701473,\"es-es-live-453\":1652434726,\"es-es-live-457\":1656592032,\"es-es-live-463\":1651724615,\"es-es-live-47\":1649754651,\"es-es-live-474\":1656592032,\"es-es-live-478\":1656592032,\"es-es-live-484\":1661747620,\"es-es-live-490\":1659507764,\"es-es-live-507\":1663145960,\"es-es-live-515\":1657695367,\"es-es-live-520\":1659578556,\"es-es-live-521\":1659586354,\"es-es-live-522\":1671785219,\"es-es-live-524\":1660129555,\"es-es-live-528\":1664435617,\"es-es-live-530\":1667455602,\"es-es-live-531\":1666177551,\"es-es-live-532\":1663141244,\"es-es-live-538\":1663818317,\"es-es-live-545\":1668676205,\"es-es-live-561\":1671100885,\"es-es-live-573\":1675936231,\"es-es-live-7\":1647843523,\"es-es-live-73\":1649754651,\"es-es-live-76\":1643359987,\"es-es-live-8\":1674721182,\"es-es-live-83\":1656592032,\"es-es-live-85\":1649754651,\"es-es-live-9\":1674102672,\"es-mx-live-10\":1656592032,\"es-mx-live-100\":1664964772,\"es-mx-live-101\":1656592032,\"es-mx-live-102\":1656592032,\"es-mx-live-107\":1656592032,\"es-mx-live-108\":1649754651,\"es-mx-live-111\":1649754651,\"es-mx-live-113\":1673345590,\"es-mx-live-118\":1656592032,\"es-mx-live-128\":1658481381,\"es-mx-live-129\":1656592032,\"es-mx-live-131\":1656592032,\"es-mx-live-132\":1656592032,\"es-mx-live-136\":1672823594,\"es-mx-live-138\":1649754651,\"es-mx-live-14\":1665543034,\"es-mx-live-140\":1656592032,\"es-mx-live-141\":1649754651,\"es-mx-live-143\":1649754651,\"es-mx-live-145\":1656592032,\"es-mx-live-147\":1649754651,\"es-mx-live-15\":1666834600,\"es-mx-live-151\":1656592032,\"es-mx-live-155\":1656592032,\"es-mx-live-158\":1656592032,\"es-mx-live-16\":1675392620,\"es-mx-live-166\":1649754651,\"es-mx-live-167\":1649754651,\"es-mx-live-17\":1665658857,\"es-mx-live-18\":1665459985,\"es-mx-live-184\":1610614370,\"es-mx-live-189\":1656592032,\"es-mx-live-198\":1610614345,\"es-mx-live-20\":1656592032,\"es-mx-live-204\":1656090306,\"es-mx-live-206\":1656592032,\"es-mx-live-209\":1672891708,\"es-mx-live-21\":1669864286,\"es-mx-live-213\":1641889752,\"es-mx-live-214\":1669626890,\"es-mx-live-223\":1670568542,\"es-mx-live-224\":1649754651,\"es-mx-live-228\":1610614448,\"es-mx-live-231\":1656592032,\"es-mx-live-233\":1610614341,\"es-mx-live-234\":1610614305,\"es-mx-live-235\":1669345746,\"es-mx-live-239\":1675051400,\"es-mx-live-242\":1656592032,\"es-mx-live-243\":1674009165,\"es-mx-live-246\":1649754651,\"es-mx-live-254\":1649754651,\"es-mx-live-255\":1656592032,\"es-mx-live-256\":1661243712,\"es-mx-live-257\":1649754651,\"es-mx-live-258\":1652434726,\"es-mx-live-263\":1656592032,\"es-mx-live-265\":1656592032,\"es-mx-live-268\":1649754651,\"es-mx-live-27\":1674193189,\"es-mx-live-277\":1656592032,\"es-mx-live-28\":1675156307,\"es-mx-live-283\":1656592032,\"es-mx-live-287\":1652867414,\"es-mx-live-29\":1671166219,\"es-mx-live-290\":1649754651,\"es-mx-live-292\":1649754651,\"es-mx-live-294\":1661998479,\"es-mx-live-297\":1649754651,\"es-mx-live-30\":1670559399,\"es-mx-live-300\":1649754651,\"es-mx-live-301\":1649754651,\"es-mx-live-306\":1665738335,\"es-mx-live-31\":1656592032,\"es-mx-live-310\":1649754651,\"es-mx-live-314\":1659414278,\"es-mx-live-318\":1664855926,\"es-mx-live-32\":1663035147,\"es-mx-live-321\":1624941198,\"es-mx-live-326\":1649754651,\"es-mx-live-33\":1660620189,\"es-mx-live-330\":1656592032,\"es-mx-live-340\":1675916236,\"es-mx-live-343\":1632386384,\"es-mx-live-345\":1659926091,\"es-mx-live-354\":1656592032,\"es-mx-live-355\":1657703796,\"es-mx-live-360\":1657162080,\"es-mx-live-361\":1656090306,\"es-mx-live-362\":1649754651,\"es-mx-live-363\":1649754651,\"es-mx-live-368\":1634095524,\"es-mx-live-378\":1649754651,\"es-mx-live-379\":1649754651,\"es-mx-live-380\":1656592032,\"es-mx-live-389\":1665653988,\"es-mx-live-392\":1649754651,\"es-mx-live-397\":1668650110,\"es-mx-live-40\":1666343774,\"es-mx-live-406\":1662968897,\"es-mx-live-409\":1656592032,\"es-mx-live-42\":1656592032,\"es-mx-live-422\":1664953185,\"es-mx-live-426\":1649754651,\"es-mx-live-43\":1673243832,\"es-mx-live-432\":1671422277,\"es-mx-live-436\":1663057992,\"es-mx-live-445\":1660701473,\"es-mx-live-453\":1652434726,\"es-mx-live-457\":1656592032,\"es-mx-live-463\":1651724615,\"es-mx-live-47\":1649754651,\"es-mx-live-474\":1656592032,\"es-mx-live-478\":1656592032,\"es-mx-live-484\":1661747620,\"es-mx-live-490\":1659507764,\"es-mx-live-507\":1663145960,\"es-mx-live-515\":1657695367,\"es-mx-live-520\":1659578556,\"es-mx-live-521\":1659586354,\"es-mx-live-522\":1671785219,\"es-mx-live-524\":1660129555,\"es-mx-live-528\":1664435617,\"es-mx-live-530\":1667455602,\"es-mx-live-531\":1666177551,\"es-mx-live-532\":1663141244,\"es-mx-live-538\":1663818317,\"es-mx-live-545\":1668676205,\"es-mx-live-561\":1671100885,\"es-mx-live-573\":1675936231,\"es-mx-live-7\":1647843523,\"es-mx-live-73\":1654882236,\"es-mx-live-76\":1643359987,\"es-mx-live-8\":1674721182,\"es-mx-live-83\":1656592032,\"es-mx-live-85\":1656090306,\"es-mx-live-9\":1674102672,\"fil-live-113\":1673345590,\"fil-live-136\":1672823594,\"fil-live-15\":1666834600,\"fil-live-16\":1675392620,\"fil-live-17\":1665658857,\"fil-live-209\":1672891708,\"fil-live-21\":1669864286,\"fil-live-214\":1669626890,\"fil-live-223\":1670568542,\"fil-live-235\":1669345746,\"fil-live-239\":1675051400,\"fil-live-243\":1674009165,\"fil-live-28\":1675156307,\"fil-live-29\":1671166219,\"fil-live-294\":1661998479,\"fil-live-30\":1670559399,\"fil-live-306\":1665738335,\"fil-live-340\":1675916236,\"fil-live-389\":1665653988,\"fil-live-397\":1668650110,\"fil-live-40\":1666343774,\"fil-live-406\":1662968897,\"fil-live-422\":1664953185,\"fil-live-43\":1673243832,\"fil-live-432\":1671422277,\"fil-live-522\":1671785219,\"fil-live-528\":1664435617,\"fil-live-530\":1667455602,\"fil-live-531\":1666177551,\"fil-live-532\":1663141244,\"fil-live-538\":1663818317,\"fil-live-545\":1668676205,\"fil-live-561\":1671100885,\"fil-live-573\":1675936231,\"fil-live-8\":1674721182,\"fil-live-9\":1674102672,\"fr-live-10\":1656592032,\"fr-live-100\":1664964772,\"fr-live-101\":1656592032,\"fr-live-102\":1656592032,\"fr-live-107\":1656592032,\"fr-live-108\":1649754651,\"fr-live-111\":1649754651,\"fr-live-113\":1673345590,\"fr-live-118\":1656592032,\"fr-live-128\":1658481381,\"fr-live-129\":1656592032,\"fr-live-131\":1656592032,\"fr-live-132\":1656592032,\"fr-live-136\":1672823594,\"fr-live-138\":1649754651,\"fr-live-14\":1665543034,\"fr-live-140\":1656592032,\"fr-live-141\":1649754651,\"fr-live-143\":1649754651,\"fr-live-145\":1656592032,\"fr-live-147\":1649754651,\"fr-live-15\":1666834600,\"fr-live-151\":1656592032,\"fr-live-155\":1656592032,\"fr-live-158\":1656592032,\"fr-live-16\":1675392620,\"fr-live-166\":1649754651,\"fr-live-167\":1649754651,\"fr-live-17\":1665658857,\"fr-live-18\":1665459985,\"fr-live-184\":1633944930,\"fr-live-189\":1656592032,\"fr-live-198\":1633944930,\"fr-live-20\":1656592032,\"fr-live-204\":1649754651,\"fr-live-206\":1656592032,\"fr-live-209\":1672891708,\"fr-live-21\":1669864286,\"fr-live-214\":1669626890,\"fr-live-223\":1670568542,\"fr-live-224\":1649754651,\"fr-live-228\":1633944930,\"fr-live-231\":1656592032,\"fr-live-233\":1633944930,\"fr-live-234\":1633944930,\"fr-live-235\":1669345746,\"fr-live-238\":1633944930,\"fr-live-239\":1675051400,\"fr-live-242\":1656592032,\"fr-live-243\":1674009165,\"fr-live-246\":1649754651,\"fr-live-254\":1649754651,\"fr-live-255\":1656592032,\"fr-live-256\":1661243712,\"fr-live-257\":1649754651,\"fr-live-258\":1652434726,\"fr-live-263\":1656592032,\"fr-live-265\":1656592032,\"fr-live-268\":1649754651,\"fr-live-27\":1674193189,\"fr-live-271\":1633944930,\"fr-live-277\":1656592032,\"fr-live-28\":1675156307,\"fr-live-283\":1656592032,\"fr-live-287\":1652867414,\"fr-live-29\":1671166219,\"fr-live-290\":1649754651,\"fr-live-292\":1649754651,\"fr-live-294\":1661998479,\"fr-live-297\":1649754651,\"fr-live-30\":1670559399,\"fr-live-300\":1649754651,\"fr-live-301\":1649754651,\"fr-live-303\":1633944930,\"fr-live-306\":1665738335,\"fr-live-31\":1656592032,\"fr-live-310\":1649754651,\"fr-live-311\":1633944930,\"fr-live-312\":1633944930,\"fr-live-314\":1659414278,\"fr-live-318\":1664855926,\"fr-live-32\":1663035147,\"fr-live-321\":1633944930,\"fr-live-326\":1649754651,\"fr-live-328\":1633944930,\"fr-live-329\":1633944930,\"fr-live-33\":1660620189,\"fr-live-330\":1656592032,\"fr-live-340\":1675916236,\"fr-live-343\":1633944930,\"fr-live-345\":1659926091,\"fr-live-348\":1633944930,\"fr-live-350\":1633944930,\"fr-live-354\":1656592032,\"fr-live-355\":1657703796,\"fr-live-360\":1657162080,\"fr-live-361\":1649754651,\"fr-live-362\":1649754651,\"fr-live-363\":1649754651,\"fr-live-378\":1649754651,\"fr-live-379\":1649754651,\"fr-live-380\":1656592032,\"fr-live-389\":1665653988,\"fr-live-392\":1649754651,\"fr-live-397\":1668650110,\"fr-live-40\":1666343774,\"fr-live-406\":1662968897,\"fr-live-409\":1656592032,\"fr-live-42\":1656592032,\"fr-live-422\":1664953185,\"fr-live-426\":1649754651,\"fr-live-43\":1673243832,\"fr-live-432\":1671422277,\"fr-live-436\":1663057992,\"fr-live-445\":1660701473,\"fr-live-453\":1652434726,\"fr-live-457\":1656592032,\"fr-live-463\":1651724615,\"fr-live-47\":1649754651,\"fr-live-474\":1656592032,\"fr-live-478\":1656592032,\"fr-live-484\":1661747620,\"fr-live-490\":1659507764,\"fr-live-507\":1663145960,\"fr-live-515\":1657695367,\"fr-live-520\":1659578556,\"fr-live-521\":1659586354,\"fr-live-522\":1671785219,\"fr-live-524\":1660129555,\"fr-live-528\":1664435617,\"fr-live-530\":1667455602,\"fr-live-531\":1666177551,\"fr-live-532\":1663141244,\"fr-live-538\":1663818317,\"fr-live-545\":1668676205,\"fr-live-561\":1671100885,\"fr-live-573\":1675936231,\"fr-live-7\":1643858915,\"fr-live-73\":1649754651,\"fr-live-76\":1643359987,\"fr-live-8\":1674721182,\"fr-live-83\":1656592032,\"fr-live-85\":1649754651,\"fr-live-9\":1674102672,\"hi-live-10\":1656592032,\"hi-live-100\":1664964772,\"hi-live-101\":1656592032,\"hi-live-102\":1656592032,\"hi-live-107\":1656592032,\"hi-live-108\":1649754651,\"hi-live-111\":1649754651,\"hi-live-113\":1673345590,\"hi-live-118\":1656592032,\"hi-live-128\":1658481381,\"hi-live-129\":1656592032,\"hi-live-131\":1656592032,\"hi-live-132\":1656592032,\"hi-live-136\":1672823594,\"hi-live-138\":1649754651,\"hi-live-14\":1665543034,\"hi-live-140\":1656592032,\"hi-live-141\":1649754651,\"hi-live-143\":1649754651,\"hi-live-145\":1656592032,\"hi-live-147\":1649754651,\"hi-live-15\":1666834600,\"hi-live-151\":1656592032,\"hi-live-155\":1656592032,\"hi-live-158\":1656592032,\"hi-live-16\":1675392620,\"hi-live-166\":1649754651,\"hi-live-167\":1649754651,\"hi-live-17\":1665658857,\"hi-live-18\":1665459985,\"hi-live-184\":1632898917,\"hi-live-189\":1656592032,\"hi-live-198\":1632898917,\"hi-live-20\":1656592032,\"hi-live-204\":1649754651,\"hi-live-206\":1656592032,\"hi-live-209\":1672891708,\"hi-live-21\":1669864286,\"hi-live-213\":1641889752,\"hi-live-214\":1669626890,\"hi-live-223\":1670568542,\"hi-live-224\":1649754651,\"hi-live-228\":1632898917,\"hi-live-231\":1656592032,\"hi-live-233\":1632898917,\"hi-live-234\":1632898917,\"hi-live-235\":1669345746,\"hi-live-238\":1632898917,\"hi-live-239\":1675051400,\"hi-live-242\":1656592032,\"hi-live-243\":1674009165,\"hi-live-246\":1649754651,\"hi-live-254\":1649754651,\"hi-live-255\":1656592032,\"hi-live-256\":1661243712,\"hi-live-257\":1649754651,\"hi-live-258\":1652434726,\"hi-live-263\":1656592032,\"hi-live-265\":1656592032,\"hi-live-268\":1649754651,\"hi-live-27\":1674193189,\"hi-live-271\":1632898917,\"hi-live-277\":1656592032,\"hi-live-28\":1675156307,\"hi-live-283\":1656592032,\"hi-live-287\":1652867414,\"hi-live-29\":1671166219,\"hi-live-290\":1649754651,\"hi-live-292\":1649754651,\"hi-live-294\":1661998479,\"hi-live-297\":1649754651,\"hi-live-30\":1670559399,\"hi-live-300\":1649754651,\"hi-live-301\":1649754651,\"hi-live-303\":1632898917,\"hi-live-306\":1665738335,\"hi-live-31\":1656592032,\"hi-live-310\":1649754651,\"hi-live-311\":1632898917,\"hi-live-312\":1632898917,\"hi-live-314\":1659414278,\"hi-live-318\":1664855926,\"hi-live-32\":1663035147,\"hi-live-321\":1632898917,\"hi-live-326\":1649754651,\"hi-live-328\":1632898917,\"hi-live-329\":1632898917,\"hi-live-33\":1660620189,\"hi-live-330\":1656592032,\"hi-live-340\":1675916236,\"hi-live-343\":1632898917,\"hi-live-345\":1659926091,\"hi-live-348\":1632898917,\"hi-live-350\":1632898917,\"hi-live-354\":1656592032,\"hi-live-355\":1657703796,\"hi-live-360\":1657162080,\"hi-live-361\":1649754651,\"hi-live-362\":1649754651,\"hi-live-363\":1649754651,\"hi-live-378\":1649754651,\"hi-live-379\":1649754651,\"hi-live-380\":1656592032,\"hi-live-389\":1665653988,\"hi-live-392\":1649754651,\"hi-live-397\":1668650110,\"hi-live-40\":1666343774,\"hi-live-406\":1662968897,\"hi-live-409\":1656592032,\"hi-live-42\":1656592032,\"hi-live-422\":1664953185,\"hi-live-426\":1649754651,\"hi-live-43\":1673243832,\"hi-live-432\":1671422277,\"hi-live-436\":1663057992,\"hi-live-445\":1660701473,\"hi-live-453\":1652434726,\"hi-live-457\":1656592032,\"hi-live-463\":1651724615,\"hi-live-47\":1649754651,\"hi-live-474\":1656592032,\"hi-live-478\":1656592032,\"hi-live-484\":1661747620,\"hi-live-490\":1659507764,\"hi-live-507\":1663145960,\"hi-live-515\":1657695367,\"hi-live-520\":1659578556,\"hi-live-521\":1659586354,\"hi-live-522\":1671785219,\"hi-live-524\":1660129555,\"hi-live-528\":1664435617,\"hi-live-530\":1667455602,\"hi-live-531\":1666177551,\"hi-live-532\":1663141244,\"hi-live-538\":1663818317,\"hi-live-545\":1668676205,\"hi-live-561\":1671100885,\"hi-live-573\":1675936231,\"hi-live-7\":1647843523,\"hi-live-73\":1649754651,\"hi-live-76\":1643359987,\"hi-live-8\":1674721182,\"hi-live-83\":1656592032,\"hi-live-85\":1649754651,\"hi-live-9\":1674102672,\"id-live-10\":1656592032,\"id-live-100\":1664964772,\"id-live-101\":1656592032,\"id-live-102\":1656592032,\"id-live-107\":1656592032,\"id-live-108\":1649754651,\"id-live-111\":1649754651,\"id-live-113\":1673345590,\"id-live-118\":1656592032,\"id-live-128\":1658481381,\"id-live-129\":1656592032,\"id-live-131\":1656592032,\"id-live-132\":1656592032,\"id-live-136\":1672823594,\"id-live-138\":1649754651,\"id-live-14\":1665543034,\"id-live-140\":1656592032,\"id-live-141\":1649754651,\"id-live-143\":1649754651,\"id-live-145\":1656592032,\"id-live-147\":1649754651,\"id-live-148\":1613634051,\"id-live-15\":1666834600,\"id-live-151\":1656592032,\"id-live-155\":1656592032,\"id-live-158\":1656592032,\"id-live-16\":1675392620,\"id-live-166\":1649754651,\"id-live-167\":1649754651,\"id-live-17\":1670231446,\"id-live-18\":1665459985,\"id-live-184\":1599448355,\"id-live-189\":1656592032,\"id-live-20\":1656592032,\"id-live-204\":1670231446,\"id-live-206\":1656592032,\"id-live-209\":1672891708,\"id-live-21\":1669864286,\"id-live-213\":1641889752,\"id-live-214\":1669626890,\"id-live-223\":1670568542,\"id-live-224\":1649754651,\"id-live-231\":1656592032,\"id-live-235\":1669345746,\"id-live-239\":1675051400,\"id-live-242\":1656592032,\"id-live-243\":1674009165,\"id-live-246\":1649754651,\"id-live-254\":1649754651,\"id-live-255\":1656592032,\"id-live-256\":1661243712,\"id-live-257\":1649754651,\"id-live-258\":1652434726,\"id-live-263\":1656592032,\"id-live-265\":1656592032,\"id-live-268\":1649754651,\"id-live-27\":1674193189,\"id-live-277\":1656592032,\"id-live-28\":1675156307,\"id-live-283\":1656592032,\"id-live-287\":1652867414,\"id-live-29\":1671166219,\"id-live-290\":1649754651,\"id-live-292\":1649754651,\"id-live-294\":1661998479,\"id-live-297\":1649754651,\"id-live-30\":1670559399,\"id-live-300\":1649754651,\"id-live-301\":1649754651,\"id-live-306\":1665738335,\"id-live-31\":1656592032,\"id-live-310\":1649754651,\"id-live-314\":1659414278,\"id-live-318\":1664855926,\"id-live-32\":1663035147,\"id-live-321\":1624941198,\"id-live-326\":1649754651,\"id-live-33\":1660620189,\"id-live-330\":1656592032,\"id-live-340\":1675916236,\"id-live-343\":1632386384,\"id-live-345\":1659926091,\"id-live-354\":1656592032,\"id-live-355\":1657703796,\"id-live-360\":1657162080,\"id-live-361\":1649754651,\"id-live-362\":1649754651,\"id-live-363\":1649754651,\"id-live-368\":1634095524,\"id-live-378\":1649754651,\"id-live-379\":1649754651,\"id-live-380\":1656592032,\"id-live-389\":1665653988,\"id-live-392\":1649754651,\"id-live-397\":1668650110,\"id-live-40\":1666343774,\"id-live-406\":1662968897,\"id-live-409\":1656592032,\"id-live-42\":1656592032,\"id-live-422\":1664953185,\"id-live-426\":1649754651,\"id-live-43\":1673243832,\"id-live-432\":1671422277,\"id-live-436\":1663057992,\"id-live-445\":1660701473,\"id-live-453\":1652434726,\"id-live-457\":1656592032,\"id-live-463\":1651724615,\"id-live-47\":1649754651,\"id-live-474\":1656592032,\"id-live-478\":1656592032,\"id-live-484\":1661747620,\"id-live-490\":1659507764,\"id-live-507\":1663145960,\"id-live-515\":1657695367,\"id-live-520\":1659578556,\"id-live-521\":1659586354,\"id-live-522\":1671785219,\"id-live-524\":1660129555,\"id-live-528\":1664435617,\"id-live-530\":1667455602,\"id-live-531\":1670231446,\"id-live-532\":1663141244,\"id-live-538\":1663818317,\"id-live-545\":1668676205,\"id-live-561\":1671100885,\"id-live-573\":1675936231,\"id-live-7\":1647843523,\"id-live-73\":1649754651,\"id-live-76\":1643359987,\"id-live-8\":1675152140,\"id-live-83\":1656592032,\"id-live-85\":1649754651,\"id-live-9\":1674102672,\"ms-my-live-10\":1656592032,\"ms-my-live-100\":1664964772,\"ms-my-live-101\":1656592032,\"ms-my-live-102\":1656592032,\"ms-my-live-107\":1656592032,\"ms-my-live-108\":1649754651,\"ms-my-live-111\":1649754651,\"ms-my-live-113\":1673345590,\"ms-my-live-118\":1656592032,\"ms-my-live-128\":1658481381,\"ms-my-live-129\":1656592032,\"ms-my-live-131\":1656592032,\"ms-my-live-132\":1656592032,\"ms-my-live-136\":1672823594,\"ms-my-live-138\":1649754651,\"ms-my-live-14\":1665543034,\"ms-my-live-140\":1656592032,\"ms-my-live-141\":1649754651,\"ms-my-live-143\":1649754651,\"ms-my-live-145\":1656592032,\"ms-my-live-147\":1649754651,\"ms-my-live-148\":1613634051,\"ms-my-live-15\":1666834600,\"ms-my-live-151\":1656592032,\"ms-my-live-155\":1656592032,\"ms-my-live-158\":1656592032,\"ms-my-live-16\":1675392620,\"ms-my-live-166\":1649754651,\"ms-my-live-167\":1649754651,\"ms-my-live-17\":1670231446,\"ms-my-live-18\":1665459985,\"ms-my-live-184\":1599448355,\"ms-my-live-189\":1656592032,\"ms-my-live-20\":1656592032,\"ms-my-live-204\":1670231446,\"ms-my-live-206\":1656592032,\"ms-my-live-209\":1672891708,\"ms-my-live-21\":1669864286,\"ms-my-live-213\":1641889752,\"ms-my-live-214\":1669626890,\"ms-my-live-223\":1670568542,\"ms-my-live-224\":1649754651,\"ms-my-live-231\":1656592032,\"ms-my-live-235\":1669345746,\"ms-my-live-239\":1675051400,\"ms-my-live-242\":1656592032,\"ms-my-live-243\":1674009165,\"ms-my-live-246\":1649754651,\"ms-my-live-254\":1649754651,\"ms-my-live-255\":1656592032,\"ms-my-live-256\":1661243712,\"ms-my-live-257\":1649754651,\"ms-my-live-258\":1652434726,\"ms-my-live-263\":1656592032,\"ms-my-live-265\":1656592032,\"ms-my-live-268\":1649754651,\"ms-my-live-27\":1674193189,\"ms-my-live-277\":1656592032,\"ms-my-live-28\":1675156307,\"ms-my-live-283\":1656592032,\"ms-my-live-287\":1652867414,\"ms-my-live-29\":1671166219,\"ms-my-live-290\":1649754651,\"ms-my-live-292\":1649754651,\"ms-my-live-294\":1661998479,\"ms-my-live-297\":1649754651,\"ms-my-live-30\":1670559399,\"ms-my-live-300\":1649754651,\"ms-my-live-301\":1649754651,\"ms-my-live-306\":1665738335,\"ms-my-live-31\":1656592032,\"ms-my-live-310\":1649754651,\"ms-my-live-314\":1659414278,\"ms-my-live-318\":1664855926,\"ms-my-live-32\":1663035147,\"ms-my-live-321\":1624941198,\"ms-my-live-326\":1649754651,\"ms-my-live-33\":1660620189,\"ms-my-live-330\":1656592032,\"ms-my-live-340\":1675916236,\"ms-my-live-343\":1632386384,\"ms-my-live-345\":1659926091,\"ms-my-live-354\":1656592032,\"ms-my-live-355\":1657703796,\"ms-my-live-360\":1657162080,\"ms-my-live-361\":1649754651,\"ms-my-live-362\":1649754651,\"ms-my-live-363\":1649754651,\"ms-my-live-368\":1634095524,\"ms-my-live-378\":1649754651,\"ms-my-live-379\":1649754651,\"ms-my-live-380\":1656592032,\"ms-my-live-389\":1665653988,\"ms-my-live-392\":1649754651,\"ms-my-live-397\":1668650110,\"ms-my-live-40\":1666343774,\"ms-my-live-406\":1662968897,\"ms-my-live-409\":1656592032,\"ms-my-live-42\":1656592032,\"ms-my-live-422\":1664953185,\"ms-my-live-426\":1649754651,\"ms-my-live-43\":1673243832,\"ms-my-live-432\":1671422277,\"ms-my-live-436\":1663057992,\"ms-my-live-445\":1660701473,\"ms-my-live-453\":1652434726,\"ms-my-live-457\":1656592032,\"ms-my-live-463\":1651724615,\"ms-my-live-47\":1649754651,\"ms-my-live-474\":1656592032,\"ms-my-live-478\":1656592032,\"ms-my-live-484\":1661747620,\"ms-my-live-490\":1659507764,\"ms-my-live-507\":1663145960,\"ms-my-live-515\":1657695367,\"ms-my-live-520\":1659578556,\"ms-my-live-521\":1659586354,\"ms-my-live-522\":1671785219,\"ms-my-live-524\":1660129555,\"ms-my-live-528\":1664435617,\"ms-my-live-530\":1667455602,\"ms-my-live-531\":1670231446,\"ms-my-live-532\":1663141244,\"ms-my-live-538\":1663818317,\"ms-my-live-545\":1668676205,\"ms-my-live-561\":1671100885,\"ms-my-live-573\":1675936231,\"ms-my-live-7\":1647843523,\"ms-my-live-73\":1649754651,\"ms-my-live-76\":1643359987,\"ms-my-live-8\":1674721182,\"ms-my-live-83\":1656592032,\"ms-my-live-85\":1649754651,\"ms-my-live-9\":1674102672,\"pl-live-10\":1656592032,\"pl-live-100\":1669948132,\"pl-live-101\":1669948146,\"pl-live-102\":1656592032,\"pl-live-107\":1656592032,\"pl-live-108\":1649754651,\"pl-live-111\":1649754651,\"pl-live-113\":1673606135,\"pl-live-118\":1656592032,\"pl-live-128\":1658481381,\"pl-live-129\":1656592032,\"pl-live-131\":1656592032,\"pl-live-132\":1656592032,\"pl-live-136\":1672823594,\"pl-live-138\":1649754651,\"pl-live-14\":1665543034,\"pl-live-140\":1656592032,\"pl-live-141\":1649754651,\"pl-live-143\":1649754651,\"pl-live-145\":1656592032,\"pl-live-147\":1649754651,\"pl-live-15\":1666834600,\"pl-live-151\":1656592032,\"pl-live-155\":1656592032,\"pl-live-158\":1656592032,\"pl-live-16\":1675392620,\"pl-live-166\":1649754651,\"pl-live-167\":1649754651,\"pl-live-17\":1665658857,\"pl-live-18\":1665459985,\"pl-live-184\":1631766012,\"pl-live-189\":1656592032,\"pl-live-198\":1631766012,\"pl-live-20\":1656592032,\"pl-live-204\":1649754651,\"pl-live-206\":1656592032,\"pl-live-209\":1672891708,\"pl-live-21\":1669864286,\"pl-live-213\":1641889752,\"pl-live-214\":1669626890,\"pl-live-223\":1670568542,\"pl-live-224\":1649754651,\"pl-live-228\":1631766012,\"pl-live-231\":1656592032,\"pl-live-233\":1631766012,\"pl-live-234\":1631766012,\"pl-live-235\":1669345746,\"pl-live-238\":1631766012,\"pl-live-239\":1675051400,\"pl-live-242\":1656592032,\"pl-live-243\":1674009165,\"pl-live-246\":1649754651,\"pl-live-254\":1649754651,\"pl-live-255\":1656592032,\"pl-live-256\":1661243712,\"pl-live-257\":1649754651,\"pl-live-258\":1652434726,\"pl-live-263\":1656592032,\"pl-live-265\":1656592032,\"pl-live-268\":1649754651,\"pl-live-27\":1674193189,\"pl-live-271\":1631766012,\"pl-live-277\":1656592032,\"pl-live-28\":1675156307,\"pl-live-283\":1656592032,\"pl-live-287\":1652867414,\"pl-live-29\":1671166219,\"pl-live-290\":1649754651,\"pl-live-292\":1649754651,\"pl-live-294\":1661998479,\"pl-live-297\":1649754651,\"pl-live-30\":1670559399,\"pl-live-300\":1649754651,\"pl-live-301\":1649754651,\"pl-live-303\":1631766012,\"pl-live-306\":1665738335,\"pl-live-31\":1656592032,\"pl-live-310\":1649754651,\"pl-live-311\":1631766012,\"pl-live-312\":1631766012,\"pl-live-314\":1659414278,\"pl-live-318\":1664855926,\"pl-live-32\":1663035147,\"pl-live-321\":1631766012,\"pl-live-326\":1649754651,\"pl-live-328\":1631766012,\"pl-live-329\":1631766012,\"pl-live-33\":1660620189,\"pl-live-330\":1656592032,\"pl-live-340\":1675916236,\"pl-live-343\":1631766012,\"pl-live-345\":1659926091,\"pl-live-348\":1631766012,\"pl-live-350\":1631766012,\"pl-live-354\":1656592032,\"pl-live-355\":1657703796,\"pl-live-360\":1657162080,\"pl-live-361\":1649754651,\"pl-live-362\":1649754651,\"pl-live-363\":1649754651,\"pl-live-368\":1634095524,\"pl-live-378\":1649754651,\"pl-live-379\":1649754651,\"pl-live-380\":1656592032,\"pl-live-389\":1665653988,\"pl-live-392\":1649754651,\"pl-live-397\":1668650110,\"pl-live-40\":1666343774,\"pl-live-406\":1662968897,\"pl-live-409\":1656592032,\"pl-live-42\":1656592032,\"pl-live-422\":1664953185,\"pl-live-426\":1649754651,\"pl-live-43\":1673243832,\"pl-live-432\":1671422277,\"pl-live-436\":1663057992,\"pl-live-445\":1660701473,\"pl-live-453\":1652434726,\"pl-live-457\":1656592032,\"pl-live-463\":1651724615,\"pl-live-47\":1649754651,\"pl-live-474\":1656592032,\"pl-live-478\":1656592032,\"pl-live-484\":1661747620,\"pl-live-490\":1659507764,\"pl-live-507\":1663145960,\"pl-live-515\":1657695367,\"pl-live-520\":1659578556,\"pl-live-521\":1659586354,\"pl-live-522\":1671785219,\"pl-live-524\":1668426834,\"pl-live-528\":1664435617,\"pl-live-530\":1667455602,\"pl-live-531\":1666177551,\"pl-live-532\":1663141244,\"pl-live-538\":1663818317,\"pl-live-545\":1668676205,\"pl-live-561\":1671100885,\"pl-live-573\":1675936231,\"pl-live-7\":1647843523,\"pl-live-73\":1649754651,\"pl-live-76\":1643359987,\"pl-live-8\":1674721182,\"pl-live-83\":1656592032,\"pl-live-85\":1649754651,\"pl-live-9\":1674102672,\"pt-br-live-10\":1656592032,\"pt-br-live-100\":1664964772,\"pt-br-live-101\":1656592032,\"pt-br-live-102\":1656592032,\"pt-br-live-107\":1656592032,\"pt-br-live-108\":1670303429,\"pt-br-live-111\":1649754651,\"pt-br-live-113\":1673345590,\"pt-br-live-118\":1656592032,\"pt-br-live-128\":1658481381,\"pt-br-live-129\":1656592032,\"pt-br-live-131\":1656592032,\"pt-br-live-132\":1656592032,\"pt-br-live-136\":1672823594,\"pt-br-live-138\":1649754651,\"pt-br-live-14\":1665543034,\"pt-br-live-140\":1656592032,\"pt-br-live-141\":1649754651,\"pt-br-live-143\":1649754651,\"pt-br-live-145\":1656592032,\"pt-br-live-147\":1649754651,\"pt-br-live-148\":1613634051,\"pt-br-live-15\":1666834600,\"pt-br-live-151\":1656592032,\"pt-br-live-155\":1656592032,\"pt-br-live-158\":1656592032,\"pt-br-live-16\":1675392620,\"pt-br-live-166\":1649754651,\"pt-br-live-167\":1649754651,\"pt-br-live-17\":1665658857,\"pt-br-live-18\":1665459985,\"pt-br-live-184\":1599448355,\"pt-br-live-189\":1656592032,\"pt-br-live-20\":1656592032,\"pt-br-live-204\":1649754651,\"pt-br-live-206\":1656592032,\"pt-br-live-209\":1672891708,\"pt-br-live-21\":1669864286,\"pt-br-live-213\":1641889752,\"pt-br-live-214\":1669626890,\"pt-br-live-223\":1670568542,\"pt-br-live-224\":1649754651,\"pt-br-live-231\":1656592032,\"pt-br-live-235\":1669345746,\"pt-br-live-239\":1675051400,\"pt-br-live-242\":1656592032,\"pt-br-live-243\":1674009165,\"pt-br-live-246\":1649754651,\"pt-br-live-254\":1649754651,\"pt-br-live-255\":1656592032,\"pt-br-live-256\":1661243712,\"pt-br-live-257\":1649754651,\"pt-br-live-258\":1652434726,\"pt-br-live-263\":1656592032,\"pt-br-live-265\":1656592032,\"pt-br-live-268\":1649754651,\"pt-br-live-27\":1674193189,\"pt-br-live-277\":1656592032,\"pt-br-live-28\":1675156307,\"pt-br-live-283\":1656592032,\"pt-br-live-287\":1652867414,\"pt-br-live-29\":1671166219,\"pt-br-live-290\":1649754651,\"pt-br-live-292\":1649754651,\"pt-br-live-294\":1661998479,\"pt-br-live-297\":1649754651,\"pt-br-live-30\":1670559399,\"pt-br-live-300\":1649754651,\"pt-br-live-301\":1649754651,\"pt-br-live-306\":1665738335,\"pt-br-live-31\":1656592032,\"pt-br-live-310\":1649754651,\"pt-br-live-314\":1659414278,\"pt-br-live-318\":1664855926,\"pt-br-live-32\":1663035147,\"pt-br-live-321\":1624941198,\"pt-br-live-326\":1649754651,\"pt-br-live-33\":1660620189,\"pt-br-live-330\":1656592032,\"pt-br-live-340\":1675916236,\"pt-br-live-343\":1632386384,\"pt-br-live-345\":1659926091,\"pt-br-live-354\":1656592032,\"pt-br-live-355\":1657703796,\"pt-br-live-360\":1657162080,\"pt-br-live-361\":1649754651,\"pt-br-live-362\":1649754651,\"pt-br-live-363\":1649754651,\"pt-br-live-368\":1634095524,\"pt-br-live-378\":1649754651,\"pt-br-live-379\":1649754651,\"pt-br-live-380\":1656592032,\"pt-br-live-389\":1665653988,\"pt-br-live-392\":1649754651,\"pt-br-live-397\":1668650110,\"pt-br-live-40\":1666343774,\"pt-br-live-406\":1662968897,\"pt-br-live-409\":1656592032,\"pt-br-live-42\":1656592032,\"pt-br-live-422\":1664953185,\"pt-br-live-426\":1649754651,\"pt-br-live-43\":1673243832,\"pt-br-live-432\":1671422277,\"pt-br-live-436\":1663057992,\"pt-br-live-445\":1660701473,\"pt-br-live-453\":1652434726,\"pt-br-live-457\":1656592032,\"pt-br-live-463\":1651724615,\"pt-br-live-47\":1649754651,\"pt-br-live-474\":1656592032,\"pt-br-live-478\":1656592032,\"pt-br-live-484\":1661747620,\"pt-br-live-490\":1659507764,\"pt-br-live-507\":1663145960,\"pt-br-live-515\":1657695367,\"pt-br-live-520\":1659578556,\"pt-br-live-521\":1659586354,\"pt-br-live-522\":1671785219,\"pt-br-live-524\":1660129555,\"pt-br-live-528\":1664435617,\"pt-br-live-530\":1667455602,\"pt-br-live-531\":1666177551,\"pt-br-live-532\":1663141244,\"pt-br-live-538\":1663818317,\"pt-br-live-545\":1668676205,\"pt-br-live-561\":1671100885,\"pt-br-live-573\":1675936231,\"pt-br-live-7\":1643858915,\"pt-br-live-73\":1649754651,\"pt-br-live-76\":1643359987,\"pt-br-live-8\":1674721182,\"pt-br-live-83\":1656592032,\"pt-br-live-85\":1649754651,\"pt-br-live-9\":1674102672,\"th-live-10\":1656592032,\"th-live-100\":1664964772,\"th-live-101\":1656592032,\"th-live-102\":1656592032,\"th-live-107\":1656592032,\"th-live-108\":1649754651,\"th-live-111\":1649754651,\"th-live-113\":1673345590,\"th-live-118\":1656592032,\"th-live-128\":1658481381,\"th-live-129\":1656592032,\"th-live-131\":1656592032,\"th-live-132\":1656592032,\"th-live-136\":1672823594,\"th-live-138\":1649754651,\"th-live-14\":1673584215,\"th-live-140\":1656592032,\"th-live-141\":1649754651,\"th-live-143\":1649754651,\"th-live-145\":1656592032,\"th-live-147\":1649754651,\"th-live-148\":1613634051,\"th-live-15\":1666834600,\"th-live-151\":1656592032,\"th-live-155\":1656592032,\"th-live-158\":1656592032,\"th-live-16\":1675392620,\"th-live-166\":1649754651,\"th-live-167\":1649754651,\"th-live-17\":1670231446,\"th-live-18\":1665459985,\"th-live-184\":1599448355,\"th-live-189\":1656592032,\"th-live-20\":1656592032,\"th-live-204\":1670231446,\"th-live-206\":1656592032,\"th-live-209\":1672891708,\"th-live-21\":1669864286,\"th-live-213\":1641889752,\"th-live-214\":1669626890,\"th-live-223\":1670568542,\"th-live-224\":1649754651,\"th-live-231\":1656592032,\"th-live-235\":1669345746,\"th-live-239\":1675051400,\"th-live-242\":1656592032,\"th-live-243\":1674009165,\"th-live-246\":1649754651,\"th-live-254\":1649754651,\"th-live-255\":1656592032,\"th-live-256\":1661243712,\"th-live-257\":1649754651,\"th-live-258\":1652434726,\"th-live-263\":1656592032,\"th-live-265\":1656592032,\"th-live-268\":1649754651,\"th-live-27\":1674193189,\"th-live-277\":1656592032,\"th-live-28\":1675156307,\"th-live-283\":1656592032,\"th-live-287\":1652867414,\"th-live-29\":1671166219,\"th-live-290\":1649754651,\"th-live-292\":1649754651,\"th-live-294\":1661998479,\"th-live-297\":1649754651,\"th-live-30\":1673584215,\"th-live-300\":1649754651,\"th-live-301\":1649754651,\"th-live-306\":1665738335,\"th-live-31\":1656592032,\"th-live-310\":1649754651,\"th-live-314\":1659414278,\"th-live-318\":1664855926,\"th-live-32\":1663035147,\"th-live-321\":1624941198,\"th-live-326\":1649754651,\"th-live-33\":1660620189,\"th-live-330\":1656592032,\"th-live-340\":1675916236,\"th-live-343\":1632386384,\"th-live-345\":1659926091,\"th-live-354\":1656592032,\"th-live-355\":1657703796,\"th-live-360\":1657162080,\"th-live-361\":1649754651,\"th-live-362\":1649754651,\"th-live-363\":1649754651,\"th-live-368\":1634095524,\"th-live-378\":1649754651,\"th-live-379\":1649754651,\"th-live-380\":1656592032,\"th-live-389\":1665653988,\"th-live-392\":1649754651,\"th-live-397\":1668650110,\"th-live-40\":1666343774,\"th-live-406\":1662968897,\"th-live-409\":1656592032,\"th-live-42\":1656592032,\"th-live-422\":1664953185,\"th-live-426\":1649754651,\"th-live-43\":1673243832,\"th-live-432\":1671422277,\"th-live-436\":1663057992,\"th-live-445\":1660701473,\"th-live-453\":1652434726,\"th-live-457\":1656592032,\"th-live-463\":1651724615,\"th-live-47\":1649754651,\"th-live-474\":1656592032,\"th-live-478\":1656592032,\"th-live-484\":1661747620,\"th-live-490\":1659507764,\"th-live-507\":1663145960,\"th-live-515\":1657695367,\"th-live-520\":1659578556,\"th-live-521\":1659586354,\"th-live-522\":1671785219,\"th-live-524\":1660129555,\"th-live-528\":1664435617,\"th-live-530\":1667455602,\"th-live-531\":1670231446,\"th-live-532\":1663141244,\"th-live-538\":1663818317,\"th-live-545\":1668676205,\"th-live-561\":1671100885,\"th-live-573\":1675936231,\"th-live-7\":1647843523,\"th-live-73\":1649754651,\"th-live-76\":1643359987,\"th-live-8\":1674721182,\"th-live-83\":1656592032,\"th-live-85\":1649754651,\"th-live-9\":1674102672,\"vi-live-10\":1656592032,\"vi-live-100\":1664964772,\"vi-live-101\":1656592032,\"vi-live-102\":1656592032,\"vi-live-107\":1656592032,\"vi-live-108\":1649754651,\"vi-live-111\":1649754651,\"vi-live-113\":1673345590,\"vi-live-118\":1656592032,\"vi-live-128\":1658481381,\"vi-live-129\":1656592032,\"vi-live-131\":1656592032,\"vi-live-132\":1656592032,\"vi-live-136\":1672823594,\"vi-live-138\":1649754651,\"vi-live-14\":1665543034,\"vi-live-140\":1656592032,\"vi-live-141\":1649754651,\"vi-live-143\":1649754651,\"vi-live-145\":1656592032,\"vi-live-147\":1649754651,\"vi-live-148\":1613634051,\"vi-live-15\":1666834600,\"vi-live-151\":1656592032,\"vi-live-155\":1656592032,\"vi-live-158\":1656592032,\"vi-live-16\":1675392620,\"vi-live-166\":1649754651,\"vi-live-167\":1649754651,\"vi-live-17\":1670231446,\"vi-live-18\":1665459985,\"vi-live-184\":1599448355,\"vi-live-189\":1656592032,\"vi-live-20\":1656592032,\"vi-live-204\":1670231446,\"vi-live-206\":1656592032,\"vi-live-209\":1672891708,\"vi-live-21\":1669864286,\"vi-live-213\":1641889752,\"vi-live-214\":1669626890,\"vi-live-223\":1670568542,\"vi-live-224\":1649754651,\"vi-live-231\":1656592032,\"vi-live-235\":1669345746,\"vi-live-239\":1675051400,\"vi-live-242\":1656592032,\"vi-live-243\":1674009165,\"vi-live-246\":1649754651,\"vi-live-254\":1649754651,\"vi-live-255\":1656592032,\"vi-live-256\":1661243712,\"vi-live-257\":1649754651,\"vi-live-258\":1652434726,\"vi-live-263\":1656592032,\"vi-live-265\":1656592032,\"vi-live-268\":1649754651,\"vi-live-27\":1674193189,\"vi-live-277\":1656592032,\"vi-live-28\":1675156307,\"vi-live-283\":1656592032,\"vi-live-287\":1656040006,\"vi-live-29\":1671166219,\"vi-live-290\":1649754651,\"vi-live-292\":1649754651,\"vi-live-294\":1661998479,\"vi-live-297\":1649754651,\"vi-live-30\":1670559399,\"vi-live-300\":1649754651,\"vi-live-301\":1649754651,\"vi-live-306\":1665738335,\"vi-live-31\":1656592032,\"vi-live-310\":1649754651,\"vi-live-314\":1659414278,\"vi-live-318\":1664855926,\"vi-live-32\":1663035147,\"vi-live-321\":1624941198,\"vi-live-326\":1649754651,\"vi-live-33\":1660620189,\"vi-live-330\":1656592032,\"vi-live-340\":1675916236,\"vi-live-343\":1632386384,\"vi-live-345\":1659926091,\"vi-live-354\":1656592032,\"vi-live-355\":1657703796,\"vi-live-360\":1657162080,\"vi-live-361\":1649754651,\"vi-live-362\":1649754651,\"vi-live-363\":1649754651,\"vi-live-368\":1634095524,\"vi-live-378\":1649754651,\"vi-live-379\":1649754651,\"vi-live-380\":1656592032,\"vi-live-389\":1665653988,\"vi-live-392\":1649754651,\"vi-live-397\":1668650110,\"vi-live-40\":1666343774,\"vi-live-406\":1662968897,\"vi-live-409\":1656592032,\"vi-live-42\":1656592032,\"vi-live-422\":1664953185,\"vi-live-426\":1649754651,\"vi-live-43\":1673243832,\"vi-live-432\":1671422277,\"vi-live-436\":1663057992,\"vi-live-445\":1660701473,\"vi-live-453\":1652434726,\"vi-live-457\":1656592032,\"vi-live-463\":1651724615,\"vi-live-47\":1649754651,\"vi-live-474\":1656592032,\"vi-live-478\":1656592032,\"vi-live-484\":1661747620,\"vi-live-490\":1659507764,\"vi-live-507\":1663145960,\"vi-live-515\":1657695367,\"vi-live-520\":1659578556,\"vi-live-521\":1659586354,\"vi-live-522\":1671785219,\"vi-live-524\":1660129555,\"vi-live-528\":1664435617,\"vi-live-530\":1667455602,\"vi-live-531\":1670231446,\"vi-live-532\":1663741806,\"vi-live-538\":1663818317,\"vi-live-545\":1668676205,\"vi-live-561\":1671100885,\"vi-live-573\":1675936231,\"vi-live-7\":1647843523,\"vi-live-73\":1649754651,\"vi-live-76\":1643359987,\"vi-live-8\":1674721182,\"vi-live-83\":1656592032,\"vi-live-85\":1649754651,\"vi-live-9\":1674102672,\"zh-hans-live-10\":1656592032,\"zh-hans-live-100\":1664964772,\"zh-hans-live-101\":1656592032,\"zh-hans-live-102\":1656592032,\"zh-hans-live-107\":1656592032,\"zh-hans-live-108\":1649754651,\"zh-hans-live-111\":1649754651,\"zh-hans-live-113\":1673345590,\"zh-hans-live-118\":1656592032,\"zh-hans-live-128\":1658481381,\"zh-hans-live-129\":1656592032,\"zh-hans-live-131\":1656592032,\"zh-hans-live-132\":1656592032,\"zh-hans-live-136\":1672823594,\"zh-hans-live-138\":1649754651,\"zh-hans-live-14\":1665543034,\"zh-hans-live-140\":1656592032,\"zh-hans-live-141\":1649754651,\"zh-hans-live-143\":1649754651,\"zh-hans-live-145\":1656592032,\"zh-hans-live-147\":1649754651,\"zh-hans-live-148\":1613634051,\"zh-hans-live-15\":1666834600,\"zh-hans-live-151\":1656592032,\"zh-hans-live-155\":1656592032,\"zh-hans-live-158\":1656592032,\"zh-hans-live-16\":1675392620,\"zh-hans-live-166\":1649754651,\"zh-hans-live-167\":1649754651,\"zh-hans-live-17\":1670231446,\"zh-hans-live-18\":1665459985,\"zh-hans-live-184\":1599448355,\"zh-hans-live-189\":1656592032,\"zh-hans-live-20\":1656592032,\"zh-hans-live-204\":1670231446,\"zh-hans-live-206\":1656592032,\"zh-hans-live-209\":1672891708,\"zh-hans-live-21\":1669864286,\"zh-hans-live-213\":1641889752,\"zh-hans-live-214\":1669626890,\"zh-hans-live-223\":1670568542,\"zh-hans-live-224\":1649754651,\"zh-hans-live-231\":1656592032,\"zh-hans-live-235\":1669345746,\"zh-hans-live-239\":1675051400,\"zh-hans-live-242\":1656592032,\"zh-hans-live-243\":1676256945,\"zh-hans-live-246\":1649754651,\"zh-hans-live-254\":1649754651,\"zh-hans-live-255\":1656592032,\"zh-hans-live-256\":1661243712,\"zh-hans-live-257\":1649754651,\"zh-hans-live-258\":1652434726,\"zh-hans-live-263\":1656592032,\"zh-hans-live-265\":1656592032,\"zh-hans-live-268\":1649754651,\"zh-hans-live-27\":1674193189,\"zh-hans-live-277\":1656592032,\"zh-hans-live-28\":1675156307,\"zh-hans-live-283\":1656592032,\"zh-hans-live-287\":1652867414,\"zh-hans-live-29\":1671166219,\"zh-hans-live-290\":1649754651,\"zh-hans-live-292\":1649754651,\"zh-hans-live-294\":1661998479,\"zh-hans-live-297\":1649754651,\"zh-hans-live-30\":1670559399,\"zh-hans-live-300\":1649754651,\"zh-hans-live-301\":1649754651,\"zh-hans-live-306\":1665738335,\"zh-hans-live-31\":1656592032,\"zh-hans-live-310\":1649754651,\"zh-hans-live-314\":1659414278,\"zh-hans-live-318\":1664855926,\"zh-hans-live-32\":1663035147,\"zh-hans-live-321\":1624941198,\"zh-hans-live-326\":1649754651,\"zh-hans-live-33\":1660620189,\"zh-hans-live-330\":1656592032,\"zh-hans-live-340\":1675916236,\"zh-hans-live-343\":1632386384,\"zh-hans-live-345\":1659926091,\"zh-hans-live-354\":1656592032,\"zh-hans-live-355\":1657703796,\"zh-hans-live-360\":1657162080,\"zh-hans-live-361\":1649754651,\"zh-hans-live-362\":1649754651,\"zh-hans-live-363\":1649754651,\"zh-hans-live-368\":1634095524,\"zh-hans-live-378\":1649754651,\"zh-hans-live-379\":1649754651,\"zh-hans-live-380\":1656592032,\"zh-hans-live-389\":1665653988,\"zh-hans-live-392\":1649754651,\"zh-hans-live-397\":1668650110,\"zh-hans-live-40\":1666343774,\"zh-hans-live-406\":1662968897,\"zh-hans-live-409\":1656592032,\"zh-hans-live-42\":1656592032,\"zh-hans-live-422\":1664953185,\"zh-hans-live-426\":1649754651,\"zh-hans-live-43\":1673243832,\"zh-hans-live-432\":1671422277,\"zh-hans-live-436\":1663057992,\"zh-hans-live-445\":1660701473,\"zh-hans-live-453\":1652434726,\"zh-hans-live-457\":1656592032,\"zh-hans-live-463\":1651724615,\"zh-hans-live-47\":1649754651,\"zh-hans-live-474\":1656592032,\"zh-hans-live-478\":1656592032,\"zh-hans-live-484\":1661747620,\"zh-hans-live-490\":1659507764,\"zh-hans-live-507\":1663145960,\"zh-hans-live-515\":1657695367,\"zh-hans-live-520\":1659578556,\"zh-hans-live-521\":1659586354,\"zh-hans-live-522\":1671785219,\"zh-hans-live-524\":1660129555,\"zh-hans-live-528\":1664435617,\"zh-hans-live-530\":1667455602,\"zh-hans-live-531\":1670231446,\"zh-hans-live-532\":1663141244,\"zh-hans-live-538\":1663818317,\"zh-hans-live-545\":1668676205,\"zh-hans-live-561\":1671100885,\"zh-hans-live-573\":1675936231,\"zh-hans-live-7\":1647843523,\"zh-hans-live-73\":1649754651,\"zh-hans-live-76\":1643359987,\"zh-hans-live-8\":1674721182,\"zh-hans-live-83\":1656592032,\"zh-hans-live-85\":1649754651,\"zh-hans-live-9\":1674102672,\"zh-hant-live-10\":1656592032,\"zh-hant-live-100\":1664964772,\"zh-hant-live-101\":1656592032,\"zh-hant-live-102\":1656592032,\"zh-hant-live-107\":1656592032,\"zh-hant-live-108\":1649754651,\"zh-hant-live-111\":1649754651,\"zh-hant-live-113\":1673345590,\"zh-hant-live-118\":1656592032,\"zh-hant-live-128\":1658481381,\"zh-hant-live-129\":1656592032,\"zh-hant-live-131\":1656592032,\"zh-hant-live-132\":1656592032,\"zh-hant-live-136\":1672823594,\"zh-hant-live-138\":1649754651,\"zh-hant-live-14\":1665543034,\"zh-hant-live-140\":1656592032,\"zh-hant-live-141\":1649754651,\"zh-hant-live-143\":1649754651,\"zh-hant-live-145\":1656592032,\"zh-hant-live-147\":1649754651,\"zh-hant-live-15\":1666834600,\"zh-hant-live-151\":1656592032,\"zh-hant-live-155\":1656592032,\"zh-hant-live-158\":1656592032,\"zh-hant-live-16\":1675392620,\"zh-hant-live-166\":1649754651,\"zh-hant-live-167\":1649754651,\"zh-hant-live-17\":1670231446,\"zh-hant-live-18\":1665459985,\"zh-hant-live-184\":1599448355,\"zh-hant-live-189\":1656592032,\"zh-hant-live-20\":1656592032,\"zh-hant-live-204\":1670231446,\"zh-hant-live-206\":1656592032,\"zh-hant-live-209\":1672891708,\"zh-hant-live-21\":1669864286,\"zh-hant-live-213\":1641889752,\"zh-hant-live-214\":1669626890,\"zh-hant-live-223\":1670568542,\"zh-hant-live-224\":1649754651,\"zh-hant-live-231\":1656592032,\"zh-hant-live-235\":1669345746,\"zh-hant-live-239\":1675051400,\"zh-hant-live-242\":1656592032,\"zh-hant-live-243\":1676256945,\"zh-hant-live-246\":1649754651,\"zh-hant-live-254\":1649754651,\"zh-hant-live-255\":1656592032,\"zh-hant-live-256\":1661243712,\"zh-hant-live-257\":1649754651,\"zh-hant-live-258\":1652434726,\"zh-hant-live-263\":1656592032,\"zh-hant-live-265\":1656592032,\"zh-hant-live-268\":1649754651,\"zh-hant-live-27\":1674193189,\"zh-hant-live-277\":1656592032,\"zh-hant-live-28\":1675156307,\"zh-hant-live-283\":1656592032,\"zh-hant-live-287\":1652867414,\"zh-hant-live-29\":1671166219,\"zh-hant-live-290\":1649754651,\"zh-hant-live-292\":1649754651,\"zh-hant-live-294\":1661998479,\"zh-hant-live-297\":1649754651,\"zh-hant-live-30\":1670559399,\"zh-hant-live-300\":1649754651,\"zh-hant-live-301\":1649754651,\"zh-hant-live-306\":1665738335,\"zh-hant-live-31\":1656592032,\"zh-hant-live-310\":1649754651,\"zh-hant-live-314\":1659414278,\"zh-hant-live-318\":1664855926,\"zh-hant-live-32\":1663035147,\"zh-hant-live-321\":1624941198,\"zh-hant-live-326\":1649754651,\"zh-hant-live-33\":1660620189,\"zh-hant-live-330\":1656592032,\"zh-hant-live-340\":1675916236,\"zh-hant-live-343\":1632386384,\"zh-hant-live-345\":1659926091,\"zh-hant-live-354\":1656592032,\"zh-hant-live-355\":1657703796,\"zh-hant-live-360\":1657162080,\"zh-hant-live-361\":1649754651,\"zh-hant-live-362\":1649754651,\"zh-hant-live-363\":1649754651,\"zh-hant-live-368\":1634095524,\"zh-hant-live-378\":1649754651,\"zh-hant-live-379\":1649754651,\"zh-hant-live-380\":1656592032,\"zh-hant-live-389\":1665653988,\"zh-hant-live-392\":1649754651,\"zh-hant-live-397\":1668650110,\"zh-hant-live-40\":1666343774,\"zh-hant-live-406\":1662968897,\"zh-hant-live-409\":1656592032,\"zh-hant-live-42\":1656592032,\"zh-hant-live-422\":1664953185,\"zh-hant-live-426\":1649754651,\"zh-hant-live-43\":1673243832,\"zh-hant-live-432\":1671422277,\"zh-hant-live-436\":1663057992,\"zh-hant-live-445\":1660701473,\"zh-hant-live-453\":1652434726,\"zh-hant-live-457\":1656592032,\"zh-hant-live-463\":1651724615,\"zh-hant-live-47\":1649754651,\"zh-hant-live-474\":1656592032,\"zh-hant-live-478\":1664273223,\"zh-hant-live-484\":1661747620,\"zh-hant-live-490\":1659507764,\"zh-hant-live-507\":1663145960,\"zh-hant-live-515\":1657695367,\"zh-hant-live-520\":1659578556,\"zh-hant-live-521\":1659586354,\"zh-hant-live-522\":1671785219,\"zh-hant-live-524\":1660129555,\"zh-hant-live-528\":1664435617,\"zh-hant-live-530\":1667455602,\"zh-hant-live-531\":1670231446,\"zh-hant-live-532\":1663141244,\"zh-hant-live-538\":1663818317,\"zh-hant-live-545\":1668676205,\"zh-hant-live-561\":1671100885,\"zh-hant-live-573\":1675936231,\"zh-hant-live-7\":1647843523,\"zh-hant-live-73\":1649754651,\"zh-hant-live-76\":1643359987,\"zh-hant-live-8\":1674721182,\"zh-hant-live-83\":1656592032,\"zh-hant-live-85\":1649754651,\"zh-hant-live-9\":1674102672}},\"legacy\":{\"js\":[\"https://deo.shopeemobile.com/shopee/shopee-mobilemall-live-sg/categorypage/mobilemall-categorypage.30355d71b0a2537de6b9.legacy.js\",\"https://deo.shopeemobile.com/shopee/modules-federation/live/0/shopee_common__time/2.3.1.legacy.js\",\"https://deo.shopeemobile.com/shopee/modules-federation/live/0/shopee__settings/1.0.37.legacy.js\",\"https://deo.shopeemobile.com/shopee/modules-federation/live/0/shopee__language/1.1.19.legacy.js\",\"https://deo.shopeemobile.com/shopee/modules-federation/live/0/shopee_common__currency/4.0.1.legacy.js\",\"https://deo.shopeemobile.com/shopee/modules-federation/live/0/shopee__domain/0.2.46.legacy.js\"],\"css\":[\"https://deo.shopeemobile.com/shopee/shopee-mobilemall-live-sg/categorypage/mobilemall-categorypage.386cd74ecb687179b394.legacy.css\"]},\"modern\":{\"js\":[\"https://deo.shopeemobile.com/shopee/shopee-mobilemall-live-sg/categorypage/mobilemall-categorypage.73249ec1ac4944b3a4be.js\",\"https://deo.shopeemobile.com/shopee/modules-federation/live/0/shopee_common__time/2.3.1.js\",\"https://deo.shopeemobile.com/shopee/modules-federation/live/0/shopee__settings/1.0.37.js\",\"https://deo.shopeemobile.com/shopee/modules-federation/live/0/shopee__language/1.1.19.js\",\"https://deo.shopeemobile.com/shopee/modules-federation/live/0/shopee_common__currency/4.0.1.js\",\"https://deo.shopeemobile.com/shopee/modules-federation/live/0/shopee__domain/0.2.46.js\"],\"css\":[\"https://deo.shopeemobile.com/shopee/shopee-mobilemall-live-sg/categorypage/mobilemall-categorypage.9d49d36cb1a9051dc1f3.css\"]}},\"mobilemall-chatbroadcast\":\"https://deo.shopeemobile.com/shopee/stm-sg-live/webfe-rp-assets/5278/asset-TW-live.43c679e78183ba41366f1f12ad1e0563.json\",\"mobilemall-checkout\":\"https://deo.shopeemobile.com/shopee/stm-sg-live/webfe-rp-assets/36218/asset-TW-live.cad77e51ec5d6d09635cab3222ca3910.json\",\"mobilemall-coins\":\"https://deo.shopeemobile.com/shopee/stm-sg-live/webfe-rp-assets/32579/asset-TW-live.d247632b47b8e49318d22bc5754e7729.json\",\"mobilemall-coinsfe\":null,\"mobilemall-coinsrewardpage\":\"https://deo.shopeemobile.com/shopee/stm-sg-live/webfe-rp-assets/4989/asset-TW-live.b5b2e61bab8d3ea3400e45268726e03f.json\",\"mobilemall-dailycheckin\":[\"https://deo.shopeemobile.com/shopee/shopee-mobilemall-live-sg/dailycheckin/main.be955e832b38f2f52f56.css\",\"https://deo.shopeemobile.com/shopee/shopee-mobilemall-live-sg/dailycheckin/main.e855ae89941e9be5faf3.js\"],\"mobilemall-ebcomponents-mb\":\"https://deo.shopeemobile.com/shopee/stm-sg-live/webfe-rp-assets/34555/asset-TW-live.ce38683db0a3d418e7030bed00fe919a.json\",\"mobilemall-ebcomponents-quiz\":\"https://deo.shopeemobile.com/shopee/stm-sg-live/webfe-rp-assets/30757/asset-TW-live.50a46d14ec40eaa3274d6ecb11674c73.json\",\"mobilemall-ebcomponents-voting\":\"https://deo.shopeemobile.com/shopee/stm-sg-live/webfe-rp-assets/31907/asset-TW-live.1cc347832806d00dc7d0aa2390f15342.json\",\"mobilemall-entrycollectionlanding\":\"https://deo.shopeemobile.com/shopee/stm-sg-live/webfe-rp-assets/27376/asset-TW-live.f4fc8558b4046f943564f8e29999a428.json\",\"mobilemall-flashsale\":\"https://deo.shopeemobile.com/shopee/stm-sg-live/webfe-rp-assets/7773/asset-TW-live.7f98ead666b17e2d08b56951fa79e922.json\",\"mobilemall-flashsaleentrance\":\"https://deo.shopeemobile.com/shopee/stm-sg-live/webfe-rp-assets/17901/asset-TW-live.17bd7c53787d02367593faa91be0c981.json\",\"mobilemall-flashsalesoldout\":\"https://deo.shopeemobile.com/shopee/stm-sg-live/webfe-rp-assets/31332/asset-TW-live.e7b0d2386f00690e1888e55d50ccf6eb.json\",\"mobilemall-formmanagement\":\"https://deo.shopeemobile.com/shopee/stm-sg-live/webfe-rp-assets/32390/asset-TW-live.b52feea47d44cf90f85d2289effcb7a0.json\",\"mobilemall-groupbuy\":[\"https://deo.shopeemobile.com/shopee/shopee-mobilemall-live-sg/groupbuy/mobilemall-groupbuy.1766d1d54bcad470a7d5.js\"],\"mobilemall-homepage\":\"https://deo.shopeemobile.com/shopee/stm-sg-live/webfe-rp-assets/23414/asset-TW-live.6e6cc18aa5b90e51146bb6dade8b9f3e.json\",\"mobilemall-intermediate\":{\"version\":1,\"assets\":{},\"legacy\":{\"js\":[\"https://deo.shopeemobile.com/shopee/shopee-mobilemall-live-sg/intermediate/mobilemall-intermediate.8ba99894becb139af452.legacy.js\"],\"css\":[\"https://deo.shopeemobile.com/shopee/shopee-mobilemall-live-sg/intermediate/mobilemall-intermediate.8151927b8e260ed61a08.legacy.css\"]},\"modern\":{\"js\":[\"https://deo.shopeemobile.com/shopee/shopee-mobilemall-live-sg/intermediate/mobilemall-intermediate.8ba99894becb139af452.legacy.js\"],\"css\":[\"https://deo.shopeemobile.com/shopee/shopee-mobilemall-live-sg/intermediate/mobilemall-intermediate.8151927b8e260ed61a08.legacy.css\"]}},\"mobilemall-intermediateabtest\":\"https://deo.shopeemobile.com/shopee/stm-sg-live/webfe-rp-assets/26088/asset-TW-live.733c45ed34635b2904d06869ca2f6141.json\",\"mobilemall-intermediateinstall\":\"https://deo.shopeemobile.com/shopee/stm-sg-live/webfe-rp-assets/28271/asset-TW-live.f55d714ed727e46c8d65364cd4bd4669.json\",\"mobilemall-kexintest\":null,\"mobilemall-mall-brand-list-page\":\"https://deo.shopeemobile.com/shopee/stm-sg-live/webfe-rp-assets/29523/asset-TW-live.6ba216918300bb5518a648a1d11551ef.json\",\"mobilemall-mall-landing-page\":\"https://deo.shopeemobile.com/shopee/stm-sg-live/webfe-rp-assets/29325/asset-TW-live.7631c6caa38f33b9b100211bba72b886.json\",\"mobilemall-mallbrands\":\"https://deo.shopeemobile.com/shopee/stm-sg-live/webfe-rp-assets/39473/asset-TW-live.dd1c00fb8cff4cc623b3c370577e5ad4.json\",\"mobilemall-mallcategories\":\"https://deo.shopeemobile.com/shopee/stm-sg-live/webfe-rp-assets/39565/asset-TW-live.a80c4dfb187cc2c6a6995c974e4685d2.json\",\"mobilemall-malllanding\":\"https://deo.shopeemobile.com/shopee/stm-sg-live/webfe-rp-assets/39367/asset-TW-live.1789ead03fdff60614142b239130bef3.json\",\"mobilemall-mart-categorylandingpage\":\"https://deo.shopeemobile.com/shopee/stm-sg-live/webfe-rp-assets/36482/asset-TW-live.0963dad397d48b3f94c70924aee67730.json\",\"mobilemall-mart-dealspage\":\"https://deo.shopeemobile.com/shopee/stm-sg-live/webfe-rp-assets/36581/asset-TW-live.e18bef205e336781865009141e32e373.json\",\"mobilemall-mart-homepage\":\"https://deo.shopeemobile.com/shopee/stm-sg-live/webfe-rp-assets/36668/asset-TW-live.b9fc088b7b9dd95c40da61700251bfde.json\",\"mobilemall-mart-navigation-bar\":\"https://deo.shopeemobile.com/shopee/stm-sg-live/webfe-rp-assets/42280/asset-TW-live.f29a0c03dc8e0514c414f8737cb1c292.json\",\"mobilemall-mart-voucherlandingpage\":\"https://deo.shopeemobile.com/shopee/stm-sg-live/webfe-rp-assets/42567/asset-TW-live.f80740331c45abae323f27d37eca0032.json\",\"mobilemall-martcategorylistpage\":\"https://deo.shopeemobile.com/shopee/stm-sg-live/webfe-rp-assets/35157/asset-TW-live.508100477a49f05aea87e5a6c9e92294.json\",\"mobilemall-mepage\":[\"https://deo.shopeemobile.com/shopee/shopee-mobilemall-live-sg/mepage/mobilemall-mepage.510ea52212b12af397bc.css\",\"https://deo.shopeemobile.com/shopee/shopee-mobilemall-live-sg/mepage/mobilemall-mepage.a3ec5d9f84c40fdcde6d.js\"],\"mobilemall-micrositepage\":{\"version\":1,\"assets\":{},\"legacy\":{\"js\":[\"https://deo.shopeemobile.com/shopee/shopee-mobilemall-live-sg/micrositepage/mobilemall-micrositepage.1045868289c2bbf65af4.legacy.js\",\"https://deo.shopeemobile.com/shopee/modules-federation/live/0/shopee__language/1.1.19.legacy.js\",\"https://deo.shopeemobile.com/shopee/modules-federation/live/0/shopee_common__time/2.3.1.legacy.js\",\"https://deo.shopeemobile.com/shopee/modules-federation/live/0/shopee_common__currency/4.0.1.legacy.js\",\"https://deo.shopeemobile.com/shopee/modules-federation/live/0/shopee__domain/0.2.46.legacy.js\",\"https://deo.shopeemobile.com/shopee/modules-federation/live/0/shopee__settings/1.0.37.legacy.js\"],\"css\":[\"https://deo.shopeemobile.com/shopee/shopee-mobilemall-live-sg/micrositepage/mobilemall-micrositepage.7ff529485d074c24d10f.legacy.css\"]},\"modern\":{\"js\":[\"https://deo.shopeemobile.com/shopee/shopee-mobilemall-live-sg/micrositepage/mobilemall-micrositepage.1045868289c2bbf65af4.legacy.js\",\"https://deo.shopeemobile.com/shopee/modules-federation/live/0/shopee__language/1.1.19.legacy.js\",\"https://deo.shopeemobile.com/shopee/modules-federation/live/0/shopee_common__time/2.3.1.legacy.js\",\"https://deo.shopeemobile.com/shopee/modules-federation/live/0/shopee_common__currency/4.0.1.legacy.js\",\"https://deo.shopeemobile.com/shopee/modules-federation/live/0/shopee__domain/0.2.46.legacy.js\",\"https://deo.shopeemobile.com/shopee/modules-federation/live/0/shopee__settings/1.0.37.legacy.js\"],\"css\":[\"https://deo.shopeemobile.com/shopee/shopee-mobilemall-live-sg/micrositepage/mobilemall-micrositepage.7ff529485d074c24d10f.legacy.css\"]}},\"mobilemall-micrositepagebuilder\":null,\"mobilemall-orderlist\":\"https://deo.shopeemobile.com/shopee/stm-sg-live/webfe-rp-assets/7929/asset-TW-live.f837a9c4a7ec826be83436cb5e1d82d5.json\",\"mobilemall-ordersellercollections\":null,\"mobilemall-pagedpvoucherredemption\":\"https://deo.shopeemobile.com/shopee/stm-sg-live/webfe-rp-assets/24311/asset-TW-live.87f6cf2d1b02a72928a4781ee92421c1.json\",\"mobilemall-pageitemrating\":\"https://deo.shopeemobile.com/shopee/stm-sg-live/webfe-rp-assets/41329/asset-TW-live.6e4094656ec708ef18e7a116f293bd34.json\",\"mobilemall-pageratingreport\":\"https://deo.shopeemobile.com/shopee/stm-sg-live/webfe-rp-assets/41423/asset-TW-live.b2fc79a617229761d8f348c70a536d44.json\",\"mobilemall-pagereplyrating\":\"https://deo.shopeemobile.com/shopee/stm-sg-live/webfe-rp-assets/41537/asset-TW-live.cff770878ec84fab42e42cf6f283aa5d.json\",\"mobilemall-pageshoprating\":\"https://deo.shopeemobile.com/shopee/stm-sg-live/webfe-rp-assets/41620/asset-TW-live.36d96c19133e913c5451fb0e0fd78a4f.json\",\"mobilemall-paymentfe\":\"https://deo.shopeemobile.com/shopee/stm-sg-live/webfe-rp-assets/3064/asset-TW-live.d086716c16935f943109f52d7dfa61f3.json\",\"mobilemall-pdp\":\"https://deo.shopeemobile.com/shopee/stm-sg-live/webfe-rp-assets/15782/asset-TW-live.15d65ad34ede35acaf1a481d2fe7eac9.json\",\"mobilemall-pdpvoucherdrawer\":\"https://deo.shopeemobile.com/shopee/stm-sg-live/webfe-rp-assets/24066/asset-TW-live.2171077a517c89fe0d7268de834a0a55.json\",\"mobilemall-platformvouchers\":\"https://deo.shopeemobile.com/shopee/stm-sg-live/webfe-rp-assets/23680/asset-TW-live.c700c7e754975968e97d8ea109173f8e.json\",\"mobilemall-productcollectionlanding\":\"https://deo.shopeemobile.com/shopee/stm-sg-live/webfe-rp-assets/27337/asset-TW-live.8c8f85ed0d131aa11ba4b1aaaa2d0a85.json\",\"mobilemall-productdetailspage\":\"https://deo.shopeemobile.com/shopee/stm-sg-live/webfe-rp-assets/32730/asset-TW-live.963306c27dccfa49022e7933d2cae115.json\",\"mobilemall-productrating\":\"https://deo.shopeemobile.com/shopee/stm-sg-live/webfe-rp-assets/42082/asset-TW-live.aaf099d83af694b52dfb9a1c24e66aea.json\",\"mobilemall-rcmd-cart-ymal\":\"https://deo.shopeemobile.com/shopee/stm-sg-live/webfe-rp-assets/23235/asset-TW-live.f9ee23368b6a769a390e339c357dbf63.json\",\"mobilemall-rcmd-category-module\":\"https://deo.shopeemobile.com/shopee/stm-sg-live/webfe-rp-assets/34652/asset-TW-live.ff53021099f9edb287593adcd316c768.json\",\"mobilemall-rcmd-daily-discover-module\":\"https://deo.shopeemobile.com/shopee/stm-sg-live/webfe-rp-assets/36092/asset-TW-live.d5a6a16dc38c749a9ce5f90777a51b39.json\",\"mobilemall-rcmd-daily-discover-page\":null,\"mobilemall-rcmd-featured-collections-module\":null,\"mobilemall-rcmd-featured-collections-page\":null,\"mobilemall-rcmd-flash-sale-sold-out-page\":\"https://deo.shopeemobile.com/shopee/stm-sg-live/webfe-rp-assets/33212/asset-TW-live.b89c96d85f3a08b8addf949509f9147a.json\",\"mobilemall-rcmd-fsp-page\":null,\"mobilemall-rcmd-home-top-products-module\":null,\"mobilemall-rcmd-home-top-products-page\":null,\"mobilemall-rcmd-mart-buy-again-module\":null,\"mobilemall-rcmd-mart-buy-again-page\":null,\"mobilemall-rcmd-mart-recommendation-module\":null,\"mobilemall-rcmd-pdp-ftss\":\"https://deo.shopeemobile.com/shopee/stm-sg-live/webfe-rp-assets/35529/asset-TW-live.288dba14cdb5315cca4e003f419fbc46.json\",\"mobilemall-rcmd-pdp-ftss-page\":null,\"mobilemall-rcmd-pdp-hot-sales\":null,\"mobilemall-rcmd-pdp-sp\":\"https://deo.shopeemobile.com/shopee/stm-sg-live/webfe-rp-assets/35615/asset-TW-live.4d35a67dcd2c8f9ee4ed637001463716.json\",\"mobilemall-rcmd-pdp-sp-page\":null,\"mobilemall-rcmd-pdp-ymal\":\"https://deo.shopeemobile.com/shopee/stm-sg-live/webfe-rp-assets/35719/asset-TW-live.ceb60b93343525bb90f4c18a094255de.json\",\"mobilemall-rcmd-shop-category-page\":\"https://deo.shopeemobile.com/shopee/stm-sg-live/webfe-rp-assets/35325/asset-TW-live.6213c9f207bb307333152ca360cebc4b.json\",\"mobilemall-rcmd-shop-hot-deals-page\":null,\"mobilemall-rcmd-shop-jfy-module\":null,\"mobilemall-rcmd-shop-rfy-page\":null,\"mobilemall-return\":\"https://deo.shopeemobile.com/shopee/stm-sg-live/webfe-rp-assets/5567/asset-TW-live.cfb03f438c9f85bb7801d883d1d7edb0.json\",\"mobilemall-returnevidence\":\"https://deo.shopeemobile.com/shopee/stm-sg-live/webfe-rp-assets/34361/asset-TW-live.768587ea8f3c5946e9453f4a764d5471.json\",\"mobilemall-sclp\":\"https://deo.shopeemobile.com/shopee/stm-sg-live/webfe-rp-assets/15084/asset-TW-live.8a80a8f9dd06a779fdfed01ef1369893.json\",\"mobilemall-search-srp-user\":null,\"mobilemall-search-user-page\":null,\"mobilemall-sellervoucher\":\"https://deo.shopeemobile.com/shopee/stm-sg-live/webfe-rp-assets/24130/asset-TW-live.52da26652060df9515f836244eae7a89.json\",\"mobilemall-sellervouchercard\":\"https://deo.shopeemobile.com/shopee/stm-sg-live/webfe-rp-assets/23956/asset-TW-live.75cb92e0ed4d71d430980e35bfadf7ad.json\",\"mobilemall-shop\":\"https://deo.shopeemobile.com/shopee/stm-sg-live/webfe-rp-assets/5076/asset-TW-live.79b2cf5d7a47d412541ecf514d7ddca2.json\",\"mobilemall-shopcollectionlanding\":\"https://deo.shopeemobile.com/shopee/stm-sg-live/webfe-rp-assets/27088/asset-TW-live.cbb2420780dbd3f35d288a00f56c46e5.json\",\"mobilemall-shopcustompage\":\"https://deo.shopeemobile.com/shopee/stm-sg-live/webfe-rp-assets/18910/asset-TW-live.0074f259505e5c43bde1ff7c5d742ff9.json\",\"mobilemall-shopflashsale\":\"https://deo.shopeemobile.com/shopee/stm-sg-live/webfe-rp-assets/18168/asset-TW-live.cb3dd8bdedaefcc4c38ece71b4eb914c.json\",\"mobilemall-shopflashsalecampaign\":\"https://deo.shopeemobile.com/shopee/stm-sg-live/webfe-rp-assets/19675/asset-TW-live.7ad1d4060f5dede925bca999b6623883.json\",\"mobilemall-shopflashsaleentrance\":\"https://deo.shopeemobile.com/shopee/stm-sg-live/webfe-rp-assets/18247/asset-TW-live.139d48e76e1dd9006743af38f44d9888.json\",\"mobilemall-shopmainbrowseitems\":\"https://deo.shopeemobile.com/shopee/stm-sg-live/webfe-rp-assets/5875/asset-TW-live.773a75ecb2899a8b0a2f8764699c6e6f.json\",\"mobilemall-shoppagesellervoucherpreview\":\"https://deo.shopeemobile.com/shopee/stm-sg-live/webfe-rp-assets/24398/asset-TW-live.36a71bb023b136c36d0732c15fadc3d4.json\",\"mobilemall-shopvouchers\":\"https://deo.shopeemobile.com/shopee/stm-sg-live/webfe-rp-assets/23863/asset-TW-live.4684a55024cacac6e690147c65eb365e.json\",\"mobilemall-smartflashsale\":\"https://deo.shopeemobile.com/shopee/stm-sg-live/webfe-rp-assets/18037/asset-TW-live.9a1d65cdcade00f4a26e18e26e8faa91.json\",\"mobilemall-smartflashsaleentrance\":\"https://deo.shopeemobile.com/shopee/stm-sg-live/webfe-rp-assets/18116/asset-TW-live.305146f2558893d74bb3aa37b9cbbab2.json\",\"mobilemall-useraccount\":\"https://deo.shopeemobile.com/shopee/stm-sg-live/webfe-rp-assets/22299/asset-TW-live.9274dc58a14f83ab081ed65135cfc1e0.json\",\"mobilemall-voucherpromotiontext\":\"https://deo.shopeemobile.com/shopee/stm-sg-live/webfe-rp-assets/24224/asset-TW-live.3b07c831fadd61e173b2f255afd38aea.json\",\"mobilemall-welcomepackage\":\"https://deo.shopeemobile.com/shopee/stm-sg-live/webfe-rp-assets/41891/asset-TW-live.6241bd0f5b58da7ab269626f75e1f8b4.json\"},\"TRANSIFY_COLLECTION_MAPPING\":{\"en-live-10\":1656592032,\"en-live-100\":1669962906,\"en-live-101\":1669948146,\"en-live-102\":1656592032,\"en-live-107\":1656592032,\"en-live-108\":1649754651,\"en-live-111\":1649754651,\"en-live-113\":1673606135,\"en-live-118\":1656592032,\"en-live-128\":1658481381,\"en-live-129\":1656592032,\"en-live-131\":1656592032,\"en-live-132\":1656592032,\"en-live-136\":1672823594,\"en-live-138\":1649754651,\"en-live-14\":1673584215,\"en-live-140\":1656592032,\"en-live-141\":1649754651,\"en-live-143\":1649754651,\"en-live-145\":1656592032,\"en-live-147\":1649754651,\"en-live-148\":1613634051,\"en-live-15\":1666834600,\"en-live-151\":1656592032,\"en-live-155\":1656592032,\"en-live-158\":1656592032,\"en-live-16\":1676286079,\"en-live-166\":1649754651,\"en-live-167\":1649754651,\"en-live-17\":1670231446,\"en-live-18\":1665459985,\"en-live-184\":1599448355,\"en-live-189\":1656592032,\"en-live-20\":1656592032,\"en-live-204\":1670231446,\"en-live-206\":1656592032,\"en-live-209\":1672891708,\"en-live-21\":1669864286,\"en-live-213\":1641889752,\"en-live-214\":1669626890,\"en-live-223\":1670568542,\"en-live-224\":1649754651,\"en-live-231\":1656592032,\"en-live-235\":1669345746,\"en-live-239\":1675051400,\"en-live-242\":1656592032,\"en-live-243\":1676256870,\"en-live-246\":1649754651,\"en-live-254\":1649754651,\"en-live-255\":1656592032,\"en-live-256\":1661243712,\"en-live-257\":1649754651,\"en-live-258\":1652434726,\"en-live-263\":1656592032,\"en-live-265\":1656592032,\"en-live-268\":1649754651,\"en-live-27\":1674193189,\"en-live-277\":1656592032,\"en-live-28\":1675156307,\"en-live-283\":1656592032,\"en-live-287\":1652867414,\"en-live-29\":1671166219,\"en-live-290\":1649754651,\"en-live-292\":1649754651,\"en-live-294\":1661998479,\"en-live-297\":1649754651,\"en-live-30\":1673584215,\"en-live-300\":1649754651,\"en-live-301\":1649754651,\"en-live-306\":1665738335,\"en-live-31\":1656592032,\"en-live-310\":1649754651,\"en-live-311\":1622803477,\"en-live-314\":1659414278,\"en-live-318\":1664855926,\"en-live-32\":1663035147,\"en-live-321\":1624941198,\"en-live-326\":1649754651,\"en-live-33\":1660620189,\"en-live-330\":1656592032,\"en-live-340\":1675916236,\"en-live-343\":1632386384,\"en-live-345\":1659926091,\"en-live-354\":1656592032,\"en-live-355\":1657703796,\"en-live-360\":1657162080,\"en-live-361\":1649754651,\"en-live-362\":1649754651,\"en-live-363\":1649754651,\"en-live-368\":1634095524,\"en-live-378\":1649754651,\"en-live-379\":1649754651,\"en-live-380\":1656592032,\"en-live-389\":1665653988,\"en-live-392\":1649754651,\"en-live-397\":1668650110,\"en-live-40\":1666343774,\"en-live-406\":1662968897,\"en-live-409\":1656592032,\"en-live-42\":1656592032,\"en-live-422\":1664953185,\"en-live-426\":1649754651,\"en-live-43\":1673243832,\"en-live-432\":1671422277,\"en-live-436\":1663057992,\"en-live-445\":1660701473,\"en-live-453\":1652434726,\"en-live-457\":1656592032,\"en-live-463\":1651724615,\"en-live-47\":1649754651,\"en-live-474\":1656592032,\"en-live-478\":1656592032,\"en-live-484\":1661747620,\"en-live-490\":1659507764,\"en-live-507\":1663145960,\"en-live-515\":1657695367,\"en-live-520\":1659578556,\"en-live-521\":1659586354,\"en-live-522\":1671785219,\"en-live-524\":1660129555,\"en-live-528\":1664435617,\"en-live-530\":1667455602,\"en-live-531\":1670231446,\"en-live-532\":1663741806,\"en-live-538\":1663818317,\"en-live-545\":1668676205,\"en-live-561\":1671100885,\"en-live-573\":1675936231,\"en-live-7\":1647843523,\"en-live-73\":1649754651,\"en-live-76\":1643359987,\"en-live-8\":1675152140,\"en-live-83\":1656592032,\"en-live-85\":1649754651,\"en-live-9\":1674102672,\"zh-hans-live-10\":1656592032,\"zh-hans-live-100\":1664964772,\"zh-hans-live-101\":1656592032,\"zh-hans-live-102\":1656592032,\"zh-hans-live-107\":1656592032,\"zh-hans-live-108\":1649754651,\"zh-hans-live-111\":1649754651,\"zh-hans-live-113\":1673345590,\"zh-hans-live-118\":1656592032,\"zh-hans-live-128\":1658481381,\"zh-hans-live-129\":1656592032,\"zh-hans-live-131\":1656592032,\"zh-hans-live-132\":1656592032,\"zh-hans-live-136\":1672823594,\"zh-hans-live-138\":1649754651,\"zh-hans-live-14\":1665543034,\"zh-hans-live-140\":1656592032,\"zh-hans-live-141\":1649754651,\"zh-hans-live-143\":1649754651,\"zh-hans-live-145\":1656592032,\"zh-hans-live-147\":1649754651,\"zh-hans-live-148\":1613634051,\"zh-hans-live-15\":1666834600,\"zh-hans-live-151\":1656592032,\"zh-hans-live-155\":1656592032,\"zh-hans-live-158\":1656592032,\"zh-hans-live-16\":1676286079,\"zh-hans-live-166\":1649754651,\"zh-hans-live-167\":1649754651,\"zh-hans-live-17\":1670231446,\"zh-hans-live-18\":1665459985,\"zh-hans-live-184\":1599448355,\"zh-hans-live-189\":1656592032,\"zh-hans-live-20\":1656592032,\"zh-hans-live-204\":1670231446,\"zh-hans-live-206\":1656592032,\"zh-hans-live-209\":1672891708,\"zh-hans-live-21\":1669864286,\"zh-hans-live-213\":1641889752,\"zh-hans-live-214\":1669626890,\"zh-hans-live-223\":1670568542,\"zh-hans-live-224\":1649754651,\"zh-hans-live-231\":1656592032,\"zh-hans-live-235\":1669345746,\"zh-hans-live-239\":1675051400,\"zh-hans-live-242\":1656592032,\"zh-hans-live-243\":1676256945,\"zh-hans-live-246\":1649754651,\"zh-hans-live-254\":1649754651,\"zh-hans-live-255\":1656592032,\"zh-hans-live-256\":1661243712,\"zh-hans-live-257\":1649754651,\"zh-hans-live-258\":1652434726,\"zh-hans-live-263\":1656592032,\"zh-hans-live-265\":1656592032,\"zh-hans-live-268\":1649754651,\"zh-hans-live-27\":1674193189,\"zh-hans-live-277\":1656592032,\"zh-hans-live-28\":1675156307,\"zh-hans-live-283\":1656592032,\"zh-hans-live-287\":1652867414,\"zh-hans-live-29\":1671166219,\"zh-hans-live-290\":1649754651,\"zh-hans-live-292\":1649754651,\"zh-hans-live-294\":1661998479,\"zh-hans-live-297\":1649754651,\"zh-hans-live-30\":1670559399,\"zh-hans-live-300\":1649754651,\"zh-hans-live-301\":1649754651,\"zh-hans-live-306\":1665738335,\"zh-hans-live-31\":1656592032,\"zh-hans-live-310\":1649754651,\"zh-hans-live-314\":1659414278,\"zh-hans-live-318\":1664855926,\"zh-hans-live-32\":1663035147,\"zh-hans-live-321\":1624941198,\"zh-hans-live-326\":1649754651,\"zh-hans-live-33\":1660620189,\"zh-hans-live-330\":1656592032,\"zh-hans-live-340\":1675916236,\"zh-hans-live-343\":1632386384,\"zh-hans-live-345\":1659926091,\"zh-hans-live-354\":1656592032,\"zh-hans-live-355\":1657703796,\"zh-hans-live-360\":1657162080,\"zh-hans-live-361\":1649754651,\"zh-hans-live-362\":1649754651,\"zh-hans-live-363\":1649754651,\"zh-hans-live-368\":1634095524,\"zh-hans-live-378\":1649754651,\"zh-hans-live-379\":1649754651,\"zh-hans-live-380\":1656592032,\"zh-hans-live-389\":1665653988,\"zh-hans-live-392\":1649754651,\"zh-hans-live-397\":1668650110,\"zh-hans-live-40\":1666343774,\"zh-hans-live-406\":1662968897,\"zh-hans-live-409\":1656592032,\"zh-hans-live-42\":1656592032,\"zh-hans-live-422\":1664953185,\"zh-hans-live-426\":1649754651,\"zh-hans-live-43\":1673243832,\"zh-hans-live-432\":1671422277,\"zh-hans-live-436\":1663057992,\"zh-hans-live-445\":1660701473,\"zh-hans-live-453\":1652434726,\"zh-hans-live-457\":1656592032,\"zh-hans-live-463\":1651724615,\"zh-hans-live-47\":1649754651,\"zh-hans-live-474\":1656592032,\"zh-hans-live-478\":1656592032,\"zh-hans-live-484\":1661747620,\"zh-hans-live-490\":1659507764,\"zh-hans-live-507\":1663145960,\"zh-hans-live-515\":1657695367,\"zh-hans-live-520\":1659578556,\"zh-hans-live-521\":1659586354,\"zh-hans-live-522\":1671785219,\"zh-hans-live-524\":1660129555,\"zh-hans-live-528\":1664435617,\"zh-hans-live-530\":1667455602,\"zh-hans-live-531\":1670231446,\"zh-hans-live-532\":1663141244,\"zh-hans-live-538\":1663818317,\"zh-hans-live-545\":1668676205,\"zh-hans-live-561\":1671100885,\"zh-hans-live-573\":1675936231,\"zh-hans-live-7\":1647843523,\"zh-hans-live-73\":1649754651,\"zh-hans-live-76\":1643359987,\"zh-hans-live-8\":1674721182,\"zh-hans-live-83\":1656592032,\"zh-hans-live-85\":1649754651,\"zh-hans-live-9\":1674102672,\"zh-hant-live-10\":1656592032,\"zh-hant-live-100\":1664964772,\"zh-hant-live-101\":1656592032,\"zh-hant-live-102\":1656592032,\"zh-hant-live-107\":1656592032,\"zh-hant-live-108\":1649754651,\"zh-hant-live-111\":1649754651,\"zh-hant-live-113\":1673345590,\"zh-hant-live-118\":1656592032,\"zh-hant-live-128\":1658481381,\"zh-hant-live-129\":1656592032,\"zh-hant-live-131\":1656592032,\"zh-hant-live-132\":1656592032,\"zh-hant-live-136\":1672823594,\"zh-hant-live-138\":1649754651,\"zh-hant-live-14\":1665543034,\"zh-hant-live-140\":1656592032,\"zh-hant-live-141\":1649754651,\"zh-hant-live-143\":1649754651,\"zh-hant-live-145\":1656592032,\"zh-hant-live-147\":1649754651,\"zh-hant-live-15\":1666834600,\"zh-hant-live-151\":1656592032,\"zh-hant-live-155\":1656592032,\"zh-hant-live-158\":1656592032,\"zh-hant-live-16\":1676286079,\"zh-hant-live-166\":1649754651,\"zh-hant-live-167\":1649754651,\"zh-hant-live-17\":1670231446,\"zh-hant-live-18\":1665459985,\"zh-hant-live-184\":1599448355,\"zh-hant-live-189\":1656592032,\"zh-hant-live-20\":1656592032,\"zh-hant-live-204\":1670231446,\"zh-hant-live-206\":1656592032,\"zh-hant-live-209\":1672891708,\"zh-hant-live-21\":1669864286,\"zh-hant-live-213\":1641889752,\"zh-hant-live-214\":1669626890,\"zh-hant-live-223\":1670568542,\"zh-hant-live-224\":1649754651,\"zh-hant-live-231\":1656592032,\"zh-hant-live-235\":1669345746,\"zh-hant-live-239\":1675051400,\"zh-hant-live-242\":1656592032,\"zh-hant-live-243\":1676256945,\"zh-hant-live-246\":1649754651,\"zh-hant-live-254\":1649754651,\"zh-hant-live-255\":1656592032,\"zh-hant-live-256\":1661243712,\"zh-hant-live-257\":1649754651,\"zh-hant-live-258\":1652434726,\"zh-hant-live-263\":1656592032,\"zh-hant-live-265\":1656592032,\"zh-hant-live-268\":1649754651,\"zh-hant-live-27\":1674193189,\"zh-hant-live-277\":1656592032,\"zh-hant-live-28\":1675156307,\"zh-hant-live-283\":1656592032,\"zh-hant-live-287\":1652867414,\"zh-hant-live-29\":1671166219,\"zh-hant-live-290\":1649754651,\"zh-hant-live-292\":1649754651,\"zh-hant-live-294\":1661998479,\"zh-hant-live-297\":1649754651,\"zh-hant-live-30\":1670559399,\"zh-hant-live-300\":1649754651,\"zh-hant-live-301\":1649754651,\"zh-hant-live-306\":1665738335,\"zh-hant-live-31\":1656592032,\"zh-hant-live-310\":1649754651,\"zh-hant-live-314\":1659414278,\"zh-hant-live-318\":1664855926,\"zh-hant-live-32\":1663035147,\"zh-hant-live-321\":1624941198,\"zh-hant-live-326\":1649754651,\"zh-hant-live-33\":1660620189,\"zh-hant-live-330\":1656592032,\"zh-hant-live-340\":1675916236,\"zh-hant-live-343\":1632386384,\"zh-hant-live-345\":1659926091,\"zh-hant-live-354\":1656592032,\"zh-hant-live-355\":1657703796,\"zh-hant-live-360\":1657162080,\"zh-hant-live-361\":1649754651,\"zh-hant-live-362\":1649754651,\"zh-hant-live-363\":1649754651,\"zh-hant-live-368\":1634095524,\"zh-hant-live-378\":1649754651,\"zh-hant-live-379\":1649754651,\"zh-hant-live-380\":1656592032,\"zh-hant-live-389\":1665653988,\"zh-hant-live-392\":1649754651,\"zh-hant-live-397\":1668650110,\"zh-hant-live-40\":1666343774,\"zh-hant-live-406\":1662968897,\"zh-hant-live-409\":1656592032,\"zh-hant-live-42\":1656592032,\"zh-hant-live-422\":1664953185,\"zh-hant-live-426\":1649754651,\"zh-hant-live-43\":1673243832,\"zh-hant-live-432\":1671422277,\"zh-hant-live-436\":1663057992,\"zh-hant-live-445\":1660701473,\"zh-hant-live-453\":1652434726,\"zh-hant-live-457\":1656592032,\"zh-hant-live-463\":1651724615,\"zh-hant-live-47\":1649754651,\"zh-hant-live-474\":1656592032,\"zh-hant-live-478\":1664273223,\"zh-hant-live-484\":1661747620,\"zh-hant-live-490\":1659507764,\"zh-hant-live-507\":1663145960,\"zh-hant-live-515\":1657695367,\"zh-hant-live-520\":1659578556,\"zh-hant-live-521\":1659586354,\"zh-hant-live-522\":1671785219,\"zh-hant-live-524\":1660129555,\"zh-hant-live-528\":1664435617,\"zh-hant-live-530\":1667455602,\"zh-hant-live-531\":1670231446,\"zh-hant-live-532\":1663141244,\"zh-hant-live-538\":1663818317,\"zh-hant-live-545\":1668676205,\"zh-hant-live-561\":1671100885,\"zh-hant-live-573\":1675936231,\"zh-hant-live-7\":1647843523,\"zh-hant-live-73\":1649754651,\"zh-hant-live-76\":1643359987,\"zh-hant-live-8\":1674721182,\"zh-hant-live-83\":1656592032,\"zh-hant-live-85\":1649754651,\"zh-hant-live-9\":1674102672},\"TRANSIFY_MAPPING\":{\"en-live\":1675666432,\"en-us-live\":1675666432,\"es-ar-live\":1675666432,\"es-cl-live\":1675666432,\"es-co-live\":1675666432,\"es-es-live\":1675666432,\"es-mx-live\":1675666432,\"fil-live\":1675666432,\"fr-live\":1675666432,\"hi-live\":1675666432,\"id-live\":1675666432,\"ms-my-live\":1675666432,\"pl-live\":1675666432,\"pt-br-live\":1675666432,\"th-live\":1675666432,\"vi-live\":1675666432,\"zh-hans-live\":1675666432,\"zh-hant-live\":1675666432},\"USER_STATIC_TOGGLE\":{\"af_sap_sdk\":true,\"af_sap_legacy\":false,\"use_anti_crawler_api_protection_sdk\":true,\"context_action_account_v2\":false,\"standalone_security_sdk\":true,\"standalone_fetch_utils\":true,\"fetch_account_v2\":false,\"fetch_account_v4\":true,\"account_info_sync_fetch_server_pc\":true,\"account_info_sync_fetch_server_rw\":true,\"account_info_sync_fetch_server_lite\":true,\"account_info_sync_fetch_client_pc\":true,\"account_info_sync_fetch_client_rw\":true,\"account_info_sync_fetch_client_lite\":true,\"account_redux_invalid_server_state_report_pc\":false,\"account_redux_invalid_server_state_report_rw\":false,\"account_redux_invalid_server_state_report_lite\":false,\"signup_otp_zalo_web\":false,\"login_otp_zalo_web\":false,\"authentication_bind_otp_zalo_web\":false,\"otp_shared_service_otp_zalo_web\":false},\"VOUCHER_CARD_MANIFEST\":{\"live\":\"1.35.1\",\"liveish\":\"1.35.1\"}};\n",
            "        /*__asset_override__*/\n",
            "</script>\n",
            "<script>!function(){if(self.document){var e=self.document.createElement(\"script\"),t=\"noModule\"in e,n=t;Object.defineProperty(self,\"SUPPORT_MODULE\",{get:function(){return n},configurable:!1,enumerable:!1}),!t&&\"onbeforeload\"in e&&(self.document.addEventListener(\"beforeload\",(function(t){if(t.target===e)n=!0;else if(!t.target.hasAttribute(\"nomodule\")||!n)return;t.preventDefault()}),!0),e.type=\"module\",e.src=\".\",self.document.head.appendChild(e),e.remove())}}();</script>\n",
            "<script nomodule src=\"https://deo.shopeemobile.com/shopee/shopee-mobilemall-live-sg/assets/polyfill-legacy.86f4aa206f234c7f.legacy.js\"></script>\n",
            "<script>!function(){var t=document&&document.querySelector('script[type^=\"text/shopee-short-url-checked\"]'),e=!(!t||\"1\"!==t.textContent),o=(location&&location.origin||\"\").replace(/^(https?:\\/\\/)lite\\./,(function(t,e){return e}));function n(){document&&document.body&&(document.body.style.visibility=\"visible\")}function a(t,e){void 0===e&&(e=!1);var a=function(t){var e=document.createElement(\"a\");return e.href=t,{pathname:e.pathname,hash:e.hash,search:e.search,protocol:e.protocol}}(t),r=a.pathname,i=a.hash;if(e&&(document&&document.body&&(document.body.style.visibility=\"hidden\"),setTimeout(n,5e3)),\"/\"!==r&&!function(t){return\"/supermarket\"===t||\"/supermarket/\"===t}(r)&&function(t){return 1===t.split(\"/\").filter(Boolean).length}(r)&&r.length<256&&\"\"===i&&0===r.lastIndexOf(\"/\")){var s=new XMLHttpRequest;s.open(\"GET\",o+\"/api/v4/pages/is_short_url/?path=\"+r.replace(\"/\",\"\")),s.setRequestHeader(\"Content-Type\",\"application/json\"),s.setRequestHeader(\"Accept\",\"application/json\"),s.onreadystatechange=function(){if(4===this.readyState)if(200===this.status){var t=JSON.parse(this.responseText);t&&t.data&&t.data.url?(console.log(\"Redirecting via short url to: res.data.url\"),location.href=t.data.url):e&&n()}else e&&n()},s.send()}}var r=window.history.pushState;window.history.pushState=function(){var t=arguments[2];t&&a(t),r.apply(history,arguments)};var i=window.history.replaceState;window.history.replaceState=function(){var t=arguments[2];t&&a(t),i.apply(history,arguments)},e||a(location.href,!0)}();</script>\n",
            "<script>if(window.ga=window.ga||function(){(ga.q=ga.q||[]).push(arguments)},ga.l=+new Date,window.PerformanceObserver)try{var observer=new window.PerformanceObserver((function(e){for(var r=e.getEntries(),n=0;n<r.length;n++){var a=r[n],i=a.name,t=Math.round(a.startTime+a.duration);ga(\"send\",{hitType:\"timing\",timingCategory:\"Performance Metrics\",timingVar:i,timingValue:t})}}));observer.observe({entryTypes:[\"paint\"]})}catch(e){}</script>\n",
            "<script>\"loading\"in HTMLImageElement.prototype?document.addEventListener(\"DOMContentLoaded\",(function(){document.querySelectorAll(\"img[loading].lazyload\").forEach((function(e){e.src=e.dataset.src}))})):document.write('<script type=\"text/javascript\" src=\"https://deo.shopeemobile.com/shopee/shopee-mobilemall-live-sg/assets/polyfill.6eeeee64c6017caa.js\"><\\/script>')</script><script>\"IntersectionObserver\"in window&&\"IntersectionObserverEntry\"in window&&\"intersectionRatio\"in window.IntersectionObserverEntry.prototype&&\"isIntersecting\"in window.IntersectionObserverEntry.prototype||document.write('<script type=\"text/javascript\" src=\"https://deo.shopeemobile.com/shopee/shopee-mobilemall-live-sg/assets/polyfill.e74248e871a636a1.js\"><\\/script>')</script><script>window.MutationObserver||document.write('<script type=\"text/javascript\" src=\"https://deo.shopeemobile.com/shopee/shopee-mobilemall-live-sg/assets/polyfill.909f7922f04e46f7.js\"><\\/script>')</script><script>!function(){var e=document.createElement(\"div\").style;e.setProperty&&e.setProperty(\"--x\",\"x\"),e.getPropertyValue&&\"x\"===e.getPropertyValue(\"--x\")||(document.write('<script type=\"text/javascript\" src=\"https://deo.shopeemobile.com/shopee/shopee-mobilemall-live-sg/assets/polyfill.0b761ff65aca5425.js\"><\\/script>'),document.write(\"<script>window.cssVars({preserveVars:!0,watch:!0});<\\/script>\"))}()</script>\n",
            "<script src=\"https://deo.shopeemobile.com/shopee/shopee-trackingsdk-live-sg/index.js\"></script>\n",
            "<script id=\"gtm-script\" data-locale=\"tw\" data-gtm-id=\"GTM-WJZQSJF\" data-delay-load=\"true\">!function(t,e,a,n){t[n]=[];var o=[\"PL\",\"ES\"].indexOf(__LOCALE__)>=0,r=o?\"denied\":\"granted\";!function(){dataLayer.push(arguments)}(\"consent\",\"default\",{consent_analytical:r,consent_functional:r,consent_advertising:r,consent_thirdparty_google:r,consent_thirdparty_tiktok:r,wait_for_update:o?15e3:0});var d=document.currentScript||document.getElementById(\"gtm-script\");if(d){var i=d.getAttribute(\"data-locale\"),c=d.getAttribute(\"data-gtm-id\"),s=d.getAttribute(\"data-delay-load\"),u=\"\",g=0;s&&(u=\"delay\",g=5e3),t[n]=t[n]||[];var m=Date.now(),_={\"gtm.start\":m,event:\"gtm.js\",country:i};u&&(_.userGroup=u),t[n].push(_);var l=!1;t.__shopeeLoadGTM=function(){l||(l=!0,g=Math.max(0,Math.min(g,g-(Date.now()-m))),setTimeout((function(){var t=e.getElementsByTagName(a)[0],n=e.createElement(a);n.async=!0,n.src=\"https://www.googletagmanager.com/gtm.js?id=\"+c,t.parentNode.insertBefore(n,t)}),g))},o||t.__shopeeLoadGTM()}}(window,document,\"script\",\"dataLayer\");</script>\n",
            "<script>var spt=[]</script>\n",
            "<link href=\"https://deo.shopeemobile.com/shopee/shopee-mobilemall-live-sg/assets/entry-modules.54776cc32f12b302.css\" data-modern=\"true\" rel=\"stylesheet\">\n",
            "<link href=\"https://deo.shopeemobile.com/shopee/shopee-mobilemall-live-sg/assets/bundle.7a4dadbb5969686d.css\" data-modern=\"true\" rel=\"stylesheet\">\n",
            "<meta name=\"mobile-web-app-capable\" content=\"yes\" /><meta name=\"apple-touch-fullscreen\" content=\"yes\" /><meta name=\"apple-mobile-web-app-title\" content=\"Shopee\" /><meta name=\"apple-mobile-web-app-capable\" content=\"yes\" /><meta name=\"apple-mobile-web-app-status-bar-style\" content=\"default\" /><link rel=\"apple-touch-icon\" size=\"120x120\" href=\"https://deo.shopeemobile.com/shopee/shopee-mobilemall-live-sg/assets/ios_icon_120x120.9c9cd4366011639d86dcf03856866b39.png\" /><link rel=\"apple-touch-icon\" size=\"180x180\" href=\"https://deo.shopeemobile.com/shopee/shopee-mobilemall-live-sg/assets/ios_icon_180x180.350d4cdc7ba40b87541691005bda74c5.png\" /><link rel=\"apple-touch-startup-image\" media=\"(device-width: 320px) and (device-height: 568px) and (-webkit-device-pixel-ratio: 2)\" href=\"https://deo.shopeemobile.com/shopee/shopee-mobilemall-live-sg/assets/ios_splash_screen_640x1136.44f3b1919faea215b1e8a8f33bc85eb2.png\" /><link rel=\"apple-touch-startup-image\" media=\"(device-width: 375px) and (device-height: 667px) and (-webkit-device-pixel-ratio: 2)\" href=\"https://deo.shopeemobile.com/shopee/shopee-mobilemall-live-sg/assets/ios_splash_screen_750x1334.e7f516f762373cc6c316d37455600b8a.png\" /><link rel=\"apple-touch-startup-image\" media=\"(device-width: 621px) and (device-height: 1104px) and (-webkit-device-pixel-ratio: 3)\" href=\"https://deo.shopeemobile.com/shopee/shopee-mobilemall-live-sg/assets/ios_splash_screen_1242x2208.0030ddfcb47d1a8f7f34ea1f488e063d.png\" /><link rel=\"apple-touch-startup-image\" media=\"(device-width: 375px) and (device-height: 812px) and (-webkit-device-pixel-ratio: 3)\" href=\"https://deo.shopeemobile.com/shopee/shopee-mobilemall-live-sg/assets/ios_splash_screen_1125x2436.d03df48b337e7e7f19d94203a800123b.png\" /><link rel=\"apple-touch-startup-image\" media=\"(device-width: 414px) and (device-height: 896px) and (-webkit-device-pixel-ratio: 2)\" href=\"https://deo.shopeemobile.com/shopee/shopee-mobilemall-live-sg/assets/ios_splash_screen_828x1792.848d89109908599fcf6edf6e0b7c6cde.png\" /><link rel=\"apple-touch-startup-image\" media=\"(device-width: 414px) and (device-height: 896px) and (-webkit-device-pixel-ratio: 3)\" href=\"https://deo.shopeemobile.com/shopee/shopee-mobilemall-live-sg/assets/ios_splash_screen_1242x2688.806794fa2096fd0d63f138f9380033ab.png\" /><link rel=\"apple-touch-startup-image\" media=\"(device-width: 360px) and (device-height: 780px) and (-webkit-device-pixel-ratio: 3)\" href=\"https://deo.shopeemobile.com/shopee/shopee-mobilemall-live-sg/assets/ios_splash_screen_1080x2340.b159e955714fc4bfcee0415d7a196559.png\" /><link rel=\"apple-touch-startup-image\" media=\"(device-width: 390px) and (device-height: 844px) and (-webkit-device-pixel-ratio: 3)\" href=\"https://deo.shopeemobile.com/shopee/shopee-mobilemall-live-sg/assets/ios_splash_screen_1170x2532.7d66e217dfb6824abb4829a8c0092554.png\" /><link rel=\"apple-touch-startup-image\" media=\"(device-width: 428px) and (device-height: 926px) and (-webkit-device-pixel-ratio: 3)\" href=\"https://deo.shopeemobile.com/shopee/shopee-mobilemall-live-sg/assets/ios_splash_screen_1284x2778.91b92b6b72c0355991793e6f3bf45eaf.png\" /></head>\n",
            "<body>\n",
            "<noscript>\n",
            "<iframe src=\"//www.googletagmanager.com/ns.html?id=GTM-WJZQSJF\" height=\"0\" width=\"0\" style=\"display:none;visibility:hidden\"></iframe>\n",
            "</noscript>\n",
            "<div class=\"app-shell\">\n",
            "<div class=\"navbar-fake\" style=\"height:44px;background-color:#fff;box-shadow:0 0 6px 0 rgba(0,0,0,.06)\"></div>\n",
            "<style>@keyframes movement{from{transform:translateY(2px)}50%{transform:translateY(-2px)}to{transform:translateY(2px)}}.spinner circle{animation:.4s movement linear infinite}.spinner circle:nth-child(2){animation-delay:.1s}.spinner circle:nth-child(3){animation-delay:.2s}</style>\n",
            "<svg class=\"spinner\" style=\"position:fixed;top:50%;left:50%;transform:translateX(-50%) translateY(-50%)\" width=\"34\" height=\"12\" viewBox=\"-1 0 33 12\">\n",
            "<circle class=\"loading-dot\" cx=\"4\" cy=\"6\" r=\"4\" fill=\"#ee4d2d\"></circle>\n",
            "<circle class=\"loading-dot\" cx=\"16\" cy=\"6\" r=\"4\" fill=\"#ee4d2d\"></circle>\n",
            "<circle class=\"loading-dot\" cx=\"28\" cy=\"6\" r=\"4\" fill=\"#ee4d2d\"></circle>\n",
            "</svg>\n",
            "</div>\n",
            "<div id=\"app\"></div>\n",
            "<div id=\"modal\"></div>\n",
            "<noscript>Please enable JavaScript on your browser.</noscript>\n",
            "<script type=\"module\" src=\"https://deo.shopeemobile.com/shopee/shopee-mobilemall-live-sg/assets/webpack-runtime.9c90d3ba3b06e376.js\"></script>\n",
            "<script type=\"module\" src=\"https://deo.shopeemobile.com/shopee/shopee-mobilemall-live-sg/assets/entry-modules.5a699052e10d92e2.js\"></script>\n",
            "<script type=\"module\" src=\"https://deo.shopeemobile.com/shopee/shopee-mobilemall-live-sg/assets/modules.f078e3d8a8bdc000.js\"></script>\n",
            "<script type=\"module\" src=\"https://deo.shopeemobile.com/shopee/shopee-mobilemall-live-sg/assets/bundle.64407838e2c24ee1.js\"></script>\n",
            "<script nomodule>function loadStyleLink(e){var l=document.head||document.getElementsByTagName(\"head\")[0],t=document.createElement(\"link\");t.rel=\"stylesheet\",t.type=\"text/css\",t.href=e,l.appendChild(t)}if(!SUPPORT_MODULE){for(var links=[\"https://deo.shopeemobile.com/shopee/shopee-mobilemall-live-sg/assets/entry-modules.1729fedb8cd3633c.legacy.css\",\"https://deo.shopeemobile.com/shopee/shopee-mobilemall-live-sg/assets/bundle.c88ef942b4a8e5a9.legacy.css\"],i=0;i<links.length;i++)try{loadStyleLink(links[i])}catch(e){}try{document.querySelectorAll(\"[data-modern]\").forEach((function(e){e.remove()}))}catch(e){}}</script><script defer=\"defer\" nomodule src=\"https://deo.shopeemobile.com/shopee/shopee-mobilemall-live-sg/assets/webpack-runtime.d2cebc34cc147bfb.legacy.js\"></script><script defer=\"defer\" nomodule src=\"https://deo.shopeemobile.com/shopee/shopee-mobilemall-live-sg/assets/entry-modules.0bd2f81f15523437.legacy.js\"></script><script defer=\"defer\" nomodule src=\"https://deo.shopeemobile.com/shopee/shopee-mobilemall-live-sg/assets/modules.2e512256cd60f0fb.legacy.js\"></script><script defer=\"defer\" nomodule src=\"https://deo.shopeemobile.com/shopee/shopee-mobilemall-live-sg/assets/bundle.275b77fb758d699f.legacy.js\"></script></body>\n",
            "</html>\n",
            "\n"
          ]
        }
      ]
    },
    {
      "cell_type": "code",
      "source": [
        "data = json.loads(html)"
      ],
      "metadata": {
        "id": "9iz-JgYC__dq",
        "outputId": "b1d8774e-d9b5-42d5-a268-a6dd2838366f",
        "colab": {
          "base_uri": "https://localhost:8080/",
          "height": 295
        }
      },
      "execution_count": 14,
      "outputs": [
        {
          "output_type": "error",
          "ename": "JSONDecodeError",
          "evalue": "ignored",
          "traceback": [
            "\u001b[0;31m---------------------------------------------------------------------------\u001b[0m",
            "\u001b[0;31mJSONDecodeError\u001b[0m                           Traceback (most recent call last)",
            "\u001b[0;32m<ipython-input-14-f0bf4ea37543>\u001b[0m in \u001b[0;36m<module>\u001b[0;34m\u001b[0m\n\u001b[0;32m----> 1\u001b[0;31m \u001b[0mdata\u001b[0m \u001b[0;34m=\u001b[0m \u001b[0mjson\u001b[0m\u001b[0;34m.\u001b[0m\u001b[0mloads\u001b[0m\u001b[0;34m(\u001b[0m\u001b[0mhtml\u001b[0m\u001b[0;34m)\u001b[0m\u001b[0;34m\u001b[0m\u001b[0;34m\u001b[0m\u001b[0m\n\u001b[0m",
            "\u001b[0;32m/usr/lib/python3.8/json/__init__.py\u001b[0m in \u001b[0;36mloads\u001b[0;34m(s, cls, object_hook, parse_float, parse_int, parse_constant, object_pairs_hook, **kw)\u001b[0m\n\u001b[1;32m    355\u001b[0m             \u001b[0mparse_int\u001b[0m \u001b[0;32mis\u001b[0m \u001b[0;32mNone\u001b[0m \u001b[0;32mand\u001b[0m \u001b[0mparse_float\u001b[0m \u001b[0;32mis\u001b[0m \u001b[0;32mNone\u001b[0m \u001b[0;32mand\u001b[0m\u001b[0;34m\u001b[0m\u001b[0;34m\u001b[0m\u001b[0m\n\u001b[1;32m    356\u001b[0m             parse_constant is None and object_pairs_hook is None and not kw):\n\u001b[0;32m--> 357\u001b[0;31m         \u001b[0;32mreturn\u001b[0m \u001b[0m_default_decoder\u001b[0m\u001b[0;34m.\u001b[0m\u001b[0mdecode\u001b[0m\u001b[0;34m(\u001b[0m\u001b[0ms\u001b[0m\u001b[0;34m)\u001b[0m\u001b[0;34m\u001b[0m\u001b[0;34m\u001b[0m\u001b[0m\n\u001b[0m\u001b[1;32m    358\u001b[0m     \u001b[0;32mif\u001b[0m \u001b[0mcls\u001b[0m \u001b[0;32mis\u001b[0m \u001b[0;32mNone\u001b[0m\u001b[0;34m:\u001b[0m\u001b[0;34m\u001b[0m\u001b[0;34m\u001b[0m\u001b[0m\n\u001b[1;32m    359\u001b[0m         \u001b[0mcls\u001b[0m \u001b[0;34m=\u001b[0m \u001b[0mJSONDecoder\u001b[0m\u001b[0;34m\u001b[0m\u001b[0;34m\u001b[0m\u001b[0m\n",
            "\u001b[0;32m/usr/lib/python3.8/json/decoder.py\u001b[0m in \u001b[0;36mdecode\u001b[0;34m(self, s, _w)\u001b[0m\n\u001b[1;32m    335\u001b[0m \u001b[0;34m\u001b[0m\u001b[0m\n\u001b[1;32m    336\u001b[0m         \"\"\"\n\u001b[0;32m--> 337\u001b[0;31m         \u001b[0mobj\u001b[0m\u001b[0;34m,\u001b[0m \u001b[0mend\u001b[0m \u001b[0;34m=\u001b[0m \u001b[0mself\u001b[0m\u001b[0;34m.\u001b[0m\u001b[0mraw_decode\u001b[0m\u001b[0;34m(\u001b[0m\u001b[0ms\u001b[0m\u001b[0;34m,\u001b[0m \u001b[0midx\u001b[0m\u001b[0;34m=\u001b[0m\u001b[0m_w\u001b[0m\u001b[0;34m(\u001b[0m\u001b[0ms\u001b[0m\u001b[0;34m,\u001b[0m \u001b[0;36m0\u001b[0m\u001b[0;34m)\u001b[0m\u001b[0;34m.\u001b[0m\u001b[0mend\u001b[0m\u001b[0;34m(\u001b[0m\u001b[0;34m)\u001b[0m\u001b[0;34m)\u001b[0m\u001b[0;34m\u001b[0m\u001b[0;34m\u001b[0m\u001b[0m\n\u001b[0m\u001b[1;32m    338\u001b[0m         \u001b[0mend\u001b[0m \u001b[0;34m=\u001b[0m \u001b[0m_w\u001b[0m\u001b[0;34m(\u001b[0m\u001b[0ms\u001b[0m\u001b[0;34m,\u001b[0m \u001b[0mend\u001b[0m\u001b[0;34m)\u001b[0m\u001b[0;34m.\u001b[0m\u001b[0mend\u001b[0m\u001b[0;34m(\u001b[0m\u001b[0;34m)\u001b[0m\u001b[0;34m\u001b[0m\u001b[0;34m\u001b[0m\u001b[0m\n\u001b[1;32m    339\u001b[0m         \u001b[0;32mif\u001b[0m \u001b[0mend\u001b[0m \u001b[0;34m!=\u001b[0m \u001b[0mlen\u001b[0m\u001b[0;34m(\u001b[0m\u001b[0ms\u001b[0m\u001b[0;34m)\u001b[0m\u001b[0;34m:\u001b[0m\u001b[0;34m\u001b[0m\u001b[0;34m\u001b[0m\u001b[0m\n",
            "\u001b[0;32m/usr/lib/python3.8/json/decoder.py\u001b[0m in \u001b[0;36mraw_decode\u001b[0;34m(self, s, idx)\u001b[0m\n\u001b[1;32m    353\u001b[0m             \u001b[0mobj\u001b[0m\u001b[0;34m,\u001b[0m \u001b[0mend\u001b[0m \u001b[0;34m=\u001b[0m \u001b[0mself\u001b[0m\u001b[0;34m.\u001b[0m\u001b[0mscan_once\u001b[0m\u001b[0;34m(\u001b[0m\u001b[0ms\u001b[0m\u001b[0;34m,\u001b[0m \u001b[0midx\u001b[0m\u001b[0;34m)\u001b[0m\u001b[0;34m\u001b[0m\u001b[0;34m\u001b[0m\u001b[0m\n\u001b[1;32m    354\u001b[0m         \u001b[0;32mexcept\u001b[0m \u001b[0mStopIteration\u001b[0m \u001b[0;32mas\u001b[0m \u001b[0merr\u001b[0m\u001b[0;34m:\u001b[0m\u001b[0;34m\u001b[0m\u001b[0;34m\u001b[0m\u001b[0m\n\u001b[0;32m--> 355\u001b[0;31m             \u001b[0;32mraise\u001b[0m \u001b[0mJSONDecodeError\u001b[0m\u001b[0;34m(\u001b[0m\u001b[0;34m\"Expecting value\"\u001b[0m\u001b[0;34m,\u001b[0m \u001b[0ms\u001b[0m\u001b[0;34m,\u001b[0m \u001b[0merr\u001b[0m\u001b[0;34m.\u001b[0m\u001b[0mvalue\u001b[0m\u001b[0;34m)\u001b[0m \u001b[0;32mfrom\u001b[0m \u001b[0;32mNone\u001b[0m\u001b[0;34m\u001b[0m\u001b[0;34m\u001b[0m\u001b[0m\n\u001b[0m\u001b[1;32m    356\u001b[0m         \u001b[0;32mreturn\u001b[0m \u001b[0mobj\u001b[0m\u001b[0;34m,\u001b[0m \u001b[0mend\u001b[0m\u001b[0;34m\u001b[0m\u001b[0;34m\u001b[0m\u001b[0m\n",
            "\u001b[0;31mJSONDecodeError\u001b[0m: Expecting value: line 1 column 1 (char 0)"
          ]
        }
      ]
    },
    {
      "cell_type": "code",
      "source": [],
      "metadata": {
        "id": "OfebdWKTAdFb"
      },
      "execution_count": null,
      "outputs": []
    }
  ]
}